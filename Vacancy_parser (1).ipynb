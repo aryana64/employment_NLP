{
  "nbformat": 4,
  "nbformat_minor": 0,
  "metadata": {
    "colab": {
      "provenance": [],
      "gpuType": "T4",
      "collapsed_sections": [
        "1tefv6bRJWjA",
        "F6CulosqYb8A"
      ]
    },
    "kernelspec": {
      "name": "python3",
      "display_name": "Python 3"
    },
    "language_info": {
      "name": "python"
    },
    "accelerator": "GPU",
    "widgets": {
      "application/vnd.jupyter.widget-state+json": {
        "8f14e27b60954af79f1ffab9509b8d39": {
          "model_module": "@jupyter-widgets/controls",
          "model_name": "HBoxModel",
          "model_module_version": "1.5.0",
          "state": {
            "_dom_classes": [],
            "_model_module": "@jupyter-widgets/controls",
            "_model_module_version": "1.5.0",
            "_model_name": "HBoxModel",
            "_view_count": null,
            "_view_module": "@jupyter-widgets/controls",
            "_view_module_version": "1.5.0",
            "_view_name": "HBoxView",
            "box_style": "",
            "children": [
              "IPY_MODEL_0ae97e1204fc43ef89cebf3a3be88790",
              "IPY_MODEL_c1ed75a29fc94950ab2dd225061f2882",
              "IPY_MODEL_8ab20e87799644eaac34812a97f18ae5"
            ],
            "layout": "IPY_MODEL_a080fada475247d9865b379b920123ea"
          }
        },
        "0ae97e1204fc43ef89cebf3a3be88790": {
          "model_module": "@jupyter-widgets/controls",
          "model_name": "HTMLModel",
          "model_module_version": "1.5.0",
          "state": {
            "_dom_classes": [],
            "_model_module": "@jupyter-widgets/controls",
            "_model_module_version": "1.5.0",
            "_model_name": "HTMLModel",
            "_view_count": null,
            "_view_module": "@jupyter-widgets/controls",
            "_view_module_version": "1.5.0",
            "_view_name": "HTMLView",
            "description": "",
            "description_tooltip": null,
            "layout": "IPY_MODEL_50f07ec42f6f474abea85e9894d658e2",
            "placeholder": "​",
            "style": "IPY_MODEL_3994541902d944e18e4cdbead4d43020",
            "value": "Downloading (…)okenizer_config.json: 100%"
          }
        },
        "c1ed75a29fc94950ab2dd225061f2882": {
          "model_module": "@jupyter-widgets/controls",
          "model_name": "FloatProgressModel",
          "model_module_version": "1.5.0",
          "state": {
            "_dom_classes": [],
            "_model_module": "@jupyter-widgets/controls",
            "_model_module_version": "1.5.0",
            "_model_name": "FloatProgressModel",
            "_view_count": null,
            "_view_module": "@jupyter-widgets/controls",
            "_view_module_version": "1.5.0",
            "_view_name": "ProgressView",
            "bar_style": "success",
            "description": "",
            "description_tooltip": null,
            "layout": "IPY_MODEL_ede5474159724724a32c04ccdac286a8",
            "max": 420,
            "min": 0,
            "orientation": "horizontal",
            "style": "IPY_MODEL_608733cf4eed461e9de04476ed9552e8",
            "value": 420
          }
        },
        "8ab20e87799644eaac34812a97f18ae5": {
          "model_module": "@jupyter-widgets/controls",
          "model_name": "HTMLModel",
          "model_module_version": "1.5.0",
          "state": {
            "_dom_classes": [],
            "_model_module": "@jupyter-widgets/controls",
            "_model_module_version": "1.5.0",
            "_model_name": "HTMLModel",
            "_view_count": null,
            "_view_module": "@jupyter-widgets/controls",
            "_view_module_version": "1.5.0",
            "_view_name": "HTMLView",
            "description": "",
            "description_tooltip": null,
            "layout": "IPY_MODEL_f2a4a21e98ae484384d4dbc41d38850c",
            "placeholder": "​",
            "style": "IPY_MODEL_3b80a158aeda4ac2892e1f73fcad5766",
            "value": " 420/420 [00:00&lt;00:00, 11.8kB/s]"
          }
        },
        "a080fada475247d9865b379b920123ea": {
          "model_module": "@jupyter-widgets/base",
          "model_name": "LayoutModel",
          "model_module_version": "1.2.0",
          "state": {
            "_model_module": "@jupyter-widgets/base",
            "_model_module_version": "1.2.0",
            "_model_name": "LayoutModel",
            "_view_count": null,
            "_view_module": "@jupyter-widgets/base",
            "_view_module_version": "1.2.0",
            "_view_name": "LayoutView",
            "align_content": null,
            "align_items": null,
            "align_self": null,
            "border": null,
            "bottom": null,
            "display": null,
            "flex": null,
            "flex_flow": null,
            "grid_area": null,
            "grid_auto_columns": null,
            "grid_auto_flow": null,
            "grid_auto_rows": null,
            "grid_column": null,
            "grid_gap": null,
            "grid_row": null,
            "grid_template_areas": null,
            "grid_template_columns": null,
            "grid_template_rows": null,
            "height": null,
            "justify_content": null,
            "justify_items": null,
            "left": null,
            "margin": null,
            "max_height": null,
            "max_width": null,
            "min_height": null,
            "min_width": null,
            "object_fit": null,
            "object_position": null,
            "order": null,
            "overflow": null,
            "overflow_x": null,
            "overflow_y": null,
            "padding": null,
            "right": null,
            "top": null,
            "visibility": null,
            "width": null
          }
        },
        "50f07ec42f6f474abea85e9894d658e2": {
          "model_module": "@jupyter-widgets/base",
          "model_name": "LayoutModel",
          "model_module_version": "1.2.0",
          "state": {
            "_model_module": "@jupyter-widgets/base",
            "_model_module_version": "1.2.0",
            "_model_name": "LayoutModel",
            "_view_count": null,
            "_view_module": "@jupyter-widgets/base",
            "_view_module_version": "1.2.0",
            "_view_name": "LayoutView",
            "align_content": null,
            "align_items": null,
            "align_self": null,
            "border": null,
            "bottom": null,
            "display": null,
            "flex": null,
            "flex_flow": null,
            "grid_area": null,
            "grid_auto_columns": null,
            "grid_auto_flow": null,
            "grid_auto_rows": null,
            "grid_column": null,
            "grid_gap": null,
            "grid_row": null,
            "grid_template_areas": null,
            "grid_template_columns": null,
            "grid_template_rows": null,
            "height": null,
            "justify_content": null,
            "justify_items": null,
            "left": null,
            "margin": null,
            "max_height": null,
            "max_width": null,
            "min_height": null,
            "min_width": null,
            "object_fit": null,
            "object_position": null,
            "order": null,
            "overflow": null,
            "overflow_x": null,
            "overflow_y": null,
            "padding": null,
            "right": null,
            "top": null,
            "visibility": null,
            "width": null
          }
        },
        "3994541902d944e18e4cdbead4d43020": {
          "model_module": "@jupyter-widgets/controls",
          "model_name": "DescriptionStyleModel",
          "model_module_version": "1.5.0",
          "state": {
            "_model_module": "@jupyter-widgets/controls",
            "_model_module_version": "1.5.0",
            "_model_name": "DescriptionStyleModel",
            "_view_count": null,
            "_view_module": "@jupyter-widgets/base",
            "_view_module_version": "1.2.0",
            "_view_name": "StyleView",
            "description_width": ""
          }
        },
        "ede5474159724724a32c04ccdac286a8": {
          "model_module": "@jupyter-widgets/base",
          "model_name": "LayoutModel",
          "model_module_version": "1.2.0",
          "state": {
            "_model_module": "@jupyter-widgets/base",
            "_model_module_version": "1.2.0",
            "_model_name": "LayoutModel",
            "_view_count": null,
            "_view_module": "@jupyter-widgets/base",
            "_view_module_version": "1.2.0",
            "_view_name": "LayoutView",
            "align_content": null,
            "align_items": null,
            "align_self": null,
            "border": null,
            "bottom": null,
            "display": null,
            "flex": null,
            "flex_flow": null,
            "grid_area": null,
            "grid_auto_columns": null,
            "grid_auto_flow": null,
            "grid_auto_rows": null,
            "grid_column": null,
            "grid_gap": null,
            "grid_row": null,
            "grid_template_areas": null,
            "grid_template_columns": null,
            "grid_template_rows": null,
            "height": null,
            "justify_content": null,
            "justify_items": null,
            "left": null,
            "margin": null,
            "max_height": null,
            "max_width": null,
            "min_height": null,
            "min_width": null,
            "object_fit": null,
            "object_position": null,
            "order": null,
            "overflow": null,
            "overflow_x": null,
            "overflow_y": null,
            "padding": null,
            "right": null,
            "top": null,
            "visibility": null,
            "width": null
          }
        },
        "608733cf4eed461e9de04476ed9552e8": {
          "model_module": "@jupyter-widgets/controls",
          "model_name": "ProgressStyleModel",
          "model_module_version": "1.5.0",
          "state": {
            "_model_module": "@jupyter-widgets/controls",
            "_model_module_version": "1.5.0",
            "_model_name": "ProgressStyleModel",
            "_view_count": null,
            "_view_module": "@jupyter-widgets/base",
            "_view_module_version": "1.2.0",
            "_view_name": "StyleView",
            "bar_color": null,
            "description_width": ""
          }
        },
        "f2a4a21e98ae484384d4dbc41d38850c": {
          "model_module": "@jupyter-widgets/base",
          "model_name": "LayoutModel",
          "model_module_version": "1.2.0",
          "state": {
            "_model_module": "@jupyter-widgets/base",
            "_model_module_version": "1.2.0",
            "_model_name": "LayoutModel",
            "_view_count": null,
            "_view_module": "@jupyter-widgets/base",
            "_view_module_version": "1.2.0",
            "_view_name": "LayoutView",
            "align_content": null,
            "align_items": null,
            "align_self": null,
            "border": null,
            "bottom": null,
            "display": null,
            "flex": null,
            "flex_flow": null,
            "grid_area": null,
            "grid_auto_columns": null,
            "grid_auto_flow": null,
            "grid_auto_rows": null,
            "grid_column": null,
            "grid_gap": null,
            "grid_row": null,
            "grid_template_areas": null,
            "grid_template_columns": null,
            "grid_template_rows": null,
            "height": null,
            "justify_content": null,
            "justify_items": null,
            "left": null,
            "margin": null,
            "max_height": null,
            "max_width": null,
            "min_height": null,
            "min_width": null,
            "object_fit": null,
            "object_position": null,
            "order": null,
            "overflow": null,
            "overflow_x": null,
            "overflow_y": null,
            "padding": null,
            "right": null,
            "top": null,
            "visibility": null,
            "width": null
          }
        },
        "3b80a158aeda4ac2892e1f73fcad5766": {
          "model_module": "@jupyter-widgets/controls",
          "model_name": "DescriptionStyleModel",
          "model_module_version": "1.5.0",
          "state": {
            "_model_module": "@jupyter-widgets/controls",
            "_model_module_version": "1.5.0",
            "_model_name": "DescriptionStyleModel",
            "_view_count": null,
            "_view_module": "@jupyter-widgets/base",
            "_view_module_version": "1.2.0",
            "_view_name": "StyleView",
            "description_width": ""
          }
        },
        "3b33127e9a55420cbe6d8f09bd595c05": {
          "model_module": "@jupyter-widgets/controls",
          "model_name": "HBoxModel",
          "model_module_version": "1.5.0",
          "state": {
            "_dom_classes": [],
            "_model_module": "@jupyter-widgets/controls",
            "_model_module_version": "1.5.0",
            "_model_name": "HBoxModel",
            "_view_count": null,
            "_view_module": "@jupyter-widgets/controls",
            "_view_module_version": "1.5.0",
            "_view_name": "HBoxView",
            "box_style": "",
            "children": [
              "IPY_MODEL_46333c5483bf4871940bb5e8285302b6",
              "IPY_MODEL_c5a70b76bce44c5292ecf590b58e72d6",
              "IPY_MODEL_27053e3cf7694d64bdd077c3157c762f"
            ],
            "layout": "IPY_MODEL_6ed1e16a260e4227a82e2baf4a7c3ac1"
          }
        },
        "46333c5483bf4871940bb5e8285302b6": {
          "model_module": "@jupyter-widgets/controls",
          "model_name": "HTMLModel",
          "model_module_version": "1.5.0",
          "state": {
            "_dom_classes": [],
            "_model_module": "@jupyter-widgets/controls",
            "_model_module_version": "1.5.0",
            "_model_name": "HTMLModel",
            "_view_count": null,
            "_view_module": "@jupyter-widgets/controls",
            "_view_module_version": "1.5.0",
            "_view_name": "HTMLView",
            "description": "",
            "description_tooltip": null,
            "layout": "IPY_MODEL_2036f1a3361f42db9a0f587f4695bd79",
            "placeholder": "​",
            "style": "IPY_MODEL_20f09806df9c4785a5a7284c80e43142",
            "value": "Downloading (…)solve/main/vocab.txt: "
          }
        },
        "c5a70b76bce44c5292ecf590b58e72d6": {
          "model_module": "@jupyter-widgets/controls",
          "model_name": "FloatProgressModel",
          "model_module_version": "1.5.0",
          "state": {
            "_dom_classes": [],
            "_model_module": "@jupyter-widgets/controls",
            "_model_module_version": "1.5.0",
            "_model_name": "FloatProgressModel",
            "_view_count": null,
            "_view_module": "@jupyter-widgets/controls",
            "_view_module_version": "1.5.0",
            "_view_name": "ProgressView",
            "bar_style": "success",
            "description": "",
            "description_tooltip": null,
            "layout": "IPY_MODEL_fd172df0d85e4c38962aa9857c57db19",
            "max": 1,
            "min": 0,
            "orientation": "horizontal",
            "style": "IPY_MODEL_b35c2be942354b1e82ebd45be85fa8ea",
            "value": 1
          }
        },
        "27053e3cf7694d64bdd077c3157c762f": {
          "model_module": "@jupyter-widgets/controls",
          "model_name": "HTMLModel",
          "model_module_version": "1.5.0",
          "state": {
            "_dom_classes": [],
            "_model_module": "@jupyter-widgets/controls",
            "_model_module_version": "1.5.0",
            "_model_name": "HTMLModel",
            "_view_count": null,
            "_view_module": "@jupyter-widgets/controls",
            "_view_module_version": "1.5.0",
            "_view_name": "HTMLView",
            "description": "",
            "description_tooltip": null,
            "layout": "IPY_MODEL_f2ca087b41e84f2c9e6dbb790955fad0",
            "placeholder": "​",
            "style": "IPY_MODEL_fe62a891be9748358dd4e21e1187565c",
            "value": " 1.08M/? [00:00&lt;00:00, 9.39MB/s]"
          }
        },
        "6ed1e16a260e4227a82e2baf4a7c3ac1": {
          "model_module": "@jupyter-widgets/base",
          "model_name": "LayoutModel",
          "model_module_version": "1.2.0",
          "state": {
            "_model_module": "@jupyter-widgets/base",
            "_model_module_version": "1.2.0",
            "_model_name": "LayoutModel",
            "_view_count": null,
            "_view_module": "@jupyter-widgets/base",
            "_view_module_version": "1.2.0",
            "_view_name": "LayoutView",
            "align_content": null,
            "align_items": null,
            "align_self": null,
            "border": null,
            "bottom": null,
            "display": null,
            "flex": null,
            "flex_flow": null,
            "grid_area": null,
            "grid_auto_columns": null,
            "grid_auto_flow": null,
            "grid_auto_rows": null,
            "grid_column": null,
            "grid_gap": null,
            "grid_row": null,
            "grid_template_areas": null,
            "grid_template_columns": null,
            "grid_template_rows": null,
            "height": null,
            "justify_content": null,
            "justify_items": null,
            "left": null,
            "margin": null,
            "max_height": null,
            "max_width": null,
            "min_height": null,
            "min_width": null,
            "object_fit": null,
            "object_position": null,
            "order": null,
            "overflow": null,
            "overflow_x": null,
            "overflow_y": null,
            "padding": null,
            "right": null,
            "top": null,
            "visibility": null,
            "width": null
          }
        },
        "2036f1a3361f42db9a0f587f4695bd79": {
          "model_module": "@jupyter-widgets/base",
          "model_name": "LayoutModel",
          "model_module_version": "1.2.0",
          "state": {
            "_model_module": "@jupyter-widgets/base",
            "_model_module_version": "1.2.0",
            "_model_name": "LayoutModel",
            "_view_count": null,
            "_view_module": "@jupyter-widgets/base",
            "_view_module_version": "1.2.0",
            "_view_name": "LayoutView",
            "align_content": null,
            "align_items": null,
            "align_self": null,
            "border": null,
            "bottom": null,
            "display": null,
            "flex": null,
            "flex_flow": null,
            "grid_area": null,
            "grid_auto_columns": null,
            "grid_auto_flow": null,
            "grid_auto_rows": null,
            "grid_column": null,
            "grid_gap": null,
            "grid_row": null,
            "grid_template_areas": null,
            "grid_template_columns": null,
            "grid_template_rows": null,
            "height": null,
            "justify_content": null,
            "justify_items": null,
            "left": null,
            "margin": null,
            "max_height": null,
            "max_width": null,
            "min_height": null,
            "min_width": null,
            "object_fit": null,
            "object_position": null,
            "order": null,
            "overflow": null,
            "overflow_x": null,
            "overflow_y": null,
            "padding": null,
            "right": null,
            "top": null,
            "visibility": null,
            "width": null
          }
        },
        "20f09806df9c4785a5a7284c80e43142": {
          "model_module": "@jupyter-widgets/controls",
          "model_name": "DescriptionStyleModel",
          "model_module_version": "1.5.0",
          "state": {
            "_model_module": "@jupyter-widgets/controls",
            "_model_module_version": "1.5.0",
            "_model_name": "DescriptionStyleModel",
            "_view_count": null,
            "_view_module": "@jupyter-widgets/base",
            "_view_module_version": "1.2.0",
            "_view_name": "StyleView",
            "description_width": ""
          }
        },
        "fd172df0d85e4c38962aa9857c57db19": {
          "model_module": "@jupyter-widgets/base",
          "model_name": "LayoutModel",
          "model_module_version": "1.2.0",
          "state": {
            "_model_module": "@jupyter-widgets/base",
            "_model_module_version": "1.2.0",
            "_model_name": "LayoutModel",
            "_view_count": null,
            "_view_module": "@jupyter-widgets/base",
            "_view_module_version": "1.2.0",
            "_view_name": "LayoutView",
            "align_content": null,
            "align_items": null,
            "align_self": null,
            "border": null,
            "bottom": null,
            "display": null,
            "flex": null,
            "flex_flow": null,
            "grid_area": null,
            "grid_auto_columns": null,
            "grid_auto_flow": null,
            "grid_auto_rows": null,
            "grid_column": null,
            "grid_gap": null,
            "grid_row": null,
            "grid_template_areas": null,
            "grid_template_columns": null,
            "grid_template_rows": null,
            "height": null,
            "justify_content": null,
            "justify_items": null,
            "left": null,
            "margin": null,
            "max_height": null,
            "max_width": null,
            "min_height": null,
            "min_width": null,
            "object_fit": null,
            "object_position": null,
            "order": null,
            "overflow": null,
            "overflow_x": null,
            "overflow_y": null,
            "padding": null,
            "right": null,
            "top": null,
            "visibility": null,
            "width": "20px"
          }
        },
        "b35c2be942354b1e82ebd45be85fa8ea": {
          "model_module": "@jupyter-widgets/controls",
          "model_name": "ProgressStyleModel",
          "model_module_version": "1.5.0",
          "state": {
            "_model_module": "@jupyter-widgets/controls",
            "_model_module_version": "1.5.0",
            "_model_name": "ProgressStyleModel",
            "_view_count": null,
            "_view_module": "@jupyter-widgets/base",
            "_view_module_version": "1.2.0",
            "_view_name": "StyleView",
            "bar_color": null,
            "description_width": ""
          }
        },
        "f2ca087b41e84f2c9e6dbb790955fad0": {
          "model_module": "@jupyter-widgets/base",
          "model_name": "LayoutModel",
          "model_module_version": "1.2.0",
          "state": {
            "_model_module": "@jupyter-widgets/base",
            "_model_module_version": "1.2.0",
            "_model_name": "LayoutModel",
            "_view_count": null,
            "_view_module": "@jupyter-widgets/base",
            "_view_module_version": "1.2.0",
            "_view_name": "LayoutView",
            "align_content": null,
            "align_items": null,
            "align_self": null,
            "border": null,
            "bottom": null,
            "display": null,
            "flex": null,
            "flex_flow": null,
            "grid_area": null,
            "grid_auto_columns": null,
            "grid_auto_flow": null,
            "grid_auto_rows": null,
            "grid_column": null,
            "grid_gap": null,
            "grid_row": null,
            "grid_template_areas": null,
            "grid_template_columns": null,
            "grid_template_rows": null,
            "height": null,
            "justify_content": null,
            "justify_items": null,
            "left": null,
            "margin": null,
            "max_height": null,
            "max_width": null,
            "min_height": null,
            "min_width": null,
            "object_fit": null,
            "object_position": null,
            "order": null,
            "overflow": null,
            "overflow_x": null,
            "overflow_y": null,
            "padding": null,
            "right": null,
            "top": null,
            "visibility": null,
            "width": null
          }
        },
        "fe62a891be9748358dd4e21e1187565c": {
          "model_module": "@jupyter-widgets/controls",
          "model_name": "DescriptionStyleModel",
          "model_module_version": "1.5.0",
          "state": {
            "_model_module": "@jupyter-widgets/controls",
            "_model_module_version": "1.5.0",
            "_model_name": "DescriptionStyleModel",
            "_view_count": null,
            "_view_module": "@jupyter-widgets/base",
            "_view_module_version": "1.2.0",
            "_view_name": "StyleView",
            "description_width": ""
          }
        },
        "e625f01a86bf41a0a11b9e17717b3254": {
          "model_module": "@jupyter-widgets/controls",
          "model_name": "HBoxModel",
          "model_module_version": "1.5.0",
          "state": {
            "_dom_classes": [],
            "_model_module": "@jupyter-widgets/controls",
            "_model_module_version": "1.5.0",
            "_model_name": "HBoxModel",
            "_view_count": null,
            "_view_module": "@jupyter-widgets/controls",
            "_view_module_version": "1.5.0",
            "_view_name": "HBoxView",
            "box_style": "",
            "children": [
              "IPY_MODEL_f17c6c7d55d046aca3e1d6a5a4d0235c",
              "IPY_MODEL_5558cf0f42894b30b0a5ca494bc7bb8b",
              "IPY_MODEL_8112f3d548ef4c90b01728ccfc01922b"
            ],
            "layout": "IPY_MODEL_dd82162e129044d489e2acecde24c577"
          }
        },
        "f17c6c7d55d046aca3e1d6a5a4d0235c": {
          "model_module": "@jupyter-widgets/controls",
          "model_name": "HTMLModel",
          "model_module_version": "1.5.0",
          "state": {
            "_dom_classes": [],
            "_model_module": "@jupyter-widgets/controls",
            "_model_module_version": "1.5.0",
            "_model_name": "HTMLModel",
            "_view_count": null,
            "_view_module": "@jupyter-widgets/controls",
            "_view_module_version": "1.5.0",
            "_view_name": "HTMLView",
            "description": "",
            "description_tooltip": null,
            "layout": "IPY_MODEL_62eb41d2d7b04c928b4164aec6ee11a1",
            "placeholder": "​",
            "style": "IPY_MODEL_50ef1544c94d414db5121fb387d06deb",
            "value": "Downloading (…)/main/tokenizer.json: "
          }
        },
        "5558cf0f42894b30b0a5ca494bc7bb8b": {
          "model_module": "@jupyter-widgets/controls",
          "model_name": "FloatProgressModel",
          "model_module_version": "1.5.0",
          "state": {
            "_dom_classes": [],
            "_model_module": "@jupyter-widgets/controls",
            "_model_module_version": "1.5.0",
            "_model_name": "FloatProgressModel",
            "_view_count": null,
            "_view_module": "@jupyter-widgets/controls",
            "_view_module_version": "1.5.0",
            "_view_name": "ProgressView",
            "bar_style": "success",
            "description": "",
            "description_tooltip": null,
            "layout": "IPY_MODEL_67e730d3829548b198ec3e3f06ba32b4",
            "max": 1,
            "min": 0,
            "orientation": "horizontal",
            "style": "IPY_MODEL_15213d657bf1476588bd14068faea538",
            "value": 1
          }
        },
        "8112f3d548ef4c90b01728ccfc01922b": {
          "model_module": "@jupyter-widgets/controls",
          "model_name": "HTMLModel",
          "model_module_version": "1.5.0",
          "state": {
            "_dom_classes": [],
            "_model_module": "@jupyter-widgets/controls",
            "_model_module_version": "1.5.0",
            "_model_name": "HTMLModel",
            "_view_count": null,
            "_view_module": "@jupyter-widgets/controls",
            "_view_module_version": "1.5.0",
            "_view_name": "HTMLView",
            "description": "",
            "description_tooltip": null,
            "layout": "IPY_MODEL_ea8d0e57a0bd4da483c8801f2b808a01",
            "placeholder": "​",
            "style": "IPY_MODEL_bdc3266475a5414f8422dfdaba2198b2",
            "value": " 2.41M/? [00:00&lt;00:00, 9.49MB/s]"
          }
        },
        "dd82162e129044d489e2acecde24c577": {
          "model_module": "@jupyter-widgets/base",
          "model_name": "LayoutModel",
          "model_module_version": "1.2.0",
          "state": {
            "_model_module": "@jupyter-widgets/base",
            "_model_module_version": "1.2.0",
            "_model_name": "LayoutModel",
            "_view_count": null,
            "_view_module": "@jupyter-widgets/base",
            "_view_module_version": "1.2.0",
            "_view_name": "LayoutView",
            "align_content": null,
            "align_items": null,
            "align_self": null,
            "border": null,
            "bottom": null,
            "display": null,
            "flex": null,
            "flex_flow": null,
            "grid_area": null,
            "grid_auto_columns": null,
            "grid_auto_flow": null,
            "grid_auto_rows": null,
            "grid_column": null,
            "grid_gap": null,
            "grid_row": null,
            "grid_template_areas": null,
            "grid_template_columns": null,
            "grid_template_rows": null,
            "height": null,
            "justify_content": null,
            "justify_items": null,
            "left": null,
            "margin": null,
            "max_height": null,
            "max_width": null,
            "min_height": null,
            "min_width": null,
            "object_fit": null,
            "object_position": null,
            "order": null,
            "overflow": null,
            "overflow_x": null,
            "overflow_y": null,
            "padding": null,
            "right": null,
            "top": null,
            "visibility": null,
            "width": null
          }
        },
        "62eb41d2d7b04c928b4164aec6ee11a1": {
          "model_module": "@jupyter-widgets/base",
          "model_name": "LayoutModel",
          "model_module_version": "1.2.0",
          "state": {
            "_model_module": "@jupyter-widgets/base",
            "_model_module_version": "1.2.0",
            "_model_name": "LayoutModel",
            "_view_count": null,
            "_view_module": "@jupyter-widgets/base",
            "_view_module_version": "1.2.0",
            "_view_name": "LayoutView",
            "align_content": null,
            "align_items": null,
            "align_self": null,
            "border": null,
            "bottom": null,
            "display": null,
            "flex": null,
            "flex_flow": null,
            "grid_area": null,
            "grid_auto_columns": null,
            "grid_auto_flow": null,
            "grid_auto_rows": null,
            "grid_column": null,
            "grid_gap": null,
            "grid_row": null,
            "grid_template_areas": null,
            "grid_template_columns": null,
            "grid_template_rows": null,
            "height": null,
            "justify_content": null,
            "justify_items": null,
            "left": null,
            "margin": null,
            "max_height": null,
            "max_width": null,
            "min_height": null,
            "min_width": null,
            "object_fit": null,
            "object_position": null,
            "order": null,
            "overflow": null,
            "overflow_x": null,
            "overflow_y": null,
            "padding": null,
            "right": null,
            "top": null,
            "visibility": null,
            "width": null
          }
        },
        "50ef1544c94d414db5121fb387d06deb": {
          "model_module": "@jupyter-widgets/controls",
          "model_name": "DescriptionStyleModel",
          "model_module_version": "1.5.0",
          "state": {
            "_model_module": "@jupyter-widgets/controls",
            "_model_module_version": "1.5.0",
            "_model_name": "DescriptionStyleModel",
            "_view_count": null,
            "_view_module": "@jupyter-widgets/base",
            "_view_module_version": "1.2.0",
            "_view_name": "StyleView",
            "description_width": ""
          }
        },
        "67e730d3829548b198ec3e3f06ba32b4": {
          "model_module": "@jupyter-widgets/base",
          "model_name": "LayoutModel",
          "model_module_version": "1.2.0",
          "state": {
            "_model_module": "@jupyter-widgets/base",
            "_model_module_version": "1.2.0",
            "_model_name": "LayoutModel",
            "_view_count": null,
            "_view_module": "@jupyter-widgets/base",
            "_view_module_version": "1.2.0",
            "_view_name": "LayoutView",
            "align_content": null,
            "align_items": null,
            "align_self": null,
            "border": null,
            "bottom": null,
            "display": null,
            "flex": null,
            "flex_flow": null,
            "grid_area": null,
            "grid_auto_columns": null,
            "grid_auto_flow": null,
            "grid_auto_rows": null,
            "grid_column": null,
            "grid_gap": null,
            "grid_row": null,
            "grid_template_areas": null,
            "grid_template_columns": null,
            "grid_template_rows": null,
            "height": null,
            "justify_content": null,
            "justify_items": null,
            "left": null,
            "margin": null,
            "max_height": null,
            "max_width": null,
            "min_height": null,
            "min_width": null,
            "object_fit": null,
            "object_position": null,
            "order": null,
            "overflow": null,
            "overflow_x": null,
            "overflow_y": null,
            "padding": null,
            "right": null,
            "top": null,
            "visibility": null,
            "width": "20px"
          }
        },
        "15213d657bf1476588bd14068faea538": {
          "model_module": "@jupyter-widgets/controls",
          "model_name": "ProgressStyleModel",
          "model_module_version": "1.5.0",
          "state": {
            "_model_module": "@jupyter-widgets/controls",
            "_model_module_version": "1.5.0",
            "_model_name": "ProgressStyleModel",
            "_view_count": null,
            "_view_module": "@jupyter-widgets/base",
            "_view_module_version": "1.2.0",
            "_view_name": "StyleView",
            "bar_color": null,
            "description_width": ""
          }
        },
        "ea8d0e57a0bd4da483c8801f2b808a01": {
          "model_module": "@jupyter-widgets/base",
          "model_name": "LayoutModel",
          "model_module_version": "1.2.0",
          "state": {
            "_model_module": "@jupyter-widgets/base",
            "_model_module_version": "1.2.0",
            "_model_name": "LayoutModel",
            "_view_count": null,
            "_view_module": "@jupyter-widgets/base",
            "_view_module_version": "1.2.0",
            "_view_name": "LayoutView",
            "align_content": null,
            "align_items": null,
            "align_self": null,
            "border": null,
            "bottom": null,
            "display": null,
            "flex": null,
            "flex_flow": null,
            "grid_area": null,
            "grid_auto_columns": null,
            "grid_auto_flow": null,
            "grid_auto_rows": null,
            "grid_column": null,
            "grid_gap": null,
            "grid_row": null,
            "grid_template_areas": null,
            "grid_template_columns": null,
            "grid_template_rows": null,
            "height": null,
            "justify_content": null,
            "justify_items": null,
            "left": null,
            "margin": null,
            "max_height": null,
            "max_width": null,
            "min_height": null,
            "min_width": null,
            "object_fit": null,
            "object_position": null,
            "order": null,
            "overflow": null,
            "overflow_x": null,
            "overflow_y": null,
            "padding": null,
            "right": null,
            "top": null,
            "visibility": null,
            "width": null
          }
        },
        "bdc3266475a5414f8422dfdaba2198b2": {
          "model_module": "@jupyter-widgets/controls",
          "model_name": "DescriptionStyleModel",
          "model_module_version": "1.5.0",
          "state": {
            "_model_module": "@jupyter-widgets/controls",
            "_model_module_version": "1.5.0",
            "_model_name": "DescriptionStyleModel",
            "_view_count": null,
            "_view_module": "@jupyter-widgets/base",
            "_view_module_version": "1.2.0",
            "_view_name": "StyleView",
            "description_width": ""
          }
        },
        "e2fc222971624f9098defe3c9a6f51f2": {
          "model_module": "@jupyter-widgets/controls",
          "model_name": "HBoxModel",
          "model_module_version": "1.5.0",
          "state": {
            "_dom_classes": [],
            "_model_module": "@jupyter-widgets/controls",
            "_model_module_version": "1.5.0",
            "_model_name": "HBoxModel",
            "_view_count": null,
            "_view_module": "@jupyter-widgets/controls",
            "_view_module_version": "1.5.0",
            "_view_name": "HBoxView",
            "box_style": "",
            "children": [
              "IPY_MODEL_df08a1fe93c046b49b0f36614a68b01f",
              "IPY_MODEL_4f47d71d0d9b4932bdb0621abb0d54bf",
              "IPY_MODEL_dad61a732b7c4cfcaacc19a122cdca8b"
            ],
            "layout": "IPY_MODEL_8b41720147784e54ae0ef559e8ca897c"
          }
        },
        "df08a1fe93c046b49b0f36614a68b01f": {
          "model_module": "@jupyter-widgets/controls",
          "model_name": "HTMLModel",
          "model_module_version": "1.5.0",
          "state": {
            "_dom_classes": [],
            "_model_module": "@jupyter-widgets/controls",
            "_model_module_version": "1.5.0",
            "_model_name": "HTMLModel",
            "_view_count": null,
            "_view_module": "@jupyter-widgets/controls",
            "_view_module_version": "1.5.0",
            "_view_name": "HTMLView",
            "description": "",
            "description_tooltip": null,
            "layout": "IPY_MODEL_aeaeceb7c568416eb38ecdf2b9acb409",
            "placeholder": "​",
            "style": "IPY_MODEL_4969dcd3108840119a815de1cf5e5036",
            "value": "Downloading (…)cial_tokens_map.json: 100%"
          }
        },
        "4f47d71d0d9b4932bdb0621abb0d54bf": {
          "model_module": "@jupyter-widgets/controls",
          "model_name": "FloatProgressModel",
          "model_module_version": "1.5.0",
          "state": {
            "_dom_classes": [],
            "_model_module": "@jupyter-widgets/controls",
            "_model_module_version": "1.5.0",
            "_model_name": "FloatProgressModel",
            "_view_count": null,
            "_view_module": "@jupyter-widgets/controls",
            "_view_module_version": "1.5.0",
            "_view_name": "ProgressView",
            "bar_style": "success",
            "description": "",
            "description_tooltip": null,
            "layout": "IPY_MODEL_0ca9e7d37d7f4063acb50b0e45208b61",
            "max": 125,
            "min": 0,
            "orientation": "horizontal",
            "style": "IPY_MODEL_7261a64555204e21a6174d1abcbc7142",
            "value": 125
          }
        },
        "dad61a732b7c4cfcaacc19a122cdca8b": {
          "model_module": "@jupyter-widgets/controls",
          "model_name": "HTMLModel",
          "model_module_version": "1.5.0",
          "state": {
            "_dom_classes": [],
            "_model_module": "@jupyter-widgets/controls",
            "_model_module_version": "1.5.0",
            "_model_name": "HTMLModel",
            "_view_count": null,
            "_view_module": "@jupyter-widgets/controls",
            "_view_module_version": "1.5.0",
            "_view_name": "HTMLView",
            "description": "",
            "description_tooltip": null,
            "layout": "IPY_MODEL_97cdd8366e604c17ba8af219b7369fd1",
            "placeholder": "​",
            "style": "IPY_MODEL_4e0bd9f9dca34c1db7adc1e4659be18c",
            "value": " 125/125 [00:00&lt;00:00, 3.06kB/s]"
          }
        },
        "8b41720147784e54ae0ef559e8ca897c": {
          "model_module": "@jupyter-widgets/base",
          "model_name": "LayoutModel",
          "model_module_version": "1.2.0",
          "state": {
            "_model_module": "@jupyter-widgets/base",
            "_model_module_version": "1.2.0",
            "_model_name": "LayoutModel",
            "_view_count": null,
            "_view_module": "@jupyter-widgets/base",
            "_view_module_version": "1.2.0",
            "_view_name": "LayoutView",
            "align_content": null,
            "align_items": null,
            "align_self": null,
            "border": null,
            "bottom": null,
            "display": null,
            "flex": null,
            "flex_flow": null,
            "grid_area": null,
            "grid_auto_columns": null,
            "grid_auto_flow": null,
            "grid_auto_rows": null,
            "grid_column": null,
            "grid_gap": null,
            "grid_row": null,
            "grid_template_areas": null,
            "grid_template_columns": null,
            "grid_template_rows": null,
            "height": null,
            "justify_content": null,
            "justify_items": null,
            "left": null,
            "margin": null,
            "max_height": null,
            "max_width": null,
            "min_height": null,
            "min_width": null,
            "object_fit": null,
            "object_position": null,
            "order": null,
            "overflow": null,
            "overflow_x": null,
            "overflow_y": null,
            "padding": null,
            "right": null,
            "top": null,
            "visibility": null,
            "width": null
          }
        },
        "aeaeceb7c568416eb38ecdf2b9acb409": {
          "model_module": "@jupyter-widgets/base",
          "model_name": "LayoutModel",
          "model_module_version": "1.2.0",
          "state": {
            "_model_module": "@jupyter-widgets/base",
            "_model_module_version": "1.2.0",
            "_model_name": "LayoutModel",
            "_view_count": null,
            "_view_module": "@jupyter-widgets/base",
            "_view_module_version": "1.2.0",
            "_view_name": "LayoutView",
            "align_content": null,
            "align_items": null,
            "align_self": null,
            "border": null,
            "bottom": null,
            "display": null,
            "flex": null,
            "flex_flow": null,
            "grid_area": null,
            "grid_auto_columns": null,
            "grid_auto_flow": null,
            "grid_auto_rows": null,
            "grid_column": null,
            "grid_gap": null,
            "grid_row": null,
            "grid_template_areas": null,
            "grid_template_columns": null,
            "grid_template_rows": null,
            "height": null,
            "justify_content": null,
            "justify_items": null,
            "left": null,
            "margin": null,
            "max_height": null,
            "max_width": null,
            "min_height": null,
            "min_width": null,
            "object_fit": null,
            "object_position": null,
            "order": null,
            "overflow": null,
            "overflow_x": null,
            "overflow_y": null,
            "padding": null,
            "right": null,
            "top": null,
            "visibility": null,
            "width": null
          }
        },
        "4969dcd3108840119a815de1cf5e5036": {
          "model_module": "@jupyter-widgets/controls",
          "model_name": "DescriptionStyleModel",
          "model_module_version": "1.5.0",
          "state": {
            "_model_module": "@jupyter-widgets/controls",
            "_model_module_version": "1.5.0",
            "_model_name": "DescriptionStyleModel",
            "_view_count": null,
            "_view_module": "@jupyter-widgets/base",
            "_view_module_version": "1.2.0",
            "_view_name": "StyleView",
            "description_width": ""
          }
        },
        "0ca9e7d37d7f4063acb50b0e45208b61": {
          "model_module": "@jupyter-widgets/base",
          "model_name": "LayoutModel",
          "model_module_version": "1.2.0",
          "state": {
            "_model_module": "@jupyter-widgets/base",
            "_model_module_version": "1.2.0",
            "_model_name": "LayoutModel",
            "_view_count": null,
            "_view_module": "@jupyter-widgets/base",
            "_view_module_version": "1.2.0",
            "_view_name": "LayoutView",
            "align_content": null,
            "align_items": null,
            "align_self": null,
            "border": null,
            "bottom": null,
            "display": null,
            "flex": null,
            "flex_flow": null,
            "grid_area": null,
            "grid_auto_columns": null,
            "grid_auto_flow": null,
            "grid_auto_rows": null,
            "grid_column": null,
            "grid_gap": null,
            "grid_row": null,
            "grid_template_areas": null,
            "grid_template_columns": null,
            "grid_template_rows": null,
            "height": null,
            "justify_content": null,
            "justify_items": null,
            "left": null,
            "margin": null,
            "max_height": null,
            "max_width": null,
            "min_height": null,
            "min_width": null,
            "object_fit": null,
            "object_position": null,
            "order": null,
            "overflow": null,
            "overflow_x": null,
            "overflow_y": null,
            "padding": null,
            "right": null,
            "top": null,
            "visibility": null,
            "width": null
          }
        },
        "7261a64555204e21a6174d1abcbc7142": {
          "model_module": "@jupyter-widgets/controls",
          "model_name": "ProgressStyleModel",
          "model_module_version": "1.5.0",
          "state": {
            "_model_module": "@jupyter-widgets/controls",
            "_model_module_version": "1.5.0",
            "_model_name": "ProgressStyleModel",
            "_view_count": null,
            "_view_module": "@jupyter-widgets/base",
            "_view_module_version": "1.2.0",
            "_view_name": "StyleView",
            "bar_color": null,
            "description_width": ""
          }
        },
        "97cdd8366e604c17ba8af219b7369fd1": {
          "model_module": "@jupyter-widgets/base",
          "model_name": "LayoutModel",
          "model_module_version": "1.2.0",
          "state": {
            "_model_module": "@jupyter-widgets/base",
            "_model_module_version": "1.2.0",
            "_model_name": "LayoutModel",
            "_view_count": null,
            "_view_module": "@jupyter-widgets/base",
            "_view_module_version": "1.2.0",
            "_view_name": "LayoutView",
            "align_content": null,
            "align_items": null,
            "align_self": null,
            "border": null,
            "bottom": null,
            "display": null,
            "flex": null,
            "flex_flow": null,
            "grid_area": null,
            "grid_auto_columns": null,
            "grid_auto_flow": null,
            "grid_auto_rows": null,
            "grid_column": null,
            "grid_gap": null,
            "grid_row": null,
            "grid_template_areas": null,
            "grid_template_columns": null,
            "grid_template_rows": null,
            "height": null,
            "justify_content": null,
            "justify_items": null,
            "left": null,
            "margin": null,
            "max_height": null,
            "max_width": null,
            "min_height": null,
            "min_width": null,
            "object_fit": null,
            "object_position": null,
            "order": null,
            "overflow": null,
            "overflow_x": null,
            "overflow_y": null,
            "padding": null,
            "right": null,
            "top": null,
            "visibility": null,
            "width": null
          }
        },
        "4e0bd9f9dca34c1db7adc1e4659be18c": {
          "model_module": "@jupyter-widgets/controls",
          "model_name": "DescriptionStyleModel",
          "model_module_version": "1.5.0",
          "state": {
            "_model_module": "@jupyter-widgets/controls",
            "_model_module_version": "1.5.0",
            "_model_name": "DescriptionStyleModel",
            "_view_count": null,
            "_view_module": "@jupyter-widgets/base",
            "_view_module_version": "1.2.0",
            "_view_name": "StyleView",
            "description_width": ""
          }
        },
        "e472e29bac0b468889b65560a0fff934": {
          "model_module": "@jupyter-widgets/controls",
          "model_name": "HBoxModel",
          "model_module_version": "1.5.0",
          "state": {
            "_dom_classes": [],
            "_model_module": "@jupyter-widgets/controls",
            "_model_module_version": "1.5.0",
            "_model_name": "HBoxModel",
            "_view_count": null,
            "_view_module": "@jupyter-widgets/controls",
            "_view_module_version": "1.5.0",
            "_view_name": "HBoxView",
            "box_style": "",
            "children": [
              "IPY_MODEL_cc204d312db0482bb953b5ab0e928bb7",
              "IPY_MODEL_aec917146d82475681d3426e06bb7bf5",
              "IPY_MODEL_a6aa92cd37674af5a2df541aef46baab"
            ],
            "layout": "IPY_MODEL_c4a63b4fa43b4f29b6800c50220d87d2"
          }
        },
        "cc204d312db0482bb953b5ab0e928bb7": {
          "model_module": "@jupyter-widgets/controls",
          "model_name": "HTMLModel",
          "model_module_version": "1.5.0",
          "state": {
            "_dom_classes": [],
            "_model_module": "@jupyter-widgets/controls",
            "_model_module_version": "1.5.0",
            "_model_name": "HTMLModel",
            "_view_count": null,
            "_view_module": "@jupyter-widgets/controls",
            "_view_module_version": "1.5.0",
            "_view_name": "HTMLView",
            "description": "",
            "description_tooltip": null,
            "layout": "IPY_MODEL_0ea3b332d17d4cd192673630f7e6b056",
            "placeholder": "​",
            "style": "IPY_MODEL_240c0ebe0d544d3d96e4a638569936fc",
            "value": "Downloading (…)lve/main/config.json: "
          }
        },
        "aec917146d82475681d3426e06bb7bf5": {
          "model_module": "@jupyter-widgets/controls",
          "model_name": "FloatProgressModel",
          "model_module_version": "1.5.0",
          "state": {
            "_dom_classes": [],
            "_model_module": "@jupyter-widgets/controls",
            "_model_module_version": "1.5.0",
            "_model_name": "FloatProgressModel",
            "_view_count": null,
            "_view_module": "@jupyter-widgets/controls",
            "_view_module_version": "1.5.0",
            "_view_name": "ProgressView",
            "bar_style": "success",
            "description": "",
            "description_tooltip": null,
            "layout": "IPY_MODEL_8955136a7515427ca441febdde0028a7",
            "max": 1,
            "min": 0,
            "orientation": "horizontal",
            "style": "IPY_MODEL_4a083a6ee56348d0a3fdfb1f997149a6",
            "value": 1
          }
        },
        "a6aa92cd37674af5a2df541aef46baab": {
          "model_module": "@jupyter-widgets/controls",
          "model_name": "HTMLModel",
          "model_module_version": "1.5.0",
          "state": {
            "_dom_classes": [],
            "_model_module": "@jupyter-widgets/controls",
            "_model_module_version": "1.5.0",
            "_model_name": "HTMLModel",
            "_view_count": null,
            "_view_module": "@jupyter-widgets/controls",
            "_view_module_version": "1.5.0",
            "_view_name": "HTMLView",
            "description": "",
            "description_tooltip": null,
            "layout": "IPY_MODEL_b3ca0b7cda19423489470709ab0cec94",
            "placeholder": "​",
            "style": "IPY_MODEL_af7ee261009d4cb096f21d1cc46dccb1",
            "value": " 1.09k/? [00:00&lt;00:00, 31.0kB/s]"
          }
        },
        "c4a63b4fa43b4f29b6800c50220d87d2": {
          "model_module": "@jupyter-widgets/base",
          "model_name": "LayoutModel",
          "model_module_version": "1.2.0",
          "state": {
            "_model_module": "@jupyter-widgets/base",
            "_model_module_version": "1.2.0",
            "_model_name": "LayoutModel",
            "_view_count": null,
            "_view_module": "@jupyter-widgets/base",
            "_view_module_version": "1.2.0",
            "_view_name": "LayoutView",
            "align_content": null,
            "align_items": null,
            "align_self": null,
            "border": null,
            "bottom": null,
            "display": null,
            "flex": null,
            "flex_flow": null,
            "grid_area": null,
            "grid_auto_columns": null,
            "grid_auto_flow": null,
            "grid_auto_rows": null,
            "grid_column": null,
            "grid_gap": null,
            "grid_row": null,
            "grid_template_areas": null,
            "grid_template_columns": null,
            "grid_template_rows": null,
            "height": null,
            "justify_content": null,
            "justify_items": null,
            "left": null,
            "margin": null,
            "max_height": null,
            "max_width": null,
            "min_height": null,
            "min_width": null,
            "object_fit": null,
            "object_position": null,
            "order": null,
            "overflow": null,
            "overflow_x": null,
            "overflow_y": null,
            "padding": null,
            "right": null,
            "top": null,
            "visibility": null,
            "width": null
          }
        },
        "0ea3b332d17d4cd192673630f7e6b056": {
          "model_module": "@jupyter-widgets/base",
          "model_name": "LayoutModel",
          "model_module_version": "1.2.0",
          "state": {
            "_model_module": "@jupyter-widgets/base",
            "_model_module_version": "1.2.0",
            "_model_name": "LayoutModel",
            "_view_count": null,
            "_view_module": "@jupyter-widgets/base",
            "_view_module_version": "1.2.0",
            "_view_name": "LayoutView",
            "align_content": null,
            "align_items": null,
            "align_self": null,
            "border": null,
            "bottom": null,
            "display": null,
            "flex": null,
            "flex_flow": null,
            "grid_area": null,
            "grid_auto_columns": null,
            "grid_auto_flow": null,
            "grid_auto_rows": null,
            "grid_column": null,
            "grid_gap": null,
            "grid_row": null,
            "grid_template_areas": null,
            "grid_template_columns": null,
            "grid_template_rows": null,
            "height": null,
            "justify_content": null,
            "justify_items": null,
            "left": null,
            "margin": null,
            "max_height": null,
            "max_width": null,
            "min_height": null,
            "min_width": null,
            "object_fit": null,
            "object_position": null,
            "order": null,
            "overflow": null,
            "overflow_x": null,
            "overflow_y": null,
            "padding": null,
            "right": null,
            "top": null,
            "visibility": null,
            "width": null
          }
        },
        "240c0ebe0d544d3d96e4a638569936fc": {
          "model_module": "@jupyter-widgets/controls",
          "model_name": "DescriptionStyleModel",
          "model_module_version": "1.5.0",
          "state": {
            "_model_module": "@jupyter-widgets/controls",
            "_model_module_version": "1.5.0",
            "_model_name": "DescriptionStyleModel",
            "_view_count": null,
            "_view_module": "@jupyter-widgets/base",
            "_view_module_version": "1.2.0",
            "_view_name": "StyleView",
            "description_width": ""
          }
        },
        "8955136a7515427ca441febdde0028a7": {
          "model_module": "@jupyter-widgets/base",
          "model_name": "LayoutModel",
          "model_module_version": "1.2.0",
          "state": {
            "_model_module": "@jupyter-widgets/base",
            "_model_module_version": "1.2.0",
            "_model_name": "LayoutModel",
            "_view_count": null,
            "_view_module": "@jupyter-widgets/base",
            "_view_module_version": "1.2.0",
            "_view_name": "LayoutView",
            "align_content": null,
            "align_items": null,
            "align_self": null,
            "border": null,
            "bottom": null,
            "display": null,
            "flex": null,
            "flex_flow": null,
            "grid_area": null,
            "grid_auto_columns": null,
            "grid_auto_flow": null,
            "grid_auto_rows": null,
            "grid_column": null,
            "grid_gap": null,
            "grid_row": null,
            "grid_template_areas": null,
            "grid_template_columns": null,
            "grid_template_rows": null,
            "height": null,
            "justify_content": null,
            "justify_items": null,
            "left": null,
            "margin": null,
            "max_height": null,
            "max_width": null,
            "min_height": null,
            "min_width": null,
            "object_fit": null,
            "object_position": null,
            "order": null,
            "overflow": null,
            "overflow_x": null,
            "overflow_y": null,
            "padding": null,
            "right": null,
            "top": null,
            "visibility": null,
            "width": "20px"
          }
        },
        "4a083a6ee56348d0a3fdfb1f997149a6": {
          "model_module": "@jupyter-widgets/controls",
          "model_name": "ProgressStyleModel",
          "model_module_version": "1.5.0",
          "state": {
            "_model_module": "@jupyter-widgets/controls",
            "_model_module_version": "1.5.0",
            "_model_name": "ProgressStyleModel",
            "_view_count": null,
            "_view_module": "@jupyter-widgets/base",
            "_view_module_version": "1.2.0",
            "_view_name": "StyleView",
            "bar_color": null,
            "description_width": ""
          }
        },
        "b3ca0b7cda19423489470709ab0cec94": {
          "model_module": "@jupyter-widgets/base",
          "model_name": "LayoutModel",
          "model_module_version": "1.2.0",
          "state": {
            "_model_module": "@jupyter-widgets/base",
            "_model_module_version": "1.2.0",
            "_model_name": "LayoutModel",
            "_view_count": null,
            "_view_module": "@jupyter-widgets/base",
            "_view_module_version": "1.2.0",
            "_view_name": "LayoutView",
            "align_content": null,
            "align_items": null,
            "align_self": null,
            "border": null,
            "bottom": null,
            "display": null,
            "flex": null,
            "flex_flow": null,
            "grid_area": null,
            "grid_auto_columns": null,
            "grid_auto_flow": null,
            "grid_auto_rows": null,
            "grid_column": null,
            "grid_gap": null,
            "grid_row": null,
            "grid_template_areas": null,
            "grid_template_columns": null,
            "grid_template_rows": null,
            "height": null,
            "justify_content": null,
            "justify_items": null,
            "left": null,
            "margin": null,
            "max_height": null,
            "max_width": null,
            "min_height": null,
            "min_width": null,
            "object_fit": null,
            "object_position": null,
            "order": null,
            "overflow": null,
            "overflow_x": null,
            "overflow_y": null,
            "padding": null,
            "right": null,
            "top": null,
            "visibility": null,
            "width": null
          }
        },
        "af7ee261009d4cb096f21d1cc46dccb1": {
          "model_module": "@jupyter-widgets/controls",
          "model_name": "DescriptionStyleModel",
          "model_module_version": "1.5.0",
          "state": {
            "_model_module": "@jupyter-widgets/controls",
            "_model_module_version": "1.5.0",
            "_model_name": "DescriptionStyleModel",
            "_view_count": null,
            "_view_module": "@jupyter-widgets/base",
            "_view_module_version": "1.2.0",
            "_view_name": "StyleView",
            "description_width": ""
          }
        },
        "790fb7fef52345f4a92667a614a38c31": {
          "model_module": "@jupyter-widgets/controls",
          "model_name": "HBoxModel",
          "model_module_version": "1.5.0",
          "state": {
            "_dom_classes": [],
            "_model_module": "@jupyter-widgets/controls",
            "_model_module_version": "1.5.0",
            "_model_name": "HBoxModel",
            "_view_count": null,
            "_view_module": "@jupyter-widgets/controls",
            "_view_module_version": "1.5.0",
            "_view_name": "HBoxView",
            "box_style": "",
            "children": [
              "IPY_MODEL_5914780b70364de59f64993c9135f68b",
              "IPY_MODEL_db35184fd5b44e9199b29e5ad2c5c2fc",
              "IPY_MODEL_2b2b620af07742309028fc58f748a2b7"
            ],
            "layout": "IPY_MODEL_8bb78cdf8ad94325a121b20dafc542d4"
          }
        },
        "5914780b70364de59f64993c9135f68b": {
          "model_module": "@jupyter-widgets/controls",
          "model_name": "HTMLModel",
          "model_module_version": "1.5.0",
          "state": {
            "_dom_classes": [],
            "_model_module": "@jupyter-widgets/controls",
            "_model_module_version": "1.5.0",
            "_model_name": "HTMLModel",
            "_view_count": null,
            "_view_module": "@jupyter-widgets/controls",
            "_view_module_version": "1.5.0",
            "_view_name": "HTMLView",
            "description": "",
            "description_tooltip": null,
            "layout": "IPY_MODEL_297222e6f9514b8b9844330980aea540",
            "placeholder": "​",
            "style": "IPY_MODEL_1bf13a90b5ae40758819a9acb6cc1795",
            "value": "Downloading pytorch_model.bin: 100%"
          }
        },
        "db35184fd5b44e9199b29e5ad2c5c2fc": {
          "model_module": "@jupyter-widgets/controls",
          "model_name": "FloatProgressModel",
          "model_module_version": "1.5.0",
          "state": {
            "_dom_classes": [],
            "_model_module": "@jupyter-widgets/controls",
            "_model_module_version": "1.5.0",
            "_model_name": "FloatProgressModel",
            "_view_count": null,
            "_view_module": "@jupyter-widgets/controls",
            "_view_module_version": "1.5.0",
            "_view_name": "ProgressView",
            "bar_style": "success",
            "description": "",
            "description_tooltip": null,
            "layout": "IPY_MODEL_b4a32a55cc774c44b85cdab9cfe212b6",
            "max": 116428413,
            "min": 0,
            "orientation": "horizontal",
            "style": "IPY_MODEL_45907875829749638f12a1a0d26f0194",
            "value": 116428413
          }
        },
        "2b2b620af07742309028fc58f748a2b7": {
          "model_module": "@jupyter-widgets/controls",
          "model_name": "HTMLModel",
          "model_module_version": "1.5.0",
          "state": {
            "_dom_classes": [],
            "_model_module": "@jupyter-widgets/controls",
            "_model_module_version": "1.5.0",
            "_model_name": "HTMLModel",
            "_view_count": null,
            "_view_module": "@jupyter-widgets/controls",
            "_view_module_version": "1.5.0",
            "_view_name": "HTMLView",
            "description": "",
            "description_tooltip": null,
            "layout": "IPY_MODEL_d1ba923552d241d8aad914b7ce562435",
            "placeholder": "​",
            "style": "IPY_MODEL_c2ea6d08f66d4c42847196cf2aeac0a8",
            "value": " 116M/116M [00:01&lt;00:00, 73.8MB/s]"
          }
        },
        "8bb78cdf8ad94325a121b20dafc542d4": {
          "model_module": "@jupyter-widgets/base",
          "model_name": "LayoutModel",
          "model_module_version": "1.2.0",
          "state": {
            "_model_module": "@jupyter-widgets/base",
            "_model_module_version": "1.2.0",
            "_model_name": "LayoutModel",
            "_view_count": null,
            "_view_module": "@jupyter-widgets/base",
            "_view_module_version": "1.2.0",
            "_view_name": "LayoutView",
            "align_content": null,
            "align_items": null,
            "align_self": null,
            "border": null,
            "bottom": null,
            "display": null,
            "flex": null,
            "flex_flow": null,
            "grid_area": null,
            "grid_auto_columns": null,
            "grid_auto_flow": null,
            "grid_auto_rows": null,
            "grid_column": null,
            "grid_gap": null,
            "grid_row": null,
            "grid_template_areas": null,
            "grid_template_columns": null,
            "grid_template_rows": null,
            "height": null,
            "justify_content": null,
            "justify_items": null,
            "left": null,
            "margin": null,
            "max_height": null,
            "max_width": null,
            "min_height": null,
            "min_width": null,
            "object_fit": null,
            "object_position": null,
            "order": null,
            "overflow": null,
            "overflow_x": null,
            "overflow_y": null,
            "padding": null,
            "right": null,
            "top": null,
            "visibility": null,
            "width": null
          }
        },
        "297222e6f9514b8b9844330980aea540": {
          "model_module": "@jupyter-widgets/base",
          "model_name": "LayoutModel",
          "model_module_version": "1.2.0",
          "state": {
            "_model_module": "@jupyter-widgets/base",
            "_model_module_version": "1.2.0",
            "_model_name": "LayoutModel",
            "_view_count": null,
            "_view_module": "@jupyter-widgets/base",
            "_view_module_version": "1.2.0",
            "_view_name": "LayoutView",
            "align_content": null,
            "align_items": null,
            "align_self": null,
            "border": null,
            "bottom": null,
            "display": null,
            "flex": null,
            "flex_flow": null,
            "grid_area": null,
            "grid_auto_columns": null,
            "grid_auto_flow": null,
            "grid_auto_rows": null,
            "grid_column": null,
            "grid_gap": null,
            "grid_row": null,
            "grid_template_areas": null,
            "grid_template_columns": null,
            "grid_template_rows": null,
            "height": null,
            "justify_content": null,
            "justify_items": null,
            "left": null,
            "margin": null,
            "max_height": null,
            "max_width": null,
            "min_height": null,
            "min_width": null,
            "object_fit": null,
            "object_position": null,
            "order": null,
            "overflow": null,
            "overflow_x": null,
            "overflow_y": null,
            "padding": null,
            "right": null,
            "top": null,
            "visibility": null,
            "width": null
          }
        },
        "1bf13a90b5ae40758819a9acb6cc1795": {
          "model_module": "@jupyter-widgets/controls",
          "model_name": "DescriptionStyleModel",
          "model_module_version": "1.5.0",
          "state": {
            "_model_module": "@jupyter-widgets/controls",
            "_model_module_version": "1.5.0",
            "_model_name": "DescriptionStyleModel",
            "_view_count": null,
            "_view_module": "@jupyter-widgets/base",
            "_view_module_version": "1.2.0",
            "_view_name": "StyleView",
            "description_width": ""
          }
        },
        "b4a32a55cc774c44b85cdab9cfe212b6": {
          "model_module": "@jupyter-widgets/base",
          "model_name": "LayoutModel",
          "model_module_version": "1.2.0",
          "state": {
            "_model_module": "@jupyter-widgets/base",
            "_model_module_version": "1.2.0",
            "_model_name": "LayoutModel",
            "_view_count": null,
            "_view_module": "@jupyter-widgets/base",
            "_view_module_version": "1.2.0",
            "_view_name": "LayoutView",
            "align_content": null,
            "align_items": null,
            "align_self": null,
            "border": null,
            "bottom": null,
            "display": null,
            "flex": null,
            "flex_flow": null,
            "grid_area": null,
            "grid_auto_columns": null,
            "grid_auto_flow": null,
            "grid_auto_rows": null,
            "grid_column": null,
            "grid_gap": null,
            "grid_row": null,
            "grid_template_areas": null,
            "grid_template_columns": null,
            "grid_template_rows": null,
            "height": null,
            "justify_content": null,
            "justify_items": null,
            "left": null,
            "margin": null,
            "max_height": null,
            "max_width": null,
            "min_height": null,
            "min_width": null,
            "object_fit": null,
            "object_position": null,
            "order": null,
            "overflow": null,
            "overflow_x": null,
            "overflow_y": null,
            "padding": null,
            "right": null,
            "top": null,
            "visibility": null,
            "width": null
          }
        },
        "45907875829749638f12a1a0d26f0194": {
          "model_module": "@jupyter-widgets/controls",
          "model_name": "ProgressStyleModel",
          "model_module_version": "1.5.0",
          "state": {
            "_model_module": "@jupyter-widgets/controls",
            "_model_module_version": "1.5.0",
            "_model_name": "ProgressStyleModel",
            "_view_count": null,
            "_view_module": "@jupyter-widgets/base",
            "_view_module_version": "1.2.0",
            "_view_name": "StyleView",
            "bar_color": null,
            "description_width": ""
          }
        },
        "d1ba923552d241d8aad914b7ce562435": {
          "model_module": "@jupyter-widgets/base",
          "model_name": "LayoutModel",
          "model_module_version": "1.2.0",
          "state": {
            "_model_module": "@jupyter-widgets/base",
            "_model_module_version": "1.2.0",
            "_model_name": "LayoutModel",
            "_view_count": null,
            "_view_module": "@jupyter-widgets/base",
            "_view_module_version": "1.2.0",
            "_view_name": "LayoutView",
            "align_content": null,
            "align_items": null,
            "align_self": null,
            "border": null,
            "bottom": null,
            "display": null,
            "flex": null,
            "flex_flow": null,
            "grid_area": null,
            "grid_auto_columns": null,
            "grid_auto_flow": null,
            "grid_auto_rows": null,
            "grid_column": null,
            "grid_gap": null,
            "grid_row": null,
            "grid_template_areas": null,
            "grid_template_columns": null,
            "grid_template_rows": null,
            "height": null,
            "justify_content": null,
            "justify_items": null,
            "left": null,
            "margin": null,
            "max_height": null,
            "max_width": null,
            "min_height": null,
            "min_width": null,
            "object_fit": null,
            "object_position": null,
            "order": null,
            "overflow": null,
            "overflow_x": null,
            "overflow_y": null,
            "padding": null,
            "right": null,
            "top": null,
            "visibility": null,
            "width": null
          }
        },
        "c2ea6d08f66d4c42847196cf2aeac0a8": {
          "model_module": "@jupyter-widgets/controls",
          "model_name": "DescriptionStyleModel",
          "model_module_version": "1.5.0",
          "state": {
            "_model_module": "@jupyter-widgets/controls",
            "_model_module_version": "1.5.0",
            "_model_name": "DescriptionStyleModel",
            "_view_count": null,
            "_view_module": "@jupyter-widgets/base",
            "_view_module_version": "1.2.0",
            "_view_name": "StyleView",
            "description_width": ""
          }
        },
        "1df3573a871049b296c29d58f64469f1": {
          "model_module": "@jupyter-widgets/controls",
          "model_name": "HBoxModel",
          "model_module_version": "1.5.0",
          "state": {
            "_dom_classes": [],
            "_model_module": "@jupyter-widgets/controls",
            "_model_module_version": "1.5.0",
            "_model_name": "HBoxModel",
            "_view_count": null,
            "_view_module": "@jupyter-widgets/controls",
            "_view_module_version": "1.5.0",
            "_view_name": "HBoxView",
            "box_style": "",
            "children": [
              "IPY_MODEL_9f723a421ae54136a1d0c45bb173de6a",
              "IPY_MODEL_c7816e7ed9234868aee616b51f7deb25",
              "IPY_MODEL_0174731a22654c768ce0050f61cbf01e"
            ],
            "layout": "IPY_MODEL_bd263eeb44a349ea9879a4dc7365841c"
          }
        },
        "9f723a421ae54136a1d0c45bb173de6a": {
          "model_module": "@jupyter-widgets/controls",
          "model_name": "HTMLModel",
          "model_module_version": "1.5.0",
          "state": {
            "_dom_classes": [],
            "_model_module": "@jupyter-widgets/controls",
            "_model_module_version": "1.5.0",
            "_model_name": "HTMLModel",
            "_view_count": null,
            "_view_module": "@jupyter-widgets/controls",
            "_view_module_version": "1.5.0",
            "_view_name": "HTMLView",
            "description": "",
            "description_tooltip": null,
            "layout": "IPY_MODEL_83358b6eaebb463a8793ea52e92e07d4",
            "placeholder": "​",
            "style": "IPY_MODEL_d66bf73a89994949b95423b532efa9dd",
            "value": "Map: 100%"
          }
        },
        "c7816e7ed9234868aee616b51f7deb25": {
          "model_module": "@jupyter-widgets/controls",
          "model_name": "FloatProgressModel",
          "model_module_version": "1.5.0",
          "state": {
            "_dom_classes": [],
            "_model_module": "@jupyter-widgets/controls",
            "_model_module_version": "1.5.0",
            "_model_name": "FloatProgressModel",
            "_view_count": null,
            "_view_module": "@jupyter-widgets/controls",
            "_view_module_version": "1.5.0",
            "_view_name": "ProgressView",
            "bar_style": "",
            "description": "",
            "description_tooltip": null,
            "layout": "IPY_MODEL_86d12442b51f4267b1f3028ec6ea8a87",
            "max": 873,
            "min": 0,
            "orientation": "horizontal",
            "style": "IPY_MODEL_28d45b2fa5844ac983a76a7a32a0332e",
            "value": 873
          }
        },
        "0174731a22654c768ce0050f61cbf01e": {
          "model_module": "@jupyter-widgets/controls",
          "model_name": "HTMLModel",
          "model_module_version": "1.5.0",
          "state": {
            "_dom_classes": [],
            "_model_module": "@jupyter-widgets/controls",
            "_model_module_version": "1.5.0",
            "_model_name": "HTMLModel",
            "_view_count": null,
            "_view_module": "@jupyter-widgets/controls",
            "_view_module_version": "1.5.0",
            "_view_name": "HTMLView",
            "description": "",
            "description_tooltip": null,
            "layout": "IPY_MODEL_c8f2b728e918415c92f6ac250097892c",
            "placeholder": "​",
            "style": "IPY_MODEL_74860d9962ba43b7a8aef1afe4ff7246",
            "value": " 873/873 [00:01&lt;00:00, 496.91 examples/s]"
          }
        },
        "bd263eeb44a349ea9879a4dc7365841c": {
          "model_module": "@jupyter-widgets/base",
          "model_name": "LayoutModel",
          "model_module_version": "1.2.0",
          "state": {
            "_model_module": "@jupyter-widgets/base",
            "_model_module_version": "1.2.0",
            "_model_name": "LayoutModel",
            "_view_count": null,
            "_view_module": "@jupyter-widgets/base",
            "_view_module_version": "1.2.0",
            "_view_name": "LayoutView",
            "align_content": null,
            "align_items": null,
            "align_self": null,
            "border": null,
            "bottom": null,
            "display": null,
            "flex": null,
            "flex_flow": null,
            "grid_area": null,
            "grid_auto_columns": null,
            "grid_auto_flow": null,
            "grid_auto_rows": null,
            "grid_column": null,
            "grid_gap": null,
            "grid_row": null,
            "grid_template_areas": null,
            "grid_template_columns": null,
            "grid_template_rows": null,
            "height": null,
            "justify_content": null,
            "justify_items": null,
            "left": null,
            "margin": null,
            "max_height": null,
            "max_width": null,
            "min_height": null,
            "min_width": null,
            "object_fit": null,
            "object_position": null,
            "order": null,
            "overflow": null,
            "overflow_x": null,
            "overflow_y": null,
            "padding": null,
            "right": null,
            "top": null,
            "visibility": "hidden",
            "width": null
          }
        },
        "83358b6eaebb463a8793ea52e92e07d4": {
          "model_module": "@jupyter-widgets/base",
          "model_name": "LayoutModel",
          "model_module_version": "1.2.0",
          "state": {
            "_model_module": "@jupyter-widgets/base",
            "_model_module_version": "1.2.0",
            "_model_name": "LayoutModel",
            "_view_count": null,
            "_view_module": "@jupyter-widgets/base",
            "_view_module_version": "1.2.0",
            "_view_name": "LayoutView",
            "align_content": null,
            "align_items": null,
            "align_self": null,
            "border": null,
            "bottom": null,
            "display": null,
            "flex": null,
            "flex_flow": null,
            "grid_area": null,
            "grid_auto_columns": null,
            "grid_auto_flow": null,
            "grid_auto_rows": null,
            "grid_column": null,
            "grid_gap": null,
            "grid_row": null,
            "grid_template_areas": null,
            "grid_template_columns": null,
            "grid_template_rows": null,
            "height": null,
            "justify_content": null,
            "justify_items": null,
            "left": null,
            "margin": null,
            "max_height": null,
            "max_width": null,
            "min_height": null,
            "min_width": null,
            "object_fit": null,
            "object_position": null,
            "order": null,
            "overflow": null,
            "overflow_x": null,
            "overflow_y": null,
            "padding": null,
            "right": null,
            "top": null,
            "visibility": null,
            "width": null
          }
        },
        "d66bf73a89994949b95423b532efa9dd": {
          "model_module": "@jupyter-widgets/controls",
          "model_name": "DescriptionStyleModel",
          "model_module_version": "1.5.0",
          "state": {
            "_model_module": "@jupyter-widgets/controls",
            "_model_module_version": "1.5.0",
            "_model_name": "DescriptionStyleModel",
            "_view_count": null,
            "_view_module": "@jupyter-widgets/base",
            "_view_module_version": "1.2.0",
            "_view_name": "StyleView",
            "description_width": ""
          }
        },
        "86d12442b51f4267b1f3028ec6ea8a87": {
          "model_module": "@jupyter-widgets/base",
          "model_name": "LayoutModel",
          "model_module_version": "1.2.0",
          "state": {
            "_model_module": "@jupyter-widgets/base",
            "_model_module_version": "1.2.0",
            "_model_name": "LayoutModel",
            "_view_count": null,
            "_view_module": "@jupyter-widgets/base",
            "_view_module_version": "1.2.0",
            "_view_name": "LayoutView",
            "align_content": null,
            "align_items": null,
            "align_self": null,
            "border": null,
            "bottom": null,
            "display": null,
            "flex": null,
            "flex_flow": null,
            "grid_area": null,
            "grid_auto_columns": null,
            "grid_auto_flow": null,
            "grid_auto_rows": null,
            "grid_column": null,
            "grid_gap": null,
            "grid_row": null,
            "grid_template_areas": null,
            "grid_template_columns": null,
            "grid_template_rows": null,
            "height": null,
            "justify_content": null,
            "justify_items": null,
            "left": null,
            "margin": null,
            "max_height": null,
            "max_width": null,
            "min_height": null,
            "min_width": null,
            "object_fit": null,
            "object_position": null,
            "order": null,
            "overflow": null,
            "overflow_x": null,
            "overflow_y": null,
            "padding": null,
            "right": null,
            "top": null,
            "visibility": null,
            "width": null
          }
        },
        "28d45b2fa5844ac983a76a7a32a0332e": {
          "model_module": "@jupyter-widgets/controls",
          "model_name": "ProgressStyleModel",
          "model_module_version": "1.5.0",
          "state": {
            "_model_module": "@jupyter-widgets/controls",
            "_model_module_version": "1.5.0",
            "_model_name": "ProgressStyleModel",
            "_view_count": null,
            "_view_module": "@jupyter-widgets/base",
            "_view_module_version": "1.2.0",
            "_view_name": "StyleView",
            "bar_color": null,
            "description_width": ""
          }
        },
        "c8f2b728e918415c92f6ac250097892c": {
          "model_module": "@jupyter-widgets/base",
          "model_name": "LayoutModel",
          "model_module_version": "1.2.0",
          "state": {
            "_model_module": "@jupyter-widgets/base",
            "_model_module_version": "1.2.0",
            "_model_name": "LayoutModel",
            "_view_count": null,
            "_view_module": "@jupyter-widgets/base",
            "_view_module_version": "1.2.0",
            "_view_name": "LayoutView",
            "align_content": null,
            "align_items": null,
            "align_self": null,
            "border": null,
            "bottom": null,
            "display": null,
            "flex": null,
            "flex_flow": null,
            "grid_area": null,
            "grid_auto_columns": null,
            "grid_auto_flow": null,
            "grid_auto_rows": null,
            "grid_column": null,
            "grid_gap": null,
            "grid_row": null,
            "grid_template_areas": null,
            "grid_template_columns": null,
            "grid_template_rows": null,
            "height": null,
            "justify_content": null,
            "justify_items": null,
            "left": null,
            "margin": null,
            "max_height": null,
            "max_width": null,
            "min_height": null,
            "min_width": null,
            "object_fit": null,
            "object_position": null,
            "order": null,
            "overflow": null,
            "overflow_x": null,
            "overflow_y": null,
            "padding": null,
            "right": null,
            "top": null,
            "visibility": null,
            "width": null
          }
        },
        "74860d9962ba43b7a8aef1afe4ff7246": {
          "model_module": "@jupyter-widgets/controls",
          "model_name": "DescriptionStyleModel",
          "model_module_version": "1.5.0",
          "state": {
            "_model_module": "@jupyter-widgets/controls",
            "_model_module_version": "1.5.0",
            "_model_name": "DescriptionStyleModel",
            "_view_count": null,
            "_view_module": "@jupyter-widgets/base",
            "_view_module_version": "1.2.0",
            "_view_name": "StyleView",
            "description_width": ""
          }
        }
      }
    }
  },
  "cells": [
    {
      "cell_type": "markdown",
      "source": [
        "#Data cleaning"
      ],
      "metadata": {
        "id": "NETeesTie2W4"
      }
    },
    {
      "cell_type": "code",
      "execution_count": 16,
      "metadata": {
        "id": "K5nNQmDuFWeS"
      },
      "outputs": [],
      "source": [
        "import pandas as pd"
      ]
    },
    {
      "cell_type": "code",
      "source": [
        "!pip install accelerate>=0.20.1"
      ],
      "metadata": {
        "id": "8OgQiDivM0Id"
      },
      "execution_count": 1,
      "outputs": []
    },
    {
      "cell_type": "code",
      "source": [
        "!pip install transformers[torch]"
      ],
      "metadata": {
        "colab": {
          "base_uri": "https://localhost:8080/"
        },
        "collapsed": true,
        "id": "WgK2aEotM3pR",
        "outputId": "51f29e04-14ef-4c0d-f752-92371ca27917"
      },
      "execution_count": 2,
      "outputs": [
        {
          "output_type": "stream",
          "name": "stdout",
          "text": [
            "Looking in indexes: https://pypi.org/simple, https://us-python.pkg.dev/colab-wheels/public/simple/\n",
            "Collecting transformers[torch]\n",
            "  Downloading transformers-4.30.2-py3-none-any.whl (7.2 MB)\n",
            "\u001b[2K     \u001b[90m━━━━━━━━━━━━━━━━━━━━━━━━━━━━━━━━━━━━━━━━\u001b[0m \u001b[32m7.2/7.2 MB\u001b[0m \u001b[31m59.7 MB/s\u001b[0m eta \u001b[36m0:00:00\u001b[0m\n",
            "\u001b[?25hRequirement already satisfied: filelock in /usr/local/lib/python3.10/dist-packages (from transformers[torch]) (3.12.2)\n",
            "Collecting huggingface-hub<1.0,>=0.14.1 (from transformers[torch])\n",
            "  Downloading huggingface_hub-0.15.1-py3-none-any.whl (236 kB)\n",
            "\u001b[2K     \u001b[90m━━━━━━━━━━━━━━━━━━━━━━━━━━━━━━━━━━━━━━\u001b[0m \u001b[32m236.8/236.8 kB\u001b[0m \u001b[31m26.8 MB/s\u001b[0m eta \u001b[36m0:00:00\u001b[0m\n",
            "\u001b[?25hRequirement already satisfied: numpy>=1.17 in /usr/local/lib/python3.10/dist-packages (from transformers[torch]) (1.22.4)\n",
            "Requirement already satisfied: packaging>=20.0 in /usr/local/lib/python3.10/dist-packages (from transformers[torch]) (23.1)\n",
            "Requirement already satisfied: pyyaml>=5.1 in /usr/local/lib/python3.10/dist-packages (from transformers[torch]) (6.0)\n",
            "Requirement already satisfied: regex!=2019.12.17 in /usr/local/lib/python3.10/dist-packages (from transformers[torch]) (2022.10.31)\n",
            "Requirement already satisfied: requests in /usr/local/lib/python3.10/dist-packages (from transformers[torch]) (2.27.1)\n",
            "Collecting tokenizers!=0.11.3,<0.14,>=0.11.1 (from transformers[torch])\n",
            "  Downloading tokenizers-0.13.3-cp310-cp310-manylinux_2_17_x86_64.manylinux2014_x86_64.whl (7.8 MB)\n",
            "\u001b[2K     \u001b[90m━━━━━━━━━━━━━━━━━━━━━━━━━━━━━━━━━━━━━━━━\u001b[0m \u001b[32m7.8/7.8 MB\u001b[0m \u001b[31m106.2 MB/s\u001b[0m eta \u001b[36m0:00:00\u001b[0m\n",
            "\u001b[?25hCollecting safetensors>=0.3.1 (from transformers[torch])\n",
            "  Downloading safetensors-0.3.1-cp310-cp310-manylinux_2_17_x86_64.manylinux2014_x86_64.whl (1.3 MB)\n",
            "\u001b[2K     \u001b[90m━━━━━━━━━━━━━━━━━━━━━━━━━━━━━━━━━━━━━━━━\u001b[0m \u001b[32m1.3/1.3 MB\u001b[0m \u001b[31m21.7 MB/s\u001b[0m eta \u001b[36m0:00:00\u001b[0m\n",
            "\u001b[?25hRequirement already satisfied: tqdm>=4.27 in /usr/local/lib/python3.10/dist-packages (from transformers[torch]) (4.65.0)\n",
            "Requirement already satisfied: torch!=1.12.0,>=1.9 in /usr/local/lib/python3.10/dist-packages (from transformers[torch]) (2.0.1+cu118)\n",
            "Requirement already satisfied: accelerate>=0.20.2 in /usr/local/lib/python3.10/dist-packages (from transformers[torch]) (0.20.3)\n",
            "Requirement already satisfied: psutil in /usr/local/lib/python3.10/dist-packages (from accelerate>=0.20.2->transformers[torch]) (5.9.5)\n",
            "Requirement already satisfied: fsspec in /usr/local/lib/python3.10/dist-packages (from huggingface-hub<1.0,>=0.14.1->transformers[torch]) (2023.6.0)\n",
            "Requirement already satisfied: typing-extensions>=3.7.4.3 in /usr/local/lib/python3.10/dist-packages (from huggingface-hub<1.0,>=0.14.1->transformers[torch]) (4.6.3)\n",
            "Requirement already satisfied: sympy in /usr/local/lib/python3.10/dist-packages (from torch!=1.12.0,>=1.9->transformers[torch]) (1.11.1)\n",
            "Requirement already satisfied: networkx in /usr/local/lib/python3.10/dist-packages (from torch!=1.12.0,>=1.9->transformers[torch]) (3.1)\n",
            "Requirement already satisfied: jinja2 in /usr/local/lib/python3.10/dist-packages (from torch!=1.12.0,>=1.9->transformers[torch]) (3.1.2)\n",
            "Requirement already satisfied: triton==2.0.0 in /usr/local/lib/python3.10/dist-packages (from torch!=1.12.0,>=1.9->transformers[torch]) (2.0.0)\n",
            "Requirement already satisfied: cmake in /usr/local/lib/python3.10/dist-packages (from triton==2.0.0->torch!=1.12.0,>=1.9->transformers[torch]) (3.25.2)\n",
            "Requirement already satisfied: lit in /usr/local/lib/python3.10/dist-packages (from triton==2.0.0->torch!=1.12.0,>=1.9->transformers[torch]) (16.0.6)\n",
            "Requirement already satisfied: urllib3<1.27,>=1.21.1 in /usr/local/lib/python3.10/dist-packages (from requests->transformers[torch]) (1.26.16)\n",
            "Requirement already satisfied: certifi>=2017.4.17 in /usr/local/lib/python3.10/dist-packages (from requests->transformers[torch]) (2023.5.7)\n",
            "Requirement already satisfied: charset-normalizer~=2.0.0 in /usr/local/lib/python3.10/dist-packages (from requests->transformers[torch]) (2.0.12)\n",
            "Requirement already satisfied: idna<4,>=2.5 in /usr/local/lib/python3.10/dist-packages (from requests->transformers[torch]) (3.4)\n",
            "Requirement already satisfied: MarkupSafe>=2.0 in /usr/local/lib/python3.10/dist-packages (from jinja2->torch!=1.12.0,>=1.9->transformers[torch]) (2.1.3)\n",
            "Requirement already satisfied: mpmath>=0.19 in /usr/local/lib/python3.10/dist-packages (from sympy->torch!=1.12.0,>=1.9->transformers[torch]) (1.3.0)\n",
            "Installing collected packages: tokenizers, safetensors, huggingface-hub, transformers\n",
            "Successfully installed huggingface-hub-0.15.1 safetensors-0.3.1 tokenizers-0.13.3 transformers-4.30.2\n"
          ]
        }
      ]
    },
    {
      "cell_type": "code",
      "source": [
        "import accelerate\n",
        "import transformers\n",
        "from transformers import AutoTokenizer, AutoModelForTokenClassification, DataCollatorForTokenClassification, TrainingArguments, Trainer"
      ],
      "metadata": {
        "id": "MYrTyvnPMlk5"
      },
      "execution_count": 3,
      "outputs": []
    },
    {
      "cell_type": "code",
      "source": [
        "data = pd.read_excel(\"/content/Датасет.xlsx\")"
      ],
      "metadata": {
        "id": "WM2VKXNWFcRz",
        "colab": {
          "base_uri": "https://localhost:8080/"
        },
        "outputId": "5f2a7877-bb87-4e88-96bb-dc19f3bdb230"
      },
      "execution_count": null,
      "outputs": [
        {
          "output_type": "stream",
          "name": "stderr",
          "text": [
            "/usr/local/lib/python3.10/dist-packages/openpyxl/worksheet/_reader.py:312: UserWarning: Unknown extension is not supported and will be removed\n",
            "  warn(msg)\n"
          ]
        }
      ]
    },
    {
      "cell_type": "code",
      "source": [
        "#Функция для очистки датасета по условию: если поле, которое нужно заполнить, не содержится в исходном поле (требования к соискателю), этот элемент удаляется из датасета\n",
        "def contains(str1, str2):\n",
        "  if str1.find(str2) != -1:\n",
        "    return True\n",
        "  else:\n",
        "    return False\n",
        "def clear_nan(string):\n",
        "  if str(string) == \"nan\":\n",
        "    return \"\"\n",
        "  else:\n",
        "    return str(string)"
      ],
      "metadata": {
        "id": "UYnoRmbmSljl"
      },
      "execution_count": null,
      "outputs": []
    },
    {
      "cell_type": "code",
      "source": [
        "data[\"requirements(Требования к соискателю)\"] = data.apply(lambda x: clear_nan(x[\"requirements(Требования к соискателю)\"]), axis=1)\n",
        "data[\"terms(Условия)\"] = data.apply(lambda x: clear_nan(x[\"terms(Условия)\"]), axis=1)\n",
        "data[\"notes(Примечания)\"] = data.apply(lambda x: clear_nan(x[\"notes(Примечания)\"]), axis=1)"
      ],
      "metadata": {
        "id": "1pXCjVB2Yi3j"
      },
      "execution_count": null,
      "outputs": []
    },
    {
      "cell_type": "code",
      "source": [
        "data[\"Содержит требования\"] = data.apply(lambda x: contains(x[\"responsibilities(Должностные обязанности)\"], x[\"requirements(Требования к соискателю)\"]), axis=1)\n",
        "data[\"Содержит условия\"] = data.apply(lambda x: contains(x[\"responsibilities(Должностные обязанности)\"], x[\"terms(Условия)\"]) , axis=1)\n",
        "data[\"Содержит примечания\"] = data.apply(lambda x: contains(x[\"responsibilities(Должностные обязанности)\"], x[\"notes(Примечания)\"]) , axis=1)"
      ],
      "metadata": {
        "id": "fJpCXp6FF4cg"
      },
      "execution_count": null,
      "outputs": []
    },
    {
      "cell_type": "code",
      "source": [
        "data_v1 = data[(data[\"Содержит примечания\"]) & (data[\"Содержит условия\"]) & (data[\"Содержит требования\"])]"
      ],
      "metadata": {
        "id": "wjy0aChRakF1"
      },
      "execution_count": null,
      "outputs": []
    },
    {
      "cell_type": "code",
      "source": [
        "#Полученный размер датасета\n",
        "len(data_v1)"
      ],
      "metadata": {
        "colab": {
          "base_uri": "https://localhost:8080/"
        },
        "id": "j986jUz81a1E",
        "outputId": "8e3a8c9b-9e5a-4fb0-ba06-f5a7b951f20c"
      },
      "execution_count": null,
      "outputs": [
        {
          "output_type": "execute_result",
          "data": {
            "text/plain": [
              "873"
            ]
          },
          "metadata": {},
          "execution_count": 14
        }
      ]
    },
    {
      "cell_type": "markdown",
      "source": [
        "#Tagging"
      ],
      "metadata": {
        "id": "JhtzpFNQe6Hl"
      }
    },
    {
      "cell_type": "code",
      "source": [
        "#Настройка функции очистки, удаляющей из строки все символы, кроме допустимых. Необходимо для удаления эмодзи и т.д.\n",
        "import re\n",
        "regex = re.compile(r\"[^ .,-?!:0123456789а-яА-Я]\")"
      ],
      "metadata": {
        "id": "hSvBElMChwNY"
      },
      "execution_count": null,
      "outputs": []
    },
    {
      "cell_type": "code",
      "source": [
        "string = \" .абв?10#\"\n",
        "regex.sub(\"\", string)"
      ],
      "metadata": {
        "colab": {
          "base_uri": "https://localhost:8080/",
          "height": 35
        },
        "id": "Xv4Ew8D6h5Yt",
        "outputId": "178b133e-952d-450e-cfbe-2164f19fa8ac"
      },
      "execution_count": null,
      "outputs": [
        {
          "output_type": "execute_result",
          "data": {
            "text/plain": [
              "' .абв?10'"
            ],
            "application/vnd.google.colaboratory.intrinsic+json": {
              "type": "string"
            }
          },
          "metadata": {},
          "execution_count": 16
        }
      ]
    },
    {
      "cell_type": "code",
      "source": [
        "#Очистка полей от недопустимых символов\n",
        "data_v1[\"Clear responsibilities\"] = data_v1.apply(lambda x: regex.sub(\"\", x[\"responsibilities(Должностные обязанности)\"]), axis=1)\n",
        "data_v1[\"Clear requirements\"] = data_v1.apply(lambda x: regex.sub(\"\", x[\"requirements(Требования к соискателю)\"]), axis=1)\n",
        "data_v1[\"Clear terms\"] = data_v1.apply(lambda x: regex.sub(\"\", x[\"terms(Условия)\"]), axis=1)\n",
        "data_v1[\"Clear notes\"] = data_v1.apply(lambda x: regex.sub(\"\", x[\"notes(Примечания)\"]), axis=1)"
      ],
      "metadata": {
        "colab": {
          "base_uri": "https://localhost:8080/"
        },
        "collapsed": true,
        "id": "A_7nOAFLimjl",
        "outputId": "592cb81f-2ba4-46e8-bc91-d0e9318a4527"
      },
      "execution_count": null,
      "outputs": [
        {
          "output_type": "stream",
          "name": "stderr",
          "text": [
            "<ipython-input-17-607c396c4acb>:1: SettingWithCopyWarning: \n",
            "A value is trying to be set on a copy of a slice from a DataFrame.\n",
            "Try using .loc[row_indexer,col_indexer] = value instead\n",
            "\n",
            "See the caveats in the documentation: https://pandas.pydata.org/pandas-docs/stable/user_guide/indexing.html#returning-a-view-versus-a-copy\n",
            "  data_v1[\"Clear responsibilities\"] = data_v1.apply(lambda x: regex.sub(\"\", x[\"responsibilities(Должностные обязанности)\"]), axis=1)\n",
            "<ipython-input-17-607c396c4acb>:2: SettingWithCopyWarning: \n",
            "A value is trying to be set on a copy of a slice from a DataFrame.\n",
            "Try using .loc[row_indexer,col_indexer] = value instead\n",
            "\n",
            "See the caveats in the documentation: https://pandas.pydata.org/pandas-docs/stable/user_guide/indexing.html#returning-a-view-versus-a-copy\n",
            "  data_v1[\"Clear requirements\"] = data_v1.apply(lambda x: regex.sub(\"\", x[\"requirements(Требования к соискателю)\"]), axis=1)\n",
            "<ipython-input-17-607c396c4acb>:3: SettingWithCopyWarning: \n",
            "A value is trying to be set on a copy of a slice from a DataFrame.\n",
            "Try using .loc[row_indexer,col_indexer] = value instead\n",
            "\n",
            "See the caveats in the documentation: https://pandas.pydata.org/pandas-docs/stable/user_guide/indexing.html#returning-a-view-versus-a-copy\n",
            "  data_v1[\"Clear terms\"] = data_v1.apply(lambda x: regex.sub(\"\", x[\"terms(Условия)\"]), axis=1)\n",
            "<ipython-input-17-607c396c4acb>:4: SettingWithCopyWarning: \n",
            "A value is trying to be set on a copy of a slice from a DataFrame.\n",
            "Try using .loc[row_indexer,col_indexer] = value instead\n",
            "\n",
            "See the caveats in the documentation: https://pandas.pydata.org/pandas-docs/stable/user_guide/indexing.html#returning-a-view-versus-a-copy\n",
            "  data_v1[\"Clear notes\"] = data_v1.apply(lambda x: regex.sub(\"\", x[\"notes(Примечания)\"]), axis=1)\n"
          ]
        }
      ]
    },
    {
      "cell_type": "code",
      "source": [
        "data_v1[\"Содержит требования\"] = data_v1.apply(lambda x: contains(x[\"Clear responsibilities\"], x[\"Clear requirements\"]), axis=1)\n",
        "data_v1[\"Содержит условия\"] = data_v1.apply(lambda x: contains(x[\"Clear responsibilities\"], x[\"Clear terms\"]) , axis=1)\n",
        "data_v1[\"Содержит примечания\"] = data_v1.apply(lambda x: contains(x[\"Clear responsibilities\"], x[\"Clear notes\"]) , axis=1)"
      ],
      "metadata": {
        "colab": {
          "base_uri": "https://localhost:8080/"
        },
        "collapsed": true,
        "id": "tHOt0xqC1qNl",
        "outputId": "d123e632-f3c4-4f8c-d3b5-6d9e52c1c73e"
      },
      "execution_count": null,
      "outputs": [
        {
          "output_type": "stream",
          "name": "stderr",
          "text": [
            "<ipython-input-18-53a5841fb500>:1: SettingWithCopyWarning: \n",
            "A value is trying to be set on a copy of a slice from a DataFrame.\n",
            "Try using .loc[row_indexer,col_indexer] = value instead\n",
            "\n",
            "See the caveats in the documentation: https://pandas.pydata.org/pandas-docs/stable/user_guide/indexing.html#returning-a-view-versus-a-copy\n",
            "  data_v1[\"Содержит требования\"] = data_v1.apply(lambda x: contains(x[\"Clear responsibilities\"], x[\"Clear requirements\"]), axis=1)\n",
            "<ipython-input-18-53a5841fb500>:2: SettingWithCopyWarning: \n",
            "A value is trying to be set on a copy of a slice from a DataFrame.\n",
            "Try using .loc[row_indexer,col_indexer] = value instead\n",
            "\n",
            "See the caveats in the documentation: https://pandas.pydata.org/pandas-docs/stable/user_guide/indexing.html#returning-a-view-versus-a-copy\n",
            "  data_v1[\"Содержит условия\"] = data_v1.apply(lambda x: contains(x[\"Clear responsibilities\"], x[\"Clear terms\"]) , axis=1)\n",
            "<ipython-input-18-53a5841fb500>:3: SettingWithCopyWarning: \n",
            "A value is trying to be set on a copy of a slice from a DataFrame.\n",
            "Try using .loc[row_indexer,col_indexer] = value instead\n",
            "\n",
            "See the caveats in the documentation: https://pandas.pydata.org/pandas-docs/stable/user_guide/indexing.html#returning-a-view-versus-a-copy\n",
            "  data_v1[\"Содержит примечания\"] = data_v1.apply(lambda x: contains(x[\"Clear responsibilities\"], x[\"Clear notes\"]) , axis=1)\n"
          ]
        }
      ]
    },
    {
      "cell_type": "code",
      "source": [
        "#Определение классов для разметки текста на задаче NER\n",
        "labels = [\"requirements\", \"terms\", \"notes\"]"
      ],
      "metadata": {
        "id": "LBoLEcPbv1KP"
      },
      "execution_count": null,
      "outputs": []
    },
    {
      "cell_type": "code",
      "source": [
        "#Функция для преобразования датасета к задаче NER, присвоение класса каждому токену\n",
        "def get_tokens_with_entities(text, subtexts):\n",
        "  spaces = [m.start() for m in re.finditer(' ', text)]\n",
        "  starts = []\n",
        "  strings = []\n",
        "  for label in labels:\n",
        "    string = subtexts[label]\n",
        "    strings.append(string)\n",
        "    starts.append(text.find(string))\n",
        "  tags = \"0\"*len(text)\n",
        "  for ind, i in enumerate(starts):\n",
        "    tags = tags[:i] + str(ind+1)*len(strings[ind]) + tags[i + len(strings[ind]):]\n",
        "  t_list = list(tags)\n",
        "  for i in spaces:\n",
        "    t_list[i] = \" \"\n",
        "  tags = \"\".join(t_list)\n",
        "  tokens_list = text.split(\" \")\n",
        "  tags_list = tags.split(\" \")\n",
        "  tokens = []\n",
        "  tags = []\n",
        "  for ind, i in enumerate(tokens_list):\n",
        "    if i != \"\":\n",
        "      tokens.append(i)\n",
        "      tags.append(tags_list[ind])\n",
        "  good_tags = []\n",
        "  for tag in tags:\n",
        "    good_tags.append(int(tag[0]))\n",
        "  output = []\n",
        "  for ind, i in enumerate(tokens):\n",
        "    label_ind = good_tags[ind] - 1\n",
        "    label = \"O\"\n",
        "    if label_ind != -1:\n",
        "      label = labels[label_ind]\n",
        "    cort = ()\n",
        "    if label == \"O\":\n",
        "      cort = (i, label)\n",
        "    else:\n",
        "      if ind == 0:\n",
        "        cort = (i, \"B-\" + label)\n",
        "      else:\n",
        "        if output[ind-1][1] != \"O\":\n",
        "          if output[ind-1][1][2:] == label:\n",
        "            cort = (i, \"I-\" + label)\n",
        "          else:\n",
        "            cort = (i, \"B-\" + label)\n",
        "        else:\n",
        "          cort = (i, \"B-\" + label)\n",
        "    output.append(cort)\n",
        "  return output"
      ],
      "metadata": {
        "id": "n5XcyKIQb_JL"
      },
      "execution_count": 26,
      "outputs": []
    },
    {
      "cell_type": "code",
      "source": [
        "#Создание словаря классов и полей им соответствующих\n",
        "subtexts = []\n",
        "for ind in range(len(data_v1)):\n",
        "  subtext = {}\n",
        "  subtext[\"requirements\"] = data_v1.iloc[ind][\"Clear requirements\"]\n",
        "  subtext[\"terms\"] = data_v1.iloc[ind][\"Clear terms\"]\n",
        "  subtext[\"notes\"] = data_v1.iloc[ind][\"Clear notes\"]\n",
        "  subtexts.append(subtext)"
      ],
      "metadata": {
        "id": "fwwGwaT6y0bB"
      },
      "execution_count": null,
      "outputs": []
    },
    {
      "cell_type": "code",
      "source": [
        "subtexts[3]"
      ],
      "metadata": {
        "colab": {
          "base_uri": "https://localhost:8080/"
        },
        "id": "LMQemFPpz5t-",
        "outputId": "6f3d949f-2028-4c60-a961-f2dfda704e4f"
      },
      "execution_count": null,
      "outputs": [
        {
          "output_type": "execute_result",
          "data": {
            "text/plain": [
              "{'requirements': 'Выполнение работ по гнутью и резке арматурной стали на ручных, электромеханических и электрических станках',\n",
              " 'terms': '',\n",
              " 'notes': ''}"
            ]
          },
          "metadata": {},
          "execution_count": 153
        }
      ]
    },
    {
      "cell_type": "code",
      "source": [
        "#Преобразование датасета\n",
        "marked = []\n",
        "for ind in range(len(data_v1)):\n",
        "  vacancy = data_v1.iloc[ind]\n",
        "  entities = get_tokens_with_entities(vacancy[\"Clear responsibilities\"], subtexts[ind])\n",
        "  marked.append(entities)"
      ],
      "metadata": {
        "collapsed": true,
        "id": "y6wPx17n0O2b"
      },
      "execution_count": null,
      "outputs": []
    },
    {
      "cell_type": "code",
      "source": [
        "len(subtexts)"
      ],
      "metadata": {
        "colab": {
          "base_uri": "https://localhost:8080/"
        },
        "id": "b6IMwMhE1OcM",
        "outputId": "f5b96fe0-0648-4c0e-b29c-e74c1b0dd9e4"
      },
      "execution_count": null,
      "outputs": [
        {
          "output_type": "execute_result",
          "data": {
            "text/plain": [
              "873"
            ]
          },
          "metadata": {},
          "execution_count": 24
        }
      ]
    },
    {
      "cell_type": "markdown",
      "source": [
        "#NER training"
      ],
      "metadata": {
        "id": "vAAh_KRUE5DC"
      }
    },
    {
      "cell_type": "code",
      "source": [
        "!pip install datasets"
      ],
      "metadata": {
        "collapsed": true,
        "colab": {
          "base_uri": "https://localhost:8080/"
        },
        "id": "6RlUInFNNzI_",
        "outputId": "d595b7fe-8ac9-46cc-92d2-e5f44b4e3b19"
      },
      "execution_count": null,
      "outputs": [
        {
          "output_type": "stream",
          "name": "stdout",
          "text": [
            "Looking in indexes: https://pypi.org/simple, https://us-python.pkg.dev/colab-wheels/public/simple/\n",
            "Collecting datasets\n",
            "  Downloading datasets-2.13.1-py3-none-any.whl (486 kB)\n",
            "\u001b[2K     \u001b[90m━━━━━━━━━━━━━━━━━━━━━━━━━━━━━━━━━━━━━━\u001b[0m \u001b[32m486.2/486.2 kB\u001b[0m \u001b[31m10.0 MB/s\u001b[0m eta \u001b[36m0:00:00\u001b[0m\n",
            "\u001b[?25hRequirement already satisfied: numpy>=1.17 in /usr/local/lib/python3.10/dist-packages (from datasets) (1.22.4)\n",
            "Requirement already satisfied: pyarrow>=8.0.0 in /usr/local/lib/python3.10/dist-packages (from datasets) (9.0.0)\n",
            "Collecting dill<0.3.7,>=0.3.0 (from datasets)\n",
            "  Downloading dill-0.3.6-py3-none-any.whl (110 kB)\n",
            "\u001b[2K     \u001b[90m━━━━━━━━━━━━━━━━━━━━━━━━━━━━━━━━━━━━━━\u001b[0m \u001b[32m110.5/110.5 kB\u001b[0m \u001b[31m12.9 MB/s\u001b[0m eta \u001b[36m0:00:00\u001b[0m\n",
            "\u001b[?25hRequirement already satisfied: pandas in /usr/local/lib/python3.10/dist-packages (from datasets) (1.5.3)\n",
            "Requirement already satisfied: requests>=2.19.0 in /usr/local/lib/python3.10/dist-packages (from datasets) (2.27.1)\n",
            "Requirement already satisfied: tqdm>=4.62.1 in /usr/local/lib/python3.10/dist-packages (from datasets) (4.65.0)\n",
            "Collecting xxhash (from datasets)\n",
            "  Downloading xxhash-3.2.0-cp310-cp310-manylinux_2_17_x86_64.manylinux2014_x86_64.whl (212 kB)\n",
            "\u001b[2K     \u001b[90m━━━━━━━━━━━━━━━━━━━━━━━━━━━━━━━━━━━━━━\u001b[0m \u001b[32m212.5/212.5 kB\u001b[0m \u001b[31m22.1 MB/s\u001b[0m eta \u001b[36m0:00:00\u001b[0m\n",
            "\u001b[?25hCollecting multiprocess (from datasets)\n",
            "  Downloading multiprocess-0.70.14-py310-none-any.whl (134 kB)\n",
            "\u001b[2K     \u001b[90m━━━━━━━━━━━━━━━━━━━━━━━━━━━━━━━━━━━━━━\u001b[0m \u001b[32m134.3/134.3 kB\u001b[0m \u001b[31m14.5 MB/s\u001b[0m eta \u001b[36m0:00:00\u001b[0m\n",
            "\u001b[?25hRequirement already satisfied: fsspec[http]>=2021.11.1 in /usr/local/lib/python3.10/dist-packages (from datasets) (2023.6.0)\n",
            "Collecting aiohttp (from datasets)\n",
            "  Downloading aiohttp-3.8.4-cp310-cp310-manylinux_2_17_x86_64.manylinux2014_x86_64.whl (1.0 MB)\n",
            "\u001b[2K     \u001b[90m━━━━━━━━━━━━━━━━━━━━━━━━━━━━━━━━━━━━━━━━\u001b[0m \u001b[32m1.0/1.0 MB\u001b[0m \u001b[31m31.4 MB/s\u001b[0m eta \u001b[36m0:00:00\u001b[0m\n",
            "\u001b[?25hRequirement already satisfied: huggingface-hub<1.0.0,>=0.11.0 in /usr/local/lib/python3.10/dist-packages (from datasets) (0.15.1)\n",
            "Requirement already satisfied: packaging in /usr/local/lib/python3.10/dist-packages (from datasets) (23.1)\n",
            "Requirement already satisfied: pyyaml>=5.1 in /usr/local/lib/python3.10/dist-packages (from datasets) (6.0)\n",
            "Requirement already satisfied: attrs>=17.3.0 in /usr/local/lib/python3.10/dist-packages (from aiohttp->datasets) (23.1.0)\n",
            "Requirement already satisfied: charset-normalizer<4.0,>=2.0 in /usr/local/lib/python3.10/dist-packages (from aiohttp->datasets) (2.0.12)\n",
            "Collecting multidict<7.0,>=4.5 (from aiohttp->datasets)\n",
            "  Downloading multidict-6.0.4-cp310-cp310-manylinux_2_17_x86_64.manylinux2014_x86_64.whl (114 kB)\n",
            "\u001b[2K     \u001b[90m━━━━━━━━━━━━━━━━━━━━━━━━━━━━━━━━━━━━━━\u001b[0m \u001b[32m114.5/114.5 kB\u001b[0m \u001b[31m12.7 MB/s\u001b[0m eta \u001b[36m0:00:00\u001b[0m\n",
            "\u001b[?25hCollecting async-timeout<5.0,>=4.0.0a3 (from aiohttp->datasets)\n",
            "  Downloading async_timeout-4.0.2-py3-none-any.whl (5.8 kB)\n",
            "Collecting yarl<2.0,>=1.0 (from aiohttp->datasets)\n",
            "  Downloading yarl-1.9.2-cp310-cp310-manylinux_2_17_x86_64.manylinux2014_x86_64.whl (268 kB)\n",
            "\u001b[2K     \u001b[90m━━━━━━━━━━━━━━━━━━━━━━━━━━━━━━━━━━━━━━\u001b[0m \u001b[32m268.8/268.8 kB\u001b[0m \u001b[31m24.2 MB/s\u001b[0m eta \u001b[36m0:00:00\u001b[0m\n",
            "\u001b[?25hCollecting frozenlist>=1.1.1 (from aiohttp->datasets)\n",
            "  Downloading frozenlist-1.3.3-cp310-cp310-manylinux_2_5_x86_64.manylinux1_x86_64.manylinux_2_17_x86_64.manylinux2014_x86_64.whl (149 kB)\n",
            "\u001b[2K     \u001b[90m━━━━━━━━━━━━━━━━━━━━━━━━━━━━━━━━━━━━━━\u001b[0m \u001b[32m149.6/149.6 kB\u001b[0m \u001b[31m15.6 MB/s\u001b[0m eta \u001b[36m0:00:00\u001b[0m\n",
            "\u001b[?25hCollecting aiosignal>=1.1.2 (from aiohttp->datasets)\n",
            "  Downloading aiosignal-1.3.1-py3-none-any.whl (7.6 kB)\n",
            "Requirement already satisfied: filelock in /usr/local/lib/python3.10/dist-packages (from huggingface-hub<1.0.0,>=0.11.0->datasets) (3.12.2)\n",
            "Requirement already satisfied: typing-extensions>=3.7.4.3 in /usr/local/lib/python3.10/dist-packages (from huggingface-hub<1.0.0,>=0.11.0->datasets) (4.6.3)\n",
            "Requirement already satisfied: urllib3<1.27,>=1.21.1 in /usr/local/lib/python3.10/dist-packages (from requests>=2.19.0->datasets) (1.26.16)\n",
            "Requirement already satisfied: certifi>=2017.4.17 in /usr/local/lib/python3.10/dist-packages (from requests>=2.19.0->datasets) (2023.5.7)\n",
            "Requirement already satisfied: idna<4,>=2.5 in /usr/local/lib/python3.10/dist-packages (from requests>=2.19.0->datasets) (3.4)\n",
            "Requirement already satisfied: python-dateutil>=2.8.1 in /usr/local/lib/python3.10/dist-packages (from pandas->datasets) (2.8.2)\n",
            "Requirement already satisfied: pytz>=2020.1 in /usr/local/lib/python3.10/dist-packages (from pandas->datasets) (2022.7.1)\n",
            "Requirement already satisfied: six>=1.5 in /usr/local/lib/python3.10/dist-packages (from python-dateutil>=2.8.1->pandas->datasets) (1.16.0)\n",
            "Installing collected packages: xxhash, multidict, frozenlist, dill, async-timeout, yarl, multiprocess, aiosignal, aiohttp, datasets\n",
            "Successfully installed aiohttp-3.8.4 aiosignal-1.3.1 async-timeout-4.0.2 datasets-2.13.1 dill-0.3.6 frozenlist-1.3.3 multidict-6.0.4 multiprocess-0.70.14 xxhash-3.2.0 yarl-1.9.2\n"
          ]
        }
      ]
    },
    {
      "cell_type": "code",
      "source": [
        "#Класс для окончательного преобразования датасета для подачи в модель\n",
        "class NERDataMaker:\n",
        "    def __init__(self, texts, entities):\n",
        "        self.unique_entities = []\n",
        "        self.processed_texts = []\n",
        "\n",
        "        temp_processed_texts = []\n",
        "        for ind, text in enumerate(texts):\n",
        "            tokens_with_entities = get_tokens_with_entities(text, entities[ind])\n",
        "            for _, ent in tokens_with_entities:\n",
        "                if ent not in self.unique_entities:\n",
        "                    self.unique_entities.append(ent)\n",
        "            temp_processed_texts.append(tokens_with_entities)\n",
        "\n",
        "        self.unique_entities.sort(key=lambda ent: ent if ent != \"O\" else \"\")\n",
        "\n",
        "        for tokens_with_entities in temp_processed_texts:\n",
        "            self.processed_texts.append([(t, self.unique_entities.index(ent)) for t, ent in tokens_with_entities])\n",
        "\n",
        "    @property\n",
        "    def id2label(self):\n",
        "        return dict(enumerate(self.unique_entities))\n",
        "\n",
        "    @property\n",
        "    def label2id(self):\n",
        "        return {v:k for k, v in self.id2label.items()}\n",
        "\n",
        "    def __len__(self):\n",
        "        return len(self.processed_texts)\n",
        "\n",
        "    def __getitem__(self, idx):\n",
        "        def _process_tokens_for_one_text(id, tokens_with_encoded_entities):\n",
        "            ner_tags = []\n",
        "            tokens = []\n",
        "            for t, ent in tokens_with_encoded_entities:\n",
        "                ner_tags.append(ent)\n",
        "                tokens.append(t)\n",
        "\n",
        "            return {\n",
        "                \"id\": id,\n",
        "                \"ner_tags\": ner_tags,\n",
        "                \"tokens\": tokens\n",
        "            }\n",
        "\n",
        "        tokens_with_encoded_entities = self.processed_texts[idx]\n",
        "        if isinstance(idx, int):\n",
        "            return _process_tokens_for_one_text(idx, tokens_with_encoded_entities)\n",
        "        else:\n",
        "            return [_process_tokens_for_one_text(i+idx.start, tee) for i, tee in enumerate(tokens_with_encoded_entities)]\n",
        "\n",
        "    def as_hf_dataset(self, tokenizer):\n",
        "        from datasets import Dataset, Features, Value, ClassLabel, Sequence\n",
        "        def tokenize_and_align_labels(examples):\n",
        "            tokenized_inputs = tokenizer(examples[\"tokens\"], truncation=True, is_split_into_words=True)\n",
        "\n",
        "            labels = []\n",
        "            for i, label in enumerate(examples[f\"ner_tags\"]):\n",
        "                word_ids = tokenized_inputs.word_ids(batch_index=i)  # Map tokens to their respective word.\n",
        "                previous_word_idx = None\n",
        "                label_ids = []\n",
        "                for word_idx in word_ids:  # Set the special tokens to -100.\n",
        "                    if word_idx is None:\n",
        "                        label_ids.append(-100)\n",
        "                    elif word_idx != previous_word_idx:  # Only label the first token of a given word.\n",
        "                        label_ids.append(label[word_idx])\n",
        "                    else:\n",
        "                        label_ids.append(-100)\n",
        "                    previous_word_idx = word_idx\n",
        "                labels.append(label_ids)\n",
        "\n",
        "            tokenized_inputs[\"labels\"] = labels\n",
        "            return tokenized_inputs\n",
        "\n",
        "        ids, ner_tags, tokens = [], [], []\n",
        "        for i, pt in enumerate(self.processed_texts):\n",
        "            ids.append(i)\n",
        "            pt_tokens,pt_tags = list(zip(*pt))\n",
        "            ner_tags.append(pt_tags)\n",
        "            tokens.append(pt_tokens)\n",
        "        data = {\n",
        "            \"id\": ids,\n",
        "            \"ner_tags\": ner_tags,\n",
        "            \"tokens\": tokens\n",
        "        }\n",
        "        features = Features({\n",
        "            \"tokens\": Sequence(Value(\"string\")),\n",
        "            \"ner_tags\": Sequence(ClassLabel(names=dm.unique_entities)),\n",
        "            \"id\": Value(\"int32\")\n",
        "        })\n",
        "        ds = Dataset.from_dict(data, features)\n",
        "        tokenized_ds = ds.map(tokenize_and_align_labels, batched=True)\n",
        "        return tokenized_ds"
      ],
      "metadata": {
        "id": "QUGLxC1nBXIA"
      },
      "execution_count": null,
      "outputs": []
    },
    {
      "cell_type": "code",
      "source": [
        "dm = NERDataMaker(list(data_v1[\"Clear responsibilities\"]), subtexts)"
      ],
      "metadata": {
        "id": "V4tnEIR1FWvO"
      },
      "execution_count": null,
      "outputs": []
    },
    {
      "cell_type": "code",
      "source": [
        "print(f\"total examples = {len(dm)}\")\n",
        "print(dm[0:3])"
      ],
      "metadata": {
        "colab": {
          "base_uri": "https://localhost:8080/"
        },
        "id": "dJlZU4djFxIH",
        "outputId": "6a4a9242-f9e4-4a22-d60e-55657d8f7344"
      },
      "execution_count": null,
      "outputs": [
        {
          "output_type": "stream",
          "name": "stdout",
          "text": [
            "total examples = 873\n",
            "[{'id': 0, 'ner_tags': [0, 0, 0, 0, 0, 0], 'tokens': ['Работа', 'на', 'строительных', 'площадках.', 'Очистных', 'сооружениях.']}, {'id': 1, 'ner_tags': [0, 0, 0, 0, 0, 0, 0, 0, 0, 0, 0, 0, 0, 0, 0, 0, 0, 0, 0, 0], 'tokens': ['Гнутье', 'арматурной', 'стали', 'на', 'механических', 'станках', 'при', 'количестве', 'отгибов', 'на', 'одном', 'стержне', 'более', 'четырех.', 'Сборка', 'и', 'установка', 'сеток', 'и', 'плоских...']}, {'id': 2, 'ner_tags': [0, 0], 'tokens': ['Вязка', 'арматуры.']}]\n"
          ]
        }
      ]
    },
    {
      "cell_type": "code",
      "source": [
        "#Создание модели и токенизатора\n",
        "tokenizer = AutoTokenizer.from_pretrained(\"Evolett/rubert-tiny2-finetuned-ner\")\n",
        "data_collator = DataCollatorForTokenClassification(tokenizer=tokenizer)\n",
        "model = AutoModelForTokenClassification.from_pretrained(\"Evolett/rubert-tiny2-finetuned-ner\", num_labels=len(dm.unique_entities), id2label=dm.id2label, label2id=dm.label2id, ignore_mismatched_sizes=True)"
      ],
      "metadata": {
        "colab": {
          "base_uri": "https://localhost:8080/",
          "height": 278,
          "referenced_widgets": [
            "8f14e27b60954af79f1ffab9509b8d39",
            "0ae97e1204fc43ef89cebf3a3be88790",
            "c1ed75a29fc94950ab2dd225061f2882",
            "8ab20e87799644eaac34812a97f18ae5",
            "a080fada475247d9865b379b920123ea",
            "50f07ec42f6f474abea85e9894d658e2",
            "3994541902d944e18e4cdbead4d43020",
            "ede5474159724724a32c04ccdac286a8",
            "608733cf4eed461e9de04476ed9552e8",
            "f2a4a21e98ae484384d4dbc41d38850c",
            "3b80a158aeda4ac2892e1f73fcad5766",
            "3b33127e9a55420cbe6d8f09bd595c05",
            "46333c5483bf4871940bb5e8285302b6",
            "c5a70b76bce44c5292ecf590b58e72d6",
            "27053e3cf7694d64bdd077c3157c762f",
            "6ed1e16a260e4227a82e2baf4a7c3ac1",
            "2036f1a3361f42db9a0f587f4695bd79",
            "20f09806df9c4785a5a7284c80e43142",
            "fd172df0d85e4c38962aa9857c57db19",
            "b35c2be942354b1e82ebd45be85fa8ea",
            "f2ca087b41e84f2c9e6dbb790955fad0",
            "fe62a891be9748358dd4e21e1187565c",
            "e625f01a86bf41a0a11b9e17717b3254",
            "f17c6c7d55d046aca3e1d6a5a4d0235c",
            "5558cf0f42894b30b0a5ca494bc7bb8b",
            "8112f3d548ef4c90b01728ccfc01922b",
            "dd82162e129044d489e2acecde24c577",
            "62eb41d2d7b04c928b4164aec6ee11a1",
            "50ef1544c94d414db5121fb387d06deb",
            "67e730d3829548b198ec3e3f06ba32b4",
            "15213d657bf1476588bd14068faea538",
            "ea8d0e57a0bd4da483c8801f2b808a01",
            "bdc3266475a5414f8422dfdaba2198b2",
            "e2fc222971624f9098defe3c9a6f51f2",
            "df08a1fe93c046b49b0f36614a68b01f",
            "4f47d71d0d9b4932bdb0621abb0d54bf",
            "dad61a732b7c4cfcaacc19a122cdca8b",
            "8b41720147784e54ae0ef559e8ca897c",
            "aeaeceb7c568416eb38ecdf2b9acb409",
            "4969dcd3108840119a815de1cf5e5036",
            "0ca9e7d37d7f4063acb50b0e45208b61",
            "7261a64555204e21a6174d1abcbc7142",
            "97cdd8366e604c17ba8af219b7369fd1",
            "4e0bd9f9dca34c1db7adc1e4659be18c",
            "e472e29bac0b468889b65560a0fff934",
            "cc204d312db0482bb953b5ab0e928bb7",
            "aec917146d82475681d3426e06bb7bf5",
            "a6aa92cd37674af5a2df541aef46baab",
            "c4a63b4fa43b4f29b6800c50220d87d2",
            "0ea3b332d17d4cd192673630f7e6b056",
            "240c0ebe0d544d3d96e4a638569936fc",
            "8955136a7515427ca441febdde0028a7",
            "4a083a6ee56348d0a3fdfb1f997149a6",
            "b3ca0b7cda19423489470709ab0cec94",
            "af7ee261009d4cb096f21d1cc46dccb1",
            "790fb7fef52345f4a92667a614a38c31",
            "5914780b70364de59f64993c9135f68b",
            "db35184fd5b44e9199b29e5ad2c5c2fc",
            "2b2b620af07742309028fc58f748a2b7",
            "8bb78cdf8ad94325a121b20dafc542d4",
            "297222e6f9514b8b9844330980aea540",
            "1bf13a90b5ae40758819a9acb6cc1795",
            "b4a32a55cc774c44b85cdab9cfe212b6",
            "45907875829749638f12a1a0d26f0194",
            "d1ba923552d241d8aad914b7ce562435",
            "c2ea6d08f66d4c42847196cf2aeac0a8"
          ]
        },
        "id": "3MlraRi8GClu",
        "outputId": "9c0df642-6677-4eb5-9755-68125bc507a3"
      },
      "execution_count": null,
      "outputs": [
        {
          "output_type": "display_data",
          "data": {
            "text/plain": [
              "Downloading (…)okenizer_config.json:   0%|          | 0.00/420 [00:00<?, ?B/s]"
            ],
            "application/vnd.jupyter.widget-view+json": {
              "version_major": 2,
              "version_minor": 0,
              "model_id": "8f14e27b60954af79f1ffab9509b8d39"
            }
          },
          "metadata": {}
        },
        {
          "output_type": "display_data",
          "data": {
            "text/plain": [
              "Downloading (…)solve/main/vocab.txt: 0.00B [00:00, ?B/s]"
            ],
            "application/vnd.jupyter.widget-view+json": {
              "version_major": 2,
              "version_minor": 0,
              "model_id": "3b33127e9a55420cbe6d8f09bd595c05"
            }
          },
          "metadata": {}
        },
        {
          "output_type": "display_data",
          "data": {
            "text/plain": [
              "Downloading (…)/main/tokenizer.json: 0.00B [00:00, ?B/s]"
            ],
            "application/vnd.jupyter.widget-view+json": {
              "version_major": 2,
              "version_minor": 0,
              "model_id": "e625f01a86bf41a0a11b9e17717b3254"
            }
          },
          "metadata": {}
        },
        {
          "output_type": "display_data",
          "data": {
            "text/plain": [
              "Downloading (…)cial_tokens_map.json:   0%|          | 0.00/125 [00:00<?, ?B/s]"
            ],
            "application/vnd.jupyter.widget-view+json": {
              "version_major": 2,
              "version_minor": 0,
              "model_id": "e2fc222971624f9098defe3c9a6f51f2"
            }
          },
          "metadata": {}
        },
        {
          "output_type": "display_data",
          "data": {
            "text/plain": [
              "Downloading (…)lve/main/config.json: 0.00B [00:00, ?B/s]"
            ],
            "application/vnd.jupyter.widget-view+json": {
              "version_major": 2,
              "version_minor": 0,
              "model_id": "e472e29bac0b468889b65560a0fff934"
            }
          },
          "metadata": {}
        },
        {
          "output_type": "display_data",
          "data": {
            "text/plain": [
              "Downloading pytorch_model.bin:   0%|          | 0.00/116M [00:00<?, ?B/s]"
            ],
            "application/vnd.jupyter.widget-view+json": {
              "version_major": 2,
              "version_minor": 0,
              "model_id": "790fb7fef52345f4a92667a614a38c31"
            }
          },
          "metadata": {}
        },
        {
          "output_type": "stream",
          "name": "stderr",
          "text": [
            "Some weights of BertForTokenClassification were not initialized from the model checkpoint at Evolett/rubert-tiny2-finetuned-ner and are newly initialized because the shapes did not match:\n",
            "- classifier.weight: found shape torch.Size([9, 312]) in the checkpoint and torch.Size([7, 312]) in the model instantiated\n",
            "- classifier.bias: found shape torch.Size([9]) in the checkpoint and torch.Size([7]) in the model instantiated\n",
            "You should probably TRAIN this model on a down-stream task to be able to use it for predictions and inference.\n"
          ]
        }
      ]
    },
    {
      "cell_type": "code",
      "source": [
        "#Определение параметров обучения\n",
        "training_args = TrainingArguments(\n",
        "    output_dir=\"/content/results\",\n",
        "    evaluation_strategy=\"epoch\",\n",
        "    learning_rate=2e-5,\n",
        "    per_device_train_batch_size=16,\n",
        "    per_device_eval_batch_size=16,\n",
        "    num_train_epochs=40,\n",
        "    weight_decay=0.01,\n",
        ")\n",
        "\n",
        "train_ds = dm.as_hf_dataset(tokenizer=tokenizer)\n",
        "\n",
        "trainer = Trainer(\n",
        "    model=model,\n",
        "    args=training_args,\n",
        "    train_dataset=train_ds,\n",
        "    eval_dataset=train_ds, # eval on training set! ONLY for DEMO!!\n",
        "    tokenizer=tokenizer,\n",
        "    data_collator=data_collator,\n",
        ")"
      ],
      "metadata": {
        "colab": {
          "base_uri": "https://localhost:8080/",
          "height": 17,
          "referenced_widgets": [
            "1df3573a871049b296c29d58f64469f1",
            "9f723a421ae54136a1d0c45bb173de6a",
            "c7816e7ed9234868aee616b51f7deb25",
            "0174731a22654c768ce0050f61cbf01e",
            "bd263eeb44a349ea9879a4dc7365841c",
            "83358b6eaebb463a8793ea52e92e07d4",
            "d66bf73a89994949b95423b532efa9dd",
            "86d12442b51f4267b1f3028ec6ea8a87",
            "28d45b2fa5844ac983a76a7a32a0332e",
            "c8f2b728e918415c92f6ac250097892c",
            "74860d9962ba43b7a8aef1afe4ff7246"
          ]
        },
        "id": "nMMvLs3lHStB",
        "outputId": "a63482a4-7288-4fdd-ae78-a83e734c4020"
      },
      "execution_count": null,
      "outputs": [
        {
          "output_type": "display_data",
          "data": {
            "text/plain": [
              "Map:   0%|          | 0/873 [00:00<?, ? examples/s]"
            ],
            "application/vnd.jupyter.widget-view+json": {
              "version_major": 2,
              "version_minor": 0,
              "model_id": "1df3573a871049b296c29d58f64469f1"
            }
          },
          "metadata": {}
        }
      ]
    },
    {
      "cell_type": "code",
      "source": [
        "#Обучение модели\n",
        "trainer.train()"
      ],
      "metadata": {
        "colab": {
          "base_uri": "https://localhost:8080/",
          "height": 1000
        },
        "id": "RB46eKraIKAw",
        "outputId": "c0ac31e0-b811-49ec-a546-44be79f87224"
      },
      "execution_count": null,
      "outputs": [
        {
          "output_type": "stream",
          "name": "stderr",
          "text": [
            "/usr/local/lib/python3.10/dist-packages/transformers/optimization.py:411: FutureWarning: This implementation of AdamW is deprecated and will be removed in a future version. Use the PyTorch implementation torch.optim.AdamW instead, or set `no_deprecation_warning=True` to disable this warning\n",
            "  warnings.warn(\n",
            "You're using a BertTokenizerFast tokenizer. Please note that with a fast tokenizer, using the `__call__` method is faster than using a method to encode the text followed by a call to the `pad` method to get a padded encoding.\n"
          ]
        },
        {
          "output_type": "display_data",
          "data": {
            "text/plain": [
              "<IPython.core.display.HTML object>"
            ],
            "text/html": [
              "\n",
              "    <div>\n",
              "      \n",
              "      <progress value='2200' max='2200' style='width:300px; height:20px; vertical-align: middle;'></progress>\n",
              "      [2200/2200 04:58, Epoch 40/40]\n",
              "    </div>\n",
              "    <table border=\"1\" class=\"dataframe\">\n",
              "  <thead>\n",
              " <tr style=\"text-align: left;\">\n",
              "      <th>Epoch</th>\n",
              "      <th>Training Loss</th>\n",
              "      <th>Validation Loss</th>\n",
              "    </tr>\n",
              "  </thead>\n",
              "  <tbody>\n",
              "    <tr>\n",
              "      <td>1</td>\n",
              "      <td>No log</td>\n",
              "      <td>1.039958</td>\n",
              "    </tr>\n",
              "    <tr>\n",
              "      <td>2</td>\n",
              "      <td>No log</td>\n",
              "      <td>0.857216</td>\n",
              "    </tr>\n",
              "    <tr>\n",
              "      <td>3</td>\n",
              "      <td>No log</td>\n",
              "      <td>0.744847</td>\n",
              "    </tr>\n",
              "    <tr>\n",
              "      <td>4</td>\n",
              "      <td>No log</td>\n",
              "      <td>0.677684</td>\n",
              "    </tr>\n",
              "    <tr>\n",
              "      <td>5</td>\n",
              "      <td>No log</td>\n",
              "      <td>0.629539</td>\n",
              "    </tr>\n",
              "    <tr>\n",
              "      <td>6</td>\n",
              "      <td>No log</td>\n",
              "      <td>0.589340</td>\n",
              "    </tr>\n",
              "    <tr>\n",
              "      <td>7</td>\n",
              "      <td>No log</td>\n",
              "      <td>0.555751</td>\n",
              "    </tr>\n",
              "    <tr>\n",
              "      <td>8</td>\n",
              "      <td>No log</td>\n",
              "      <td>0.528908</td>\n",
              "    </tr>\n",
              "    <tr>\n",
              "      <td>9</td>\n",
              "      <td>No log</td>\n",
              "      <td>0.507255</td>\n",
              "    </tr>\n",
              "    <tr>\n",
              "      <td>10</td>\n",
              "      <td>0.773100</td>\n",
              "      <td>0.493989</td>\n",
              "    </tr>\n",
              "    <tr>\n",
              "      <td>11</td>\n",
              "      <td>0.773100</td>\n",
              "      <td>0.475603</td>\n",
              "    </tr>\n",
              "    <tr>\n",
              "      <td>12</td>\n",
              "      <td>0.773100</td>\n",
              "      <td>0.459537</td>\n",
              "    </tr>\n",
              "    <tr>\n",
              "      <td>13</td>\n",
              "      <td>0.773100</td>\n",
              "      <td>0.441820</td>\n",
              "    </tr>\n",
              "    <tr>\n",
              "      <td>14</td>\n",
              "      <td>0.773100</td>\n",
              "      <td>0.427061</td>\n",
              "    </tr>\n",
              "    <tr>\n",
              "      <td>15</td>\n",
              "      <td>0.773100</td>\n",
              "      <td>0.414451</td>\n",
              "    </tr>\n",
              "    <tr>\n",
              "      <td>16</td>\n",
              "      <td>0.773100</td>\n",
              "      <td>0.401314</td>\n",
              "    </tr>\n",
              "    <tr>\n",
              "      <td>17</td>\n",
              "      <td>0.773100</td>\n",
              "      <td>0.392117</td>\n",
              "    </tr>\n",
              "    <tr>\n",
              "      <td>18</td>\n",
              "      <td>0.773100</td>\n",
              "      <td>0.380734</td>\n",
              "    </tr>\n",
              "    <tr>\n",
              "      <td>19</td>\n",
              "      <td>0.486900</td>\n",
              "      <td>0.374113</td>\n",
              "    </tr>\n",
              "    <tr>\n",
              "      <td>20</td>\n",
              "      <td>0.486900</td>\n",
              "      <td>0.362729</td>\n",
              "    </tr>\n",
              "    <tr>\n",
              "      <td>21</td>\n",
              "      <td>0.486900</td>\n",
              "      <td>0.357768</td>\n",
              "    </tr>\n",
              "    <tr>\n",
              "      <td>22</td>\n",
              "      <td>0.486900</td>\n",
              "      <td>0.348122</td>\n",
              "    </tr>\n",
              "    <tr>\n",
              "      <td>23</td>\n",
              "      <td>0.486900</td>\n",
              "      <td>0.339964</td>\n",
              "    </tr>\n",
              "    <tr>\n",
              "      <td>24</td>\n",
              "      <td>0.486900</td>\n",
              "      <td>0.335221</td>\n",
              "    </tr>\n",
              "    <tr>\n",
              "      <td>25</td>\n",
              "      <td>0.486900</td>\n",
              "      <td>0.329832</td>\n",
              "    </tr>\n",
              "    <tr>\n",
              "      <td>26</td>\n",
              "      <td>0.486900</td>\n",
              "      <td>0.323505</td>\n",
              "    </tr>\n",
              "    <tr>\n",
              "      <td>27</td>\n",
              "      <td>0.486900</td>\n",
              "      <td>0.318464</td>\n",
              "    </tr>\n",
              "    <tr>\n",
              "      <td>28</td>\n",
              "      <td>0.401400</td>\n",
              "      <td>0.314694</td>\n",
              "    </tr>\n",
              "    <tr>\n",
              "      <td>29</td>\n",
              "      <td>0.401400</td>\n",
              "      <td>0.309404</td>\n",
              "    </tr>\n",
              "    <tr>\n",
              "      <td>30</td>\n",
              "      <td>0.401400</td>\n",
              "      <td>0.306287</td>\n",
              "    </tr>\n",
              "    <tr>\n",
              "      <td>31</td>\n",
              "      <td>0.401400</td>\n",
              "      <td>0.304996</td>\n",
              "    </tr>\n",
              "    <tr>\n",
              "      <td>32</td>\n",
              "      <td>0.401400</td>\n",
              "      <td>0.301949</td>\n",
              "    </tr>\n",
              "    <tr>\n",
              "      <td>33</td>\n",
              "      <td>0.401400</td>\n",
              "      <td>0.301222</td>\n",
              "    </tr>\n",
              "    <tr>\n",
              "      <td>34</td>\n",
              "      <td>0.401400</td>\n",
              "      <td>0.298629</td>\n",
              "    </tr>\n",
              "    <tr>\n",
              "      <td>35</td>\n",
              "      <td>0.401400</td>\n",
              "      <td>0.294760</td>\n",
              "    </tr>\n",
              "    <tr>\n",
              "      <td>36</td>\n",
              "      <td>0.401400</td>\n",
              "      <td>0.294808</td>\n",
              "    </tr>\n",
              "    <tr>\n",
              "      <td>37</td>\n",
              "      <td>0.360500</td>\n",
              "      <td>0.292959</td>\n",
              "    </tr>\n",
              "    <tr>\n",
              "      <td>38</td>\n",
              "      <td>0.360500</td>\n",
              "      <td>0.291952</td>\n",
              "    </tr>\n",
              "    <tr>\n",
              "      <td>39</td>\n",
              "      <td>0.360500</td>\n",
              "      <td>0.291494</td>\n",
              "    </tr>\n",
              "    <tr>\n",
              "      <td>40</td>\n",
              "      <td>0.360500</td>\n",
              "      <td>0.291294</td>\n",
              "    </tr>\n",
              "  </tbody>\n",
              "</table><p>"
            ]
          },
          "metadata": {}
        },
        {
          "output_type": "execute_result",
          "data": {
            "text/plain": [
              "TrainOutput(global_step=2200, training_loss=0.49172000191428444, metrics={'train_runtime': 298.9445, 'train_samples_per_second': 116.811, 'train_steps_per_second': 7.359, 'total_flos': 194165613156216.0, 'train_loss': 0.49172000191428444, 'epoch': 40.0})"
            ]
          },
          "metadata": {},
          "execution_count": 162
        }
      ]
    },
    {
      "cell_type": "markdown",
      "source": [
        "#NER inference"
      ],
      "metadata": {
        "id": "aBWR9rZ-JTt9"
      }
    },
    {
      "cell_type": "code",
      "source": [
        "#Пайплайн для инференса модели\n",
        "from transformers import pipeline\n",
        "pipe = pipeline(\"ner\", model=model, tokenizer=tokenizer, aggregation_strategy=\"simple\", device=0)"
      ],
      "metadata": {
        "id": "BBXlmRNgOmrV"
      },
      "execution_count": null,
      "outputs": []
    },
    {
      "cell_type": "code",
      "source": [
        "#Преобразование инференса в удобочитаемый формат\n",
        "def convert_result(result):\n",
        "  requirements = \"\"\n",
        "  terms = \"\"\n",
        "  notes = \"\"\n",
        "  for span in result:\n",
        "    label = span[\"entity_group\"]\n",
        "    word = span[\"word\"]\n",
        "    if label == \"requirements\":\n",
        "      requirements += word + \" \"\n",
        "    elif label == \"terms\":\n",
        "      terms += word + \" \"\n",
        "    elif label == \"notes\":\n",
        "      notes += word + \" \"\n",
        "  return requirements, terms, notes"
      ],
      "metadata": {
        "id": "ckTXTDZPS86r"
      },
      "execution_count": null,
      "outputs": []
    },
    {
      "cell_type": "code",
      "source": [
        "#Пример входных данных\n",
        "input_index = 4\n",
        "input = data_v1.iloc[input_index][\"Clear responsibilities\"]\n",
        "input"
      ],
      "metadata": {
        "colab": {
          "base_uri": "https://localhost:8080/",
          "height": 87
        },
        "id": "vT2jOeVCRyRo",
        "outputId": "95de52ec-97d2-4a5e-aff8-ae5eca0e3629"
      },
      "execution_count": null,
      "outputs": [
        {
          "output_type": "execute_result",
          "data": {
            "text/plain": [
              "'Вахта в город Москва.  Обязанности: - армирование каркаса;  Требования: - опыт в строительстве приветствуется; - работа в бригаде;  Условия: - продолжительность вахты 60/30 продление вахты возможно; - Официальное трудоустройство; - ЗП в срок и без задержек; - Авансирование дважды в месяц по 15 000 рублей, 15 и 30 числа; - Питание трехразовое за счет организации; - Выдача спецодежды и Сизов без вычета из заработной платы; - Организованные отправки до объекта покупка билетов; - Помощь в прохождение медицинского осмотра; - Возможность получить квалификационные удостоверения; - Карьерный рост до бригадира/мастера;'"
            ],
            "application/vnd.google.colaboratory.intrinsic+json": {
              "type": "string"
            }
          },
          "metadata": {},
          "execution_count": 173
        }
      ]
    },
    {
      "cell_type": "code",
      "source": [
        "#Пример выходных данных\n",
        "result = pipe(input)\n",
        "convert_result(result)"
      ],
      "metadata": {
        "colab": {
          "base_uri": "https://localhost:8080/"
        },
        "id": "I7hct5J7Uy5N",
        "outputId": "e05966a4-6e57-4ff0-a628-ac585b4fa242"
      },
      "execution_count": null,
      "outputs": [
        {
          "output_type": "execute_result",
          "data": {
            "text/plain": [
              "('опыт в строительстве приветствуется ; - работа в бригаде ',\n",
              " 'продолжительность вахты 60 / 30 продление вахты возможно ; - Официальное трудоустройство ; - ЗП в срок и без задержек ; - Авансирование дважды в месяц по 15 000 рублей, 15 и 30 числа ; - Питание трехразовое за счет организации ; - Выдача спецодежды и Сизов без вычета из заработной платы ; - Организованные отправки до объекта покупка билетов ; - Помощь в прохождение медицинского осмотра ; - Возможность получить квалификационные удостоверения ; - Карьерный рост до бригадира / мастера ; ',\n",
              " '')"
            ]
          },
          "metadata": {},
          "execution_count": 174
        }
      ]
    },
    {
      "cell_type": "code",
      "source": [
        "model.save_pretrained(\"/content/ner_model\")"
      ],
      "metadata": {
        "id": "9BnbLjKUWgFh"
      },
      "execution_count": null,
      "outputs": []
    },
    {
      "cell_type": "code",
      "source": [
        "tokenizer.save_pretrained(\"/content/ner_model\")"
      ],
      "metadata": {
        "colab": {
          "base_uri": "https://localhost:8080/"
        },
        "id": "4HJe7TsBcE1T",
        "outputId": "624aa297-4bd9-400c-acac-4b29af5d9ac1"
      },
      "execution_count": null,
      "outputs": [
        {
          "output_type": "execute_result",
          "data": {
            "text/plain": [
              "('/content/ner_model/tokenizer_config.json',\n",
              " '/content/ner_model/special_tokens_map.json',\n",
              " '/content/ner_model/vocab.txt',\n",
              " '/content/ner_model/added_tokens.json',\n",
              " '/content/ner_model/tokenizer.json')"
            ]
          },
          "metadata": {},
          "execution_count": 177
        }
      ]
    },
    {
      "cell_type": "code",
      "source": [
        "loaded = AutoModelForTokenClassification.from_pretrained(\"/content/ner_model\").eval().to(device)"
      ],
      "metadata": {
        "collapsed": true,
        "id": "qSZr9VYDWoS3"
      },
      "execution_count": null,
      "outputs": []
    },
    {
      "cell_type": "code",
      "source": [
        "loaded_pipe = pipeline(\"ner\", model=loaded, tokenizer=tokenizer, aggregation_strategy=\"simple\", device=0)"
      ],
      "metadata": {
        "id": "TKbT-kdYXpwI"
      },
      "execution_count": null,
      "outputs": []
    },
    {
      "cell_type": "code",
      "source": [
        "loaded_result = pipe(input)\n",
        "convert_result(loaded_result)"
      ],
      "metadata": {
        "colab": {
          "base_uri": "https://localhost:8080/"
        },
        "id": "KJLjC77NX9mZ",
        "outputId": "29e88026-939f-48de-f059-765d912024a3"
      },
      "execution_count": null,
      "outputs": [
        {
          "output_type": "execute_result",
          "data": {
            "text/plain": [
              "('Желание работать и зарабатывать Рассматриваем без опыта работы! всему необходимому научим Обязанности : Бригадная работа под руководством мастера. Монтажные, бетонно - арматурные работы, подсобные виды работ. ',\n",
              " 'Компенсация затрат на проезд. Проживание бесплатно в квартирах за счет организации, по 2 человека в комнате, в шаговой доступности от производства. Медосмотр на объекте бесплатно! Своевременная и стабильная заработная плата, без задержек ; выплаты строго 2 раза в месяц ; на карту. Фиксированная ставка без скрытых вычетов. Карьерный рост Официальное трудоустройство по ТК РФ. Трудоустройство официальное с первого дня. Питание за счет работодателя Предоставляется спецодежда. БЕЗ вычетов с з / п График вахты выбираете сами 30 / 30, 60 / 30 ',\n",
              " 'Пока идет строчный набор действует акция ; ПРИВЕДИ ДРУГА ;, премия 4000 руб. Можете сообщить знакомым и друзьям, о наборе специалистов в нашу компанию! Присоединяйтесь к дружному коллективу со стабильной заработной плато , мы быстро растущая компания которой нужны специалисты на постоянное сотрудничество! ')"
            ]
          },
          "metadata": {},
          "execution_count": 172
        }
      ]
    },
    {
      "cell_type": "code",
      "source": [
        "#Полный пайплайн обработки вакансии\n",
        "MODEL_PATH = \"/content/model\"\n",
        "INPUT = \"Требуются разнорабочие на стройку. Опыт работы не обязателен\"\n",
        "import torch\n",
        "from transformers import pipeline\n",
        "from transformers import AutoTokenizer, AutoModelForTokenClassification\n",
        "def convert_result(result):\n",
        "  requirements = \"\"\n",
        "  terms = \"\"\n",
        "  notes = \"\"\n",
        "  for span in result:\n",
        "    label = span[\"entity_group\"]\n",
        "    word = span[\"word\"]\n",
        "    if label == \"requirements\":\n",
        "      requirements += word + \" \"\n",
        "    elif label == \"terms\":\n",
        "      terms += word + \" \"\n",
        "    elif label == \"notes\":\n",
        "      notes += word + \" \"\n",
        "  return requirements, terms, notes\n",
        "device = torch.device(\"cuda\" if torch.cuda.is_available() else \"cpu\")\n",
        "tokenizer = AutoTokenizer.from_pretrained(MODEL_PATH)\n",
        "model = AutoModelForTokenClassification.from_pretrained(MODEL_PATH).eval().to(device)\n",
        "pipe = pipeline(\"ner\", model=model, tokenizer=tokenizer, aggregation_strategy=\"simple\", device=device)\n",
        "raw_result = pipe(INPUT)\n",
        "result = convert_result(raw_result)"
      ],
      "metadata": {
        "id": "qfCr8-eyZRz7"
      },
      "execution_count": 6,
      "outputs": []
    },
    {
      "cell_type": "code",
      "source": [
        "data = pd.read_excel(\"/content/Датасет_old.xlsx\")"
      ],
      "metadata": {
        "id": "-qYznlWm_s-0"
      },
      "execution_count": 20,
      "outputs": []
    },
    {
      "cell_type": "code",
      "source": [
        "data[\"requirements(Требования к соискателю)\"] = data.apply(lambda x: convert_result(pipe(x[\"responsibilities(Должностные обязанности)\"]))[0], axis=1)"
      ],
      "metadata": {
        "id": "KgpSxK8LAAdF"
      },
      "execution_count": 21,
      "outputs": []
    },
    {
      "cell_type": "code",
      "source": [
        "data[\"terms(Условия)\"] = data.apply(lambda x: convert_result(pipe(x[\"responsibilities(Должностные обязанности)\"]))[1], axis=1)"
      ],
      "metadata": {
        "id": "nFmTFutlBDS1"
      },
      "execution_count": 22,
      "outputs": []
    },
    {
      "cell_type": "code",
      "source": [
        "data[\"notes(Примечания)\"] = data.apply(lambda x: convert_result(pipe(x[\"responsibilities(Должностные обязанности)\"]))[2], axis=1)"
      ],
      "metadata": {
        "id": "1f1jmxucCJLb"
      },
      "execution_count": 23,
      "outputs": []
    },
    {
      "cell_type": "code",
      "source": [
        "data.to_excel(\"output.xlsx\")"
      ],
      "metadata": {
        "id": "vk0oUZeN_38n"
      },
      "execution_count": 25,
      "outputs": []
    },
    {
      "cell_type": "code",
      "source": [
        "result"
      ],
      "metadata": {
        "colab": {
          "base_uri": "https://localhost:8080/"
        },
        "id": "VqJA8Lx0cQya",
        "outputId": "50146945-b490-4142-b48d-41cd01fe8a5f"
      },
      "execution_count": 7,
      "outputs": [
        {
          "output_type": "execute_result",
          "data": {
            "text/plain": [
              "('Требуются разнорабочие на стройку. Опыт работы не обязателен ', '', '')"
            ]
          },
          "metadata": {},
          "execution_count": 7
        }
      ]
    },
    {
      "cell_type": "markdown",
      "source": [
        "#QANER functions"
      ],
      "metadata": {
        "id": "1tefv6bRJWjA"
      }
    },
    {
      "cell_type": "code",
      "source": [
        "from collections import namedtuple\n",
        "from typing import List, Tuple\n",
        "from tqdm import tqdm, trange\n",
        "Span = namedtuple(\n",
        "    \"Span\", [\"token\", \"label\", \"start_context_char_pos\", \"end_context_char_pos\"]\n",
        ")\n",
        "Instance = namedtuple(\"Instance\", [\"context\", \"question\", \"answer\"])\n"
      ],
      "metadata": {
        "id": "FXFGp7duTNJv"
      },
      "execution_count": null,
      "outputs": []
    },
    {
      "cell_type": "code",
      "source": [
        "import random\n",
        "\n",
        "import numpy as np\n",
        "import torch\n",
        "\n",
        "\n",
        "def set_global_seed(seed: int):\n",
        "    \"\"\"\n",
        "    Set global seed for reproducibility.\n",
        "\n",
        "    Args:\n",
        "        seed (int): Seed.\n",
        "    \"\"\"\n",
        "\n",
        "    random.seed(seed)\n",
        "    np.random.seed(seed)\n",
        "    torch.manual_seed(seed)\n",
        "    torch.cuda.manual_seed_all(seed)\n",
        "    torch.backends.cudnn.benchmark = False\n",
        "    torch.backends.cudnn.deterministic = True"
      ],
      "metadata": {
        "id": "I592qSdza1xv"
      },
      "execution_count": null,
      "outputs": []
    },
    {
      "cell_type": "code",
      "source": [
        "from typing import Dict, List\n",
        "def get_top_valid_spans(\n",
        "    context_list: List[str],\n",
        "    question_list: List[str],\n",
        "    prompt_mapper: Dict[str, str],\n",
        "    inputs: transformers.tokenization_utils_base.BatchEncoding,\n",
        "    outputs: transformers.tokenization_utils_base.BatchEncoding,\n",
        "    offset_mapping_batch: torch.Tensor,\n",
        "    n_best_size: int = 1,\n",
        "    max_answer_length: int = 100,\n",
        ") -> List[List[Span]]:\n",
        "    \"\"\"\n",
        "    Inference function to get top valid spans.\n",
        "    https://huggingface.co/docs/transformers/tasks/question_answering\n",
        "\n",
        "    Args:\n",
        "        context_list (List[str]): context strings in  batch.\n",
        "        question_list (List[str]): question strings in batch.\n",
        "        prompt_mapper (Dict[str, str]): prompt mapper.\n",
        "        inputs (transformers.tokenization_utils_base.BatchEncoding): inputs.\n",
        "        outputs (transformers.tokenization_utils_base.BatchEncoding): outputs.\n",
        "        offset_mapping_batch (torch.Tensor): offset mapping.\n",
        "        n_best_size (int): number of best spans. Defaults to 1.\n",
        "        max_answer_length (int): max answer length. Defaults to 100.\n",
        "\n",
        "    Returns:\n",
        "        List[List[Span]]: top valid spans for each isntance in batch.\n",
        "    \"\"\"\n",
        "\n",
        "    batch_size = len(offset_mapping_batch)\n",
        "\n",
        "    inv_prompt_mapper = {v: k for k, v in prompt_mapper.items()}\n",
        "\n",
        "    assert batch_size == len(context_list)\n",
        "    assert batch_size == len(question_list)\n",
        "    assert batch_size == len(inputs[\"input_ids\"])\n",
        "    assert batch_size == len(inputs[\"token_type_ids\"])\n",
        "    assert batch_size == len(outputs[\"start_logits\"])\n",
        "    assert batch_size == len(outputs[\"end_logits\"])\n",
        "\n",
        "    top_valid_spans_batch = []\n",
        "\n",
        "    # TODO: optimize it\n",
        "    for i in range(batch_size):\n",
        "        context = context_list[i]\n",
        "\n",
        "        offset_mapping = offset_mapping_batch[i].cpu().numpy()\n",
        "        mask = inputs[\"token_type_ids\"][i].bool().cpu().numpy()\n",
        "        offset_mapping[~mask] = [0, 0]\n",
        "        offset_mapping = [\n",
        "            (span if span != [0, 0] else None) for span in offset_mapping.tolist()\n",
        "        ]\n",
        "\n",
        "        start_logits = outputs[\"start_logits\"][i].cpu().numpy()\n",
        "        end_logits = outputs[\"end_logits\"][i].cpu().numpy()\n",
        "\n",
        "        start_indexes = np.argsort(start_logits)[-1 : -n_best_size - 1 : -1].tolist()\n",
        "        end_indexes = np.argsort(end_logits)[-1 : -n_best_size - 1 : -1].tolist()\n",
        "        top_valid_spans = []\n",
        "\n",
        "        # TODO: validate loop\n",
        "        for start_index, end_index in zip(start_indexes, end_indexes):\n",
        "            if (\n",
        "                start_index >= len(offset_mapping)\n",
        "                or end_index >= len(offset_mapping)\n",
        "                or offset_mapping[start_index] is None\n",
        "                or offset_mapping[end_index] is None\n",
        "            ):\n",
        "                continue\n",
        "            if (end_index < start_index) or (\n",
        "                end_index - start_index + 1 > max_answer_length\n",
        "            ):\n",
        "                continue\n",
        "            if start_index <= end_index:\n",
        "                start_context_char_char, end_context_char_char = offset_mapping[\n",
        "                    start_index\n",
        "                ]\n",
        "                span = Span(\n",
        "                    token=context[start_context_char_char:end_context_char_char],\n",
        "                    label=inv_prompt_mapper[  # TODO: add inference exception\n",
        "                        question_list[i].split(r\"Какие \")[-1].rstrip(r\"?\")\n",
        "                    ],\n",
        "                    start_context_char_pos=start_context_char_char,\n",
        "                    end_context_char_pos=end_context_char_char,\n",
        "                )\n",
        "                top_valid_spans.append(span)\n",
        "        top_valid_spans_batch.append(top_valid_spans)\n",
        "    return top_valid_spans_batch"
      ],
      "metadata": {
        "id": "pqd3vrn_bQX2"
      },
      "execution_count": null,
      "outputs": []
    },
    {
      "cell_type": "code",
      "source": [
        "def prepare_sentences_and_spans(\n",
        "    marked_data,\n",
        ") -> Tuple[List[str], List[List[Span]]]:\n",
        "    \"\"\"\n",
        "    Prepare sentences and label spans.\n",
        "\n",
        "    Args:\n",
        "        token_seq (List[List[str]]): Tokens lists.\n",
        "        label_seq (List[List[str]]): Labels lists.\n",
        "\n",
        "    Raises:\n",
        "        Exception: Validate BIO-markup.\n",
        "\n",
        "    Returns:\n",
        "        Tuple[List[str], List[List[Span]]]: Sentences and label spans.\n",
        "    \"\"\"\n",
        "    token_seq = []\n",
        "    label_seq = []\n",
        "    for instance in marked_data:\n",
        "      t_seq = []\n",
        "      l_seq = []\n",
        "      for element in instance:\n",
        "        t_seq.append(element[0])\n",
        "        l_seq.append(element[1])\n",
        "      token_seq.append(t_seq)\n",
        "      label_seq.append(l_seq)\n",
        "    qa_sentences, qa_labels = [], []\n",
        "\n",
        "    for i in trange(len(token_seq)):\n",
        "        current_char_pos = 0\n",
        "        qa_sent, qa_lab = [], []\n",
        "        for token, label in zip(token_seq[i], label_seq[i]):\n",
        "            qa_sent.append(token)\n",
        "            if label != \"O\":\n",
        "                span = Span(\n",
        "                    token=token,\n",
        "                    label=label,\n",
        "                    start_context_char_pos=current_char_pos,\n",
        "                    end_context_char_pos=current_char_pos + len(token),\n",
        "                )\n",
        "                qa_lab.append(span)\n",
        "            current_char_pos += len(token) + 1\n",
        "        qa_sentences.append(\" \".join(qa_sent))\n",
        "        qa_labels.append(qa_lab)\n",
        "\n",
        "    qa_labels_v2 = []\n",
        "    for qa_lab in qa_labels:\n",
        "        qa_lab_v2 = []\n",
        "        for span in qa_lab:\n",
        "            if span.label.startswith(\"B-\"):\n",
        "                span_v2 = Span(\n",
        "                    token=span.token,\n",
        "                    label=span.label.split(\"-\")[-1],\n",
        "                    start_context_char_pos=span.start_context_char_pos,\n",
        "                    end_context_char_pos=span.end_context_char_pos,\n",
        "                )\n",
        "                qa_lab_v2.append(span_v2)\n",
        "            elif span.label.startswith(\"I-\"):\n",
        "                # TODO: remove duplicates and optimize\n",
        "                span_v2 = Span(  # TODO: maybe use Span as dataclass\n",
        "                    token=f\"{span_v2.token} {span.token}\",\n",
        "                    label=span_v2.label,\n",
        "                    start_context_char_pos=span_v2.start_context_char_pos,\n",
        "                    end_context_char_pos=span.end_context_char_pos,\n",
        "                )\n",
        "                qa_lab_v2[-1] = span_v2\n",
        "            else:\n",
        "                raise ValueError(f\"Unknown label: {span.label}\")\n",
        "        qa_labels_v2.append(qa_lab_v2)\n",
        "\n",
        "    return qa_sentences, qa_labels_v2"
      ],
      "metadata": {
        "id": "7_IbnQ6bTDA3"
      },
      "execution_count": null,
      "outputs": []
    },
    {
      "cell_type": "code",
      "source": [
        "def compute_metrics(\n",
        "    spans_true_batch: List[Span],\n",
        "    spans_pred_batch_top_1: List[List[Span]],\n",
        "    prompt_mapper: Dict[str, str],\n",
        ") -> Dict[str, float]:\n",
        "    \"\"\"\n",
        "    Compute NER metrics.\n",
        "\n",
        "    Args:\n",
        "        spans_true_batch (List[Span]): targets.\n",
        "        spans_pred_batch_top_1 (np.ndarray): predictions.\n",
        "        prompt_mapper (Dict[str, str]): prompt mapper.\n",
        "\n",
        "    Returns:\n",
        "        Dict[str, float]: metrics.\n",
        "    \"\"\"\n",
        "\n",
        "    metrics = {}\n",
        "\n",
        "    entity_mapper = {\"O\": 0}\n",
        "    for entity_tag in prompt_mapper:\n",
        "        entity_mapper[entity_tag] = len(entity_mapper)\n",
        "\n",
        "    ner_confusion_matrix = np.zeros((len(entity_mapper), len(entity_mapper)))\n",
        "    confusion_matrix_true_denominator = np.zeros(len(entity_mapper))\n",
        "    confusion_matrix_pred_denominator = np.zeros(len(entity_mapper))\n",
        "\n",
        "    for span_true, span_pred in zip(spans_true_batch, spans_pred_batch_top_1):\n",
        "        span_pred = span_pred[0]  # type: ignore\n",
        "\n",
        "        i = entity_mapper[span_true.label]\n",
        "        j = entity_mapper[span_pred.label]  # type: ignore\n",
        "\n",
        "        confusion_matrix_true_denominator[i] += 1\n",
        "        confusion_matrix_pred_denominator[j] += 1\n",
        "\n",
        "        if span_true == span_pred:\n",
        "            ner_confusion_matrix[i, j] += 1\n",
        "\n",
        "    assert (\n",
        "        confusion_matrix_true_denominator.sum()\n",
        "        == confusion_matrix_pred_denominator.sum()\n",
        "    )\n",
        "\n",
        "    ner_confusion_matrix_diag = np.diag(ner_confusion_matrix)\n",
        "\n",
        "    # TODO: hide RuntimeWarning\n",
        "    accuracy = np.nan_to_num(\n",
        "        ner_confusion_matrix_diag.sum() / confusion_matrix_true_denominator.sum()\n",
        "    )\n",
        "    precision_per_entity_type = np.nan_to_num(\n",
        "        ner_confusion_matrix_diag / confusion_matrix_pred_denominator\n",
        "    )\n",
        "    recall_per_entity_type = np.nan_to_num(\n",
        "        ner_confusion_matrix_diag / confusion_matrix_true_denominator\n",
        "    )\n",
        "    f1_per_entity_type = np.nan_to_num(\n",
        "        2\n",
        "        * precision_per_entity_type\n",
        "        * recall_per_entity_type\n",
        "        / (precision_per_entity_type + recall_per_entity_type)\n",
        "    )\n",
        "\n",
        "    metrics[\"accuracy\"] = accuracy\n",
        "\n",
        "    for label_tag, idx in entity_mapper.items():\n",
        "        metrics[f\"precision_tag_{label_tag}\"] = precision_per_entity_type[idx]\n",
        "        metrics[f\"recall_tag_{label_tag}\"] = recall_per_entity_type[idx]\n",
        "        metrics[f\"f1_tag_{label_tag}\"] = f1_per_entity_type[idx]\n",
        "\n",
        "    # TODO: add micro average\n",
        "\n",
        "    # macro average\n",
        "    metrics[\"precision_macro\"] = precision_per_entity_type.mean()\n",
        "    metrics[\"recall_macro\"] = recall_per_entity_type.mean()\n",
        "    metrics[\"f1_macro\"] = f1_per_entity_type.mean()\n",
        "\n",
        "    # weighted average\n",
        "    metrics[\"precision_weighted\"] = np.average(\n",
        "        precision_per_entity_type,\n",
        "        weights=confusion_matrix_true_denominator,\n",
        "    )\n",
        "    metrics[\"recall_weighted\"] = np.average(\n",
        "        recall_per_entity_type,\n",
        "        weights=confusion_matrix_true_denominator,\n",
        "    )\n",
        "    metrics[\"f1_weighted\"] = np.average(\n",
        "        f1_per_entity_type,\n",
        "        weights=confusion_matrix_true_denominator,\n",
        "    )\n",
        "\n",
        "    return metrics"
      ],
      "metadata": {
        "id": "bYI_j_jTbgQZ"
      },
      "execution_count": null,
      "outputs": []
    },
    {
      "cell_type": "code",
      "source": [
        "from collections import defaultdict\n",
        "\n",
        "import numpy as np\n",
        "import torch\n",
        "from torch.utils.tensorboard import SummaryWriter\n",
        "from tqdm import tqdm\n",
        "from transformers import AutoModelForQuestionAnswering\n",
        "\n",
        "\n",
        "# TODO: add metrics calculation\n",
        "def train(\n",
        "    n_epochs: int,\n",
        "    model: AutoModelForQuestionAnswering,\n",
        "    train_dataloader: torch.utils.data.DataLoader,\n",
        "    test_dataloader: torch.utils.data.DataLoader,\n",
        "    optimizer: torch.optim.Optimizer,\n",
        "    writer: SummaryWriter,\n",
        "    device: torch.device,\n",
        ") -> None:\n",
        "    \"\"\"\n",
        "    Training loop.\n",
        "\n",
        "    Args:\n",
        "        n_epochs (int): number of epochs to train.\n",
        "        model (AutoModelForQuestionAnswering): model.\n",
        "        train_dataloader (torch.utils.data.DataLoader): train_dataloader.\n",
        "        test_dataloader (torch.utils.data.DataLoader): test_dataloader.\n",
        "        optimizer (torch.optim.Optimizer): optimizer.\n",
        "        writer (SummaryWriter): tensorboard writer.\n",
        "        device (torch.device): cpu or cuda.\n",
        "    \"\"\"\n",
        "\n",
        "    for epoch in range(n_epochs):\n",
        "\n",
        "        print(f\"Epoch [{epoch+1} / {n_epochs}]\\n\")\n",
        "\n",
        "        train_epoch(\n",
        "            model=model,\n",
        "            dataloader=train_dataloader,\n",
        "            optimizer=optimizer,\n",
        "            writer=writer,\n",
        "            device=device,\n",
        "            epoch=epoch,\n",
        "        )\n",
        "        evaluate_epoch(\n",
        "            model=model,\n",
        "            dataloader=test_dataloader,\n",
        "            writer=writer,\n",
        "            device=device,\n",
        "            epoch=epoch,\n",
        "        )\n",
        "\n",
        "\n",
        "def train_epoch(\n",
        "    model: AutoModelForQuestionAnswering,\n",
        "    dataloader: torch.utils.data.DataLoader,\n",
        "    optimizer: torch.optim.Optimizer,\n",
        "    writer: SummaryWriter,\n",
        "    device: torch.device,\n",
        "    epoch: int,\n",
        ") -> None:\n",
        "    \"\"\"\n",
        "    One training cycle (loop).\n",
        "\n",
        "    Args:\n",
        "        model (AutoModelForQuestionAnswering): QA model.\n",
        "        dataloader (torch.utils.data.DataLoader): dataloader.\n",
        "        optimizer (torch.optim.Optimizer): optimizer.\n",
        "        writer (SummaryWriter): tensorboard writer.\n",
        "        device (torch.device): cpu or cuda.\n",
        "        epoch (int): number of current epochs.\n",
        "    \"\"\"\n",
        "\n",
        "    model.train()\n",
        "\n",
        "    epoch_loss = []\n",
        "    batch_metrics_list = defaultdict(list)\n",
        "\n",
        "    for i, inputs in tqdm(\n",
        "        enumerate(dataloader),\n",
        "        total=len(dataloader),\n",
        "        desc=\"loop over train batches\",\n",
        "    ):\n",
        "        optimizer.zero_grad()\n",
        "\n",
        "        instances_batch = inputs.pop(\"instances\")\n",
        "\n",
        "        context_list, question_list = [], []\n",
        "        for instance in instances_batch:\n",
        "            context_list.append(instance.context)\n",
        "            question_list.append(instance.question)\n",
        "\n",
        "        inputs = inputs.to(device)\n",
        "        offset_mapping_batch = inputs.pop(\"offset_mapping\")\n",
        "\n",
        "        outputs = model(**inputs)\n",
        "        loss = outputs.loss\n",
        "        loss.backward()\n",
        "        optimizer.step()\n",
        "\n",
        "        epoch_loss.append(loss.item())\n",
        "        writer.add_scalar(\n",
        "            \"batch loss / train\", loss.item(), epoch * len(dataloader) + i\n",
        "        )\n",
        "\n",
        "        with torch.no_grad():\n",
        "            model.eval()\n",
        "            outputs_inference = model(**inputs)\n",
        "            model.train()\n",
        "\n",
        "        spans_pred_batch_top_1 = get_top_valid_spans(\n",
        "            context_list=context_list,\n",
        "            question_list=question_list,\n",
        "            prompt_mapper=dataloader.dataset.prompt_mapper,\n",
        "            inputs=inputs,\n",
        "            outputs=outputs_inference,\n",
        "            offset_mapping_batch=offset_mapping_batch,\n",
        "            n_best_size=1,\n",
        "            max_answer_length=100,  # TODO: remove hardcode\n",
        "        )\n",
        "\n",
        "        # TODO: maybe move into get_top_valid_spans\n",
        "        for idx in range(len(spans_pred_batch_top_1)):\n",
        "            if not spans_pred_batch_top_1[idx]:\n",
        "                empty_span = Span(\n",
        "                    token=\"\",\n",
        "                    label=\"O\",  # TODO: maybe not \"O\" label\n",
        "                    start_context_char_pos=0,\n",
        "                    end_context_char_pos=0,\n",
        "                )\n",
        "                spans_pred_batch_top_1[idx] = [empty_span]\n",
        "\n",
        "        spans_true_batch = [instance.answer for instance in instances_batch]\n",
        "\n",
        "        batch_metrics = compute_metrics(\n",
        "            spans_true_batch=spans_true_batch,\n",
        "            spans_pred_batch_top_1=spans_pred_batch_top_1,\n",
        "            prompt_mapper=dataloader.dataset.prompt_mapper,\n",
        "        )\n",
        "\n",
        "        for metric_name, metric_value in batch_metrics.items():\n",
        "            batch_metrics_list[metric_name].append(metric_value)\n",
        "            writer.add_scalar(\n",
        "                f\"batch {metric_name} / train\",\n",
        "                metric_value,\n",
        "                epoch * len(dataloader) + i,\n",
        "            )\n",
        "\n",
        "    avg_loss = np.mean(epoch_loss)\n",
        "    print(f\"Train loss: {avg_loss}\\n\")\n",
        "    writer.add_scalar(\"loss / train\", avg_loss, epoch)\n",
        "\n",
        "    for metric_name, metric_value_list in batch_metrics_list.items():\n",
        "        metric_value = np.mean(metric_value_list)\n",
        "        print(f\"Train {metric_name}: {metric_value}\\n\")\n",
        "        writer.add_scalar(f\"{metric_name} / train\", metric_value, epoch)\n",
        "\n",
        "\n",
        "# TODO: remove train_epoch code duplicates\n",
        "def evaluate_epoch(\n",
        "    model: AutoModelForQuestionAnswering,\n",
        "    dataloader: torch.utils.data.DataLoader,\n",
        "    writer: SummaryWriter,\n",
        "    device: torch.device,\n",
        "    epoch: int,\n",
        ") -> None:\n",
        "    \"\"\"\n",
        "    One evaluation cycle (loop).\n",
        "\n",
        "    Args:\n",
        "        model (AutoModelForQuestionAnswering): model.\n",
        "        dataloader (torch.utils.data.DataLoader): dataloader.\n",
        "        writer (SummaryWriter): tensorboard writer.\n",
        "        device (torch.device): cpu or cuda.\n",
        "        epoch (int): number of current epochs.\n",
        "    \"\"\"\n",
        "\n",
        "    model.eval()\n",
        "\n",
        "    epoch_loss = []\n",
        "    batch_metrics_list = defaultdict(list)\n",
        "\n",
        "    with torch.no_grad():\n",
        "\n",
        "        for i, inputs in tqdm(\n",
        "            enumerate(dataloader),\n",
        "            total=len(dataloader),\n",
        "            desc=\"loop over test batches\",\n",
        "        ):\n",
        "\n",
        "            instances_batch = inputs.pop(\"instances\")\n",
        "\n",
        "            context_list, question_list = [], []\n",
        "            for instance in instances_batch:\n",
        "                context_list.append(instance.context)\n",
        "                question_list.append(instance.question)\n",
        "\n",
        "            inputs = inputs.to(device)\n",
        "            offset_mapping_batch = inputs.pop(\"offset_mapping\")\n",
        "\n",
        "            outputs = model(**inputs)\n",
        "            loss = outputs.loss\n",
        "\n",
        "            epoch_loss.append(loss.item())\n",
        "            writer.add_scalar(\n",
        "                \"batch loss / test\", loss.item(), epoch * len(dataloader) + i\n",
        "            )\n",
        "\n",
        "            spans_pred_batch_top_1 = get_top_valid_spans(\n",
        "                context_list=context_list,\n",
        "                question_list=question_list,\n",
        "                prompt_mapper=dataloader.dataset.prompt_mapper,\n",
        "                inputs=inputs,\n",
        "                outputs=outputs,\n",
        "                offset_mapping_batch=offset_mapping_batch,\n",
        "                n_best_size=1,  # TODO: remove hardcode\n",
        "                max_answer_length=100,  # TODO: remove hardcode\n",
        "            )\n",
        "\n",
        "            # TODO: maybe move into get_top_valid_spans\n",
        "            for idx in range(len(spans_pred_batch_top_1)):\n",
        "                if not spans_pred_batch_top_1[idx]:\n",
        "                    empty_span = Span(\n",
        "                        token=\"\",\n",
        "                        label=\"O\",  # TODO: maybe not \"O\" label\n",
        "                        start_context_char_pos=0,\n",
        "                        end_context_char_pos=0,\n",
        "                    )\n",
        "                    spans_pred_batch_top_1[idx] = [empty_span]\n",
        "\n",
        "            # TODO: change metrics calculation for inference time\n",
        "            spans_true_batch = [instance.answer for instance in instances_batch]\n",
        "\n",
        "            batch_metrics = compute_metrics(\n",
        "                spans_true_batch=spans_true_batch,\n",
        "                spans_pred_batch_top_1=spans_pred_batch_top_1,\n",
        "                prompt_mapper=dataloader.dataset.prompt_mapper,\n",
        "            )\n",
        "\n",
        "            for metric_name, metric_value in batch_metrics.items():\n",
        "                batch_metrics_list[metric_name].append(metric_value)\n",
        "                writer.add_scalar(\n",
        "                    f\"batch {metric_name} / test\",\n",
        "                    metric_value,\n",
        "                    epoch * len(dataloader) + i,\n",
        "                )\n",
        "\n",
        "        avg_loss = np.mean(epoch_loss)\n",
        "        print(f\"Test loss:  {avg_loss}\\n\")\n",
        "        writer.add_scalar(\"loss / test\", avg_loss, epoch)\n",
        "\n",
        "        for metric_name, metric_value_list in batch_metrics_list.items():\n",
        "            metric_value = np.mean(metric_value_list)\n",
        "            print(f\"Test {metric_name}: {metric_value}\\n\")\n",
        "            writer.add_scalar(f\"{metric_name} / test\", np.mean(metric_value), epoch)"
      ],
      "metadata": {
        "id": "GtdHcLNkaaXA"
      },
      "execution_count": null,
      "outputs": []
    },
    {
      "cell_type": "code",
      "source": [
        "from typing import Any, Dict, List, Tuple\n",
        "\n",
        "import torch\n",
        "\n",
        "# TODO: add documentation\n",
        "class Dataset(torch.utils.data.Dataset):\n",
        "    def __init__(\n",
        "        self,\n",
        "        qa_sentences: List[str],\n",
        "        qa_labels: List[List[Span]],\n",
        "        prompt_mapper: Dict[str, str],\n",
        "    ):\n",
        "        super().__init__()\n",
        "        self.prompt_mapper = prompt_mapper\n",
        "        self.dataset = self._prepare_dataset(\n",
        "            qa_sentences=qa_sentences,\n",
        "            qa_labels=qa_labels,\n",
        "        )\n",
        "\n",
        "    def __len__(self) -> int:\n",
        "        return len(self.dataset)\n",
        "\n",
        "    def __getitem__(self, idx: int) -> Instance:\n",
        "        return self.dataset[idx]\n",
        "\n",
        "    def _prepare_dataset(\n",
        "        self,\n",
        "        qa_sentences: List[str],\n",
        "        qa_labels: List[List[Span]],\n",
        "    ) -> List[Instance]:\n",
        "\n",
        "        dataset = []\n",
        "\n",
        "        for sentence, labels in tqdm(\n",
        "            zip(qa_sentences, qa_labels),\n",
        "            desc=\"prepare_dataset\",\n",
        "        ):\n",
        "            for label_tag, label_name in self.prompt_mapper.items():\n",
        "                question_prompt = f\"Какие {label_name}?\"\n",
        "\n",
        "                answer_list = []\n",
        "                for span in labels:\n",
        "                    if span.label == label_tag:\n",
        "                        answer_list.append(span)\n",
        "\n",
        "                if len(answer_list) == 0:\n",
        "                    empty_span = Span(\n",
        "                        token=\"\",\n",
        "                        label=\"O\",\n",
        "                        start_context_char_pos=0,\n",
        "                        end_context_char_pos=0,\n",
        "                    )\n",
        "                    instance = Instance(\n",
        "                        context=sentence,\n",
        "                        question=question_prompt,\n",
        "                        answer=empty_span,\n",
        "                    )\n",
        "                    dataset.append(instance)\n",
        "                else:\n",
        "                    for answer in answer_list:\n",
        "                        instance = Instance(\n",
        "                            context=sentence,\n",
        "                            question=question_prompt,\n",
        "                            answer=answer,\n",
        "                        )\n",
        "                        dataset.append(instance)\n",
        "\n",
        "        return dataset\n",
        "\n",
        "\n",
        "# TODO: add documentation\n",
        "class Collator:\n",
        "    def __init__(\n",
        "        self,\n",
        "        tokenizer: transformers.PreTrainedTokenizer,\n",
        "        tokenizer_kwargs: Dict[str, Any],\n",
        "    ):\n",
        "        self.tokenizer = tokenizer\n",
        "        self.tokenizer_kwargs = tokenizer_kwargs\n",
        "\n",
        "    def __call__(\n",
        "        self,\n",
        "        batch: List[Instance],\n",
        "    ) -> transformers.tokenization_utils_base.BatchEncoding:\n",
        "\n",
        "        context_list = []\n",
        "        question_list = []\n",
        "        start_end_context_char_pos_list = []\n",
        "\n",
        "        for instance in batch:\n",
        "            context_list.append(instance.context)\n",
        "            question_list.append(instance.question)\n",
        "            start_end_context_char_pos_list.append(\n",
        "                [\n",
        "                    instance.answer.start_context_char_pos,\n",
        "                    instance.answer.end_context_char_pos,\n",
        "                ]\n",
        "            )\n",
        "\n",
        "        tokenized_batch = self.tokenizer(\n",
        "            question_list, context_list, **self.tokenizer_kwargs\n",
        "        )\n",
        "        offset_mapping_batch = tokenized_batch[\"offset_mapping\"].numpy().tolist()\n",
        "        #print([len(tokenized_batch[\"input_ids\"][0]), len(context_list[0])])\n",
        "        #print(len(offset_mapping_batch[0]))\n",
        "        #print(start_end_context_char_pos_list)\n",
        "        assert len(offset_mapping_batch) == len(start_end_context_char_pos_list)\n",
        "\n",
        "        # convert char boudaries to token boudaries in batch\n",
        "        start_token_pos_list, end_token_pos_list = [], []\n",
        "        for offset_mapping, start_end_context_char_pos, sample in zip(\n",
        "            offset_mapping_batch, start_end_context_char_pos_list, batch\n",
        "        ):\n",
        "            # TODO: add comment\n",
        "            if start_end_context_char_pos == [0, 0]:\n",
        "                start_token_pos_list.append(0)\n",
        "                end_token_pos_list.append(0)\n",
        "            else:\n",
        "                (\n",
        "                    start_token_pos,\n",
        "                    end_token_pos,\n",
        "                ) = self.convert_char_boudaries_to_token_boudaries(\n",
        "                    offset_mapping=offset_mapping,\n",
        "                    start_end_context_char_pos=start_end_context_char_pos, sample=sample\n",
        "                )\n",
        "                #print([start_token_pos, end_token_pos])\n",
        "                start_token_pos_list.append(start_token_pos)\n",
        "                end_token_pos_list.append(end_token_pos)\n",
        "\n",
        "        tokenized_batch[\"start_positions\"] = torch.LongTensor(start_token_pos_list)\n",
        "        tokenized_batch[\"end_positions\"] = torch.LongTensor(end_token_pos_list)\n",
        "\n",
        "        # additional\n",
        "        tokenized_batch[\"instances\"] = batch\n",
        "\n",
        "        return tokenized_batch\n",
        "\n",
        "    # TODO: add tests\n",
        "    @staticmethod\n",
        "    def convert_char_boudaries_to_token_boudaries(\n",
        "        offset_mapping: List[List[int]],\n",
        "        start_end_context_char_pos: List[int], sample\n",
        "    ) -> Tuple[int, int]:\n",
        "\n",
        "        start_context_char_pos, end_context_char_pos = start_end_context_char_pos\n",
        "        assert end_context_char_pos >= start_context_char_pos\n",
        "\n",
        "        done = False\n",
        "        count = 0\n",
        "        for ind, bond in enumerate(offset_mapping):\n",
        "          if ind == 0:\n",
        "            continue\n",
        "          if bond == [0, 0] and offset_mapping[ind-1] != [0, 0]:\n",
        "            count += 1\n",
        "        res_start_token_pos = -1\n",
        "        res_end_token_pos = -1\n",
        "        if count == 1:\n",
        "          for i, token_boudaries in enumerate(offset_mapping):\n",
        "            if i == 0:\n",
        "              continue\n",
        "            start_token_pos, end_token_pos = token_boudaries\n",
        "\n",
        "            if start_token_pos == start_context_char_pos:\n",
        "                res_start_token_pos = i\n",
        "\n",
        "            if end_token_pos == end_context_char_pos:\n",
        "                res_end_token_pos = i  # inclusive\n",
        "                done = True\n",
        "                break\n",
        "            if i == len(offset_mapping)-1 and res_end_token_pos == -1:\n",
        "              res_end_token_pos = i-1\n",
        "              done = True\n",
        "              break\n",
        "            if start_token_pos > start_context_char_pos and res_start_token_pos == -1:\n",
        "              res_start_token_pos = i-1\n",
        "            if end_token_pos > end_context_char_pos and res_end_token_pos == -1:\n",
        "              res_end_token_pos = i\n",
        "              done = True\n",
        "              break\n",
        "        else:\n",
        "          special_tokens_cnt = 0\n",
        "          for i, token_boudaries in enumerate(offset_mapping):\n",
        "\n",
        "              if token_boudaries == [0, 0] and i != len(offset_mapping)-1:\n",
        "                  special_tokens_cnt += 1\n",
        "                  continue\n",
        "\n",
        "              if special_tokens_cnt == 2:\n",
        "                  start_token_pos, end_token_pos = token_boudaries\n",
        "\n",
        "                  if start_token_pos == start_context_char_pos:\n",
        "                      res_start_token_pos = i\n",
        "                  if start_token_pos > start_context_char_pos and res_start_token_pos == -1:\n",
        "                    res_start_token_pos = i-1\n",
        "                  if end_token_pos == end_context_char_pos:\n",
        "                      res_end_token_pos = i  # inclusive\n",
        "                      done = True\n",
        "                      break\n",
        "                  if end_token_pos > end_context_char_pos and res_end_token_pos == -1:\n",
        "                    res_end_token_pos = i\n",
        "                    done = True\n",
        "                    break\n",
        "                  if i == len(offset_mapping)-1 and res_end_token_pos == -1:\n",
        "                    res_end_token_pos = i-1\n",
        "                    done = True\n",
        "                    print(\"Catched\")\n",
        "                    break\n",
        "        if not done:\n",
        "          print(offset_mapping)\n",
        "          print(start_end_context_char_pos)\n",
        "          print(sample)\n",
        "          print(count)\n",
        "        assert done\n",
        "\n",
        "        return res_start_token_pos, res_end_token_pos"
      ],
      "metadata": {
        "id": "Js4XRNWeZia7"
      },
      "execution_count": null,
      "outputs": []
    },
    {
      "cell_type": "code",
      "source": [
        "def predict(\n",
        "    context: str,\n",
        "    question: str,  # TODO: change with entity type\n",
        "    prompt_mapper: Dict[str, str],\n",
        "    model: AutoModelForQuestionAnswering,\n",
        "    tokenizer: AutoTokenizer,\n",
        "    tokenizer_kwargs: Dict[str, Any],\n",
        "    n_best_size: int = 1,\n",
        "    max_answer_length: int = 100,\n",
        ") -> Instance:\n",
        "    \"\"\"\n",
        "    Predict function.\n",
        "\n",
        "    Args:\n",
        "        context (str): context string.\n",
        "        question (str): question string.\n",
        "        prompt_mapper (Dict[str, str]): prompt mapper.\n",
        "        model (AutoModelForQuestionAnswering): trained QaNER model.\n",
        "        tokenizer (AutoTokenizer): tokenizer for trained QaNER model.\n",
        "        tokenizer_kwargs (Dict[str, Any]): tokenizer kwargs.\n",
        "        n_best_size (int): number of best QA answers to consider. Defaults to 1.\n",
        "        max_answer_length (int): entity max length to eliminate very long entities. Defaults to 100.\n",
        "\n",
        "    Returns:\n",
        "        Instance: predicted instance.\n",
        "    \"\"\"\n",
        "\n",
        "    inputs = tokenizer([question], [context], **tokenizer_kwargs).to(model.device)\n",
        "    offset_mapping_batch = inputs.pop(\"offset_mapping\")\n",
        "\n",
        "    with torch.no_grad():\n",
        "        outputs = model(**inputs)\n",
        "\n",
        "    spans_pred_batch_top = get_top_valid_spans(\n",
        "        context_list=[context],\n",
        "        question_list=[question],\n",
        "        prompt_mapper=prompt_mapper,\n",
        "        inputs=inputs,\n",
        "        outputs=outputs,\n",
        "        offset_mapping_batch=offset_mapping_batch,\n",
        "        n_best_size=n_best_size,\n",
        "        max_answer_length=max_answer_length,\n",
        "    )[0]\n",
        "\n",
        "    # TODO: validate it\n",
        "    spans_pred_batch_top = [span for span in spans_pred_batch_top if span]\n",
        "\n",
        "    for predicted_answer_span in spans_pred_batch_top:\n",
        "        start_pos = predicted_answer_span.start_context_char_pos\n",
        "        end_pos = predicted_answer_span.end_context_char_pos\n",
        "        assert predicted_answer_span.token == context[start_pos:end_pos]\n",
        "\n",
        "    prediction = Instance(\n",
        "        context=context,\n",
        "        question=question,\n",
        "        answer=spans_pred_batch_top,\n",
        "    )\n",
        "\n",
        "    return prediction"
      ],
      "metadata": {
        "id": "0KFTAqvvQbEB"
      },
      "execution_count": null,
      "outputs": []
    },
    {
      "cell_type": "markdown",
      "source": [
        "#QANER training"
      ],
      "metadata": {
        "id": "F6CulosqYb8A"
      }
    },
    {
      "cell_type": "code",
      "source": [
        "log_dir = \"/content/logs\"\n",
        "bert_model_name = \"Stacy123/rubert_tiny_qa_kontur\"\n",
        "batch_size = 32\n",
        "learning_rate = 1e-5\n",
        "seed = 42\n",
        "path_to_save_model = \"/content/model\"\n",
        "n_epochs = 100\n",
        "max_len = 512"
      ],
      "metadata": {
        "id": "TE7LSWBWY3X4"
      },
      "execution_count": null,
      "outputs": []
    },
    {
      "cell_type": "code",
      "source": [
        "set_global_seed(seed)"
      ],
      "metadata": {
        "id": "QO8Xf7IQbBOm"
      },
      "execution_count": null,
      "outputs": []
    },
    {
      "cell_type": "code",
      "source": [
        "import json\n",
        "with open(\"/content/prompt_mapper.json\", mode=\"r\", encoding=\"utf-8\") as fp:\n",
        "      prompt_mapper = json.load(fp)"
      ],
      "metadata": {
        "id": "WdA17No8Wn0_"
      },
      "execution_count": null,
      "outputs": []
    },
    {
      "cell_type": "code",
      "source": [
        "all_qa_sentences, all_qa_labels = prepare_sentences_and_spans(marked)"
      ],
      "metadata": {
        "colab": {
          "base_uri": "https://localhost:8080/"
        },
        "id": "LV0eLfXZVUrV",
        "outputId": "4361c3bb-808c-4c75-9705-d0a35c6d50f3"
      },
      "execution_count": null,
      "outputs": [
        {
          "output_type": "stream",
          "name": "stderr",
          "text": [
            "100%|██████████| 873/873 [00:00<00:00, 899.44it/s]\n"
          ]
        }
      ]
    },
    {
      "cell_type": "code",
      "source": [
        "all_qa_labels[3]"
      ],
      "metadata": {
        "colab": {
          "base_uri": "https://localhost:8080/"
        },
        "id": "hl6J8G8V68HB",
        "outputId": "a605463b-8fc2-4321-e0f6-f032fc67eb74"
      },
      "execution_count": null,
      "outputs": [
        {
          "output_type": "execute_result",
          "data": {
            "text/plain": [
              "[Span(token='Выполнение работ по гнутью и резке арматурной стали на ручных, электромеханических и электрических станках.', label='requirements', start_context_char_pos=0, end_context_char_pos=107)]"
            ]
          },
          "metadata": {},
          "execution_count": 49
        }
      ]
    },
    {
      "cell_type": "code",
      "source": [
        "maxlen = 3000\n",
        "qa_sentences = []\n",
        "qa_labels = []\n",
        "for sentence, labels in zip(all_qa_sentences, all_qa_labels):\n",
        "  if len(sentence) <= maxlen:\n",
        "    qa_sentences.append(sentence)\n",
        "    qa_labels.append(labels)"
      ],
      "metadata": {
        "id": "ygbbG51Y535b"
      },
      "execution_count": null,
      "outputs": []
    },
    {
      "cell_type": "code",
      "source": [
        "len(qa_sentences)"
      ],
      "metadata": {
        "colab": {
          "base_uri": "https://localhost:8080/"
        },
        "id": "41rCuDHAVWU6",
        "outputId": "c65c1137-a248-4466-e93c-6bc6ab5f9fb7"
      },
      "execution_count": null,
      "outputs": [
        {
          "output_type": "execute_result",
          "data": {
            "text/plain": [
              "872"
            ]
          },
          "metadata": {},
          "execution_count": 42
        }
      ]
    },
    {
      "cell_type": "code",
      "source": [
        "train_qa_sentences = qa_sentences[:750]\n",
        "test_qa_sentences = qa_sentences[750:]\n",
        "train_qa_labels = qa_labels[:750]\n",
        "test_qa_labels = qa_labels[750:]"
      ],
      "metadata": {
        "id": "rcq6JYFD2-xL"
      },
      "execution_count": null,
      "outputs": []
    },
    {
      "cell_type": "code",
      "source": [
        "train_dataset = Dataset(\n",
        "        qa_sentences=train_qa_sentences,\n",
        "        qa_labels=train_qa_labels,\n",
        "        prompt_mapper=prompt_mapper,\n",
        "    )"
      ],
      "metadata": {
        "colab": {
          "base_uri": "https://localhost:8080/"
        },
        "id": "SmEMLIrhXfet",
        "outputId": "fa31b6b8-a91b-469b-e11a-a53fd6c12553"
      },
      "execution_count": null,
      "outputs": [
        {
          "output_type": "stream",
          "name": "stderr",
          "text": [
            "prepare_dataset: 750it [00:00, 190350.24it/s]\n"
          ]
        }
      ]
    },
    {
      "cell_type": "code",
      "source": [
        "test_dataset = Dataset(\n",
        "        qa_sentences=test_qa_sentences,\n",
        "        qa_labels=test_qa_labels,\n",
        "        prompt_mapper=prompt_mapper,\n",
        "    )"
      ],
      "metadata": {
        "colab": {
          "base_uri": "https://localhost:8080/"
        },
        "id": "OgNn0fGSXqNe",
        "outputId": "02a1ce90-8295-43e3-88dc-dbab404717af"
      },
      "execution_count": null,
      "outputs": [
        {
          "output_type": "stream",
          "name": "stderr",
          "text": [
            "prepare_dataset: 122it [00:00, 109035.82it/s]\n"
          ]
        }
      ]
    },
    {
      "cell_type": "code",
      "source": [
        "train_dataset[3]"
      ],
      "metadata": {
        "colab": {
          "base_uri": "https://localhost:8080/"
        },
        "id": "u5eibu5-udQM",
        "outputId": "a46cd69e-4d99-4ad9-bb4f-7447b4389f5d"
      },
      "execution_count": null,
      "outputs": [
        {
          "output_type": "execute_result",
          "data": {
            "text/plain": [
              "Instance(context='Гнутье арматурной стали на механических станках при количестве отгибов на одном стержне более четырех. Сборка и установка сеток и плоских...', question='Какие требования к соискателю?', answer=Span(token='', label='O', start_context_char_pos=0, end_context_char_pos=0))"
            ]
          },
          "metadata": {},
          "execution_count": 54
        }
      ]
    },
    {
      "cell_type": "code",
      "source": [
        "maxlen = 0\n",
        "for sample in test_dataset:\n",
        "  if len(sample.context) > maxlen:\n",
        "    maxlen = len(sample.context)\n",
        "print(maxlen)"
      ],
      "metadata": {
        "colab": {
          "base_uri": "https://localhost:8080/"
        },
        "id": "om7bNcoM3XpF",
        "outputId": "457ff47a-f094-408e-ef1d-c6ae4bdf1e01"
      },
      "execution_count": null,
      "outputs": [
        {
          "output_type": "stream",
          "name": "stdout",
          "text": [
            "2154\n"
          ]
        }
      ]
    },
    {
      "cell_type": "code",
      "source": [
        "from torch.utils.tensorboard import SummaryWriter\n",
        "from transformers import AutoModelForQuestionAnswering, AutoTokenizer\n",
        "from transformers import DistilBertTokenizerFast, BertTokenizer"
      ],
      "metadata": {
        "id": "HKU6mEQrZVNG"
      },
      "execution_count": null,
      "outputs": []
    },
    {
      "cell_type": "code",
      "source": [
        "writer = SummaryWriter(log_dir=log_dir)\n",
        "device = torch.device(\"cuda\" if torch.cuda.is_available() else \"cpu\")\n",
        "\n",
        "#tokenizer = BertTokenizer.from_pretrained(bert_model_name)\n",
        "tokenizer = AutoTokenizer.from_pretrained(bert_model_name)\n",
        "#tokenizer = DistilBertTokenizerFast.from_pretrained(bert_model_name)\n",
        "model = AutoModelForQuestionAnswering.from_pretrained(bert_model_name).to(device)\n",
        "\n",
        "tokenizer_kwargs = {\n",
        "    \"max_length\": 512,\n",
        "    \"truncation\": \"only_second\",\n",
        "    \"padding\": True,\n",
        "    \"return_tensors\": \"pt\",\n",
        "    \"return_offsets_mapping\": True,\n",
        "}\n",
        "\n",
        "collator = Collator(\n",
        "    tokenizer=tokenizer,\n",
        "    tokenizer_kwargs=tokenizer_kwargs,\n",
        ")\n",
        "\n",
        "train_dataloader = torch.utils.data.DataLoader(\n",
        "    dataset=train_dataset,\n",
        "    batch_size=batch_size,\n",
        "    shuffle=True,\n",
        "    collate_fn=collator,\n",
        ")\n",
        "\n",
        "test_dataloader = torch.utils.data.DataLoader(\n",
        "    dataset=test_dataset,\n",
        "    batch_size=batch_size,\n",
        "    shuffle=False,\n",
        "    collate_fn=collator,\n",
        ")"
      ],
      "metadata": {
        "collapsed": true,
        "id": "Sq2g7gOOXmPe"
      },
      "execution_count": null,
      "outputs": []
    },
    {
      "cell_type": "code",
      "source": [
        "optimizer = torch.optim.Adam(\n",
        "    model.parameters(),\n",
        "    lr=learning_rate,\n",
        ")"
      ],
      "metadata": {
        "id": "KKdNcaH6Zt_M"
      },
      "execution_count": null,
      "outputs": []
    },
    {
      "cell_type": "code",
      "source": [
        "train(\n",
        "    n_epochs=n_epochs,\n",
        "    model=model,\n",
        "    train_dataloader=train_dataloader,\n",
        "    test_dataloader=test_dataloader,\n",
        "    optimizer=optimizer,\n",
        "    writer=writer,\n",
        "    device=device,\n",
        ")\n",
        "\n",
        "model.save_pretrained(path_to_save_model)\n",
        "tokenizer.save_pretrained(path_to_save_model)"
      ],
      "metadata": {
        "colab": {
          "base_uri": "https://localhost:8080/"
        },
        "id": "Z9ooRLnEbwAu",
        "outputId": "0ef62109-3b46-4912-bc7d-18a4b4e54e5b",
        "collapsed": true
      },
      "execution_count": null,
      "outputs": [
        {
          "output_type": "stream",
          "name": "stdout",
          "text": [
            "Epoch [1 / 100]\n",
            "\n"
          ]
        },
        {
          "output_type": "stream",
          "name": "stderr",
          "text": [
            "loop over train batches:   0%|          | 0/71 [00:00<?, ?it/s]<ipython-input-34-682b55d089f1>:52: RuntimeWarning: invalid value encountered in true_divide\n",
            "  ner_confusion_matrix_diag / confusion_matrix_pred_denominator\n",
            "<ipython-input-34-682b55d089f1>:55: RuntimeWarning: invalid value encountered in true_divide\n",
            "  ner_confusion_matrix_diag / confusion_matrix_true_denominator\n",
            "<ipython-input-34-682b55d089f1>:58: RuntimeWarning: invalid value encountered in true_divide\n",
            "  2\n",
            "loop over train batches:  24%|██▍       | 17/71 [00:05<00:16,  3.32it/s]"
          ]
        },
        {
          "output_type": "stream",
          "name": "stdout",
          "text": [
            "Catched\n"
          ]
        },
        {
          "output_type": "stream",
          "name": "stderr",
          "text": [
            "loop over train batches: 100%|██████████| 71/71 [00:23<00:00,  3.02it/s]\n"
          ]
        },
        {
          "output_type": "stream",
          "name": "stdout",
          "text": [
            "Train loss: 4.687721396835757\n",
            "\n",
            "Train accuracy: 0.3316901408450704\n",
            "\n",
            "Train precision_tag_O: 0.3743602611448339\n",
            "\n",
            "Train recall_tag_O: 0.9474589768603852\n",
            "\n",
            "Train f1_tag_O: 0.5321970414402007\n",
            "\n",
            "Train precision_tag_requirements: 0.0\n",
            "\n",
            "Train recall_tag_requirements: 0.0\n",
            "\n",
            "Train f1_tag_requirements: 0.0\n",
            "\n",
            "Train precision_tag_terms: 0.0\n",
            "\n",
            "Train recall_tag_terms: 0.0\n",
            "\n",
            "Train f1_tag_terms: 0.0\n",
            "\n",
            "Train precision_tag_notes: 0.0\n",
            "\n",
            "Train recall_tag_notes: 0.0\n",
            "\n",
            "Train f1_tag_notes: 0.0\n",
            "\n",
            "Train precision_macro: 0.09359006528620847\n",
            "\n",
            "Train recall_macro: 0.2368647442150963\n",
            "\n",
            "Train f1_macro: 0.1330492603600502\n",
            "\n",
            "Train precision_weighted: 0.1359143036045103\n",
            "\n",
            "Train recall_weighted: 0.3316901408450704\n",
            "\n",
            "Train f1_weighted: 0.19135316092751747\n",
            "\n"
          ]
        },
        {
          "output_type": "stream",
          "name": "stderr",
          "text": [
            "loop over test batches: 100%|██████████| 12/12 [00:00<00:00, 16.41it/s]\n"
          ]
        },
        {
          "output_type": "stream",
          "name": "stdout",
          "text": [
            "Test loss:  3.4925731221834817\n",
            "\n",
            "Test accuracy: 0.3630952380952381\n",
            "\n",
            "Test precision_tag_O: 0.36601302483358933\n",
            "\n",
            "Test recall_tag_O: 0.9930555555555555\n",
            "\n",
            "Test f1_tag_O: 0.5340120032286494\n",
            "\n",
            "Test precision_tag_requirements: 0.0\n",
            "\n",
            "Test recall_tag_requirements: 0.0\n",
            "\n",
            "Test f1_tag_requirements: 0.0\n",
            "\n",
            "Test precision_tag_terms: 0.0\n",
            "\n",
            "Test recall_tag_terms: 0.0\n",
            "\n",
            "Test f1_tag_terms: 0.0\n",
            "\n",
            "Test precision_tag_notes: 0.0\n",
            "\n",
            "Test recall_tag_notes: 0.0\n",
            "\n",
            "Test f1_tag_notes: 0.0\n",
            "\n",
            "Test precision_macro: 0.09150325620839733\n",
            "\n",
            "Test recall_macro: 0.24826388888888887\n",
            "\n",
            "Test f1_macro: 0.13350300080716235\n",
            "\n",
            "Test precision_weighted: 0.1348516769358953\n",
            "\n",
            "Test recall_weighted: 0.3630952380952381\n",
            "\n",
            "Test f1_weighted: 0.1963601359370943\n",
            "\n",
            "Epoch [2 / 100]\n",
            "\n"
          ]
        },
        {
          "output_type": "stream",
          "name": "stderr",
          "text": [
            "loop over train batches:  73%|███████▎  | 52/71 [00:16<00:05,  3.57it/s]"
          ]
        },
        {
          "output_type": "stream",
          "name": "stdout",
          "text": [
            "Catched\n"
          ]
        },
        {
          "output_type": "stream",
          "name": "stderr",
          "text": [
            "loop over train batches: 100%|██████████| 71/71 [00:22<00:00,  3.11it/s]\n"
          ]
        },
        {
          "output_type": "stream",
          "name": "stdout",
          "text": [
            "Train loss: 3.4602978195942624\n",
            "\n",
            "Train accuracy: 0.34066901408450706\n",
            "\n",
            "Train precision_tag_O: 0.3617537772053157\n",
            "\n",
            "Train recall_tag_O: 0.9669278100616129\n",
            "\n",
            "Train f1_tag_O: 0.5208432385315038\n",
            "\n",
            "Train precision_tag_requirements: 0.0\n",
            "\n",
            "Train recall_tag_requirements: 0.0\n",
            "\n",
            "Train f1_tag_requirements: 0.0\n",
            "\n",
            "Train precision_tag_terms: 0.0\n",
            "\n",
            "Train recall_tag_terms: 0.0\n",
            "\n",
            "Train f1_tag_terms: 0.0\n",
            "\n",
            "Train precision_tag_notes: 0.0\n",
            "\n",
            "Train recall_tag_notes: 0.0\n",
            "\n",
            "Train f1_tag_notes: 0.0\n",
            "\n",
            "Train precision_macro: 0.09043844430132893\n",
            "\n",
            "Train recall_macro: 0.24173195251540322\n",
            "\n",
            "Train f1_macro: 0.13021080963287596\n",
            "\n",
            "Train precision_weighted: 0.13424209845560925\n",
            "\n",
            "Train recall_weighted: 0.34066901408450706\n",
            "\n",
            "Train f1_weighted: 0.19069585616987836\n",
            "\n"
          ]
        },
        {
          "output_type": "stream",
          "name": "stderr",
          "text": [
            "loop over test batches: 100%|██████████| 12/12 [00:01<00:00,  8.99it/s]\n"
          ]
        },
        {
          "output_type": "stream",
          "name": "stdout",
          "text": [
            "Test loss:  2.7760149240493774\n",
            "\n",
            "Test accuracy: 0.3578869047619047\n",
            "\n",
            "Test precision_tag_O: 0.36963162883803874\n",
            "\n",
            "Test recall_tag_O: 0.9802350427350427\n",
            "\n",
            "Test f1_tag_O: 0.5358210820513415\n",
            "\n",
            "Test precision_tag_requirements: 0.0\n",
            "\n",
            "Test recall_tag_requirements: 0.0\n",
            "\n",
            "Test f1_tag_requirements: 0.0\n",
            "\n",
            "Test precision_tag_terms: 0.0\n",
            "\n",
            "Test recall_tag_terms: 0.0\n",
            "\n",
            "Test f1_tag_terms: 0.0\n",
            "\n",
            "Test precision_tag_notes: 0.0\n",
            "\n",
            "Test recall_tag_notes: 0.0\n",
            "\n",
            "Test f1_tag_notes: 0.0\n",
            "\n",
            "Test precision_macro: 0.09240790720950968\n",
            "\n",
            "Test recall_macro: 0.24505876068376067\n",
            "\n",
            "Test f1_macro: 0.13395527051283537\n",
            "\n",
            "Test precision_weighted: 0.13603156624191437\n",
            "\n",
            "Test recall_weighted: 0.3578869047619047\n",
            "\n",
            "Test f1_weighted: 0.19677498627616827\n",
            "\n",
            "Epoch [3 / 100]\n",
            "\n"
          ]
        },
        {
          "output_type": "stream",
          "name": "stderr",
          "text": [
            "loop over train batches:  44%|████▎     | 31/71 [00:09<00:13,  3.00it/s]"
          ]
        },
        {
          "output_type": "stream",
          "name": "stdout",
          "text": [
            "Catched\n"
          ]
        },
        {
          "output_type": "stream",
          "name": "stderr",
          "text": [
            "loop over train batches: 100%|██████████| 71/71 [00:23<00:00,  3.07it/s]\n"
          ]
        },
        {
          "output_type": "stream",
          "name": "stdout",
          "text": [
            "Train loss: 2.845325315502328\n",
            "\n",
            "Train accuracy: 0.3463028169014084\n",
            "\n",
            "Train precision_tag_O: 0.36724513266944997\n",
            "\n",
            "Train recall_tag_O: 0.986163484402921\n",
            "\n",
            "Train f1_tag_O: 0.5306690556234039\n",
            "\n",
            "Train precision_tag_requirements: 0.0\n",
            "\n",
            "Train recall_tag_requirements: 0.0\n",
            "\n",
            "Train f1_tag_requirements: 0.0\n",
            "\n",
            "Train precision_tag_terms: 0.0\n",
            "\n",
            "Train recall_tag_terms: 0.0\n",
            "\n",
            "Train f1_tag_terms: 0.0\n",
            "\n",
            "Train precision_tag_notes: 0.0\n",
            "\n",
            "Train recall_tag_notes: 0.0\n",
            "\n",
            "Train f1_tag_notes: 0.0\n",
            "\n",
            "Train precision_macro: 0.09181128316736249\n",
            "\n",
            "Train recall_macro: 0.24654087110073025\n",
            "\n",
            "Train f1_macro: 0.13266726390585099\n",
            "\n",
            "Train precision_weighted: 0.13397163878806292\n",
            "\n",
            "Train recall_weighted: 0.3463028169014084\n",
            "\n",
            "Train f1_weighted: 0.19175342660380795\n",
            "\n"
          ]
        },
        {
          "output_type": "stream",
          "name": "stderr",
          "text": [
            "loop over test batches: 100%|██████████| 12/12 [00:01<00:00, 11.70it/s]\n"
          ]
        },
        {
          "output_type": "stream",
          "name": "stdout",
          "text": [
            "Test loss:  2.3085479935010276\n",
            "\n",
            "Test accuracy: 0.3630952380952381\n",
            "\n",
            "Test precision_tag_O: 0.3751989644578632\n",
            "\n",
            "Test recall_tag_O: 0.9935897435897436\n",
            "\n",
            "Test f1_tag_O: 0.5436708775783917\n",
            "\n",
            "Test precision_tag_requirements: 0.0\n",
            "\n",
            "Test recall_tag_requirements: 0.0\n",
            "\n",
            "Test f1_tag_requirements: 0.0\n",
            "\n",
            "Test precision_tag_terms: 0.0\n",
            "\n",
            "Test recall_tag_terms: 0.0\n",
            "\n",
            "Test f1_tag_terms: 0.0\n",
            "\n",
            "Test precision_tag_notes: 0.0\n",
            "\n",
            "Test recall_tag_notes: 0.0\n",
            "\n",
            "Test f1_tag_notes: 0.0\n",
            "\n",
            "Test precision_macro: 0.0937997411144658\n",
            "\n",
            "Test recall_macro: 0.2483974358974359\n",
            "\n",
            "Test f1_macro: 0.13591771939459793\n",
            "\n",
            "Test precision_weighted: 0.13820579073710965\n",
            "\n",
            "Test recall_weighted: 0.3630952380952381\n",
            "\n",
            "Test f1_weighted: 0.19984174182936384\n",
            "\n",
            "Epoch [4 / 100]\n",
            "\n"
          ]
        },
        {
          "output_type": "stream",
          "name": "stderr",
          "text": [
            "loop over train batches:  51%|█████     | 36/71 [00:12<00:12,  2.81it/s]"
          ]
        },
        {
          "output_type": "stream",
          "name": "stdout",
          "text": [
            "Catched\n"
          ]
        },
        {
          "output_type": "stream",
          "name": "stderr",
          "text": [
            "loop over train batches: 100%|██████████| 71/71 [00:23<00:00,  2.98it/s]\n"
          ]
        },
        {
          "output_type": "stream",
          "name": "stdout",
          "text": [
            "Train loss: 2.4330191024592227\n",
            "\n",
            "Train accuracy: 0.34410211267605634\n",
            "\n",
            "Train precision_tag_O: 0.39439584760143104\n",
            "\n",
            "Train recall_tag_O: 0.9797897467532927\n",
            "\n",
            "Train f1_tag_O: 0.5556660618301302\n",
            "\n",
            "Train precision_tag_requirements: 0.0\n",
            "\n",
            "Train recall_tag_requirements: 0.0\n",
            "\n",
            "Train f1_tag_requirements: 0.0\n",
            "\n",
            "Train precision_tag_terms: 0.0\n",
            "\n",
            "Train recall_tag_terms: 0.0\n",
            "\n",
            "Train f1_tag_terms: 0.0\n",
            "\n",
            "Train precision_tag_notes: 0.0\n",
            "\n",
            "Train recall_tag_notes: 0.0\n",
            "\n",
            "Train f1_tag_notes: 0.0\n",
            "\n",
            "Train precision_macro: 0.09859896190035776\n",
            "\n",
            "Train recall_macro: 0.24494743668832317\n",
            "\n",
            "Train f1_macro: 0.13891651545753256\n",
            "\n",
            "Train precision_weighted: 0.1460904126565774\n",
            "\n",
            "Train recall_weighted: 0.34410211267605634\n",
            "\n",
            "Train f1_weighted: 0.20288562644645897\n",
            "\n"
          ]
        },
        {
          "output_type": "stream",
          "name": "stderr",
          "text": [
            "loop over test batches: 100%|██████████| 12/12 [00:00<00:00, 16.80it/s]\n"
          ]
        },
        {
          "output_type": "stream",
          "name": "stdout",
          "text": [
            "Test loss:  1.935107837120692\n",
            "\n",
            "Test accuracy: 0.3630952380952381\n",
            "\n",
            "Test precision_tag_O: 0.4314169988164241\n",
            "\n",
            "Test recall_tag_O: 0.9935897435897436\n",
            "\n",
            "Test f1_tag_O: 0.599981574981575\n",
            "\n",
            "Test precision_tag_requirements: 0.0\n",
            "\n",
            "Test recall_tag_requirements: 0.0\n",
            "\n",
            "Test f1_tag_requirements: 0.0\n",
            "\n",
            "Test precision_tag_terms: 0.0\n",
            "\n",
            "Test recall_tag_terms: 0.0\n",
            "\n",
            "Test f1_tag_terms: 0.0\n",
            "\n",
            "Test precision_tag_notes: 0.0\n",
            "\n",
            "Test recall_tag_notes: 0.0\n",
            "\n",
            "Test f1_tag_notes: 0.0\n",
            "\n",
            "Test precision_macro: 0.10785424970410602\n",
            "\n",
            "Test recall_macro: 0.2483974358974359\n",
            "\n",
            "Test f1_macro: 0.14999539374539375\n",
            "\n",
            "Test precision_weighted: 0.15891995903535053\n",
            "\n",
            "Test recall_weighted: 0.3630952380952381\n",
            "\n",
            "Test f1_weighted: 0.2205123392623393\n",
            "\n",
            "Epoch [5 / 100]\n",
            "\n"
          ]
        },
        {
          "output_type": "stream",
          "name": "stderr",
          "text": [
            "loop over train batches:  37%|███▋      | 26/71 [00:08<00:15,  2.83it/s]"
          ]
        },
        {
          "output_type": "stream",
          "name": "stdout",
          "text": [
            "Catched\n"
          ]
        },
        {
          "output_type": "stream",
          "name": "stderr",
          "text": [
            "loop over train batches: 100%|██████████| 71/71 [00:23<00:00,  2.99it/s]\n"
          ]
        },
        {
          "output_type": "stream",
          "name": "stdout",
          "text": [
            "Train loss: 2.2170272511495672\n",
            "\n",
            "Train accuracy: 0.3268485915492958\n",
            "\n",
            "Train precision_tag_O: 0.413460841567\n",
            "\n",
            "Train recall_tag_O: 0.9318312751411343\n",
            "\n",
            "Train f1_tag_O: 0.5662287415264313\n",
            "\n",
            "Train precision_tag_requirements: 0.0\n",
            "\n",
            "Train recall_tag_requirements: 0.0\n",
            "\n",
            "Train f1_tag_requirements: 0.0\n",
            "\n",
            "Train precision_tag_terms: 0.0\n",
            "\n",
            "Train recall_tag_terms: 0.0\n",
            "\n",
            "Train f1_tag_terms: 0.0\n",
            "\n",
            "Train precision_tag_notes: 0.0\n",
            "\n",
            "Train recall_tag_notes: 0.0\n",
            "\n",
            "Train f1_tag_notes: 0.0\n",
            "\n",
            "Train precision_macro: 0.10336521039175\n",
            "\n",
            "Train recall_macro: 0.23295781878528357\n",
            "\n",
            "Train f1_macro: 0.14155718538160783\n",
            "\n",
            "Train precision_weighted: 0.15243152351991368\n",
            "\n",
            "Train recall_weighted: 0.3268485915492958\n",
            "\n",
            "Train f1_weighted: 0.2056376942670137\n",
            "\n"
          ]
        },
        {
          "output_type": "stream",
          "name": "stderr",
          "text": [
            "loop over test batches: 100%|██████████| 12/12 [00:00<00:00, 16.53it/s]\n"
          ]
        },
        {
          "output_type": "stream",
          "name": "stdout",
          "text": [
            "Test loss:  1.7718368073304493\n",
            "\n",
            "Test accuracy: 0.3604910714285714\n",
            "\n",
            "Test precision_tag_O: 0.45266089787828917\n",
            "\n",
            "Test recall_tag_O: 0.9860139860139859\n",
            "\n",
            "Test f1_tag_O: 0.618276364599894\n",
            "\n",
            "Test precision_tag_requirements: 0.0\n",
            "\n",
            "Test recall_tag_requirements: 0.0\n",
            "\n",
            "Test f1_tag_requirements: 0.0\n",
            "\n",
            "Test precision_tag_terms: 0.0\n",
            "\n",
            "Test recall_tag_terms: 0.0\n",
            "\n",
            "Test f1_tag_terms: 0.0\n",
            "\n",
            "Test precision_tag_notes: 0.0\n",
            "\n",
            "Test recall_tag_notes: 0.0\n",
            "\n",
            "Test f1_tag_notes: 0.0\n",
            "\n",
            "Test precision_macro: 0.11316522446957229\n",
            "\n",
            "Test recall_macro: 0.24650349650349648\n",
            "\n",
            "Test f1_macro: 0.1545690911499735\n",
            "\n",
            "Test precision_weighted: 0.16695402499070977\n",
            "\n",
            "Test recall_weighted: 0.3604910714285714\n",
            "\n",
            "Test f1_weighted: 0.2274379191428824\n",
            "\n",
            "Epoch [6 / 100]\n",
            "\n"
          ]
        },
        {
          "output_type": "stream",
          "name": "stderr",
          "text": [
            "loop over train batches:  27%|██▋       | 19/71 [00:06<00:16,  3.08it/s]"
          ]
        },
        {
          "output_type": "stream",
          "name": "stdout",
          "text": [
            "Catched\n"
          ]
        },
        {
          "output_type": "stream",
          "name": "stderr",
          "text": [
            "loop over train batches: 100%|██████████| 71/71 [00:23<00:00,  2.99it/s]\n"
          ]
        },
        {
          "output_type": "stream",
          "name": "stdout",
          "text": [
            "Train loss: 2.072244664313088\n",
            "\n",
            "Train accuracy: 0.3259683098591549\n",
            "\n",
            "Train precision_tag_O: 0.4229715927640851\n",
            "\n",
            "Train recall_tag_O: 0.931554087540003\n",
            "\n",
            "Train f1_tag_O: 0.5745805048031796\n",
            "\n",
            "Train precision_tag_requirements: 0.0\n",
            "\n",
            "Train recall_tag_requirements: 0.0\n",
            "\n",
            "Train f1_tag_requirements: 0.0\n",
            "\n",
            "Train precision_tag_terms: 0.0\n",
            "\n",
            "Train recall_tag_terms: 0.0\n",
            "\n",
            "Train f1_tag_terms: 0.0\n",
            "\n",
            "Train precision_tag_notes: 0.0\n",
            "\n",
            "Train recall_tag_notes: 0.0\n",
            "\n",
            "Train f1_tag_notes: 0.0\n",
            "\n",
            "Train precision_macro: 0.10574289819102127\n",
            "\n",
            "Train recall_macro: 0.23288852188500075\n",
            "\n",
            "Train f1_macro: 0.1436451262007949\n",
            "\n",
            "Train precision_weighted: 0.15549905471873782\n",
            "\n",
            "Train recall_weighted: 0.3259683098591549\n",
            "\n",
            "Train f1_weighted: 0.20815379353953387\n",
            "\n"
          ]
        },
        {
          "output_type": "stream",
          "name": "stderr",
          "text": [
            "loop over test batches: 100%|██████████| 12/12 [00:00<00:00, 12.38it/s]\n"
          ]
        },
        {
          "output_type": "stream",
          "name": "stdout",
          "text": [
            "Test loss:  1.666224718093872\n",
            "\n",
            "Test accuracy: 0.3552827380952381\n",
            "\n",
            "Test precision_tag_O: 0.4831739069896965\n",
            "\n",
            "Test recall_tag_O: 0.9726592851592851\n",
            "\n",
            "Test f1_tag_O: 0.6426700785097369\n",
            "\n",
            "Test precision_tag_requirements: 0.0\n",
            "\n",
            "Test recall_tag_requirements: 0.0\n",
            "\n",
            "Test f1_tag_requirements: 0.0\n",
            "\n",
            "Test precision_tag_terms: 0.0\n",
            "\n",
            "Test recall_tag_terms: 0.0\n",
            "\n",
            "Test f1_tag_terms: 0.0\n",
            "\n",
            "Test precision_tag_notes: 0.0\n",
            "\n",
            "Test recall_tag_notes: 0.0\n",
            "\n",
            "Test f1_tag_notes: 0.0\n",
            "\n",
            "Test precision_macro: 0.12079347674742412\n",
            "\n",
            "Test recall_macro: 0.24316482128982128\n",
            "\n",
            "Test f1_macro: 0.16066751962743422\n",
            "\n",
            "Test precision_weighted: 0.17775243954794395\n",
            "\n",
            "Test recall_weighted: 0.3552827380952381\n",
            "\n",
            "Test f1_weighted: 0.23591278923087802\n",
            "\n",
            "Epoch [7 / 100]\n",
            "\n"
          ]
        },
        {
          "output_type": "stream",
          "name": "stderr",
          "text": [
            "loop over train batches:  85%|████████▍ | 60/71 [00:20<00:04,  2.43it/s]"
          ]
        },
        {
          "output_type": "stream",
          "name": "stdout",
          "text": [
            "Catched\n"
          ]
        },
        {
          "output_type": "stream",
          "name": "stderr",
          "text": [
            "loop over train batches: 100%|██████████| 71/71 [00:23<00:00,  2.96it/s]\n"
          ]
        },
        {
          "output_type": "stream",
          "name": "stdout",
          "text": [
            "Train loss: 1.9691068370577316\n",
            "\n",
            "Train accuracy: 0.32816901408450705\n",
            "\n",
            "Train precision_tag_O: 0.4241991049914571\n",
            "\n",
            "Train recall_tag_O: 0.9350855731573473\n",
            "\n",
            "Train f1_tag_O: 0.5760989861302327\n",
            "\n",
            "Train precision_tag_requirements: 0.0\n",
            "\n",
            "Train recall_tag_requirements: 0.0\n",
            "\n",
            "Train f1_tag_requirements: 0.0\n",
            "\n",
            "Train precision_tag_terms: 0.0\n",
            "\n",
            "Train recall_tag_terms: 0.0\n",
            "\n",
            "Train f1_tag_terms: 0.0\n",
            "\n",
            "Train precision_tag_notes: 0.0\n",
            "\n",
            "Train recall_tag_notes: 0.0\n",
            "\n",
            "Train f1_tag_notes: 0.0\n",
            "\n",
            "Train precision_macro: 0.10604977624786427\n",
            "\n",
            "Train recall_macro: 0.23377139328933683\n",
            "\n",
            "Train f1_macro: 0.14402474653255817\n",
            "\n",
            "Train precision_weighted: 0.15779877038372836\n",
            "\n",
            "Train recall_weighted: 0.32816901408450705\n",
            "\n",
            "Train f1_weighted: 0.21051891056669444\n",
            "\n"
          ]
        },
        {
          "output_type": "stream",
          "name": "stderr",
          "text": [
            "loop over test batches: 100%|██████████| 12/12 [00:00<00:00, 16.48it/s]\n"
          ]
        },
        {
          "output_type": "stream",
          "name": "stdout",
          "text": [
            "Test loss:  1.6339971820513408\n",
            "\n",
            "Test accuracy: 0.3578869047619047\n",
            "\n",
            "Test precision_tag_O: 0.45547585246485794\n",
            "\n",
            "Test recall_tag_O: 0.9790695415695415\n",
            "\n",
            "Test f1_tag_O: 0.6187030139042523\n",
            "\n",
            "Test precision_tag_requirements: 0.0\n",
            "\n",
            "Test recall_tag_requirements: 0.0\n",
            "\n",
            "Test f1_tag_requirements: 0.0\n",
            "\n",
            "Test precision_tag_terms: 0.0\n",
            "\n",
            "Test recall_tag_terms: 0.0\n",
            "\n",
            "Test f1_tag_terms: 0.0\n",
            "\n",
            "Test precision_tag_notes: 0.0\n",
            "\n",
            "Test recall_tag_notes: 0.0\n",
            "\n",
            "Test f1_tag_notes: 0.0\n",
            "\n",
            "Test precision_macro: 0.11386896311621449\n",
            "\n",
            "Test recall_macro: 0.24476738539238538\n",
            "\n",
            "Test f1_macro: 0.15467575347606308\n",
            "\n",
            "Test precision_weighted: 0.16789720111633374\n",
            "\n",
            "Test recall_weighted: 0.3578869047619047\n",
            "\n",
            "Test f1_weighted: 0.22749555338443694\n",
            "\n",
            "Epoch [8 / 100]\n",
            "\n"
          ]
        },
        {
          "output_type": "stream",
          "name": "stderr",
          "text": [
            "loop over train batches:  65%|██████▍   | 46/71 [00:16<00:07,  3.46it/s]"
          ]
        },
        {
          "output_type": "stream",
          "name": "stdout",
          "text": [
            "Catched\n"
          ]
        },
        {
          "output_type": "stream",
          "name": "stderr",
          "text": [
            "loop over train batches: 100%|██████████| 71/71 [00:24<00:00,  2.89it/s]\n"
          ]
        },
        {
          "output_type": "stream",
          "name": "stdout",
          "text": [
            "Train loss: 1.8671694792492288\n",
            "\n",
            "Train accuracy: 0.33098591549295775\n",
            "\n",
            "Train precision_tag_O: 0.43872349093085095\n",
            "\n",
            "Train recall_tag_O: 0.9372008100984901\n",
            "\n",
            "Train f1_tag_O: 0.5892803765703033\n",
            "\n",
            "Train precision_tag_requirements: 0.0\n",
            "\n",
            "Train recall_tag_requirements: 0.0\n",
            "\n",
            "Train f1_tag_requirements: 0.0\n",
            "\n",
            "Train precision_tag_terms: 0.0\n",
            "\n",
            "Train recall_tag_terms: 0.0\n",
            "\n",
            "Train f1_tag_terms: 0.0\n",
            "\n",
            "Train precision_tag_notes: 0.0\n",
            "\n",
            "Train recall_tag_notes: 0.0\n",
            "\n",
            "Train f1_tag_notes: 0.0\n",
            "\n",
            "Train precision_macro: 0.10968087273271274\n",
            "\n",
            "Train recall_macro: 0.23430020252462253\n",
            "\n",
            "Train f1_macro: 0.14732009414257582\n",
            "\n",
            "Train precision_weighted: 0.16378574392696932\n",
            "\n",
            "Train recall_weighted: 0.33098591549295775\n",
            "\n",
            "Train f1_weighted: 0.21646168517175973\n",
            "\n"
          ]
        },
        {
          "output_type": "stream",
          "name": "stderr",
          "text": [
            "loop over test batches: 100%|██████████| 12/12 [00:01<00:00, 11.70it/s]\n"
          ]
        },
        {
          "output_type": "stream",
          "name": "stdout",
          "text": [
            "Test loss:  1.5515704452991486\n",
            "\n",
            "Test accuracy: 0.3552827380952381\n",
            "\n",
            "Test precision_tag_O: 0.5121223919611992\n",
            "\n",
            "Test recall_tag_O: 0.9726592851592851\n",
            "\n",
            "Test f1_tag_O: 0.6671114943902777\n",
            "\n",
            "Test precision_tag_requirements: 0.0\n",
            "\n",
            "Test recall_tag_requirements: 0.0\n",
            "\n",
            "Test f1_tag_requirements: 0.0\n",
            "\n",
            "Test precision_tag_terms: 0.0\n",
            "\n",
            "Test recall_tag_terms: 0.0\n",
            "\n",
            "Test f1_tag_terms: 0.0\n",
            "\n",
            "Test precision_tag_notes: 0.0\n",
            "\n",
            "Test recall_tag_notes: 0.0\n",
            "\n",
            "Test f1_tag_notes: 0.0\n",
            "\n",
            "Test precision_macro: 0.1280305979902998\n",
            "\n",
            "Test recall_macro: 0.24316482128982128\n",
            "\n",
            "Test f1_macro: 0.16677787359756943\n",
            "\n",
            "Test precision_weighted: 0.18840532949637687\n",
            "\n",
            "Test recall_weighted: 0.3552827380952381\n",
            "\n",
            "Test f1_weighted: 0.2448601271716674\n",
            "\n",
            "Epoch [9 / 100]\n",
            "\n"
          ]
        },
        {
          "output_type": "stream",
          "name": "stderr",
          "text": [
            "loop over train batches:  14%|█▍        | 10/71 [00:03<00:20,  3.03it/s]"
          ]
        },
        {
          "output_type": "stream",
          "name": "stdout",
          "text": [
            "Catched\n"
          ]
        },
        {
          "output_type": "stream",
          "name": "stderr",
          "text": [
            "loop over train batches: 100%|██████████| 71/71 [00:24<00:00,  2.90it/s]\n"
          ]
        },
        {
          "output_type": "stream",
          "name": "stdout",
          "text": [
            "Train loss: 1.7905990892732646\n",
            "\n",
            "Train accuracy: 0.3311619718309859\n",
            "\n",
            "Train precision_tag_O: 0.45478967770199874\n",
            "\n",
            "Train recall_tag_O: 0.9364768252092196\n",
            "\n",
            "Train f1_tag_O: 0.6045260981848629\n",
            "\n",
            "Train precision_tag_requirements: 0.0\n",
            "\n",
            "Train recall_tag_requirements: 0.0\n",
            "\n",
            "Train f1_tag_requirements: 0.0\n",
            "\n",
            "Train precision_tag_terms: 0.0\n",
            "\n",
            "Train recall_tag_terms: 0.0\n",
            "\n",
            "Train f1_tag_terms: 0.0\n",
            "\n",
            "Train precision_tag_notes: 0.0\n",
            "\n",
            "Train recall_tag_notes: 0.0\n",
            "\n",
            "Train f1_tag_notes: 0.0\n",
            "\n",
            "Train precision_macro: 0.11369741942549969\n",
            "\n",
            "Train recall_macro: 0.2341192063023049\n",
            "\n",
            "Train f1_macro: 0.15113152454621573\n",
            "\n",
            "Train precision_weighted: 0.16984994776826495\n",
            "\n",
            "Train recall_weighted: 0.3311619718309859\n",
            "\n",
            "Train f1_weighted: 0.22150002479536166\n",
            "\n"
          ]
        },
        {
          "output_type": "stream",
          "name": "stderr",
          "text": [
            "loop over test batches: 100%|██████████| 12/12 [00:00<00:00, 16.60it/s]\n"
          ]
        },
        {
          "output_type": "stream",
          "name": "stdout",
          "text": [
            "Test loss:  1.5191328326861064\n",
            "\n",
            "Test accuracy: 0.3552827380952381\n",
            "\n",
            "Test precision_tag_O: 0.5066448653262153\n",
            "\n",
            "Test recall_tag_O: 0.9726592851592851\n",
            "\n",
            "Test f1_tag_O: 0.6630304891565254\n",
            "\n",
            "Test precision_tag_requirements: 0.0\n",
            "\n",
            "Test recall_tag_requirements: 0.0\n",
            "\n",
            "Test f1_tag_requirements: 0.0\n",
            "\n",
            "Test precision_tag_terms: 0.0\n",
            "\n",
            "Test recall_tag_terms: 0.0\n",
            "\n",
            "Test f1_tag_terms: 0.0\n",
            "\n",
            "Test precision_tag_notes: 0.0\n",
            "\n",
            "Test recall_tag_notes: 0.0\n",
            "\n",
            "Test f1_tag_notes: 0.0\n",
            "\n",
            "Test precision_macro: 0.12666121633155383\n",
            "\n",
            "Test recall_macro: 0.24316482128982128\n",
            "\n",
            "Test f1_macro: 0.16575762228913135\n",
            "\n",
            "Test precision_weighted: 0.18635605780870013\n",
            "\n",
            "Test recall_weighted: 0.3552827380952381\n",
            "\n",
            "Test f1_weighted: 0.24334965359498695\n",
            "\n",
            "Epoch [10 / 100]\n",
            "\n"
          ]
        },
        {
          "output_type": "stream",
          "name": "stderr",
          "text": [
            "loop over train batches:  58%|█████▊    | 41/71 [00:14<00:10,  2.93it/s]"
          ]
        },
        {
          "output_type": "stream",
          "name": "stdout",
          "text": [
            "Catched\n"
          ]
        },
        {
          "output_type": "stream",
          "name": "stderr",
          "text": [
            "loop over train batches: 100%|██████████| 71/71 [00:24<00:00,  2.92it/s]\n"
          ]
        },
        {
          "output_type": "stream",
          "name": "stdout",
          "text": [
            "Train loss: 1.7435432168799387\n",
            "\n",
            "Train accuracy: 0.3351232394366197\n",
            "\n",
            "Train precision_tag_O: 0.4566091117046485\n",
            "\n",
            "Train recall_tag_O: 0.9631316648922283\n",
            "\n",
            "Train f1_tag_O: 0.6116716520171158\n",
            "\n",
            "Train precision_tag_requirements: 0.0\n",
            "\n",
            "Train recall_tag_requirements: 0.0\n",
            "\n",
            "Train f1_tag_requirements: 0.0\n",
            "\n",
            "Train precision_tag_terms: 0.0\n",
            "\n",
            "Train recall_tag_terms: 0.0\n",
            "\n",
            "Train f1_tag_terms: 0.0\n",
            "\n",
            "Train precision_tag_notes: 0.0\n",
            "\n",
            "Train recall_tag_notes: 0.0\n",
            "\n",
            "Train f1_tag_notes: 0.0\n",
            "\n",
            "Train precision_macro: 0.11415227792616213\n",
            "\n",
            "Train recall_macro: 0.2407829162230571\n",
            "\n",
            "Train f1_macro: 0.15291791300427895\n",
            "\n",
            "Train precision_weighted: 0.16732267917948135\n",
            "\n",
            "Train recall_weighted: 0.3351232394366197\n",
            "\n",
            "Train f1_weighted: 0.2211195089999166\n",
            "\n"
          ]
        },
        {
          "output_type": "stream",
          "name": "stderr",
          "text": [
            "loop over test batches: 100%|██████████| 12/12 [00:00<00:00, 16.23it/s]\n"
          ]
        },
        {
          "output_type": "stream",
          "name": "stdout",
          "text": [
            "Test loss:  1.4834299584229786\n",
            "\n",
            "Test accuracy: 0.3552827380952381\n",
            "\n",
            "Test precision_tag_O: 0.5163158259868785\n",
            "\n",
            "Test recall_tag_O: 0.9726592851592851\n",
            "\n",
            "Test f1_tag_O: 0.6708992622767216\n",
            "\n",
            "Test precision_tag_requirements: 0.0\n",
            "\n",
            "Test recall_tag_requirements: 0.0\n",
            "\n",
            "Test f1_tag_requirements: 0.0\n",
            "\n",
            "Test precision_tag_terms: 0.0\n",
            "\n",
            "Test recall_tag_terms: 0.0\n",
            "\n",
            "Test f1_tag_terms: 0.0\n",
            "\n",
            "Test precision_tag_notes: 0.0\n",
            "\n",
            "Test recall_tag_notes: 0.0\n",
            "\n",
            "Test f1_tag_notes: 0.0\n",
            "\n",
            "Test precision_macro: 0.12907895649671963\n",
            "\n",
            "Test recall_macro: 0.24316482128982128\n",
            "\n",
            "Test f1_macro: 0.1677248155691804\n",
            "\n",
            "Test precision_weighted: 0.19024401927568046\n",
            "\n",
            "Test recall_weighted: 0.3552827380952381\n",
            "\n",
            "Test f1_weighted: 0.2465312246233572\n",
            "\n",
            "Epoch [11 / 100]\n",
            "\n"
          ]
        },
        {
          "output_type": "stream",
          "name": "stderr",
          "text": [
            "loop over train batches:  79%|███████▉  | 56/71 [00:19<00:05,  2.55it/s]"
          ]
        },
        {
          "output_type": "stream",
          "name": "stdout",
          "text": [
            "Catched\n"
          ]
        },
        {
          "output_type": "stream",
          "name": "stderr",
          "text": [
            "loop over train batches: 100%|██████████| 71/71 [00:24<00:00,  2.95it/s]\n"
          ]
        },
        {
          "output_type": "stream",
          "name": "stdout",
          "text": [
            "Train loss: 1.6669317030570876\n",
            "\n",
            "Train accuracy: 0.3358274647887324\n",
            "\n",
            "Train precision_tag_O: 0.46104370139681433\n",
            "\n",
            "Train recall_tag_O: 0.9541807313555449\n",
            "\n",
            "Train f1_tag_O: 0.6142057561162724\n",
            "\n",
            "Train precision_tag_requirements: 0.0\n",
            "\n",
            "Train recall_tag_requirements: 0.0\n",
            "\n",
            "Train f1_tag_requirements: 0.0\n",
            "\n",
            "Train precision_tag_terms: 0.0\n",
            "\n",
            "Train recall_tag_terms: 0.0\n",
            "\n",
            "Train f1_tag_terms: 0.0\n",
            "\n",
            "Train precision_tag_notes: 0.0\n",
            "\n",
            "Train recall_tag_notes: 0.0\n",
            "\n",
            "Train f1_tag_notes: 0.0\n",
            "\n",
            "Train precision_macro: 0.11526092534920358\n",
            "\n",
            "Train recall_macro: 0.23854518283888623\n",
            "\n",
            "Train f1_macro: 0.1535514390290681\n",
            "\n",
            "Train precision_weighted: 0.17071907960622965\n",
            "\n",
            "Train recall_weighted: 0.3358274647887324\n",
            "\n",
            "Train f1_weighted: 0.22390811258199061\n",
            "\n"
          ]
        },
        {
          "output_type": "stream",
          "name": "stderr",
          "text": [
            "loop over test batches: 100%|██████████| 12/12 [00:01<00:00,  8.49it/s]\n"
          ]
        },
        {
          "output_type": "stream",
          "name": "stdout",
          "text": [
            "Test loss:  1.4619507888952892\n",
            "\n",
            "Test accuracy: 0.3552827380952381\n",
            "\n",
            "Test precision_tag_O: 0.4946830895677196\n",
            "\n",
            "Test recall_tag_O: 0.9726592851592851\n",
            "\n",
            "Test f1_tag_O: 0.6524944741208568\n",
            "\n",
            "Test precision_tag_requirements: 0.0\n",
            "\n",
            "Test recall_tag_requirements: 0.0\n",
            "\n",
            "Test f1_tag_requirements: 0.0\n",
            "\n",
            "Test precision_tag_terms: 0.0\n",
            "\n",
            "Test recall_tag_terms: 0.0\n",
            "\n",
            "Test f1_tag_terms: 0.0\n",
            "\n",
            "Test precision_tag_notes: 0.0\n",
            "\n",
            "Test recall_tag_notes: 0.0\n",
            "\n",
            "Test f1_tag_notes: 0.0\n",
            "\n",
            "Test precision_macro: 0.1236707723919299\n",
            "\n",
            "Test recall_macro: 0.24316482128982128\n",
            "\n",
            "Test f1_macro: 0.1631236185302142\n",
            "\n",
            "Test precision_weighted: 0.18201882477051123\n",
            "\n",
            "Test recall_weighted: 0.3552827380952381\n",
            "\n",
            "Test f1_weighted: 0.2395435657595345\n",
            "\n",
            "Epoch [12 / 100]\n",
            "\n"
          ]
        },
        {
          "output_type": "stream",
          "name": "stderr",
          "text": [
            "loop over train batches:  37%|███▋      | 26/71 [00:08<00:15,  2.83it/s]"
          ]
        },
        {
          "output_type": "stream",
          "name": "stdout",
          "text": [
            "Catched\n"
          ]
        },
        {
          "output_type": "stream",
          "name": "stderr",
          "text": [
            "loop over train batches: 100%|██████████| 71/71 [00:24<00:00,  2.95it/s]\n"
          ]
        },
        {
          "output_type": "stream",
          "name": "stdout",
          "text": [
            "Train loss: 1.633128197260306\n",
            "\n",
            "Train accuracy: 0.3369718309859155\n",
            "\n",
            "Train precision_tag_O: 0.4670468462341337\n",
            "\n",
            "Train recall_tag_O: 0.9626025773913097\n",
            "\n",
            "Train f1_tag_O: 0.6218236575729622\n",
            "\n",
            "Train precision_tag_requirements: 0.0\n",
            "\n",
            "Train recall_tag_requirements: 0.0\n",
            "\n",
            "Train f1_tag_requirements: 0.0\n",
            "\n",
            "Train precision_tag_terms: 0.0\n",
            "\n",
            "Train recall_tag_terms: 0.0\n",
            "\n",
            "Train f1_tag_terms: 0.0\n",
            "\n",
            "Train precision_tag_notes: 0.0\n",
            "\n",
            "Train recall_tag_notes: 0.0\n",
            "\n",
            "Train f1_tag_notes: 0.0\n",
            "\n",
            "Train precision_macro: 0.11676171155853342\n",
            "\n",
            "Train recall_macro: 0.24065064434782743\n",
            "\n",
            "Train f1_macro: 0.15545591439324055\n",
            "\n",
            "Train precision_weighted: 0.17176830466505008\n",
            "\n",
            "Train recall_weighted: 0.3369718309859155\n",
            "\n",
            "Train f1_weighted: 0.22527498942138172\n",
            "\n"
          ]
        },
        {
          "output_type": "stream",
          "name": "stderr",
          "text": [
            "loop over test batches: 100%|██████████| 12/12 [00:00<00:00, 16.52it/s]\n"
          ]
        },
        {
          "output_type": "stream",
          "name": "stdout",
          "text": [
            "Test loss:  1.4221122165520985\n",
            "\n",
            "Test accuracy: 0.3552827380952381\n",
            "\n",
            "Test precision_tag_O: 0.5398149582279343\n",
            "\n",
            "Test recall_tag_O: 0.9726592851592851\n",
            "\n",
            "Test f1_tag_O: 0.6912615022428517\n",
            "\n",
            "Test precision_tag_requirements: 0.0\n",
            "\n",
            "Test recall_tag_requirements: 0.0\n",
            "\n",
            "Test f1_tag_requirements: 0.0\n",
            "\n",
            "Test precision_tag_terms: 0.0\n",
            "\n",
            "Test recall_tag_terms: 0.0\n",
            "\n",
            "Test f1_tag_terms: 0.0\n",
            "\n",
            "Test precision_tag_notes: 0.0\n",
            "\n",
            "Test recall_tag_notes: 0.0\n",
            "\n",
            "Test f1_tag_notes: 0.0\n",
            "\n",
            "Test precision_macro: 0.1349537395569836\n",
            "\n",
            "Test recall_macro: 0.24316482128982128\n",
            "\n",
            "Test f1_macro: 0.1728153755607129\n",
            "\n",
            "Test precision_weighted: 0.19830683886220046\n",
            "\n",
            "Test recall_weighted: 0.3552827380952381\n",
            "\n",
            "Test f1_weighted: 0.2534694479007497\n",
            "\n",
            "Epoch [13 / 100]\n",
            "\n"
          ]
        },
        {
          "output_type": "stream",
          "name": "stderr",
          "text": [
            "loop over train batches:  65%|██████▍   | 46/71 [00:15<00:07,  3.20it/s]"
          ]
        },
        {
          "output_type": "stream",
          "name": "stdout",
          "text": [
            "Catched\n"
          ]
        },
        {
          "output_type": "stream",
          "name": "stderr",
          "text": [
            "loop over train batches: 100%|██████████| 71/71 [00:24<00:00,  2.93it/s]\n"
          ]
        },
        {
          "output_type": "stream",
          "name": "stdout",
          "text": [
            "Train loss: 1.580558741596383\n",
            "\n",
            "Train accuracy: 0.33265845070422534\n",
            "\n",
            "Train precision_tag_O: 0.4721537351333221\n",
            "\n",
            "Train recall_tag_O: 0.9457451356063619\n",
            "\n",
            "Train f1_tag_O: 0.6225225522654992\n",
            "\n",
            "Train precision_tag_requirements: 0.0\n",
            "\n",
            "Train recall_tag_requirements: 0.0\n",
            "\n",
            "Train f1_tag_requirements: 0.0\n",
            "\n",
            "Train precision_tag_terms: 0.0\n",
            "\n",
            "Train recall_tag_terms: 0.0\n",
            "\n",
            "Train f1_tag_terms: 0.0\n",
            "\n",
            "Train precision_tag_notes: 0.0\n",
            "\n",
            "Train recall_tag_notes: 0.0\n",
            "\n",
            "Train f1_tag_notes: 0.0\n",
            "\n",
            "Train precision_macro: 0.11803843378333052\n",
            "\n",
            "Train recall_macro: 0.23643628390159047\n",
            "\n",
            "Train f1_macro: 0.1556306380663748\n",
            "\n",
            "Train precision_weighted: 0.174396275670766\n",
            "\n",
            "Train recall_weighted: 0.33265845070422534\n",
            "\n",
            "Train f1_weighted: 0.22635947739699838\n",
            "\n"
          ]
        },
        {
          "output_type": "stream",
          "name": "stderr",
          "text": [
            "loop over test batches: 100%|██████████| 12/12 [00:00<00:00, 16.67it/s]\n"
          ]
        },
        {
          "output_type": "stream",
          "name": "stdout",
          "text": [
            "Test loss:  1.4226441582043965\n",
            "\n",
            "Test accuracy: 0.3578869047619047\n",
            "\n",
            "Test precision_tag_O: 0.4970014003247385\n",
            "\n",
            "Test recall_tag_O: 0.9790695415695415\n",
            "\n",
            "Test f1_tag_O: 0.6560480460379342\n",
            "\n",
            "Test precision_tag_requirements: 0.0\n",
            "\n",
            "Test recall_tag_requirements: 0.0\n",
            "\n",
            "Test f1_tag_requirements: 0.0\n",
            "\n",
            "Test precision_tag_terms: 0.0\n",
            "\n",
            "Test recall_tag_terms: 0.0\n",
            "\n",
            "Test f1_tag_terms: 0.0\n",
            "\n",
            "Test precision_tag_notes: 0.0\n",
            "\n",
            "Test recall_tag_notes: 0.0\n",
            "\n",
            "Test f1_tag_notes: 0.0\n",
            "\n",
            "Test precision_macro: 0.12425035008118462\n",
            "\n",
            "Test recall_macro: 0.24476738539238538\n",
            "\n",
            "Test f1_macro: 0.16401201150948355\n",
            "\n",
            "Test precision_weighted: 0.183111363758345\n",
            "\n",
            "Test recall_weighted: 0.3578869047619047\n",
            "\n",
            "Test f1_weighted: 0.24111364133280952\n",
            "\n",
            "Epoch [14 / 100]\n",
            "\n"
          ]
        },
        {
          "output_type": "stream",
          "name": "stderr",
          "text": [
            "loop over train batches:  76%|███████▌  | 54/71 [00:18<00:06,  2.77it/s]"
          ]
        },
        {
          "output_type": "stream",
          "name": "stdout",
          "text": [
            "Catched\n"
          ]
        },
        {
          "output_type": "stream",
          "name": "stderr",
          "text": [
            "loop over train batches: 100%|██████████| 71/71 [00:24<00:00,  2.94it/s]\n"
          ]
        },
        {
          "output_type": "stream",
          "name": "stdout",
          "text": [
            "Train loss: 1.5405756805984068\n",
            "\n",
            "Train accuracy: 0.33758802816901406\n",
            "\n",
            "Train precision_tag_O: 0.48614176450053265\n",
            "\n",
            "Train recall_tag_O: 0.9599088842667963\n",
            "\n",
            "Train f1_tag_O: 0.6385641328726211\n",
            "\n",
            "Train precision_tag_requirements: 0.0\n",
            "\n",
            "Train recall_tag_requirements: 0.0\n",
            "\n",
            "Train f1_tag_requirements: 0.0\n",
            "\n",
            "Train precision_tag_terms: 0.0\n",
            "\n",
            "Train recall_tag_terms: 0.0\n",
            "\n",
            "Train f1_tag_terms: 0.0\n",
            "\n",
            "Train precision_tag_notes: 0.0\n",
            "\n",
            "Train recall_tag_notes: 0.0\n",
            "\n",
            "Train f1_tag_notes: 0.0\n",
            "\n",
            "Train precision_macro: 0.12153544112513316\n",
            "\n",
            "Train recall_macro: 0.23997722106669908\n",
            "\n",
            "Train f1_macro: 0.1596410332181553\n",
            "\n",
            "Train precision_weighted: 0.1789436885507571\n",
            "\n",
            "Train recall_weighted: 0.33758802816901406\n",
            "\n",
            "Train f1_weighted: 0.23186487554046645\n",
            "\n"
          ]
        },
        {
          "output_type": "stream",
          "name": "stderr",
          "text": [
            "loop over test batches: 100%|██████████| 12/12 [00:00<00:00, 16.26it/s]\n"
          ]
        },
        {
          "output_type": "stream",
          "name": "stdout",
          "text": [
            "Test loss:  1.3630493680636089\n",
            "\n",
            "Test accuracy: 0.3526785714285714\n",
            "\n",
            "Test precision_tag_O: 0.5401811151811151\n",
            "\n",
            "Test recall_tag_O: 0.9657148407148407\n",
            "\n",
            "Test f1_tag_O: 0.6899634050496121\n",
            "\n",
            "Test precision_tag_requirements: 0.0\n",
            "\n",
            "Test recall_tag_requirements: 0.0\n",
            "\n",
            "Test f1_tag_requirements: 0.0\n",
            "\n",
            "Test precision_tag_terms: 0.0\n",
            "\n",
            "Test recall_tag_terms: 0.0\n",
            "\n",
            "Test f1_tag_terms: 0.0\n",
            "\n",
            "Test precision_tag_notes: 0.0\n",
            "\n",
            "Test recall_tag_notes: 0.0\n",
            "\n",
            "Test f1_tag_notes: 0.0\n",
            "\n",
            "Test precision_macro: 0.13504527879527878\n",
            "\n",
            "Test recall_macro: 0.24142871017871018\n",
            "\n",
            "Test f1_macro: 0.17249085126240302\n",
            "\n",
            "Test precision_weighted: 0.19836003997009433\n",
            "\n",
            "Test recall_weighted: 0.3526785714285714\n",
            "\n",
            "Test f1_weighted: 0.2528895371769833\n",
            "\n",
            "Epoch [15 / 100]\n",
            "\n"
          ]
        },
        {
          "output_type": "stream",
          "name": "stderr",
          "text": [
            "loop over train batches:  13%|█▎        | 9/71 [00:03<00:21,  2.82it/s]"
          ]
        },
        {
          "output_type": "stream",
          "name": "stdout",
          "text": [
            "Catched\n"
          ]
        },
        {
          "output_type": "stream",
          "name": "stderr",
          "text": [
            "loop over train batches: 100%|██████████| 71/71 [00:24<00:00,  2.88it/s]\n"
          ]
        },
        {
          "output_type": "stream",
          "name": "stdout",
          "text": [
            "Train loss: 1.489916677206335\n",
            "\n",
            "Train accuracy: 0.3322183098591549\n",
            "\n",
            "Train precision_tag_O: 0.4975964709036853\n",
            "\n",
            "Train recall_tag_O: 0.9479987930692155\n",
            "\n",
            "Train f1_tag_O: 0.6439117790309847\n",
            "\n",
            "Train precision_tag_requirements: 0.0\n",
            "\n",
            "Train recall_tag_requirements: 0.0\n",
            "\n",
            "Train f1_tag_requirements: 0.0\n",
            "\n",
            "Train precision_tag_terms: 0.0\n",
            "\n",
            "Train recall_tag_terms: 0.0\n",
            "\n",
            "Train f1_tag_terms: 0.0\n",
            "\n",
            "Train precision_tag_notes: 0.0\n",
            "\n",
            "Train recall_tag_notes: 0.0\n",
            "\n",
            "Train f1_tag_notes: 0.0\n",
            "\n",
            "Train precision_macro: 0.12439911772592133\n",
            "\n",
            "Train recall_macro: 0.23699969826730388\n",
            "\n",
            "Train f1_macro: 0.16097794475774618\n",
            "\n",
            "Train precision_weighted: 0.18340519576382103\n",
            "\n",
            "Train recall_weighted: 0.3322183098591549\n",
            "\n",
            "Train f1_weighted: 0.23339162882236272\n",
            "\n"
          ]
        },
        {
          "output_type": "stream",
          "name": "stderr",
          "text": [
            "loop over test batches: 100%|██████████| 12/12 [00:01<00:00, 11.64it/s]\n"
          ]
        },
        {
          "output_type": "stream",
          "name": "stdout",
          "text": [
            "Test loss:  1.3398141761620839\n",
            "\n",
            "Test accuracy: 0.3526785714285714\n",
            "\n",
            "Test precision_tag_O: 0.5484433076757077\n",
            "\n",
            "Test recall_tag_O: 0.9657148407148407\n",
            "\n",
            "Test f1_tag_O: 0.6963569728586414\n",
            "\n",
            "Test precision_tag_requirements: 0.0\n",
            "\n",
            "Test recall_tag_requirements: 0.0\n",
            "\n",
            "Test f1_tag_requirements: 0.0\n",
            "\n",
            "Test precision_tag_terms: 0.0\n",
            "\n",
            "Test recall_tag_terms: 0.0\n",
            "\n",
            "Test f1_tag_terms: 0.0\n",
            "\n",
            "Test precision_tag_notes: 0.0\n",
            "\n",
            "Test recall_tag_notes: 0.0\n",
            "\n",
            "Test f1_tag_notes: 0.0\n",
            "\n",
            "Test precision_macro: 0.13711082691892693\n",
            "\n",
            "Test recall_macro: 0.24142871017871018\n",
            "\n",
            "Test f1_macro: 0.17408924321466035\n",
            "\n",
            "Test precision_weighted: 0.20163745477691455\n",
            "\n",
            "Test recall_weighted: 0.3526785714285714\n",
            "\n",
            "Test f1_weighted: 0.2553926255878077\n",
            "\n",
            "Epoch [16 / 100]\n",
            "\n"
          ]
        },
        {
          "output_type": "stream",
          "name": "stderr",
          "text": [
            "loop over train batches:  73%|███████▎  | 52/71 [00:17<00:07,  2.44it/s]"
          ]
        },
        {
          "output_type": "stream",
          "name": "stdout",
          "text": [
            "Catched\n"
          ]
        },
        {
          "output_type": "stream",
          "name": "stderr",
          "text": [
            "loop over train batches: 100%|██████████| 71/71 [00:23<00:00,  2.97it/s]\n"
          ]
        },
        {
          "output_type": "stream",
          "name": "stdout",
          "text": [
            "Train loss: 1.4564748717025973\n",
            "\n",
            "Train accuracy: 0.3297535211267606\n",
            "\n",
            "Train precision_tag_O: 0.5018124291364535\n",
            "\n",
            "Train recall_tag_O: 0.9455613324813822\n",
            "\n",
            "Train f1_tag_O: 0.6493323426287254\n",
            "\n",
            "Train precision_tag_requirements: 0.0\n",
            "\n",
            "Train recall_tag_requirements: 0.0\n",
            "\n",
            "Train f1_tag_requirements: 0.0\n",
            "\n",
            "Train precision_tag_terms: 0.0\n",
            "\n",
            "Train recall_tag_terms: 0.0\n",
            "\n",
            "Train f1_tag_terms: 0.0\n",
            "\n",
            "Train precision_tag_notes: 0.0\n",
            "\n",
            "Train recall_tag_notes: 0.0\n",
            "\n",
            "Train f1_tag_notes: 0.0\n",
            "\n",
            "Train precision_macro: 0.12545310728411338\n",
            "\n",
            "Train recall_macro: 0.23639033312034555\n",
            "\n",
            "Train f1_macro: 0.16233308565718135\n",
            "\n",
            "Train precision_weighted: 0.1826500542103661\n",
            "\n",
            "Train recall_weighted: 0.3297535211267606\n",
            "\n",
            "Train f1_weighted: 0.23320323578170127\n",
            "\n"
          ]
        },
        {
          "output_type": "stream",
          "name": "stderr",
          "text": [
            "loop over test batches: 100%|██████████| 12/12 [00:01<00:00, 11.78it/s]\n"
          ]
        },
        {
          "output_type": "stream",
          "name": "stdout",
          "text": [
            "Test loss:  1.3029433141152065\n",
            "\n",
            "Test accuracy: 0.3526785714285714\n",
            "\n",
            "Test precision_tag_O: 0.5562929605654064\n",
            "\n",
            "Test recall_tag_O: 0.9657148407148407\n",
            "\n",
            "Test f1_tag_O: 0.7020316057209476\n",
            "\n",
            "Test precision_tag_requirements: 0.0\n",
            "\n",
            "Test recall_tag_requirements: 0.0\n",
            "\n",
            "Test f1_tag_requirements: 0.0\n",
            "\n",
            "Test precision_tag_terms: 0.0\n",
            "\n",
            "Test recall_tag_terms: 0.0\n",
            "\n",
            "Test f1_tag_terms: 0.0\n",
            "\n",
            "Test precision_tag_notes: 0.0\n",
            "\n",
            "Test recall_tag_notes: 0.0\n",
            "\n",
            "Test f1_tag_notes: 0.0\n",
            "\n",
            "Test precision_macro: 0.1390732401413516\n",
            "\n",
            "Test recall_macro: 0.24142871017871018\n",
            "\n",
            "Test f1_macro: 0.1755079014302369\n",
            "\n",
            "Test precision_weighted: 0.20432036932097405\n",
            "\n",
            "Test recall_weighted: 0.3526785714285714\n",
            "\n",
            "Test f1_weighted: 0.2573226173131802\n",
            "\n",
            "Epoch [17 / 100]\n",
            "\n"
          ]
        },
        {
          "output_type": "stream",
          "name": "stderr",
          "text": [
            "loop over train batches:   8%|▊         | 6/71 [00:02<00:24,  2.63it/s]"
          ]
        },
        {
          "output_type": "stream",
          "name": "stdout",
          "text": [
            "Catched\n"
          ]
        },
        {
          "output_type": "stream",
          "name": "stderr",
          "text": [
            "loop over train batches: 100%|██████████| 71/71 [00:24<00:00,  2.95it/s]\n"
          ]
        },
        {
          "output_type": "stream",
          "name": "stdout",
          "text": [
            "Train loss: 1.397750348272458\n",
            "\n",
            "Train accuracy: 0.3325704225352113\n",
            "\n",
            "Train precision_tag_O: 0.518245202840304\n",
            "\n",
            "Train recall_tag_O: 0.9501509445171417\n",
            "\n",
            "Train f1_tag_O: 0.663674861702151\n",
            "\n",
            "Train precision_tag_requirements: 0.0\n",
            "\n",
            "Train recall_tag_requirements: 0.0\n",
            "\n",
            "Train f1_tag_requirements: 0.0\n",
            "\n",
            "Train precision_tag_terms: 0.0\n",
            "\n",
            "Train recall_tag_terms: 0.0\n",
            "\n",
            "Train f1_tag_terms: 0.0\n",
            "\n",
            "Train precision_tag_notes: 0.0\n",
            "\n",
            "Train recall_tag_notes: 0.0\n",
            "\n",
            "Train f1_tag_notes: 0.0\n",
            "\n",
            "Train precision_macro: 0.129561300710076\n",
            "\n",
            "Train recall_macro: 0.23753773612928542\n",
            "\n",
            "Train f1_macro: 0.16591871542553774\n",
            "\n",
            "Train precision_weighted: 0.18800469145593157\n",
            "\n",
            "Train recall_weighted: 0.3325704225352113\n",
            "\n",
            "Train f1_weighted: 0.2378341201966707\n",
            "\n"
          ]
        },
        {
          "output_type": "stream",
          "name": "stderr",
          "text": [
            "loop over test batches: 100%|██████████| 12/12 [00:00<00:00, 16.44it/s]\n"
          ]
        },
        {
          "output_type": "stream",
          "name": "stdout",
          "text": [
            "Test loss:  1.2852693398793538\n",
            "\n",
            "Test accuracy: 0.3578869047619047\n",
            "\n",
            "Test precision_tag_O: 0.5462862800391404\n",
            "\n",
            "Test recall_tag_O: 0.9790695415695415\n",
            "\n",
            "Test f1_tag_O: 0.6981193776793871\n",
            "\n",
            "Test precision_tag_requirements: 0.0\n",
            "\n",
            "Test recall_tag_requirements: 0.0\n",
            "\n",
            "Test f1_tag_requirements: 0.0\n",
            "\n",
            "Test precision_tag_terms: 0.0\n",
            "\n",
            "Test recall_tag_terms: 0.0\n",
            "\n",
            "Test f1_tag_terms: 0.0\n",
            "\n",
            "Test precision_tag_notes: 0.0\n",
            "\n",
            "Test recall_tag_notes: 0.0\n",
            "\n",
            "Test f1_tag_notes: 0.0\n",
            "\n",
            "Test precision_macro: 0.1365715700097851\n",
            "\n",
            "Test recall_macro: 0.24476738539238538\n",
            "\n",
            "Test f1_macro: 0.17452984441984679\n",
            "\n",
            "Test precision_weighted: 0.20101740424430645\n",
            "\n",
            "Test recall_weighted: 0.3578869047619047\n",
            "\n",
            "Test f1_weighted: 0.25629283117256757\n",
            "\n",
            "Epoch [18 / 100]\n",
            "\n"
          ]
        },
        {
          "output_type": "stream",
          "name": "stderr",
          "text": [
            "loop over train batches:  27%|██▋       | 19/71 [00:07<00:18,  2.79it/s]"
          ]
        },
        {
          "output_type": "stream",
          "name": "stdout",
          "text": [
            "Catched\n"
          ]
        },
        {
          "output_type": "stream",
          "name": "stderr",
          "text": [
            "loop over train batches: 100%|██████████| 71/71 [00:24<00:00,  2.89it/s]\n"
          ]
        },
        {
          "output_type": "stream",
          "name": "stdout",
          "text": [
            "Train loss: 1.3528364082457314\n",
            "\n",
            "Train accuracy: 0.3354753521126761\n",
            "\n",
            "Train precision_tag_O: 0.5234562021015139\n",
            "\n",
            "Train recall_tag_O: 0.9467935233780304\n",
            "\n",
            "Train f1_tag_O: 0.6684171593121546\n",
            "\n",
            "Train precision_tag_requirements: 0.0\n",
            "\n",
            "Train recall_tag_requirements: 0.0\n",
            "\n",
            "Train f1_tag_requirements: 0.0\n",
            "\n",
            "Train precision_tag_terms: 0.0\n",
            "\n",
            "Train recall_tag_terms: 0.0\n",
            "\n",
            "Train f1_tag_terms: 0.0\n",
            "\n",
            "Train precision_tag_notes: 0.0\n",
            "\n",
            "Train recall_tag_notes: 0.0\n",
            "\n",
            "Train f1_tag_notes: 0.0\n",
            "\n",
            "Train precision_macro: 0.13086405052537847\n",
            "\n",
            "Train recall_macro: 0.2366983808445076\n",
            "\n",
            "Train f1_macro: 0.16710428982803865\n",
            "\n",
            "Train precision_weighted: 0.1926429607582685\n",
            "\n",
            "Train recall_weighted: 0.3354753521126761\n",
            "\n",
            "Train f1_weighted: 0.2427813711548306\n",
            "\n"
          ]
        },
        {
          "output_type": "stream",
          "name": "stderr",
          "text": [
            "loop over test batches: 100%|██████████| 12/12 [00:00<00:00, 15.93it/s]\n"
          ]
        },
        {
          "output_type": "stream",
          "name": "stdout",
          "text": [
            "Test loss:  1.2621563573678334\n",
            "\n",
            "Test accuracy: 0.3578869047619047\n",
            "\n",
            "Test precision_tag_O: 0.5495780558600251\n",
            "\n",
            "Test recall_tag_O: 0.9790695415695415\n",
            "\n",
            "Test f1_tag_O: 0.6989611690106113\n",
            "\n",
            "Test precision_tag_requirements: 0.0\n",
            "\n",
            "Test recall_tag_requirements: 0.0\n",
            "\n",
            "Test f1_tag_requirements: 0.0\n",
            "\n",
            "Test precision_tag_terms: 0.0\n",
            "\n",
            "Test recall_tag_terms: 0.0\n",
            "\n",
            "Test f1_tag_terms: 0.0\n",
            "\n",
            "Test precision_tag_notes: 0.0\n",
            "\n",
            "Test recall_tag_notes: 0.0\n",
            "\n",
            "Test f1_tag_notes: 0.0\n",
            "\n",
            "Test precision_macro: 0.13739451396500627\n",
            "\n",
            "Test recall_macro: 0.24476738539238538\n",
            "\n",
            "Test f1_macro: 0.17474029225265283\n",
            "\n",
            "Test precision_weighted: 0.2022177115452571\n",
            "\n",
            "Test recall_weighted: 0.3578869047619047\n",
            "\n",
            "Test f1_weighted: 0.2565936276863872\n",
            "\n",
            "Epoch [19 / 100]\n",
            "\n"
          ]
        },
        {
          "output_type": "stream",
          "name": "stderr",
          "text": [
            "loop over train batches:  52%|█████▏    | 37/71 [00:13<00:11,  3.00it/s]"
          ]
        },
        {
          "output_type": "stream",
          "name": "stdout",
          "text": [
            "Catched\n"
          ]
        },
        {
          "output_type": "stream",
          "name": "stderr",
          "text": [
            "loop over train batches: 100%|██████████| 71/71 [00:24<00:00,  2.88it/s]\n"
          ]
        },
        {
          "output_type": "stream",
          "name": "stdout",
          "text": [
            "Train loss: 1.307088657164238\n",
            "\n",
            "Train accuracy: 0.33274647887323944\n",
            "\n",
            "Train precision_tag_O: 0.5434103696682115\n",
            "\n",
            "Train recall_tag_O: 0.9466225480309988\n",
            "\n",
            "Train f1_tag_O: 0.6828945483962058\n",
            "\n",
            "Train precision_tag_requirements: 0.0\n",
            "\n",
            "Train recall_tag_requirements: 0.0\n",
            "\n",
            "Train f1_tag_requirements: 0.0\n",
            "\n",
            "Train precision_tag_terms: 0.0\n",
            "\n",
            "Train recall_tag_terms: 0.0\n",
            "\n",
            "Train f1_tag_terms: 0.0\n",
            "\n",
            "Train precision_tag_notes: 0.0\n",
            "\n",
            "Train recall_tag_notes: 0.0\n",
            "\n",
            "Train f1_tag_notes: 0.0\n",
            "\n",
            "Train precision_macro: 0.1358525924170529\n",
            "\n",
            "Train recall_macro: 0.2366556370077497\n",
            "\n",
            "Train f1_macro: 0.17072363709905145\n",
            "\n",
            "Train precision_weighted: 0.19777155460467843\n",
            "\n",
            "Train recall_weighted: 0.33274647887323944\n",
            "\n",
            "Train f1_weighted: 0.24584837313398428\n",
            "\n"
          ]
        },
        {
          "output_type": "stream",
          "name": "stderr",
          "text": [
            "loop over test batches: 100%|██████████| 12/12 [00:00<00:00, 16.23it/s]\n"
          ]
        },
        {
          "output_type": "stream",
          "name": "stdout",
          "text": [
            "Test loss:  1.2439376215140026\n",
            "\n",
            "Test accuracy: 0.3526785714285714\n",
            "\n",
            "Test precision_tag_O: 0.5915303987091912\n",
            "\n",
            "Test recall_tag_O: 0.9657148407148406\n",
            "\n",
            "Test f1_tag_O: 0.7290809597933253\n",
            "\n",
            "Test precision_tag_requirements: 0.0\n",
            "\n",
            "Test recall_tag_requirements: 0.0\n",
            "\n",
            "Test f1_tag_requirements: 0.0\n",
            "\n",
            "Test precision_tag_terms: 0.0\n",
            "\n",
            "Test recall_tag_terms: 0.0\n",
            "\n",
            "Test f1_tag_terms: 0.0\n",
            "\n",
            "Test precision_tag_notes: 0.0\n",
            "\n",
            "Test recall_tag_notes: 0.0\n",
            "\n",
            "Test f1_tag_notes: 0.0\n",
            "\n",
            "Test precision_macro: 0.1478825996772978\n",
            "\n",
            "Test recall_macro: 0.24142871017871015\n",
            "\n",
            "Test f1_macro: 0.18227023994833133\n",
            "\n",
            "Test precision_weighted: 0.21694764574323885\n",
            "\n",
            "Test recall_weighted: 0.3526785714285714\n",
            "\n",
            "Test f1_weighted: 0.2669390061359147\n",
            "\n",
            "Epoch [20 / 100]\n",
            "\n"
          ]
        },
        {
          "output_type": "stream",
          "name": "stderr",
          "text": [
            "loop over train batches:  54%|█████▎    | 38/71 [00:13<00:12,  2.63it/s]"
          ]
        },
        {
          "output_type": "stream",
          "name": "stdout",
          "text": [
            "Catched\n"
          ]
        },
        {
          "output_type": "stream",
          "name": "stderr",
          "text": [
            "loop over train batches: 100%|██████████| 71/71 [00:24<00:00,  2.86it/s]\n"
          ]
        },
        {
          "output_type": "stream",
          "name": "stdout",
          "text": [
            "Train loss: 1.276419052775477\n",
            "\n",
            "Train accuracy: 0.3288732394366197\n",
            "\n",
            "Train precision_tag_O: 0.548071611166705\n",
            "\n",
            "Train recall_tag_O: 0.9468661844533949\n",
            "\n",
            "Train f1_tag_O: 0.6865748154825931\n",
            "\n",
            "Train precision_tag_requirements: 0.0\n",
            "\n",
            "Train recall_tag_requirements: 0.0\n",
            "\n",
            "Train f1_tag_requirements: 0.0\n",
            "\n",
            "Train precision_tag_terms: 0.0\n",
            "\n",
            "Train recall_tag_terms: 0.0\n",
            "\n",
            "Train f1_tag_terms: 0.0\n",
            "\n",
            "Train precision_tag_notes: 0.0\n",
            "\n",
            "Train recall_tag_notes: 0.0\n",
            "\n",
            "Train f1_tag_notes: 0.0\n",
            "\n",
            "Train precision_macro: 0.13701790279167625\n",
            "\n",
            "Train recall_macro: 0.23671654611334872\n",
            "\n",
            "Train f1_macro: 0.17164370387064828\n",
            "\n",
            "Train precision_weighted: 0.1979677477140959\n",
            "\n",
            "Train recall_weighted: 0.3288732394366197\n",
            "\n",
            "Train f1_weighted: 0.2449012937279794\n",
            "\n"
          ]
        },
        {
          "output_type": "stream",
          "name": "stderr",
          "text": [
            "loop over test batches: 100%|██████████| 12/12 [00:01<00:00, 11.61it/s]\n"
          ]
        },
        {
          "output_type": "stream",
          "name": "stdout",
          "text": [
            "Test loss:  1.2188549141089122\n",
            "\n",
            "Test accuracy: 0.3526785714285714\n",
            "\n",
            "Test precision_tag_O: 0.6215460852070759\n",
            "\n",
            "Test recall_tag_O: 0.9657148407148406\n",
            "\n",
            "Test f1_tag_O: 0.7484944603428708\n",
            "\n",
            "Test precision_tag_requirements: 0.0\n",
            "\n",
            "Test recall_tag_requirements: 0.0\n",
            "\n",
            "Test f1_tag_requirements: 0.0\n",
            "\n",
            "Test precision_tag_terms: 0.0\n",
            "\n",
            "Test recall_tag_terms: 0.0\n",
            "\n",
            "Test f1_tag_terms: 0.0\n",
            "\n",
            "Test precision_tag_notes: 0.0\n",
            "\n",
            "Test recall_tag_notes: 0.0\n",
            "\n",
            "Test f1_tag_notes: 0.0\n",
            "\n",
            "Test precision_macro: 0.15538652130176897\n",
            "\n",
            "Test recall_macro: 0.24142871017871015\n",
            "\n",
            "Test f1_macro: 0.1871236150857177\n",
            "\n",
            "Test precision_weighted: 0.22820506126427176\n",
            "\n",
            "Test recall_weighted: 0.3526785714285714\n",
            "\n",
            "Test f1_weighted: 0.27423245004237146\n",
            "\n",
            "Epoch [21 / 100]\n",
            "\n"
          ]
        },
        {
          "output_type": "stream",
          "name": "stderr",
          "text": [
            "loop over train batches:  87%|████████▋ | 62/71 [00:20<00:03,  2.87it/s]"
          ]
        },
        {
          "output_type": "stream",
          "name": "stdout",
          "text": [
            "Catched\n"
          ]
        },
        {
          "output_type": "stream",
          "name": "stderr",
          "text": [
            "loop over train batches: 100%|██████████| 71/71 [00:24<00:00,  2.92it/s]\n"
          ]
        },
        {
          "output_type": "stream",
          "name": "stdout",
          "text": [
            "Train loss: 1.2366792274193026\n",
            "\n",
            "Train accuracy: 0.32913732394366196\n",
            "\n",
            "Train precision_tag_O: 0.5608395693960401\n",
            "\n",
            "Train recall_tag_O: 0.9375683864602671\n",
            "\n",
            "Train f1_tag_O: 0.6925835358555895\n",
            "\n",
            "Train precision_tag_requirements: 0.0\n",
            "\n",
            "Train recall_tag_requirements: 0.0\n",
            "\n",
            "Train f1_tag_requirements: 0.0\n",
            "\n",
            "Train precision_tag_terms: 0.0\n",
            "\n",
            "Train recall_tag_terms: 0.0\n",
            "\n",
            "Train f1_tag_terms: 0.0\n",
            "\n",
            "Train precision_tag_notes: 0.0\n",
            "\n",
            "Train recall_tag_notes: 0.0\n",
            "\n",
            "Train f1_tag_notes: 0.0\n",
            "\n",
            "Train precision_macro: 0.14020989234901002\n",
            "\n",
            "Train recall_macro: 0.23439209661506677\n",
            "\n",
            "Train f1_macro: 0.17314588396389738\n",
            "\n",
            "Train precision_weighted: 0.20676132420126528\n",
            "\n",
            "Train recall_weighted: 0.32913732394366196\n",
            "\n",
            "Train f1_weighted: 0.25124133178650687\n",
            "\n"
          ]
        },
        {
          "output_type": "stream",
          "name": "stderr",
          "text": [
            "loop over test batches: 100%|██████████| 12/12 [00:01<00:00, 11.76it/s]\n"
          ]
        },
        {
          "output_type": "stream",
          "name": "stdout",
          "text": [
            "Test loss:  1.1990195562442143\n",
            "\n",
            "Test accuracy: 0.3578869047619047\n",
            "\n",
            "Test precision_tag_O: 0.5813020742587305\n",
            "\n",
            "Test recall_tag_O: 0.9802350427350427\n",
            "\n",
            "Test f1_tag_O: 0.7253425587565917\n",
            "\n",
            "Test precision_tag_requirements: 0.0\n",
            "\n",
            "Test recall_tag_requirements: 0.0\n",
            "\n",
            "Test f1_tag_requirements: 0.0\n",
            "\n",
            "Test precision_tag_terms: 0.0\n",
            "\n",
            "Test recall_tag_terms: 0.0\n",
            "\n",
            "Test f1_tag_terms: 0.0\n",
            "\n",
            "Test precision_tag_notes: 0.0\n",
            "\n",
            "Test recall_tag_notes: 0.0\n",
            "\n",
            "Test f1_tag_notes: 0.0\n",
            "\n",
            "Test precision_macro: 0.14532551856468262\n",
            "\n",
            "Test recall_macro: 0.24505876068376067\n",
            "\n",
            "Test f1_macro: 0.18133563968914793\n",
            "\n",
            "Test precision_weighted: 0.21405615824878596\n",
            "\n",
            "Test recall_weighted: 0.3578869047619047\n",
            "\n",
            "Test f1_weighted: 0.2663040005769417\n",
            "\n",
            "Epoch [22 / 100]\n",
            "\n"
          ]
        },
        {
          "output_type": "stream",
          "name": "stderr",
          "text": [
            "loop over train batches:  96%|█████████▌| 68/71 [00:23<00:01,  2.66it/s]"
          ]
        },
        {
          "output_type": "stream",
          "name": "stdout",
          "text": [
            "Catched\n"
          ]
        },
        {
          "output_type": "stream",
          "name": "stderr",
          "text": [
            "loop over train batches: 100%|██████████| 71/71 [00:24<00:00,  2.94it/s]\n"
          ]
        },
        {
          "output_type": "stream",
          "name": "stdout",
          "text": [
            "Train loss: 1.1851519270681998\n",
            "\n",
            "Train accuracy: 0.32984154929577464\n",
            "\n",
            "Train precision_tag_O: 0.5651922276934126\n",
            "\n",
            "Train recall_tag_O: 0.9488035315314782\n",
            "\n",
            "Train f1_tag_O: 0.7006225101713922\n",
            "\n",
            "Train precision_tag_requirements: 0.0\n",
            "\n",
            "Train recall_tag_requirements: 0.0\n",
            "\n",
            "Train f1_tag_requirements: 0.0\n",
            "\n",
            "Train precision_tag_terms: 0.0\n",
            "\n",
            "Train recall_tag_terms: 0.0\n",
            "\n",
            "Train f1_tag_terms: 0.0\n",
            "\n",
            "Train precision_tag_notes: 0.0\n",
            "\n",
            "Train recall_tag_notes: 0.0\n",
            "\n",
            "Train f1_tag_notes: 0.0\n",
            "\n",
            "Train precision_macro: 0.14129805692335315\n",
            "\n",
            "Train recall_macro: 0.23720088288286956\n",
            "\n",
            "Train f1_macro: 0.17515562754284805\n",
            "\n",
            "Train precision_weighted: 0.20571463844609986\n",
            "\n",
            "Train recall_weighted: 0.32984154929577464\n",
            "\n",
            "Train f1_weighted: 0.25124026849981446\n",
            "\n"
          ]
        },
        {
          "output_type": "stream",
          "name": "stderr",
          "text": [
            "loop over test batches: 100%|██████████| 12/12 [00:01<00:00,  7.71it/s]\n"
          ]
        },
        {
          "output_type": "stream",
          "name": "stdout",
          "text": [
            "Test loss:  1.160880242784818\n",
            "\n",
            "Test accuracy: 0.3526785714285714\n",
            "\n",
            "Test precision_tag_O: 0.6269583085759557\n",
            "\n",
            "Test recall_tag_O: 0.9657148407148406\n",
            "\n",
            "Test f1_tag_O: 0.7544900634699485\n",
            "\n",
            "Test precision_tag_requirements: 0.0\n",
            "\n",
            "Test recall_tag_requirements: 0.0\n",
            "\n",
            "Test f1_tag_requirements: 0.0\n",
            "\n",
            "Test precision_tag_terms: 0.0\n",
            "\n",
            "Test recall_tag_terms: 0.0\n",
            "\n",
            "Test f1_tag_terms: 0.0\n",
            "\n",
            "Test precision_tag_notes: 0.0\n",
            "\n",
            "Test recall_tag_notes: 0.0\n",
            "\n",
            "Test f1_tag_notes: 0.0\n",
            "\n",
            "Test precision_macro: 0.15673957714398892\n",
            "\n",
            "Test recall_macro: 0.24142871017871015\n",
            "\n",
            "Test f1_macro: 0.18862251586748713\n",
            "\n",
            "Test precision_weighted: 0.23043735012944574\n",
            "\n",
            "Test recall_weighted: 0.3526785714285714\n",
            "\n",
            "Test f1_weighted: 0.2766123839309903\n",
            "\n",
            "Epoch [23 / 100]\n",
            "\n"
          ]
        },
        {
          "output_type": "stream",
          "name": "stderr",
          "text": [
            "loop over train batches:  14%|█▍        | 10/71 [00:04<00:26,  2.32it/s]"
          ]
        },
        {
          "output_type": "stream",
          "name": "stdout",
          "text": [
            "Catched\n"
          ]
        },
        {
          "output_type": "stream",
          "name": "stderr",
          "text": [
            "loop over train batches: 100%|██████████| 71/71 [00:26<00:00,  2.73it/s]\n"
          ]
        },
        {
          "output_type": "stream",
          "name": "stdout",
          "text": [
            "Train loss: 1.166233024966549\n",
            "\n",
            "Train accuracy: 0.3294894366197183\n",
            "\n",
            "Train precision_tag_O: 0.5894990054012603\n",
            "\n",
            "Train recall_tag_O: 0.9418190978486187\n",
            "\n",
            "Train f1_tag_O: 0.7195124096556605\n",
            "\n",
            "Train precision_tag_requirements: 0.0\n",
            "\n",
            "Train recall_tag_requirements: 0.0\n",
            "\n",
            "Train f1_tag_requirements: 0.0\n",
            "\n",
            "Train precision_tag_terms: 0.0\n",
            "\n",
            "Train recall_tag_terms: 0.0\n",
            "\n",
            "Train f1_tag_terms: 0.0\n",
            "\n",
            "Train precision_tag_notes: 0.0\n",
            "\n",
            "Train recall_tag_notes: 0.0\n",
            "\n",
            "Train f1_tag_notes: 0.0\n",
            "\n",
            "Train precision_macro: 0.14737475135031508\n",
            "\n",
            "Train recall_macro: 0.23545477446215468\n",
            "\n",
            "Train f1_macro: 0.17987810241391514\n",
            "\n",
            "Train precision_weighted: 0.21159130694697012\n",
            "\n",
            "Train recall_weighted: 0.3294894366197183\n",
            "\n",
            "Train f1_weighted: 0.2557598332520675\n",
            "\n"
          ]
        },
        {
          "output_type": "stream",
          "name": "stderr",
          "text": [
            "loop over test batches: 100%|██████████| 12/12 [00:00<00:00, 16.70it/s]\n"
          ]
        },
        {
          "output_type": "stream",
          "name": "stdout",
          "text": [
            "Test loss:  1.167656660079956\n",
            "\n",
            "Test accuracy: 0.3526785714285714\n",
            "\n",
            "Test precision_tag_O: 0.618157712314059\n",
            "\n",
            "Test recall_tag_O: 0.9657148407148406\n",
            "\n",
            "Test f1_tag_O: 0.748433405554744\n",
            "\n",
            "Test precision_tag_requirements: 0.0\n",
            "\n",
            "Test recall_tag_requirements: 0.0\n",
            "\n",
            "Test f1_tag_requirements: 0.0\n",
            "\n",
            "Test precision_tag_terms: 0.0\n",
            "\n",
            "Test recall_tag_terms: 0.0\n",
            "\n",
            "Test f1_tag_terms: 0.0\n",
            "\n",
            "Test precision_tag_notes: 0.0\n",
            "\n",
            "Test recall_tag_notes: 0.0\n",
            "\n",
            "Test f1_tag_notes: 0.0\n",
            "\n",
            "Test precision_macro: 0.15453942807851476\n",
            "\n",
            "Test recall_macro: 0.24142871017871015\n",
            "\n",
            "Test f1_macro: 0.187108351388686\n",
            "\n",
            "Test precision_weighted: 0.22686855784645066\n",
            "\n",
            "Test recall_weighted: 0.3526785714285714\n",
            "\n",
            "Test f1_weighted: 0.2741503654074335\n",
            "\n",
            "Epoch [24 / 100]\n",
            "\n"
          ]
        },
        {
          "output_type": "stream",
          "name": "stderr",
          "text": [
            "loop over train batches:  58%|█████▊    | 41/71 [00:14<00:10,  2.79it/s]"
          ]
        },
        {
          "output_type": "stream",
          "name": "stdout",
          "text": [
            "Catched\n"
          ]
        },
        {
          "output_type": "stream",
          "name": "stderr",
          "text": [
            "loop over train batches: 100%|██████████| 71/71 [00:24<00:00,  2.91it/s]\n"
          ]
        },
        {
          "output_type": "stream",
          "name": "stdout",
          "text": [
            "Train loss: 1.1177691909628855\n",
            "\n",
            "Train accuracy: 0.3279929577464789\n",
            "\n",
            "Train precision_tag_O: 0.5985192661288813\n",
            "\n",
            "Train recall_tag_O: 0.943856757713427\n",
            "\n",
            "Train f1_tag_O: 0.7212547987815533\n",
            "\n",
            "Train precision_tag_requirements: 0.0\n",
            "\n",
            "Train recall_tag_requirements: 0.0\n",
            "\n",
            "Train f1_tag_requirements: 0.0\n",
            "\n",
            "Train precision_tag_terms: 0.0\n",
            "\n",
            "Train recall_tag_terms: 0.0\n",
            "\n",
            "Train f1_tag_terms: 0.0\n",
            "\n",
            "Train precision_tag_notes: 0.0\n",
            "\n",
            "Train recall_tag_notes: 0.0\n",
            "\n",
            "Train f1_tag_notes: 0.0\n",
            "\n",
            "Train precision_macro: 0.14962981653222032\n",
            "\n",
            "Train recall_macro: 0.23596418942835676\n",
            "\n",
            "Train f1_macro: 0.18031369969538832\n",
            "\n",
            "Train precision_weighted: 0.21917027799991126\n",
            "\n",
            "Train recall_weighted: 0.3279929577464789\n",
            "\n",
            "Train f1_weighted: 0.2596605655596134\n",
            "\n"
          ]
        },
        {
          "output_type": "stream",
          "name": "stderr",
          "text": [
            "loop over test batches: 100%|██████████| 12/12 [00:00<00:00, 16.58it/s]\n"
          ]
        },
        {
          "output_type": "stream",
          "name": "stdout",
          "text": [
            "Test loss:  1.1523649990558624\n",
            "\n",
            "Test accuracy: 0.3526785714285714\n",
            "\n",
            "Test precision_tag_O: 0.6339450685909663\n",
            "\n",
            "Test recall_tag_O: 0.9657148407148406\n",
            "\n",
            "Test f1_tag_O: 0.7573315352360482\n",
            "\n",
            "Test precision_tag_requirements: 0.0\n",
            "\n",
            "Test recall_tag_requirements: 0.0\n",
            "\n",
            "Test f1_tag_requirements: 0.0\n",
            "\n",
            "Test precision_tag_terms: 0.0\n",
            "\n",
            "Test recall_tag_terms: 0.0\n",
            "\n",
            "Test f1_tag_terms: 0.0\n",
            "\n",
            "Test precision_tag_notes: 0.0\n",
            "\n",
            "Test recall_tag_notes: 0.0\n",
            "\n",
            "Test f1_tag_notes: 0.0\n",
            "\n",
            "Test precision_macro: 0.15848626714774158\n",
            "\n",
            "Test recall_macro: 0.24142871017871015\n",
            "\n",
            "Test f1_macro: 0.18933288380901206\n",
            "\n",
            "Test precision_weighted: 0.2328149383632041\n",
            "\n",
            "Test recall_weighted: 0.3526785714285714\n",
            "\n",
            "Test f1_weighted: 0.2775266542658319\n",
            "\n",
            "Epoch [25 / 100]\n",
            "\n"
          ]
        },
        {
          "output_type": "stream",
          "name": "stderr",
          "text": [
            "loop over train batches:  83%|████████▎ | 59/71 [00:20<00:05,  2.31it/s]"
          ]
        },
        {
          "output_type": "stream",
          "name": "stdout",
          "text": [
            "Catched\n"
          ]
        },
        {
          "output_type": "stream",
          "name": "stderr",
          "text": [
            "loop over train batches: 100%|██████████| 71/71 [00:24<00:00,  2.95it/s]\n"
          ]
        },
        {
          "output_type": "stream",
          "name": "stdout",
          "text": [
            "Train loss: 1.0822019744926774\n",
            "\n",
            "Train accuracy: 0.33283450704225354\n",
            "\n",
            "Train precision_tag_O: 0.6111688037470421\n",
            "\n",
            "Train recall_tag_O: 0.9413169910270159\n",
            "\n",
            "Train f1_tag_O: 0.733856023117834\n",
            "\n",
            "Train precision_tag_requirements: 0.0\n",
            "\n",
            "Train recall_tag_requirements: 0.0\n",
            "\n",
            "Train f1_tag_requirements: 0.0\n",
            "\n",
            "Train precision_tag_terms: 0.0\n",
            "\n",
            "Train recall_tag_terms: 0.0\n",
            "\n",
            "Train f1_tag_terms: 0.0\n",
            "\n",
            "Train precision_tag_notes: 0.0\n",
            "\n",
            "Train recall_tag_notes: 0.0\n",
            "\n",
            "Train f1_tag_notes: 0.0\n",
            "\n",
            "Train precision_macro: 0.15279220093676052\n",
            "\n",
            "Train recall_macro: 0.23532924775675398\n",
            "\n",
            "Train f1_macro: 0.1834640057794585\n",
            "\n",
            "Train precision_weighted: 0.2230196815417405\n",
            "\n",
            "Train recall_weighted: 0.33283450704225354\n",
            "\n",
            "Train f1_weighted: 0.2648296765926556\n",
            "\n"
          ]
        },
        {
          "output_type": "stream",
          "name": "stderr",
          "text": [
            "loop over test batches: 100%|██████████| 12/12 [00:01<00:00, 11.71it/s]\n"
          ]
        },
        {
          "output_type": "stream",
          "name": "stdout",
          "text": [
            "Test loss:  1.1509979416926701\n",
            "\n",
            "Test accuracy: 0.3526785714285714\n",
            "\n",
            "Test precision_tag_O: 0.6156060489361572\n",
            "\n",
            "Test recall_tag_O: 0.9657148407148406\n",
            "\n",
            "Test f1_tag_O: 0.7466827008159697\n",
            "\n",
            "Test precision_tag_requirements: 0.0\n",
            "\n",
            "Test recall_tag_requirements: 0.0\n",
            "\n",
            "Test f1_tag_requirements: 0.0\n",
            "\n",
            "Test precision_tag_terms: 0.0\n",
            "\n",
            "Test recall_tag_terms: 0.0\n",
            "\n",
            "Test f1_tag_terms: 0.0\n",
            "\n",
            "Test precision_tag_notes: 0.0\n",
            "\n",
            "Test recall_tag_notes: 0.0\n",
            "\n",
            "Test f1_tag_notes: 0.0\n",
            "\n",
            "Test precision_macro: 0.1539015122340393\n",
            "\n",
            "Test recall_macro: 0.24142871017871015\n",
            "\n",
            "Test f1_macro: 0.18667067520399241\n",
            "\n",
            "Test precision_weighted: 0.22609018544190518\n",
            "\n",
            "Test recall_weighted: 0.3526785714285714\n",
            "\n",
            "Test f1_weighted: 0.2736663017394246\n",
            "\n",
            "Epoch [26 / 100]\n",
            "\n"
          ]
        },
        {
          "output_type": "stream",
          "name": "stderr",
          "text": [
            "loop over train batches:   7%|▋         | 5/71 [00:01<00:21,  3.12it/s]"
          ]
        },
        {
          "output_type": "stream",
          "name": "stdout",
          "text": [
            "Catched\n"
          ]
        },
        {
          "output_type": "stream",
          "name": "stderr",
          "text": [
            "loop over train batches: 100%|██████████| 71/71 [00:23<00:00,  2.98it/s]\n"
          ]
        },
        {
          "output_type": "stream",
          "name": "stdout",
          "text": [
            "Train loss: 1.0523760939987612\n",
            "\n",
            "Train accuracy: 0.33186619718309857\n",
            "\n",
            "Train precision_tag_O: 0.6139378554093016\n",
            "\n",
            "Train recall_tag_O: 0.9430172274103508\n",
            "\n",
            "Train f1_tag_O: 0.7344621326664729\n",
            "\n",
            "Train precision_tag_requirements: 0.0\n",
            "\n",
            "Train recall_tag_requirements: 0.0\n",
            "\n",
            "Train f1_tag_requirements: 0.0\n",
            "\n",
            "Train precision_tag_terms: 0.0\n",
            "\n",
            "Train recall_tag_terms: 0.0\n",
            "\n",
            "Train f1_tag_terms: 0.0\n",
            "\n",
            "Train precision_tag_notes: 0.0\n",
            "\n",
            "Train recall_tag_notes: 0.0\n",
            "\n",
            "Train f1_tag_notes: 0.0\n",
            "\n",
            "Train precision_macro: 0.1534844638523254\n",
            "\n",
            "Train recall_macro: 0.2357543068525877\n",
            "\n",
            "Train f1_macro: 0.18361553316661822\n",
            "\n",
            "Train precision_weighted: 0.22611654201602274\n",
            "\n",
            "Train recall_weighted: 0.33186619718309857\n",
            "\n",
            "Train f1_weighted: 0.26616006569630535\n",
            "\n"
          ]
        },
        {
          "output_type": "stream",
          "name": "stderr",
          "text": [
            "loop over test batches: 100%|██████████| 12/12 [00:01<00:00, 11.84it/s]\n"
          ]
        },
        {
          "output_type": "stream",
          "name": "stdout",
          "text": [
            "Test loss:  1.1290339132150014\n",
            "\n",
            "Test accuracy: 0.3526785714285714\n",
            "\n",
            "Test precision_tag_O: 0.6594602826510721\n",
            "\n",
            "Test recall_tag_O: 0.9657148407148406\n",
            "\n",
            "Test f1_tag_O: 0.7800062104706152\n",
            "\n",
            "Test precision_tag_requirements: 0.0\n",
            "\n",
            "Test recall_tag_requirements: 0.0\n",
            "\n",
            "Test f1_tag_requirements: 0.0\n",
            "\n",
            "Test precision_tag_terms: 0.0\n",
            "\n",
            "Test recall_tag_terms: 0.0\n",
            "\n",
            "Test f1_tag_terms: 0.0\n",
            "\n",
            "Test precision_tag_notes: 0.0\n",
            "\n",
            "Test recall_tag_notes: 0.0\n",
            "\n",
            "Test f1_tag_notes: 0.0\n",
            "\n",
            "Test precision_macro: 0.16486507066276804\n",
            "\n",
            "Test recall_macro: 0.24142871017871015\n",
            "\n",
            "Test f1_macro: 0.1950015526176538\n",
            "\n",
            "Test precision_weighted: 0.24177137114897132\n",
            "\n",
            "Test recall_weighted: 0.3526785714285714\n",
            "\n",
            "Test f1_weighted: 0.2855178435156726\n",
            "\n",
            "Epoch [27 / 100]\n",
            "\n"
          ]
        },
        {
          "output_type": "stream",
          "name": "stderr",
          "text": [
            "loop over train batches:  61%|██████    | 43/71 [00:14<00:08,  3.12it/s]"
          ]
        },
        {
          "output_type": "stream",
          "name": "stdout",
          "text": [
            "Catched\n"
          ]
        },
        {
          "output_type": "stream",
          "name": "stderr",
          "text": [
            "loop over train batches: 100%|██████████| 71/71 [00:24<00:00,  2.91it/s]\n"
          ]
        },
        {
          "output_type": "stream",
          "name": "stdout",
          "text": [
            "Train loss: 1.0249013665696265\n",
            "\n",
            "Train accuracy: 0.3288732394366197\n",
            "\n",
            "Train precision_tag_O: 0.6190135292371202\n",
            "\n",
            "Train recall_tag_O: 0.945822096526322\n",
            "\n",
            "Train f1_tag_O: 0.7404727893897769\n",
            "\n",
            "Train precision_tag_requirements: 0.0\n",
            "\n",
            "Train recall_tag_requirements: 0.0\n",
            "\n",
            "Train f1_tag_requirements: 0.0\n",
            "\n",
            "Train precision_tag_terms: 0.0\n",
            "\n",
            "Train recall_tag_terms: 0.0\n",
            "\n",
            "Train f1_tag_terms: 0.0\n",
            "\n",
            "Train precision_tag_notes: 0.0\n",
            "\n",
            "Train recall_tag_notes: 0.0\n",
            "\n",
            "Train f1_tag_notes: 0.0\n",
            "\n",
            "Train precision_macro: 0.15475338230928004\n",
            "\n",
            "Train recall_macro: 0.2364555241315805\n",
            "\n",
            "Train f1_macro: 0.18511819734744422\n",
            "\n",
            "Train precision_weighted: 0.22332135417712998\n",
            "\n",
            "Train recall_weighted: 0.3288732394366197\n",
            "\n",
            "Train f1_weighted: 0.26376640781835237\n",
            "\n"
          ]
        },
        {
          "output_type": "stream",
          "name": "stderr",
          "text": [
            "loop over test batches: 100%|██████████| 12/12 [00:01<00:00, 11.79it/s]\n"
          ]
        },
        {
          "output_type": "stream",
          "name": "stdout",
          "text": [
            "Test loss:  1.1313727249701817\n",
            "\n",
            "Test accuracy: 0.3526785714285714\n",
            "\n",
            "Test precision_tag_O: 0.6340787709595759\n",
            "\n",
            "Test recall_tag_O: 0.9657148407148406\n",
            "\n",
            "Test f1_tag_O: 0.7622190797570849\n",
            "\n",
            "Test precision_tag_requirements: 0.0\n",
            "\n",
            "Test recall_tag_requirements: 0.0\n",
            "\n",
            "Test f1_tag_requirements: 0.0\n",
            "\n",
            "Test precision_tag_terms: 0.0\n",
            "\n",
            "Test recall_tag_terms: 0.0\n",
            "\n",
            "Test f1_tag_terms: 0.0\n",
            "\n",
            "Test precision_tag_notes: 0.0\n",
            "\n",
            "Test recall_tag_notes: 0.0\n",
            "\n",
            "Test f1_tag_notes: 0.0\n",
            "\n",
            "Test precision_macro: 0.15851969273989397\n",
            "\n",
            "Test recall_macro: 0.24142871017871015\n",
            "\n",
            "Test f1_macro: 0.19055476993927123\n",
            "\n",
            "Test precision_weighted: 0.23234991751705178\n",
            "\n",
            "Test recall_weighted: 0.3526785714285714\n",
            "\n",
            "Test f1_weighted: 0.27893130977171116\n",
            "\n",
            "Epoch [28 / 100]\n",
            "\n"
          ]
        },
        {
          "output_type": "stream",
          "name": "stderr",
          "text": [
            "loop over train batches:  44%|████▎     | 31/71 [00:10<00:14,  2.74it/s]"
          ]
        },
        {
          "output_type": "stream",
          "name": "stdout",
          "text": [
            "Catched\n"
          ]
        },
        {
          "output_type": "stream",
          "name": "stderr",
          "text": [
            "loop over train batches: 100%|██████████| 71/71 [00:24<00:00,  2.93it/s]\n"
          ]
        },
        {
          "output_type": "stream",
          "name": "stdout",
          "text": [
            "Train loss: 0.9918776112543025\n",
            "\n",
            "Train accuracy: 0.3330985915492958\n",
            "\n",
            "Train precision_tag_O: 0.6350026932119569\n",
            "\n",
            "Train recall_tag_O: 0.9486364574392743\n",
            "\n",
            "Train f1_tag_O: 0.7547767225782808\n",
            "\n",
            "Train precision_tag_requirements: 0.0\n",
            "\n",
            "Train recall_tag_requirements: 0.0\n",
            "\n",
            "Train f1_tag_requirements: 0.0\n",
            "\n",
            "Train precision_tag_terms: 0.0\n",
            "\n",
            "Train recall_tag_terms: 0.0\n",
            "\n",
            "Train f1_tag_terms: 0.0\n",
            "\n",
            "Train precision_tag_notes: 0.0\n",
            "\n",
            "Train recall_tag_notes: 0.0\n",
            "\n",
            "Train f1_tag_notes: 0.0\n",
            "\n",
            "Train precision_macro: 0.15875067330298923\n",
            "\n",
            "Train recall_macro: 0.23715911435981857\n",
            "\n",
            "Train f1_macro: 0.1886941806445702\n",
            "\n",
            "Train precision_weighted: 0.22961367145779316\n",
            "\n",
            "Train recall_weighted: 0.3330985915492958\n",
            "\n",
            "Train f1_weighted: 0.2699229939763812\n",
            "\n"
          ]
        },
        {
          "output_type": "stream",
          "name": "stderr",
          "text": [
            "loop over test batches: 100%|██████████| 12/12 [00:00<00:00, 16.29it/s]\n"
          ]
        },
        {
          "output_type": "stream",
          "name": "stdout",
          "text": [
            "Test loss:  1.1188620030879974\n",
            "\n",
            "Test accuracy: 0.3526785714285714\n",
            "\n",
            "Test precision_tag_O: 0.6574690402476779\n",
            "\n",
            "Test recall_tag_O: 0.9657148407148406\n",
            "\n",
            "Test f1_tag_O: 0.7774511878006501\n",
            "\n",
            "Test precision_tag_requirements: 0.0\n",
            "\n",
            "Test recall_tag_requirements: 0.0\n",
            "\n",
            "Test f1_tag_requirements: 0.0\n",
            "\n",
            "Test precision_tag_terms: 0.0\n",
            "\n",
            "Test recall_tag_terms: 0.0\n",
            "\n",
            "Test f1_tag_terms: 0.0\n",
            "\n",
            "Test precision_tag_notes: 0.0\n",
            "\n",
            "Test recall_tag_notes: 0.0\n",
            "\n",
            "Test f1_tag_notes: 0.0\n",
            "\n",
            "Test precision_macro: 0.16436726006191948\n",
            "\n",
            "Test recall_macro: 0.24142871017871015\n",
            "\n",
            "Test f1_macro: 0.19436279695016254\n",
            "\n",
            "Test precision_weighted: 0.24072925496953165\n",
            "\n",
            "Test recall_weighted: 0.3526785714285714\n",
            "\n",
            "Test f1_weighted: 0.28436262795721795\n",
            "\n",
            "Epoch [29 / 100]\n",
            "\n"
          ]
        },
        {
          "output_type": "stream",
          "name": "stderr",
          "text": [
            "loop over train batches:  92%|█████████▏| 65/71 [00:23<00:01,  3.02it/s]"
          ]
        },
        {
          "output_type": "stream",
          "name": "stdout",
          "text": [
            "Catched\n"
          ]
        },
        {
          "output_type": "stream",
          "name": "stderr",
          "text": [
            "loop over train batches: 100%|██████████| 71/71 [00:25<00:00,  2.83it/s]\n"
          ]
        },
        {
          "output_type": "stream",
          "name": "stdout",
          "text": [
            "Train loss: 0.9834450772950347\n",
            "\n",
            "Train accuracy: 0.3257042253521127\n",
            "\n",
            "Train precision_tag_O: 0.631353672938398\n",
            "\n",
            "Train recall_tag_O: 0.9233500936216456\n",
            "\n",
            "Train f1_tag_O: 0.7413760105575433\n",
            "\n",
            "Train precision_tag_requirements: 0.0\n",
            "\n",
            "Train recall_tag_requirements: 0.0\n",
            "\n",
            "Train f1_tag_requirements: 0.0\n",
            "\n",
            "Train precision_tag_terms: 0.0\n",
            "\n",
            "Train recall_tag_terms: 0.0\n",
            "\n",
            "Train f1_tag_terms: 0.0\n",
            "\n",
            "Train precision_tag_notes: 0.0\n",
            "\n",
            "Train recall_tag_notes: 0.0\n",
            "\n",
            "Train f1_tag_notes: 0.0\n",
            "\n",
            "Train precision_macro: 0.1578384182345995\n",
            "\n",
            "Train recall_macro: 0.2308375234054114\n",
            "\n",
            "Train f1_macro: 0.18534400263938583\n",
            "\n",
            "Train precision_weighted: 0.23236853967475848\n",
            "\n",
            "Train recall_weighted: 0.3257042253521127\n",
            "\n",
            "Train f1_weighted: 0.26857744252719046\n",
            "\n"
          ]
        },
        {
          "output_type": "stream",
          "name": "stderr",
          "text": [
            "loop over test batches: 100%|██████████| 12/12 [00:01<00:00, 11.41it/s]\n"
          ]
        },
        {
          "output_type": "stream",
          "name": "stdout",
          "text": [
            "Test loss:  1.1254266997178395\n",
            "\n",
            "Test accuracy: 0.3526785714285714\n",
            "\n",
            "Test precision_tag_O: 0.672743234720789\n",
            "\n",
            "Test recall_tag_O: 0.9657148407148406\n",
            "\n",
            "Test f1_tag_O: 0.7893731561974052\n",
            "\n",
            "Test precision_tag_requirements: 0.0\n",
            "\n",
            "Test recall_tag_requirements: 0.0\n",
            "\n",
            "Test f1_tag_requirements: 0.0\n",
            "\n",
            "Test precision_tag_terms: 0.0\n",
            "\n",
            "Test recall_tag_terms: 0.0\n",
            "\n",
            "Test f1_tag_terms: 0.0\n",
            "\n",
            "Test precision_tag_notes: 0.0\n",
            "\n",
            "Test recall_tag_notes: 0.0\n",
            "\n",
            "Test f1_tag_notes: 0.0\n",
            "\n",
            "Test precision_macro: 0.16818580868019725\n",
            "\n",
            "Test recall_macro: 0.24142871017871015\n",
            "\n",
            "Test f1_macro: 0.1973432890493513\n",
            "\n",
            "Test precision_weighted: 0.24644790847625597\n",
            "\n",
            "Test recall_weighted: 0.3526785714285714\n",
            "\n",
            "Test f1_weighted: 0.28879931253352115\n",
            "\n",
            "Epoch [30 / 100]\n",
            "\n"
          ]
        },
        {
          "output_type": "stream",
          "name": "stderr",
          "text": [
            "loop over train batches:   7%|▋         | 5/71 [00:01<00:23,  2.77it/s]"
          ]
        },
        {
          "output_type": "stream",
          "name": "stdout",
          "text": [
            "Catched\n"
          ]
        },
        {
          "output_type": "stream",
          "name": "stderr",
          "text": [
            "loop over train batches: 100%|██████████| 71/71 [00:24<00:00,  2.86it/s]\n"
          ]
        },
        {
          "output_type": "stream",
          "name": "stdout",
          "text": [
            "Train loss: 0.9475139522216689\n",
            "\n",
            "Train accuracy: 0.3322183098591549\n",
            "\n",
            "Train precision_tag_O: 0.64436623814848\n",
            "\n",
            "Train recall_tag_O: 0.9431390206038094\n",
            "\n",
            "Train f1_tag_O: 0.7593971894775841\n",
            "\n",
            "Train precision_tag_requirements: 0.0\n",
            "\n",
            "Train recall_tag_requirements: 0.0\n",
            "\n",
            "Train f1_tag_requirements: 0.0\n",
            "\n",
            "Train precision_tag_terms: 0.0\n",
            "\n",
            "Train recall_tag_terms: 0.0\n",
            "\n",
            "Train f1_tag_terms: 0.0\n",
            "\n",
            "Train precision_tag_notes: 0.0\n",
            "\n",
            "Train recall_tag_notes: 0.0\n",
            "\n",
            "Train f1_tag_notes: 0.0\n",
            "\n",
            "Train precision_macro: 0.16109155953712\n",
            "\n",
            "Train recall_macro: 0.23578475515095235\n",
            "\n",
            "Train f1_macro: 0.18984929736939601\n",
            "\n",
            "Train precision_weighted: 0.23315334073334856\n",
            "\n",
            "Train recall_weighted: 0.3322183098591549\n",
            "\n",
            "Train f1_weighted: 0.27207432333867343\n",
            "\n"
          ]
        },
        {
          "output_type": "stream",
          "name": "stderr",
          "text": [
            "loop over test batches: 100%|██████████| 12/12 [00:00<00:00, 16.33it/s]\n"
          ]
        },
        {
          "output_type": "stream",
          "name": "stdout",
          "text": [
            "Test loss:  1.11504328250885\n",
            "\n",
            "Test accuracy: 0.3526785714285714\n",
            "\n",
            "Test precision_tag_O: 0.6321495444270211\n",
            "\n",
            "Test recall_tag_O: 0.9657148407148406\n",
            "\n",
            "Test f1_tag_O: 0.759752239565458\n",
            "\n",
            "Test precision_tag_requirements: 0.0\n",
            "\n",
            "Test recall_tag_requirements: 0.0\n",
            "\n",
            "Test f1_tag_requirements: 0.0\n",
            "\n",
            "Test precision_tag_terms: 0.0\n",
            "\n",
            "Test recall_tag_terms: 0.0\n",
            "\n",
            "Test f1_tag_terms: 0.0\n",
            "\n",
            "Test precision_tag_notes: 0.0\n",
            "\n",
            "Test recall_tag_notes: 0.0\n",
            "\n",
            "Test f1_tag_notes: 0.0\n",
            "\n",
            "Test precision_macro: 0.15803738610675527\n",
            "\n",
            "Test recall_macro: 0.24142871017871015\n",
            "\n",
            "Test f1_macro: 0.1899380598913645\n",
            "\n",
            "Test precision_weighted: 0.2317439397883356\n",
            "\n",
            "Test recall_weighted: 0.3526785714285714\n",
            "\n",
            "Test f1_weighted: 0.27813520906642314\n",
            "\n",
            "Epoch [31 / 100]\n",
            "\n"
          ]
        },
        {
          "output_type": "stream",
          "name": "stderr",
          "text": [
            "loop over train batches:  92%|█████████▏| 65/71 [00:22<00:02,  2.64it/s]"
          ]
        },
        {
          "output_type": "stream",
          "name": "stdout",
          "text": [
            "Catched\n"
          ]
        },
        {
          "output_type": "stream",
          "name": "stderr",
          "text": [
            "loop over train batches: 100%|██████████| 71/71 [00:24<00:00,  2.90it/s]\n"
          ]
        },
        {
          "output_type": "stream",
          "name": "stdout",
          "text": [
            "Train loss: 0.9284802012040582\n",
            "\n",
            "Train accuracy: 0.33274647887323944\n",
            "\n",
            "Train precision_tag_O: 0.65356301769004\n",
            "\n",
            "Train recall_tag_O: 0.9439967895953812\n",
            "\n",
            "Train f1_tag_O: 0.7651612747071315\n",
            "\n",
            "Train precision_tag_requirements: 0.0\n",
            "\n",
            "Train recall_tag_requirements: 0.0\n",
            "\n",
            "Train f1_tag_requirements: 0.0\n",
            "\n",
            "Train precision_tag_terms: 0.0\n",
            "\n",
            "Train recall_tag_terms: 0.0\n",
            "\n",
            "Train f1_tag_terms: 0.0\n",
            "\n",
            "Train precision_tag_notes: 0.0\n",
            "\n",
            "Train recall_tag_notes: 0.0\n",
            "\n",
            "Train f1_tag_notes: 0.0\n",
            "\n",
            "Train precision_macro: 0.16339075442251\n",
            "\n",
            "Train recall_macro: 0.2359991973988453\n",
            "\n",
            "Train f1_macro: 0.19129031867678287\n",
            "\n",
            "Train precision_weighted: 0.23765779749215188\n",
            "\n",
            "Train recall_weighted: 0.33274647887323944\n",
            "\n",
            "Train f1_weighted: 0.2751478533878918\n",
            "\n"
          ]
        },
        {
          "output_type": "stream",
          "name": "stderr",
          "text": [
            "loop over test batches: 100%|██████████| 12/12 [00:00<00:00, 16.55it/s]\n"
          ]
        },
        {
          "output_type": "stream",
          "name": "stdout",
          "text": [
            "Test loss:  1.1245799611012142\n",
            "\n",
            "Test accuracy: 0.3526785714285714\n",
            "\n",
            "Test precision_tag_O: 0.6582450383437225\n",
            "\n",
            "Test recall_tag_O: 0.9657148407148406\n",
            "\n",
            "Test f1_tag_O: 0.7803018966452874\n",
            "\n",
            "Test precision_tag_requirements: 0.0\n",
            "\n",
            "Test recall_tag_requirements: 0.0\n",
            "\n",
            "Test f1_tag_requirements: 0.0\n",
            "\n",
            "Test precision_tag_terms: 0.0\n",
            "\n",
            "Test recall_tag_terms: 0.0\n",
            "\n",
            "Test f1_tag_terms: 0.0\n",
            "\n",
            "Test precision_tag_notes: 0.0\n",
            "\n",
            "Test recall_tag_notes: 0.0\n",
            "\n",
            "Test f1_tag_notes: 0.0\n",
            "\n",
            "Test precision_macro: 0.16456125958593062\n",
            "\n",
            "Test recall_macro: 0.24142871017871015\n",
            "\n",
            "Test f1_macro: 0.19507547416132184\n",
            "\n",
            "Test precision_weighted: 0.24078876797499812\n",
            "\n",
            "Test recall_weighted: 0.3526785714285714\n",
            "\n",
            "Test f1_weighted: 0.28524370082652745\n",
            "\n",
            "Epoch [32 / 100]\n",
            "\n"
          ]
        },
        {
          "output_type": "stream",
          "name": "stderr",
          "text": [
            "loop over train batches:  75%|███████▍  | 53/71 [00:17<00:05,  3.32it/s]"
          ]
        },
        {
          "output_type": "stream",
          "name": "stdout",
          "text": [
            "Catched\n"
          ]
        },
        {
          "output_type": "stream",
          "name": "stderr",
          "text": [
            "loop over train batches: 100%|██████████| 71/71 [00:24<00:00,  2.94it/s]\n"
          ]
        },
        {
          "output_type": "stream",
          "name": "stdout",
          "text": [
            "Train loss: 0.9113727564543066\n",
            "\n",
            "Train accuracy: 0.3311619718309859\n",
            "\n",
            "Train precision_tag_O: 0.6503500736717441\n",
            "\n",
            "Train recall_tag_O: 0.9454528061922428\n",
            "\n",
            "Train f1_tag_O: 0.7630952388473247\n",
            "\n",
            "Train precision_tag_requirements: 0.0\n",
            "\n",
            "Train recall_tag_requirements: 0.0\n",
            "\n",
            "Train f1_tag_requirements: 0.0\n",
            "\n",
            "Train precision_tag_terms: 0.0\n",
            "\n",
            "Train recall_tag_terms: 0.0\n",
            "\n",
            "Train f1_tag_terms: 0.0\n",
            "\n",
            "Train precision_tag_notes: 0.0\n",
            "\n",
            "Train recall_tag_notes: 0.0\n",
            "\n",
            "Train f1_tag_notes: 0.0\n",
            "\n",
            "Train precision_macro: 0.16258751841793603\n",
            "\n",
            "Train recall_macro: 0.2363632015480607\n",
            "\n",
            "Train f1_macro: 0.19077380971183117\n",
            "\n",
            "Train precision_weighted: 0.23532848633174927\n",
            "\n",
            "Train recall_weighted: 0.3311619718309859\n",
            "\n",
            "Train f1_weighted: 0.2727166923234656\n",
            "\n"
          ]
        },
        {
          "output_type": "stream",
          "name": "stderr",
          "text": [
            "loop over test batches: 100%|██████████| 12/12 [00:01<00:00, 11.96it/s]\n"
          ]
        },
        {
          "output_type": "stream",
          "name": "stdout",
          "text": [
            "Test loss:  1.1128703504800797\n",
            "\n",
            "Test accuracy: 0.3526785714285714\n",
            "\n",
            "Test precision_tag_O: 0.6857973160024243\n",
            "\n",
            "Test recall_tag_O: 0.9657148407148406\n",
            "\n",
            "Test f1_tag_O: 0.7987258355769665\n",
            "\n",
            "Test precision_tag_requirements: 0.0\n",
            "\n",
            "Test recall_tag_requirements: 0.0\n",
            "\n",
            "Test f1_tag_requirements: 0.0\n",
            "\n",
            "Test precision_tag_terms: 0.0\n",
            "\n",
            "Test recall_tag_terms: 0.0\n",
            "\n",
            "Test f1_tag_terms: 0.0\n",
            "\n",
            "Test precision_tag_notes: 0.0\n",
            "\n",
            "Test recall_tag_notes: 0.0\n",
            "\n",
            "Test f1_tag_notes: 0.0\n",
            "\n",
            "Test precision_macro: 0.17144932900060608\n",
            "\n",
            "Test recall_macro: 0.24142871017871015\n",
            "\n",
            "Test f1_macro: 0.19968145889424163\n",
            "\n",
            "Test precision_weighted: 0.25138214459760516\n",
            "\n",
            "Test recall_weighted: 0.3526785714285714\n",
            "\n",
            "Test f1_weighted: 0.29233615065717283\n",
            "\n",
            "Epoch [33 / 100]\n",
            "\n"
          ]
        },
        {
          "output_type": "stream",
          "name": "stderr",
          "text": [
            "loop over train batches:  73%|███████▎  | 52/71 [00:17<00:06,  3.16it/s]"
          ]
        },
        {
          "output_type": "stream",
          "name": "stdout",
          "text": [
            "Catched\n"
          ]
        },
        {
          "output_type": "stream",
          "name": "stderr",
          "text": [
            "loop over train batches: 100%|██████████| 71/71 [00:24<00:00,  2.92it/s]\n"
          ]
        },
        {
          "output_type": "stream",
          "name": "stdout",
          "text": [
            "Train loss: 0.8773140265068538\n",
            "\n",
            "Train accuracy: 0.3331866197183099\n",
            "\n",
            "Train precision_tag_O: 0.6565487860256743\n",
            "\n",
            "Train recall_tag_O: 0.9458155889493919\n",
            "\n",
            "Train f1_tag_O: 0.7692744937538224\n",
            "\n",
            "Train precision_tag_requirements: 0.0\n",
            "\n",
            "Train recall_tag_requirements: 0.0\n",
            "\n",
            "Train f1_tag_requirements: 0.0\n",
            "\n",
            "Train precision_tag_terms: 0.0\n",
            "\n",
            "Train recall_tag_terms: 0.0\n",
            "\n",
            "Train f1_tag_terms: 0.0\n",
            "\n",
            "Train precision_tag_notes: 0.0\n",
            "\n",
            "Train recall_tag_notes: 0.0\n",
            "\n",
            "Train f1_tag_notes: 0.0\n",
            "\n",
            "Train precision_macro: 0.1641371965064186\n",
            "\n",
            "Train recall_macro: 0.23645389723734797\n",
            "\n",
            "Train f1_macro: 0.1923186234384556\n",
            "\n",
            "Train precision_weighted: 0.2368134105488181\n",
            "\n",
            "Train recall_weighted: 0.3331866197183099\n",
            "\n",
            "Train f1_weighted: 0.2750096792263247\n",
            "\n"
          ]
        },
        {
          "output_type": "stream",
          "name": "stderr",
          "text": [
            "loop over test batches: 100%|██████████| 12/12 [00:01<00:00,  8.63it/s]\n"
          ]
        },
        {
          "output_type": "stream",
          "name": "stdout",
          "text": [
            "Test loss:  1.1275238792101543\n",
            "\n",
            "Test accuracy: 0.3526785714285714\n",
            "\n",
            "Test precision_tag_O: 0.6402948831354404\n",
            "\n",
            "Test recall_tag_O: 0.9657148407148406\n",
            "\n",
            "Test f1_tag_O: 0.7652891839360599\n",
            "\n",
            "Test precision_tag_requirements: 0.0\n",
            "\n",
            "Test recall_tag_requirements: 0.0\n",
            "\n",
            "Test f1_tag_requirements: 0.0\n",
            "\n",
            "Test precision_tag_terms: 0.0\n",
            "\n",
            "Test recall_tag_terms: 0.0\n",
            "\n",
            "Test f1_tag_terms: 0.0\n",
            "\n",
            "Test precision_tag_notes: 0.0\n",
            "\n",
            "Test recall_tag_notes: 0.0\n",
            "\n",
            "Test f1_tag_notes: 0.0\n",
            "\n",
            "Test precision_macro: 0.1600737207838601\n",
            "\n",
            "Test recall_macro: 0.24142871017871015\n",
            "\n",
            "Test f1_macro: 0.19132229598401498\n",
            "\n",
            "Test precision_weighted: 0.23520040438577586\n",
            "\n",
            "Test recall_weighted: 0.3526785714285714\n",
            "\n",
            "Test f1_weighted: 0.2805037109238319\n",
            "\n",
            "Epoch [34 / 100]\n",
            "\n"
          ]
        },
        {
          "output_type": "stream",
          "name": "stderr",
          "text": [
            "loop over train batches:  55%|█████▍    | 39/71 [00:13<00:12,  2.59it/s]"
          ]
        },
        {
          "output_type": "stream",
          "name": "stdout",
          "text": [
            "Catched\n"
          ]
        },
        {
          "output_type": "stream",
          "name": "stderr",
          "text": [
            "loop over train batches: 100%|██████████| 71/71 [00:23<00:00,  2.98it/s]\n"
          ]
        },
        {
          "output_type": "stream",
          "name": "stdout",
          "text": [
            "Train loss: 0.8806390015172286\n",
            "\n",
            "Train accuracy: 0.3313380281690141\n",
            "\n",
            "Train precision_tag_O: 0.6675244518123775\n",
            "\n",
            "Train recall_tag_O: 0.9429625538780468\n",
            "\n",
            "Train f1_tag_O: 0.7758085540658414\n",
            "\n",
            "Train precision_tag_requirements: 0.0\n",
            "\n",
            "Train recall_tag_requirements: 0.0\n",
            "\n",
            "Train f1_tag_requirements: 0.0\n",
            "\n",
            "Train precision_tag_terms: 0.0\n",
            "\n",
            "Train recall_tag_terms: 0.0\n",
            "\n",
            "Train f1_tag_terms: 0.0\n",
            "\n",
            "Train precision_tag_notes: 0.0\n",
            "\n",
            "Train recall_tag_notes: 0.0\n",
            "\n",
            "Train f1_tag_notes: 0.0\n",
            "\n",
            "Train precision_macro: 0.16688111295309438\n",
            "\n",
            "Train recall_macro: 0.2357406384695117\n",
            "\n",
            "Train f1_macro: 0.19395213851646034\n",
            "\n",
            "Train precision_weighted: 0.2397814803619552\n",
            "\n",
            "Train recall_weighted: 0.3313380281690141\n",
            "\n",
            "Train f1_weighted: 0.2762036811539777\n",
            "\n"
          ]
        },
        {
          "output_type": "stream",
          "name": "stderr",
          "text": [
            "loop over test batches: 100%|██████████| 12/12 [00:01<00:00, 11.39it/s]\n"
          ]
        },
        {
          "output_type": "stream",
          "name": "stdout",
          "text": [
            "Test loss:  1.1280170728762944\n",
            "\n",
            "Test accuracy: 0.3526785714285714\n",
            "\n",
            "Test precision_tag_O: 0.6651485740495028\n",
            "\n",
            "Test recall_tag_O: 0.9657148407148406\n",
            "\n",
            "Test f1_tag_O: 0.7828479174477042\n",
            "\n",
            "Test precision_tag_requirements: 0.0\n",
            "\n",
            "Test recall_tag_requirements: 0.0\n",
            "\n",
            "Test f1_tag_requirements: 0.0\n",
            "\n",
            "Test precision_tag_terms: 0.0\n",
            "\n",
            "Test recall_tag_terms: 0.0\n",
            "\n",
            "Test f1_tag_terms: 0.0\n",
            "\n",
            "Test precision_tag_notes: 0.0\n",
            "\n",
            "Test recall_tag_notes: 0.0\n",
            "\n",
            "Test f1_tag_notes: 0.0\n",
            "\n",
            "Test precision_macro: 0.1662871435123757\n",
            "\n",
            "Test recall_macro: 0.24142871017871015\n",
            "\n",
            "Test f1_macro: 0.19571197936192605\n",
            "\n",
            "Test precision_weighted: 0.24428898021196785\n",
            "\n",
            "Test recall_weighted: 0.3526785714285714\n",
            "\n",
            "Test f1_weighted: 0.28687349328264317\n",
            "\n",
            "Epoch [35 / 100]\n",
            "\n"
          ]
        },
        {
          "output_type": "stream",
          "name": "stderr",
          "text": [
            "loop over train batches:  56%|█████▋    | 40/71 [00:13<00:10,  3.09it/s]"
          ]
        },
        {
          "output_type": "stream",
          "name": "stdout",
          "text": [
            "Catched\n"
          ]
        },
        {
          "output_type": "stream",
          "name": "stderr",
          "text": [
            "loop over train batches: 100%|██████████| 71/71 [00:24<00:00,  2.86it/s]\n"
          ]
        },
        {
          "output_type": "stream",
          "name": "stdout",
          "text": [
            "Train loss: 0.8452915885079075\n",
            "\n",
            "Train accuracy: 0.3313380281690141\n",
            "\n",
            "Train precision_tag_O: 0.6645626416055491\n",
            "\n",
            "Train recall_tag_O: 0.9462503263559602\n",
            "\n",
            "Train f1_tag_O: 0.7741447148192128\n",
            "\n",
            "Train precision_tag_requirements: 0.0\n",
            "\n",
            "Train recall_tag_requirements: 0.0\n",
            "\n",
            "Train f1_tag_requirements: 0.0\n",
            "\n",
            "Train precision_tag_terms: 0.0\n",
            "\n",
            "Train recall_tag_terms: 0.0\n",
            "\n",
            "Train f1_tag_terms: 0.0\n",
            "\n",
            "Train precision_tag_notes: 0.0\n",
            "\n",
            "Train recall_tag_notes: 0.0\n",
            "\n",
            "Train f1_tag_notes: 0.0\n",
            "\n",
            "Train precision_macro: 0.16614066040138728\n",
            "\n",
            "Train recall_macro: 0.23656258158899005\n",
            "\n",
            "Train f1_macro: 0.1935361787048032\n",
            "\n",
            "Train precision_weighted: 0.2404304376727679\n",
            "\n",
            "Train recall_weighted: 0.3313380281690141\n",
            "\n",
            "Train f1_weighted: 0.27630426687673626\n",
            "\n"
          ]
        },
        {
          "output_type": "stream",
          "name": "stderr",
          "text": [
            "loop over test batches: 100%|██████████| 12/12 [00:00<00:00, 16.37it/s]\n"
          ]
        },
        {
          "output_type": "stream",
          "name": "stdout",
          "text": [
            "Test loss:  1.130269264181455\n",
            "\n",
            "Test accuracy: 0.3526785714285714\n",
            "\n",
            "Test precision_tag_O: 0.6955782099164453\n",
            "\n",
            "Test recall_tag_O: 0.9657148407148406\n",
            "\n",
            "Test f1_tag_O: 0.8050276540293225\n",
            "\n",
            "Test precision_tag_requirements: 0.0\n",
            "\n",
            "Test recall_tag_requirements: 0.0\n",
            "\n",
            "Test f1_tag_requirements: 0.0\n",
            "\n",
            "Test precision_tag_terms: 0.0\n",
            "\n",
            "Test recall_tag_terms: 0.0\n",
            "\n",
            "Test f1_tag_terms: 0.0\n",
            "\n",
            "Test precision_tag_notes: 0.0\n",
            "\n",
            "Test recall_tag_notes: 0.0\n",
            "\n",
            "Test f1_tag_notes: 0.0\n",
            "\n",
            "Test precision_macro: 0.17389455247911131\n",
            "\n",
            "Test recall_macro: 0.24142871017871015\n",
            "\n",
            "Test f1_macro: 0.20125691350733063\n",
            "\n",
            "Test precision_weighted: 0.2543988869586296\n",
            "\n",
            "Test recall_weighted: 0.3526785714285714\n",
            "\n",
            "Test f1_weighted: 0.2942802070869964\n",
            "\n",
            "Epoch [36 / 100]\n",
            "\n"
          ]
        },
        {
          "output_type": "stream",
          "name": "stderr",
          "text": [
            "loop over train batches:  96%|█████████▌| 68/71 [00:23<00:01,  2.52it/s]"
          ]
        },
        {
          "output_type": "stream",
          "name": "stdout",
          "text": [
            "Catched\n"
          ]
        },
        {
          "output_type": "stream",
          "name": "stderr",
          "text": [
            "loop over train batches: 100%|██████████| 71/71 [00:24<00:00,  2.93it/s]\n"
          ]
        },
        {
          "output_type": "stream",
          "name": "stdout",
          "text": [
            "Train loss: 0.8260439348892427\n",
            "\n",
            "Train accuracy: 0.3250880281690141\n",
            "\n",
            "Train precision_tag_O: 0.6756926010272716\n",
            "\n",
            "Train recall_tag_O: 0.9291396443012017\n",
            "\n",
            "Train f1_tag_O: 0.7771689788270932\n",
            "\n",
            "Train precision_tag_requirements: 0.0\n",
            "\n",
            "Train recall_tag_requirements: 0.0\n",
            "\n",
            "Train f1_tag_requirements: 0.0\n",
            "\n",
            "Train precision_tag_terms: 0.0\n",
            "\n",
            "Train recall_tag_terms: 0.0\n",
            "\n",
            "Train f1_tag_terms: 0.0\n",
            "\n",
            "Train precision_tag_notes: 0.0\n",
            "\n",
            "Train recall_tag_notes: 0.0\n",
            "\n",
            "Train f1_tag_notes: 0.0\n",
            "\n",
            "Train precision_macro: 0.1689231502568179\n",
            "\n",
            "Train recall_macro: 0.23228491107530042\n",
            "\n",
            "Train f1_macro: 0.1942922447067733\n",
            "\n",
            "Train precision_weighted: 0.24168991696692985\n",
            "\n",
            "Train recall_weighted: 0.3250880281690141\n",
            "\n",
            "Train f1_weighted: 0.27553563232153677\n",
            "\n"
          ]
        },
        {
          "output_type": "stream",
          "name": "stderr",
          "text": [
            "loop over test batches: 100%|██████████| 12/12 [00:00<00:00, 16.04it/s]\n"
          ]
        },
        {
          "output_type": "stream",
          "name": "stdout",
          "text": [
            "Test loss:  1.1336280306180317\n",
            "\n",
            "Test accuracy: 0.3526785714285714\n",
            "\n",
            "Test precision_tag_O: 0.666180061768297\n",
            "\n",
            "Test recall_tag_O: 0.9657148407148406\n",
            "\n",
            "Test f1_tag_O: 0.7848077241013837\n",
            "\n",
            "Test precision_tag_requirements: 0.0\n",
            "\n",
            "Test recall_tag_requirements: 0.0\n",
            "\n",
            "Test f1_tag_requirements: 0.0\n",
            "\n",
            "Test precision_tag_terms: 0.0\n",
            "\n",
            "Test recall_tag_terms: 0.0\n",
            "\n",
            "Test f1_tag_terms: 0.0\n",
            "\n",
            "Test precision_tag_notes: 0.0\n",
            "\n",
            "Test recall_tag_notes: 0.0\n",
            "\n",
            "Test f1_tag_notes: 0.0\n",
            "\n",
            "Test precision_macro: 0.16654501544207426\n",
            "\n",
            "Test recall_macro: 0.24142871017871015\n",
            "\n",
            "Test f1_macro: 0.19620193102534592\n",
            "\n",
            "Test precision_weighted: 0.2443905954475808\n",
            "\n",
            "Test recall_weighted: 0.3526785714285714\n",
            "\n",
            "Test f1_weighted: 0.2873994129568279\n",
            "\n",
            "Epoch [37 / 100]\n",
            "\n"
          ]
        },
        {
          "output_type": "stream",
          "name": "stderr",
          "text": [
            "loop over train batches:  10%|▉         | 7/71 [00:02<00:20,  3.13it/s]"
          ]
        },
        {
          "output_type": "stream",
          "name": "stdout",
          "text": [
            "Catched\n"
          ]
        },
        {
          "output_type": "stream",
          "name": "stderr",
          "text": [
            "loop over train batches: 100%|██████████| 71/71 [00:24<00:00,  2.88it/s]\n"
          ]
        },
        {
          "output_type": "stream",
          "name": "stdout",
          "text": [
            "Train loss: 0.793179129210996\n",
            "\n",
            "Train accuracy: 0.3319542253521127\n",
            "\n",
            "Train precision_tag_O: 0.6795176695957228\n",
            "\n",
            "Train recall_tag_O: 0.9410693355516315\n",
            "\n",
            "Train f1_tag_O: 0.781749398035472\n",
            "\n",
            "Train precision_tag_requirements: 0.0\n",
            "\n",
            "Train recall_tag_requirements: 0.0\n",
            "\n",
            "Train f1_tag_requirements: 0.0\n",
            "\n",
            "Train precision_tag_terms: 0.0\n",
            "\n",
            "Train recall_tag_terms: 0.0\n",
            "\n",
            "Train f1_tag_terms: 0.0\n",
            "\n",
            "Train precision_tag_notes: 0.0\n",
            "\n",
            "Train recall_tag_notes: 0.0\n",
            "\n",
            "Train f1_tag_notes: 0.0\n",
            "\n",
            "Train precision_macro: 0.1698794173989307\n",
            "\n",
            "Train recall_macro: 0.23526733388790788\n",
            "\n",
            "Train f1_macro: 0.195437349508868\n",
            "\n",
            "Train precision_weighted: 0.249863543196152\n",
            "\n",
            "Train recall_weighted: 0.3319542253521127\n",
            "\n",
            "Train f1_weighted: 0.2831007149741716\n",
            "\n"
          ]
        },
        {
          "output_type": "stream",
          "name": "stderr",
          "text": [
            "loop over test batches: 100%|██████████| 12/12 [00:00<00:00, 15.10it/s]\n"
          ]
        },
        {
          "output_type": "stream",
          "name": "stdout",
          "text": [
            "Test loss:  1.125062679251035\n",
            "\n",
            "Test accuracy: 0.3526785714285714\n",
            "\n",
            "Test precision_tag_O: 0.6776974172485009\n",
            "\n",
            "Test recall_tag_O: 0.9657148407148406\n",
            "\n",
            "Test f1_tag_O: 0.7925785981894621\n",
            "\n",
            "Test precision_tag_requirements: 0.0\n",
            "\n",
            "Test recall_tag_requirements: 0.0\n",
            "\n",
            "Test f1_tag_requirements: 0.0\n",
            "\n",
            "Test precision_tag_terms: 0.0\n",
            "\n",
            "Test recall_tag_terms: 0.0\n",
            "\n",
            "Test f1_tag_terms: 0.0\n",
            "\n",
            "Test precision_tag_notes: 0.0\n",
            "\n",
            "Test recall_tag_notes: 0.0\n",
            "\n",
            "Test f1_tag_notes: 0.0\n",
            "\n",
            "Test precision_macro: 0.1694243543121252\n",
            "\n",
            "Test recall_macro: 0.24142871017871015\n",
            "\n",
            "Test f1_macro: 0.19814464954736552\n",
            "\n",
            "Test precision_weighted: 0.24842650348769743\n",
            "\n",
            "Test recall_weighted: 0.3526785714285714\n",
            "\n",
            "Test f1_weighted: 0.2900963981662981\n",
            "\n",
            "Epoch [38 / 100]\n",
            "\n"
          ]
        },
        {
          "output_type": "stream",
          "name": "stderr",
          "text": [
            "loop over train batches:  41%|████      | 29/71 [00:09<00:14,  2.93it/s]"
          ]
        },
        {
          "output_type": "stream",
          "name": "stdout",
          "text": [
            "Catched\n"
          ]
        },
        {
          "output_type": "stream",
          "name": "stderr",
          "text": [
            "loop over train batches: 100%|██████████| 71/71 [00:24<00:00,  2.91it/s]\n"
          ]
        },
        {
          "output_type": "stream",
          "name": "stdout",
          "text": [
            "Train loss: 0.7691239744005068\n",
            "\n",
            "Train accuracy: 0.3277288732394366\n",
            "\n",
            "Train precision_tag_O: 0.6998482228489205\n",
            "\n",
            "Train recall_tag_O: 0.93123070200535\n",
            "\n",
            "Train f1_tag_O: 0.7925934941019057\n",
            "\n",
            "Train precision_tag_requirements: 0.0\n",
            "\n",
            "Train recall_tag_requirements: 0.0\n",
            "\n",
            "Train f1_tag_requirements: 0.0\n",
            "\n",
            "Train precision_tag_terms: 0.0\n",
            "\n",
            "Train recall_tag_terms: 0.0\n",
            "\n",
            "Train f1_tag_terms: 0.0\n",
            "\n",
            "Train precision_tag_notes: 0.0\n",
            "\n",
            "Train recall_tag_notes: 0.0\n",
            "\n",
            "Train f1_tag_notes: 0.0\n",
            "\n",
            "Train precision_macro: 0.1749620557122301\n",
            "\n",
            "Train recall_macro: 0.2328076755013375\n",
            "\n",
            "Train f1_macro: 0.19814837352547643\n",
            "\n",
            "Train precision_weighted: 0.25053536054788345\n",
            "\n",
            "Train recall_weighted: 0.3277288732394366\n",
            "\n",
            "Train f1_weighted: 0.2818030269758574\n",
            "\n"
          ]
        },
        {
          "output_type": "stream",
          "name": "stderr",
          "text": [
            "loop over test batches: 100%|██████████| 12/12 [00:01<00:00, 11.49it/s]\n"
          ]
        },
        {
          "output_type": "stream",
          "name": "stdout",
          "text": [
            "Test loss:  1.1274725844462712\n",
            "\n",
            "Test accuracy: 0.3526785714285714\n",
            "\n",
            "Test precision_tag_O: 0.67398736597653\n",
            "\n",
            "Test recall_tag_O: 0.9657148407148406\n",
            "\n",
            "Test f1_tag_O: 0.7899367266870511\n",
            "\n",
            "Test precision_tag_requirements: 0.0\n",
            "\n",
            "Test recall_tag_requirements: 0.0\n",
            "\n",
            "Test f1_tag_requirements: 0.0\n",
            "\n",
            "Test precision_tag_terms: 0.0\n",
            "\n",
            "Test recall_tag_terms: 0.0\n",
            "\n",
            "Test f1_tag_terms: 0.0\n",
            "\n",
            "Test precision_tag_notes: 0.0\n",
            "\n",
            "Test recall_tag_notes: 0.0\n",
            "\n",
            "Test f1_tag_notes: 0.0\n",
            "\n",
            "Test precision_macro: 0.1684968414941325\n",
            "\n",
            "Test recall_macro: 0.24142871017871015\n",
            "\n",
            "Test f1_macro: 0.19748418167176277\n",
            "\n",
            "Test precision_weighted: 0.24716402846844995\n",
            "\n",
            "Test recall_weighted: 0.3526785714285714\n",
            "\n",
            "Test f1_weighted: 0.28918858704251355\n",
            "\n",
            "Epoch [39 / 100]\n",
            "\n"
          ]
        },
        {
          "output_type": "stream",
          "name": "stderr",
          "text": [
            "loop over train batches: 100%|██████████| 71/71 [00:24<00:00,  2.92it/s]\n"
          ]
        },
        {
          "output_type": "stream",
          "name": "stdout",
          "text": [
            "Catched\n",
            "Train loss: 0.7583833391397772\n",
            "\n",
            "Train accuracy: 0.32632042253521126\n",
            "\n",
            "Train precision_tag_O: 0.6976276116591762\n",
            "\n",
            "Train recall_tag_O: 0.9332026736956315\n",
            "\n",
            "Train f1_tag_O: 0.7933005507630774\n",
            "\n",
            "Train precision_tag_requirements: 0.0\n",
            "\n",
            "Train recall_tag_requirements: 0.0\n",
            "\n",
            "Train f1_tag_requirements: 0.0\n",
            "\n",
            "Train precision_tag_terms: 0.0\n",
            "\n",
            "Train recall_tag_terms: 0.0\n",
            "\n",
            "Train f1_tag_terms: 0.0\n",
            "\n",
            "Train precision_tag_notes: 0.0\n",
            "\n",
            "Train recall_tag_notes: 0.0\n",
            "\n",
            "Train f1_tag_notes: 0.0\n",
            "\n",
            "Train precision_macro: 0.17440690291479405\n",
            "\n",
            "Train recall_macro: 0.23330066842390787\n",
            "\n",
            "Train f1_macro: 0.19832513769076934\n",
            "\n",
            "Train precision_weighted: 0.2480947286150562\n",
            "\n",
            "Train recall_weighted: 0.32632042253521126\n",
            "\n",
            "Train f1_weighted: 0.2802172846473851\n",
            "\n"
          ]
        },
        {
          "output_type": "stream",
          "name": "stderr",
          "text": [
            "loop over test batches: 100%|██████████| 12/12 [00:00<00:00, 16.28it/s]\n"
          ]
        },
        {
          "output_type": "stream",
          "name": "stdout",
          "text": [
            "Test loss:  1.142966742316882\n",
            "\n",
            "Test accuracy: 0.3526785714285714\n",
            "\n",
            "Test precision_tag_O: 0.667658430893725\n",
            "\n",
            "Test recall_tag_O: 0.9657148407148406\n",
            "\n",
            "Test f1_tag_O: 0.7848798697148714\n",
            "\n",
            "Test precision_tag_requirements: 0.0\n",
            "\n",
            "Test recall_tag_requirements: 0.0\n",
            "\n",
            "Test f1_tag_requirements: 0.0\n",
            "\n",
            "Test precision_tag_terms: 0.0\n",
            "\n",
            "Test recall_tag_terms: 0.0\n",
            "\n",
            "Test f1_tag_terms: 0.0\n",
            "\n",
            "Test precision_tag_notes: 0.0\n",
            "\n",
            "Test recall_tag_notes: 0.0\n",
            "\n",
            "Test f1_tag_notes: 0.0\n",
            "\n",
            "Test precision_macro: 0.16691460772343125\n",
            "\n",
            "Test recall_macro: 0.24142871017871015\n",
            "\n",
            "Test f1_macro: 0.19621996742871786\n",
            "\n",
            "Test precision_weighted: 0.2453224786175154\n",
            "\n",
            "Test recall_weighted: 0.3526785714285714\n",
            "\n",
            "Test f1_weighted: 0.2876721971364167\n",
            "\n",
            "Epoch [40 / 100]\n",
            "\n"
          ]
        },
        {
          "output_type": "stream",
          "name": "stderr",
          "text": [
            "loop over train batches:  79%|███████▉  | 56/71 [00:19<00:05,  2.81it/s]"
          ]
        },
        {
          "output_type": "stream",
          "name": "stdout",
          "text": [
            "Catched\n"
          ]
        },
        {
          "output_type": "stream",
          "name": "stderr",
          "text": [
            "loop over train batches: 100%|██████████| 71/71 [00:24<00:00,  2.87it/s]\n"
          ]
        },
        {
          "output_type": "stream",
          "name": "stdout",
          "text": [
            "Train loss: 0.7588537482308669\n",
            "\n",
            "Train accuracy: 0.3303697183098592\n",
            "\n",
            "Train precision_tag_O: 0.6890719590326339\n",
            "\n",
            "Train recall_tag_O: 0.9446292390826467\n",
            "\n",
            "Train f1_tag_O: 0.7893543782839839\n",
            "\n",
            "Train precision_tag_requirements: 0.0\n",
            "\n",
            "Train recall_tag_requirements: 0.0\n",
            "\n",
            "Train f1_tag_requirements: 0.0\n",
            "\n",
            "Train precision_tag_terms: 0.0\n",
            "\n",
            "Train recall_tag_terms: 0.0\n",
            "\n",
            "Train f1_tag_terms: 0.0\n",
            "\n",
            "Train precision_tag_notes: 0.0\n",
            "\n",
            "Train recall_tag_notes: 0.0\n",
            "\n",
            "Train f1_tag_notes: 0.0\n",
            "\n",
            "Train precision_macro: 0.17226798975815846\n",
            "\n",
            "Train recall_macro: 0.23615730977066168\n",
            "\n",
            "Train f1_macro: 0.19733859457099598\n",
            "\n",
            "Train precision_weighted: 0.24909528345261972\n",
            "\n",
            "Train recall_weighted: 0.3303697183098592\n",
            "\n",
            "Train f1_weighted: 0.2822008152785455\n",
            "\n"
          ]
        },
        {
          "output_type": "stream",
          "name": "stderr",
          "text": [
            "loop over test batches: 100%|██████████| 12/12 [00:00<00:00, 16.53it/s]\n"
          ]
        },
        {
          "output_type": "stream",
          "name": "stdout",
          "text": [
            "Test loss:  1.1480008910099666\n",
            "\n",
            "Test accuracy: 0.3526785714285714\n",
            "\n",
            "Test precision_tag_O: 0.67752849002849\n",
            "\n",
            "Test recall_tag_O: 0.9657148407148406\n",
            "\n",
            "Test f1_tag_O: 0.7931702800214108\n",
            "\n",
            "Test precision_tag_requirements: 0.0\n",
            "\n",
            "Test recall_tag_requirements: 0.0\n",
            "\n",
            "Test f1_tag_requirements: 0.0\n",
            "\n",
            "Test precision_tag_terms: 0.0\n",
            "\n",
            "Test recall_tag_terms: 0.0\n",
            "\n",
            "Test f1_tag_terms: 0.0\n",
            "\n",
            "Test precision_tag_notes: 0.0\n",
            "\n",
            "Test recall_tag_notes: 0.0\n",
            "\n",
            "Test f1_tag_notes: 0.0\n",
            "\n",
            "Test precision_macro: 0.1693821225071225\n",
            "\n",
            "Test recall_macro: 0.24142871017871015\n",
            "\n",
            "Test f1_macro: 0.1982925700053527\n",
            "\n",
            "Test precision_weighted: 0.24855173038766795\n",
            "\n",
            "Test recall_weighted: 0.3526785714285714\n",
            "\n",
            "Test f1_weighted: 0.29042575615917693\n",
            "\n",
            "Epoch [41 / 100]\n",
            "\n"
          ]
        },
        {
          "output_type": "stream",
          "name": "stderr",
          "text": [
            "loop over train batches:  39%|███▉      | 28/71 [00:10<00:15,  2.75it/s]"
          ]
        },
        {
          "output_type": "stream",
          "name": "stdout",
          "text": [
            "Catched\n"
          ]
        },
        {
          "output_type": "stream",
          "name": "stderr",
          "text": [
            "loop over train batches: 100%|██████████| 71/71 [00:25<00:00,  2.82it/s]\n"
          ]
        },
        {
          "output_type": "stream",
          "name": "stdout",
          "text": [
            "Train loss: 0.749234570583827\n",
            "\n",
            "Train accuracy: 0.3303697183098592\n",
            "\n",
            "Train precision_tag_O: 0.7032816679074255\n",
            "\n",
            "Train recall_tag_O: 0.9430255662132215\n",
            "\n",
            "Train f1_tag_O: 0.8009816373730886\n",
            "\n",
            "Train precision_tag_requirements: 0.0\n",
            "\n",
            "Train recall_tag_requirements: 0.0\n",
            "\n",
            "Train f1_tag_requirements: 0.0\n",
            "\n",
            "Train precision_tag_terms: 0.0\n",
            "\n",
            "Train recall_tag_terms: 0.0\n",
            "\n",
            "Train f1_tag_terms: 0.0\n",
            "\n",
            "Train precision_tag_notes: 0.0\n",
            "\n",
            "Train recall_tag_notes: 0.0\n",
            "\n",
            "Train f1_tag_notes: 0.0\n",
            "\n",
            "Train precision_macro: 0.17582041697685638\n",
            "\n",
            "Train recall_macro: 0.23575639155330538\n",
            "\n",
            "Train f1_macro: 0.20024540934327215\n",
            "\n",
            "Train precision_weighted: 0.25091985429394953\n",
            "\n",
            "Train recall_weighted: 0.3303697183098592\n",
            "\n",
            "Train f1_weighted: 0.2837695438022601\n",
            "\n"
          ]
        },
        {
          "output_type": "stream",
          "name": "stderr",
          "text": [
            "loop over test batches: 100%|██████████| 12/12 [00:00<00:00, 16.37it/s]\n"
          ]
        },
        {
          "output_type": "stream",
          "name": "stdout",
          "text": [
            "Test loss:  1.1404560307661693\n",
            "\n",
            "Test accuracy: 0.3526785714285714\n",
            "\n",
            "Test precision_tag_O: 0.6643920951196493\n",
            "\n",
            "Test recall_tag_O: 0.9657148407148406\n",
            "\n",
            "Test f1_tag_O: 0.7839170288095018\n",
            "\n",
            "Test precision_tag_requirements: 0.0\n",
            "\n",
            "Test recall_tag_requirements: 0.0\n",
            "\n",
            "Test f1_tag_requirements: 0.0\n",
            "\n",
            "Test precision_tag_terms: 0.0\n",
            "\n",
            "Test recall_tag_terms: 0.0\n",
            "\n",
            "Test f1_tag_terms: 0.0\n",
            "\n",
            "Test precision_tag_notes: 0.0\n",
            "\n",
            "Test recall_tag_notes: 0.0\n",
            "\n",
            "Test f1_tag_notes: 0.0\n",
            "\n",
            "Test precision_macro: 0.1660980237799123\n",
            "\n",
            "Test recall_macro: 0.24142871017871015\n",
            "\n",
            "Test f1_macro: 0.19597925720237544\n",
            "\n",
            "Test precision_weighted: 0.24382781505399062\n",
            "\n",
            "Test recall_weighted: 0.3526785714285714\n",
            "\n",
            "Test f1_weighted: 0.28712958581730186\n",
            "\n",
            "Epoch [42 / 100]\n",
            "\n"
          ]
        },
        {
          "output_type": "stream",
          "name": "stderr",
          "text": [
            "loop over train batches:  37%|███▋      | 26/71 [00:08<00:15,  3.00it/s]"
          ]
        },
        {
          "output_type": "stream",
          "name": "stdout",
          "text": [
            "Catched\n"
          ]
        },
        {
          "output_type": "stream",
          "name": "stderr",
          "text": [
            "loop over train batches: 100%|██████████| 71/71 [00:24<00:00,  2.90it/s]\n"
          ]
        },
        {
          "output_type": "stream",
          "name": "stdout",
          "text": [
            "Train loss: 0.7145687152802105\n",
            "\n",
            "Train accuracy: 0.3313380281690141\n",
            "\n",
            "Train precision_tag_O: 0.7094703145781286\n",
            "\n",
            "Train recall_tag_O: 0.9430075473904237\n",
            "\n",
            "Train f1_tag_O: 0.8042528582918265\n",
            "\n",
            "Train precision_tag_requirements: 0.0\n",
            "\n",
            "Train recall_tag_requirements: 0.0\n",
            "\n",
            "Train f1_tag_requirements: 0.0\n",
            "\n",
            "Train precision_tag_terms: 0.0\n",
            "\n",
            "Train recall_tag_terms: 0.0\n",
            "\n",
            "Train f1_tag_terms: 0.0\n",
            "\n",
            "Train precision_tag_notes: 0.0\n",
            "\n",
            "Train recall_tag_notes: 0.0\n",
            "\n",
            "Train f1_tag_notes: 0.0\n",
            "\n",
            "Train precision_macro: 0.17736757864453215\n",
            "\n",
            "Train recall_macro: 0.23575188684760592\n",
            "\n",
            "Train f1_macro: 0.20106321457295662\n",
            "\n",
            "Train precision_weighted: 0.25463239379806457\n",
            "\n",
            "Train recall_weighted: 0.3313380281690141\n",
            "\n",
            "Train f1_weighted: 0.2863049646073346\n",
            "\n"
          ]
        },
        {
          "output_type": "stream",
          "name": "stderr",
          "text": [
            "loop over test batches: 100%|██████████| 12/12 [00:00<00:00, 15.90it/s]\n"
          ]
        },
        {
          "output_type": "stream",
          "name": "stdout",
          "text": [
            "Test loss:  1.144385611017545\n",
            "\n",
            "Test accuracy: 0.3526785714285714\n",
            "\n",
            "Test precision_tag_O: 0.691043896190955\n",
            "\n",
            "Test recall_tag_O: 0.9657148407148406\n",
            "\n",
            "Test f1_tag_O: 0.8009699833049851\n",
            "\n",
            "Test precision_tag_requirements: 0.0\n",
            "\n",
            "Test recall_tag_requirements: 0.0\n",
            "\n",
            "Test f1_tag_requirements: 0.0\n",
            "\n",
            "Test precision_tag_terms: 0.0\n",
            "\n",
            "Test recall_tag_terms: 0.0\n",
            "\n",
            "Test f1_tag_terms: 0.0\n",
            "\n",
            "Test precision_tag_notes: 0.0\n",
            "\n",
            "Test recall_tag_notes: 0.0\n",
            "\n",
            "Test f1_tag_notes: 0.0\n",
            "\n",
            "Test precision_macro: 0.17276097404773874\n",
            "\n",
            "Test recall_macro: 0.24142871017871015\n",
            "\n",
            "Test f1_macro: 0.2002424958262463\n",
            "\n",
            "Test precision_weighted: 0.25411804545536165\n",
            "\n",
            "Test recall_weighted: 0.3526785714285714\n",
            "\n",
            "Test f1_weighted: 0.2936957965528732\n",
            "\n",
            "Epoch [43 / 100]\n",
            "\n"
          ]
        },
        {
          "output_type": "stream",
          "name": "stderr",
          "text": [
            "loop over train batches:  54%|█████▎    | 38/71 [00:12<00:12,  2.54it/s]"
          ]
        },
        {
          "output_type": "stream",
          "name": "stdout",
          "text": [
            "Catched\n"
          ]
        },
        {
          "output_type": "stream",
          "name": "stderr",
          "text": [
            "loop over train batches: 100%|██████████| 71/71 [00:23<00:00,  2.97it/s]\n"
          ]
        },
        {
          "output_type": "stream",
          "name": "stdout",
          "text": [
            "Train loss: 0.7064628508728994\n",
            "\n",
            "Train accuracy: 0.3315140845070423\n",
            "\n",
            "Train precision_tag_O: 0.7080426685457644\n",
            "\n",
            "Train recall_tag_O: 0.93211199989369\n",
            "\n",
            "Train f1_tag_O: 0.7978268326101369\n",
            "\n",
            "Train precision_tag_requirements: 0.0\n",
            "\n",
            "Train recall_tag_requirements: 0.0\n",
            "\n",
            "Train f1_tag_requirements: 0.0\n",
            "\n",
            "Train precision_tag_terms: 0.0\n",
            "\n",
            "Train recall_tag_terms: 0.0\n",
            "\n",
            "Train f1_tag_terms: 0.0\n",
            "\n",
            "Train precision_tag_notes: 0.0\n",
            "\n",
            "Train recall_tag_notes: 0.0\n",
            "\n",
            "Train f1_tag_notes: 0.0\n",
            "\n",
            "Train precision_macro: 0.1770106671364411\n",
            "\n",
            "Train recall_macro: 0.2330279999734225\n",
            "\n",
            "Train f1_macro: 0.19945670815253422\n",
            "\n",
            "Train precision_weighted: 0.2596206383849566\n",
            "\n",
            "Train recall_weighted: 0.3315140845070423\n",
            "\n",
            "Train f1_weighted: 0.28896914779735605\n",
            "\n"
          ]
        },
        {
          "output_type": "stream",
          "name": "stderr",
          "text": [
            "loop over test batches: 100%|██████████| 12/12 [00:01<00:00, 11.72it/s]\n"
          ]
        },
        {
          "output_type": "stream",
          "name": "stdout",
          "text": [
            "Test loss:  1.156354491909345\n",
            "\n",
            "Test accuracy: 0.34672619047619047\n",
            "\n",
            "Test precision_tag_O: 0.6645418772547255\n",
            "\n",
            "Test recall_tag_O: 0.949048174048174\n",
            "\n",
            "Test f1_tag_O: 0.77841503825004\n",
            "\n",
            "Test precision_tag_requirements: 0.0\n",
            "\n",
            "Test recall_tag_requirements: 0.0\n",
            "\n",
            "Test f1_tag_requirements: 0.0\n",
            "\n",
            "Test precision_tag_terms: 0.0\n",
            "\n",
            "Test recall_tag_terms: 0.0\n",
            "\n",
            "Test f1_tag_terms: 0.0\n",
            "\n",
            "Test precision_tag_notes: 0.0\n",
            "\n",
            "Test recall_tag_notes: 0.0\n",
            "\n",
            "Test f1_tag_notes: 0.0\n",
            "\n",
            "Test precision_macro: 0.16613546931368137\n",
            "\n",
            "Test recall_macro: 0.2372620435120435\n",
            "\n",
            "Test f1_macro: 0.19460375956251\n",
            "\n",
            "Test precision_weighted: 0.24417728643976708\n",
            "\n",
            "Test recall_weighted: 0.34672619047619047\n",
            "\n",
            "Test f1_weighted: 0.28535424599034054\n",
            "\n",
            "Epoch [44 / 100]\n",
            "\n"
          ]
        },
        {
          "output_type": "stream",
          "name": "stderr",
          "text": [
            "loop over train batches:  63%|██████▎   | 45/71 [00:15<00:10,  2.54it/s]"
          ]
        },
        {
          "output_type": "stream",
          "name": "stdout",
          "text": [
            "Catched\n"
          ]
        },
        {
          "output_type": "stream",
          "name": "stderr",
          "text": [
            "loop over train batches: 100%|██████████| 71/71 [00:23<00:00,  2.97it/s]\n"
          ]
        },
        {
          "output_type": "stream",
          "name": "stdout",
          "text": [
            "Train loss: 0.6850627648158812\n",
            "\n",
            "Train accuracy: 0.3256161971830986\n",
            "\n",
            "Train precision_tag_O: 0.7193779454773437\n",
            "\n",
            "Train recall_tag_O: 0.9264319405164476\n",
            "\n",
            "Train f1_tag_O: 0.8032712049361977\n",
            "\n",
            "Train precision_tag_requirements: 0.0\n",
            "\n",
            "Train recall_tag_requirements: 0.0\n",
            "\n",
            "Train f1_tag_requirements: 0.0\n",
            "\n",
            "Train precision_tag_terms: 0.0\n",
            "\n",
            "Train recall_tag_terms: 0.0\n",
            "\n",
            "Train f1_tag_terms: 0.0\n",
            "\n",
            "Train precision_tag_notes: 0.0\n",
            "\n",
            "Train recall_tag_notes: 0.0\n",
            "\n",
            "Train f1_tag_notes: 0.0\n",
            "\n",
            "Train precision_macro: 0.17984448636933592\n",
            "\n",
            "Train recall_macro: 0.2316079851291119\n",
            "\n",
            "Train f1_macro: 0.20081780123404944\n",
            "\n",
            "Train precision_weighted: 0.25840990696991056\n",
            "\n",
            "Train recall_weighted: 0.3256161971830986\n",
            "\n",
            "Train f1_weighted: 0.2861455769523723\n",
            "\n"
          ]
        },
        {
          "output_type": "stream",
          "name": "stderr",
          "text": [
            "loop over test batches: 100%|██████████| 12/12 [00:00<00:00, 16.30it/s]\n"
          ]
        },
        {
          "output_type": "stream",
          "name": "stdout",
          "text": [
            "Test loss:  1.1604965378840764\n",
            "\n",
            "Test accuracy: 0.34151785714285715\n",
            "\n",
            "Test precision_tag_O: 0.6982898501280853\n",
            "\n",
            "Test recall_tag_O: 0.9356934731934733\n",
            "\n",
            "Test f1_tag_O: 0.7954063576677269\n",
            "\n",
            "Test precision_tag_requirements: 0.0\n",
            "\n",
            "Test recall_tag_requirements: 0.0\n",
            "\n",
            "Test f1_tag_requirements: 0.0\n",
            "\n",
            "Test precision_tag_terms: 0.0\n",
            "\n",
            "Test recall_tag_terms: 0.0\n",
            "\n",
            "Test f1_tag_terms: 0.0\n",
            "\n",
            "Test precision_tag_notes: 0.0\n",
            "\n",
            "Test recall_tag_notes: 0.0\n",
            "\n",
            "Test f1_tag_notes: 0.0\n",
            "\n",
            "Test precision_macro: 0.17457246253202133\n",
            "\n",
            "Test recall_macro: 0.23392336829836832\n",
            "\n",
            "Test f1_macro: 0.19885158941693173\n",
            "\n",
            "Test precision_weighted: 0.2563093833954522\n",
            "\n",
            "Test recall_weighted: 0.34151785714285715\n",
            "\n",
            "Test f1_weighted: 0.2912860666227733\n",
            "\n",
            "Epoch [45 / 100]\n",
            "\n"
          ]
        },
        {
          "output_type": "stream",
          "name": "stderr",
          "text": [
            "loop over train batches:  96%|█████████▌| 68/71 [00:23<00:01,  2.71it/s]"
          ]
        },
        {
          "output_type": "stream",
          "name": "stdout",
          "text": [
            "Catched\n"
          ]
        },
        {
          "output_type": "stream",
          "name": "stderr",
          "text": [
            "loop over train batches: 100%|██████████| 71/71 [00:23<00:00,  2.97it/s]\n"
          ]
        },
        {
          "output_type": "stream",
          "name": "stdout",
          "text": [
            "Train loss: 0.6778871005689594\n",
            "\n",
            "Train accuracy: 0.3250880281690141\n",
            "\n",
            "Train precision_tag_O: 0.7232404436215538\n",
            "\n",
            "Train recall_tag_O: 0.9266115891840829\n",
            "\n",
            "Train f1_tag_O: 0.8067122879988807\n",
            "\n",
            "Train precision_tag_requirements: 0.0\n",
            "\n",
            "Train recall_tag_requirements: 0.0\n",
            "\n",
            "Train f1_tag_requirements: 0.0\n",
            "\n",
            "Train precision_tag_terms: 0.0\n",
            "\n",
            "Train recall_tag_terms: 0.0\n",
            "\n",
            "Train f1_tag_terms: 0.0\n",
            "\n",
            "Train precision_tag_notes: 0.0\n",
            "\n",
            "Train recall_tag_notes: 0.0\n",
            "\n",
            "Train f1_tag_notes: 0.0\n",
            "\n",
            "Train precision_macro: 0.18081011090538845\n",
            "\n",
            "Train recall_macro: 0.23165289729602073\n",
            "\n",
            "Train f1_macro: 0.20167807199972018\n",
            "\n",
            "Train precision_weighted: 0.25889374291007244\n",
            "\n",
            "Train recall_weighted: 0.3250880281690141\n",
            "\n",
            "Train f1_weighted: 0.2865126599505532\n",
            "\n"
          ]
        },
        {
          "output_type": "stream",
          "name": "stderr",
          "text": [
            "loop over test batches: 100%|██████████| 12/12 [00:00<00:00, 16.41it/s]\n"
          ]
        },
        {
          "output_type": "stream",
          "name": "stdout",
          "text": [
            "Test loss:  1.1587850997845333\n",
            "\n",
            "Test accuracy: 0.3441220238095238\n",
            "\n",
            "Test precision_tag_O: 0.708663721899016\n",
            "\n",
            "Test recall_tag_O: 0.9426379176379176\n",
            "\n",
            "Test f1_tag_O: 0.8052230485563818\n",
            "\n",
            "Test precision_tag_requirements: 0.0\n",
            "\n",
            "Test recall_tag_requirements: 0.0\n",
            "\n",
            "Test f1_tag_requirements: 0.0\n",
            "\n",
            "Test precision_tag_terms: 0.0\n",
            "\n",
            "Test recall_tag_terms: 0.0\n",
            "\n",
            "Test f1_tag_terms: 0.0\n",
            "\n",
            "Test precision_tag_notes: 0.0\n",
            "\n",
            "Test recall_tag_notes: 0.0\n",
            "\n",
            "Test f1_tag_notes: 0.0\n",
            "\n",
            "Test precision_macro: 0.177165930474754\n",
            "\n",
            "Test recall_macro: 0.2356594794094794\n",
            "\n",
            "Test f1_macro: 0.20130576213909546\n",
            "\n",
            "Test precision_weighted: 0.26002775308841486\n",
            "\n",
            "Test recall_weighted: 0.3441220238095238\n",
            "\n",
            "Test f1_weighted: 0.2948458524500191\n",
            "\n",
            "Epoch [46 / 100]\n",
            "\n"
          ]
        },
        {
          "output_type": "stream",
          "name": "stderr",
          "text": [
            "loop over train batches:  10%|▉         | 7/71 [00:02<00:20,  3.06it/s]"
          ]
        },
        {
          "output_type": "stream",
          "name": "stdout",
          "text": [
            "Catched\n"
          ]
        },
        {
          "output_type": "stream",
          "name": "stderr",
          "text": [
            "loop over train batches: 100%|██████████| 71/71 [00:24<00:00,  2.84it/s]\n"
          ]
        },
        {
          "output_type": "stream",
          "name": "stdout",
          "text": [
            "Train loss: 0.6524606023875761\n",
            "\n",
            "Train accuracy: 0.3276408450704225\n",
            "\n",
            "Train precision_tag_O: 0.7198760924778017\n",
            "\n",
            "Train recall_tag_O: 0.9379807471171443\n",
            "\n",
            "Train f1_tag_O: 0.8077597373379877\n",
            "\n",
            "Train precision_tag_requirements: 0.0\n",
            "\n",
            "Train recall_tag_requirements: 0.0\n",
            "\n",
            "Train f1_tag_requirements: 0.0\n",
            "\n",
            "Train precision_tag_terms: 0.0\n",
            "\n",
            "Train recall_tag_terms: 0.0\n",
            "\n",
            "Train f1_tag_terms: 0.0\n",
            "\n",
            "Train precision_tag_notes: 0.0\n",
            "\n",
            "Train recall_tag_notes: 0.0\n",
            "\n",
            "Train f1_tag_notes: 0.0\n",
            "\n",
            "Train precision_macro: 0.17996902311945043\n",
            "\n",
            "Train recall_macro: 0.23449518677928607\n",
            "\n",
            "Train f1_macro: 0.20193993433449692\n",
            "\n",
            "Train precision_weighted: 0.25907754739824657\n",
            "\n",
            "Train recall_weighted: 0.3276408450704225\n",
            "\n",
            "Train f1_weighted: 0.2872051112985406\n",
            "\n"
          ]
        },
        {
          "output_type": "stream",
          "name": "stderr",
          "text": [
            "loop over test batches: 100%|██████████| 12/12 [00:00<00:00, 16.26it/s]\n"
          ]
        },
        {
          "output_type": "stream",
          "name": "stdout",
          "text": [
            "Test loss:  1.1873053510983784\n",
            "\n",
            "Test accuracy: 0.3441220238095238\n",
            "\n",
            "Test precision_tag_O: 0.6633442265795206\n",
            "\n",
            "Test recall_tag_O: 0.9421037296037297\n",
            "\n",
            "Test f1_tag_O: 0.7738362836712854\n",
            "\n",
            "Test precision_tag_requirements: 0.0\n",
            "\n",
            "Test recall_tag_requirements: 0.0\n",
            "\n",
            "Test f1_tag_requirements: 0.0\n",
            "\n",
            "Test precision_tag_terms: 0.0\n",
            "\n",
            "Test recall_tag_terms: 0.0\n",
            "\n",
            "Test f1_tag_terms: 0.0\n",
            "\n",
            "Test precision_tag_notes: 0.0\n",
            "\n",
            "Test recall_tag_notes: 0.0\n",
            "\n",
            "Test f1_tag_notes: 0.0\n",
            "\n",
            "Test precision_macro: 0.16583605664488016\n",
            "\n",
            "Test recall_macro: 0.23552593240093242\n",
            "\n",
            "Test f1_macro: 0.19345907091782136\n",
            "\n",
            "Test precision_weighted: 0.24428335570339244\n",
            "\n",
            "Test recall_weighted: 0.3441220238095238\n",
            "\n",
            "Test f1_weighted: 0.28405359351781306\n",
            "\n",
            "Epoch [47 / 100]\n",
            "\n"
          ]
        },
        {
          "output_type": "stream",
          "name": "stderr",
          "text": [
            "loop over train batches:  14%|█▍        | 10/71 [00:03<00:20,  2.93it/s]"
          ]
        },
        {
          "output_type": "stream",
          "name": "stdout",
          "text": [
            "Catched\n"
          ]
        },
        {
          "output_type": "stream",
          "name": "stderr",
          "text": [
            "loop over train batches: 100%|██████████| 71/71 [00:23<00:00,  2.98it/s]\n"
          ]
        },
        {
          "output_type": "stream",
          "name": "stdout",
          "text": [
            "Train loss: 0.6615235201070007\n",
            "\n",
            "Train accuracy: 0.3305457746478873\n",
            "\n",
            "Train precision_tag_O: 0.7263529516167636\n",
            "\n",
            "Train recall_tag_O: 0.9383825695881467\n",
            "\n",
            "Train f1_tag_O: 0.8122949492252844\n",
            "\n",
            "Train precision_tag_requirements: 0.0\n",
            "\n",
            "Train recall_tag_requirements: 0.0\n",
            "\n",
            "Train f1_tag_requirements: 0.0\n",
            "\n",
            "Train precision_tag_terms: 0.0\n",
            "\n",
            "Train recall_tag_terms: 0.0\n",
            "\n",
            "Train f1_tag_terms: 0.0\n",
            "\n",
            "Train precision_tag_notes: 0.0\n",
            "\n",
            "Train recall_tag_notes: 0.0\n",
            "\n",
            "Train f1_tag_notes: 0.0\n",
            "\n",
            "Train precision_macro: 0.1815882379041909\n",
            "\n",
            "Train recall_macro: 0.23459564239703667\n",
            "\n",
            "Train f1_macro: 0.2030737373063211\n",
            "\n",
            "Train precision_weighted: 0.26227779343269647\n",
            "\n",
            "Train recall_weighted: 0.3305457746478873\n",
            "\n",
            "Train f1_weighted: 0.2903561205778208\n",
            "\n"
          ]
        },
        {
          "output_type": "stream",
          "name": "stderr",
          "text": [
            "loop over test batches: 100%|██████████| 12/12 [00:00<00:00, 13.12it/s]\n"
          ]
        },
        {
          "output_type": "stream",
          "name": "stdout",
          "text": [
            "Test loss:  1.172359511256218\n",
            "\n",
            "Test accuracy: 0.34151785714285715\n",
            "\n",
            "Test precision_tag_O: 0.6972627647550249\n",
            "\n",
            "Test recall_tag_O: 0.9356934731934733\n",
            "\n",
            "Test f1_tag_O: 0.795055065404528\n",
            "\n",
            "Test precision_tag_requirements: 0.0\n",
            "\n",
            "Test recall_tag_requirements: 0.0\n",
            "\n",
            "Test f1_tag_requirements: 0.0\n",
            "\n",
            "Test precision_tag_terms: 0.0\n",
            "\n",
            "Test recall_tag_terms: 0.0\n",
            "\n",
            "Test f1_tag_terms: 0.0\n",
            "\n",
            "Test precision_tag_notes: 0.0\n",
            "\n",
            "Test recall_tag_notes: 0.0\n",
            "\n",
            "Test f1_tag_notes: 0.0\n",
            "\n",
            "Test precision_macro: 0.17431569118875623\n",
            "\n",
            "Test recall_macro: 0.23392336829836832\n",
            "\n",
            "Test f1_macro: 0.198763766351132\n",
            "\n",
            "Test precision_weighted: 0.2559889210618458\n",
            "\n",
            "Test recall_weighted: 0.34151785714285715\n",
            "\n",
            "Test f1_weighted: 0.2911440130458948\n",
            "\n",
            "Epoch [48 / 100]\n",
            "\n"
          ]
        },
        {
          "output_type": "stream",
          "name": "stderr",
          "text": [
            "loop over train batches:  94%|█████████▍| 67/71 [00:23<00:01,  3.24it/s]"
          ]
        },
        {
          "output_type": "stream",
          "name": "stdout",
          "text": [
            "Catched\n"
          ]
        },
        {
          "output_type": "stream",
          "name": "stderr",
          "text": [
            "loop over train batches: 100%|██████████| 71/71 [00:24<00:00,  2.92it/s]\n"
          ]
        },
        {
          "output_type": "stream",
          "name": "stdout",
          "text": [
            "Train loss: 0.630975216627121\n",
            "\n",
            "Train accuracy: 0.3296654929577465\n",
            "\n",
            "Train precision_tag_O: 0.7270042900722489\n",
            "\n",
            "Train recall_tag_O: 0.9348724965543522\n",
            "\n",
            "Train f1_tag_O: 0.8129042116740821\n",
            "\n",
            "Train precision_tag_requirements: 0.0\n",
            "\n",
            "Train recall_tag_requirements: 0.0\n",
            "\n",
            "Train f1_tag_requirements: 0.0\n",
            "\n",
            "Train precision_tag_terms: 0.0\n",
            "\n",
            "Train recall_tag_terms: 0.0\n",
            "\n",
            "Train f1_tag_terms: 0.0\n",
            "\n",
            "Train precision_tag_notes: 0.0\n",
            "\n",
            "Train recall_tag_notes: 0.0\n",
            "\n",
            "Train f1_tag_notes: 0.0\n",
            "\n",
            "Train precision_macro: 0.18175107251806222\n",
            "\n",
            "Train recall_macro: 0.23371812413858806\n",
            "\n",
            "Train f1_macro: 0.20322605291852053\n",
            "\n",
            "Train precision_weighted: 0.260442126181573\n",
            "\n",
            "Train recall_weighted: 0.3296654929577465\n",
            "\n",
            "Train f1_weighted: 0.28932930374422067\n",
            "\n"
          ]
        },
        {
          "output_type": "stream",
          "name": "stderr",
          "text": [
            "loop over test batches: 100%|██████████| 12/12 [00:01<00:00, 11.55it/s]\n"
          ]
        },
        {
          "output_type": "stream",
          "name": "stdout",
          "text": [
            "Test loss:  1.1697185337543488\n",
            "\n",
            "Test accuracy: 0.3441220238095238\n",
            "\n",
            "Test precision_tag_O: 0.685056493357577\n",
            "\n",
            "Test recall_tag_O: 0.9421037296037297\n",
            "\n",
            "Test f1_tag_O: 0.7883602369355058\n",
            "\n",
            "Test precision_tag_requirements: 0.0\n",
            "\n",
            "Test recall_tag_requirements: 0.0\n",
            "\n",
            "Test f1_tag_requirements: 0.0\n",
            "\n",
            "Test precision_tag_terms: 0.0\n",
            "\n",
            "Test recall_tag_terms: 0.0\n",
            "\n",
            "Test f1_tag_terms: 0.0\n",
            "\n",
            "Test precision_tag_notes: 0.0\n",
            "\n",
            "Test recall_tag_notes: 0.0\n",
            "\n",
            "Test f1_tag_notes: 0.0\n",
            "\n",
            "Test precision_macro: 0.17126412333939425\n",
            "\n",
            "Test recall_macro: 0.23552593240093242\n",
            "\n",
            "Test f1_macro: 0.19709005923387646\n",
            "\n",
            "Test precision_weighted: 0.25220637505733284\n",
            "\n",
            "Test recall_weighted: 0.3441220238095238\n",
            "\n",
            "Test f1_weighted: 0.2892854052061042\n",
            "\n",
            "Epoch [49 / 100]\n",
            "\n"
          ]
        },
        {
          "output_type": "stream",
          "name": "stderr",
          "text": [
            "loop over train batches:  80%|████████  | 57/71 [00:20<00:04,  3.18it/s]"
          ]
        },
        {
          "output_type": "stream",
          "name": "stdout",
          "text": [
            "Catched\n"
          ]
        },
        {
          "output_type": "stream",
          "name": "stderr",
          "text": [
            "loop over train batches: 100%|██████████| 71/71 [00:24<00:00,  2.87it/s]\n"
          ]
        },
        {
          "output_type": "stream",
          "name": "stdout",
          "text": [
            "Train loss: 0.6404810157460226\n",
            "\n",
            "Train accuracy: 0.3273767605633803\n",
            "\n",
            "Train precision_tag_O: 0.7276759290167916\n",
            "\n",
            "Train recall_tag_O: 0.9306136099010995\n",
            "\n",
            "Train f1_tag_O: 0.8117872739635345\n",
            "\n",
            "Train precision_tag_requirements: 0.0\n",
            "\n",
            "Train recall_tag_requirements: 0.0\n",
            "\n",
            "Train f1_tag_requirements: 0.0\n",
            "\n",
            "Train precision_tag_terms: 0.0\n",
            "\n",
            "Train recall_tag_terms: 0.0\n",
            "\n",
            "Train f1_tag_terms: 0.0\n",
            "\n",
            "Train precision_tag_notes: 0.0\n",
            "\n",
            "Train recall_tag_notes: 0.0\n",
            "\n",
            "Train f1_tag_notes: 0.0\n",
            "\n",
            "Train precision_macro: 0.1819189822541979\n",
            "\n",
            "Train recall_macro: 0.23265340247527488\n",
            "\n",
            "Train f1_macro: 0.2029468184908836\n",
            "\n",
            "Train precision_weighted: 0.2603974068925128\n",
            "\n",
            "Train recall_weighted: 0.3273767605633803\n",
            "\n",
            "Train f1_weighted: 0.28839882490360313\n",
            "\n"
          ]
        },
        {
          "output_type": "stream",
          "name": "stderr",
          "text": [
            "loop over test batches: 100%|██████████| 12/12 [00:00<00:00, 15.50it/s]\n"
          ]
        },
        {
          "output_type": "stream",
          "name": "stdout",
          "text": [
            "Test loss:  1.1694880227247875\n",
            "\n",
            "Test accuracy: 0.34151785714285715\n",
            "\n",
            "Test precision_tag_O: 0.6931547619047619\n",
            "\n",
            "Test recall_tag_O: 0.9356934731934733\n",
            "\n",
            "Test f1_tag_O: 0.7922232397232398\n",
            "\n",
            "Test precision_tag_requirements: 0.0\n",
            "\n",
            "Test recall_tag_requirements: 0.0\n",
            "\n",
            "Test f1_tag_requirements: 0.0\n",
            "\n",
            "Test precision_tag_terms: 0.0\n",
            "\n",
            "Test recall_tag_terms: 0.0\n",
            "\n",
            "Test f1_tag_terms: 0.0\n",
            "\n",
            "Test precision_tag_notes: 0.0\n",
            "\n",
            "Test recall_tag_notes: 0.0\n",
            "\n",
            "Test f1_tag_notes: 0.0\n",
            "\n",
            "Test precision_macro: 0.17328869047619047\n",
            "\n",
            "Test recall_macro: 0.23392336829836832\n",
            "\n",
            "Test f1_macro: 0.19805580993080996\n",
            "\n",
            "Test precision_weighted: 0.2547921772875817\n",
            "\n",
            "Test recall_weighted: 0.34151785714285715\n",
            "\n",
            "Test f1_weighted: 0.29032458282458284\n",
            "\n",
            "Epoch [50 / 100]\n",
            "\n"
          ]
        },
        {
          "output_type": "stream",
          "name": "stderr",
          "text": [
            "loop over train batches:  45%|████▌     | 32/71 [00:11<00:12,  3.08it/s]"
          ]
        },
        {
          "output_type": "stream",
          "name": "stdout",
          "text": [
            "Catched\n"
          ]
        },
        {
          "output_type": "stream",
          "name": "stderr",
          "text": [
            "loop over train batches: 100%|██████████| 71/71 [00:24<00:00,  2.85it/s]\n"
          ]
        },
        {
          "output_type": "stream",
          "name": "stdout",
          "text": [
            "Train loss: 0.6199107652818653\n",
            "\n",
            "Train accuracy: 0.3272007042253521\n",
            "\n",
            "Train precision_tag_O: 0.732565616104076\n",
            "\n",
            "Train recall_tag_O: 0.9339954278438122\n",
            "\n",
            "Train f1_tag_O: 0.8153959082698813\n",
            "\n",
            "Train precision_tag_requirements: 0.0\n",
            "\n",
            "Train recall_tag_requirements: 0.0\n",
            "\n",
            "Train f1_tag_requirements: 0.0\n",
            "\n",
            "Train precision_tag_terms: 0.0\n",
            "\n",
            "Train recall_tag_terms: 0.0\n",
            "\n",
            "Train f1_tag_terms: 0.0\n",
            "\n",
            "Train precision_tag_notes: 0.0\n",
            "\n",
            "Train recall_tag_notes: 0.0\n",
            "\n",
            "Train f1_tag_notes: 0.0\n",
            "\n",
            "Train precision_macro: 0.183141404026019\n",
            "\n",
            "Train recall_macro: 0.23349885696095304\n",
            "\n",
            "Train f1_macro: 0.20384897706747032\n",
            "\n",
            "Train precision_weighted: 0.26153768782062004\n",
            "\n",
            "Train recall_weighted: 0.3272007042253521\n",
            "\n",
            "Train f1_weighted: 0.28908109326019216\n",
            "\n"
          ]
        },
        {
          "output_type": "stream",
          "name": "stderr",
          "text": [
            "loop over test batches: 100%|██████████| 12/12 [00:00<00:00, 14.91it/s]\n"
          ]
        },
        {
          "output_type": "stream",
          "name": "stdout",
          "text": [
            "Test loss:  1.1632328728834789\n",
            "\n",
            "Test accuracy: 0.34151785714285715\n",
            "\n",
            "Test precision_tag_O: 0.7113853874883288\n",
            "\n",
            "Test recall_tag_O: 0.9356934731934733\n",
            "\n",
            "Test f1_tag_O: 0.8058054748571991\n",
            "\n",
            "Test precision_tag_requirements: 0.0\n",
            "\n",
            "Test recall_tag_requirements: 0.0\n",
            "\n",
            "Test f1_tag_requirements: 0.0\n",
            "\n",
            "Test precision_tag_terms: 0.0\n",
            "\n",
            "Test recall_tag_terms: 0.0\n",
            "\n",
            "Test f1_tag_terms: 0.0\n",
            "\n",
            "Test precision_tag_notes: 0.0\n",
            "\n",
            "Test recall_tag_notes: 0.0\n",
            "\n",
            "Test f1_tag_notes: 0.0\n",
            "\n",
            "Test precision_macro: 0.1778463468720822\n",
            "\n",
            "Test recall_macro: 0.23392336829836832\n",
            "\n",
            "Test f1_macro: 0.20145136871429978\n",
            "\n",
            "Test precision_weighted: 0.2609212956015739\n",
            "\n",
            "Test recall_weighted: 0.34151785714285715\n",
            "\n",
            "Test f1_weighted: 0.2949422392741359\n",
            "\n",
            "Epoch [51 / 100]\n",
            "\n"
          ]
        },
        {
          "output_type": "stream",
          "name": "stderr",
          "text": [
            "loop over train batches:  45%|████▌     | 32/71 [00:11<00:12,  3.23it/s]"
          ]
        },
        {
          "output_type": "stream",
          "name": "stdout",
          "text": [
            "Catched\n"
          ]
        },
        {
          "output_type": "stream",
          "name": "stderr",
          "text": [
            "loop over train batches: 100%|██████████| 71/71 [00:24<00:00,  2.85it/s]\n"
          ]
        },
        {
          "output_type": "stream",
          "name": "stdout",
          "text": [
            "Train loss: 0.6127188033621076\n",
            "\n",
            "Train accuracy: 0.32535211267605635\n",
            "\n",
            "Train precision_tag_O: 0.7257061380747771\n",
            "\n",
            "Train recall_tag_O: 0.9346431036054069\n",
            "\n",
            "Train f1_tag_O: 0.8107506169430018\n",
            "\n",
            "Train precision_tag_requirements: 0.0\n",
            "\n",
            "Train recall_tag_requirements: 0.0\n",
            "\n",
            "Train f1_tag_requirements: 0.0\n",
            "\n",
            "Train precision_tag_terms: 0.0\n",
            "\n",
            "Train recall_tag_terms: 0.0\n",
            "\n",
            "Train f1_tag_terms: 0.0\n",
            "\n",
            "Train precision_tag_notes: 0.0\n",
            "\n",
            "Train recall_tag_notes: 0.0\n",
            "\n",
            "Train f1_tag_notes: 0.0\n",
            "\n",
            "Train precision_macro: 0.18142653451869428\n",
            "\n",
            "Train recall_macro: 0.23366077590135173\n",
            "\n",
            "Train f1_macro: 0.20268765423575044\n",
            "\n",
            "Train precision_weighted: 0.2596788597617269\n",
            "\n",
            "Train recall_weighted: 0.32535211267605635\n",
            "\n",
            "Train f1_weighted: 0.2869863725194029\n",
            "\n"
          ]
        },
        {
          "output_type": "stream",
          "name": "stderr",
          "text": [
            "loop over test batches: 100%|██████████| 12/12 [00:01<00:00, 10.93it/s]\n"
          ]
        },
        {
          "output_type": "stream",
          "name": "stdout",
          "text": [
            "Test loss:  1.1866288930177689\n",
            "\n",
            "Test accuracy: 0.34151785714285715\n",
            "\n",
            "Test precision_tag_O: 0.720232259570495\n",
            "\n",
            "Test recall_tag_O: 0.9356934731934733\n",
            "\n",
            "Test f1_tag_O: 0.810939761600681\n",
            "\n",
            "Test precision_tag_requirements: 0.0\n",
            "\n",
            "Test recall_tag_requirements: 0.0\n",
            "\n",
            "Test f1_tag_requirements: 0.0\n",
            "\n",
            "Test precision_tag_terms: 0.0\n",
            "\n",
            "Test recall_tag_terms: 0.0\n",
            "\n",
            "Test f1_tag_terms: 0.0\n",
            "\n",
            "Test precision_tag_notes: 0.0\n",
            "\n",
            "Test recall_tag_notes: 0.0\n",
            "\n",
            "Test f1_tag_notes: 0.0\n",
            "\n",
            "Test precision_macro: 0.18005806489262374\n",
            "\n",
            "Test recall_macro: 0.23392336829836832\n",
            "\n",
            "Test f1_macro: 0.20273494040017026\n",
            "\n",
            "Test precision_weighted: 0.26450895462351603\n",
            "\n",
            "Test recall_weighted: 0.34151785714285715\n",
            "\n",
            "Test f1_weighted: 0.29700788329380284\n",
            "\n",
            "Epoch [52 / 100]\n",
            "\n"
          ]
        },
        {
          "output_type": "stream",
          "name": "stderr",
          "text": [
            "loop over train batches:   1%|▏         | 1/71 [00:00<00:25,  2.70it/s]"
          ]
        },
        {
          "output_type": "stream",
          "name": "stdout",
          "text": [
            "Catched\n"
          ]
        },
        {
          "output_type": "stream",
          "name": "stderr",
          "text": [
            "loop over train batches: 100%|██████████| 71/71 [00:24<00:00,  2.90it/s]\n"
          ]
        },
        {
          "output_type": "stream",
          "name": "stdout",
          "text": [
            "Train loss: 0.5834480251224947\n",
            "\n",
            "Train accuracy: 0.3255281690140845\n",
            "\n",
            "Train precision_tag_O: 0.7411321617209422\n",
            "\n",
            "Train recall_tag_O: 0.9295662279817211\n",
            "\n",
            "Train f1_tag_O: 0.8185178452743058\n",
            "\n",
            "Train precision_tag_requirements: 0.0\n",
            "\n",
            "Train recall_tag_requirements: 0.0\n",
            "\n",
            "Train f1_tag_requirements: 0.0\n",
            "\n",
            "Train precision_tag_terms: 0.0\n",
            "\n",
            "Train recall_tag_terms: 0.0\n",
            "\n",
            "Train f1_tag_terms: 0.0\n",
            "\n",
            "Train precision_tag_notes: 0.0\n",
            "\n",
            "Train recall_tag_notes: 0.0\n",
            "\n",
            "Train f1_tag_notes: 0.0\n",
            "\n",
            "Train precision_macro: 0.18528304043023555\n",
            "\n",
            "Train recall_macro: 0.23239155699543027\n",
            "\n",
            "Train f1_macro: 0.20462946131857646\n",
            "\n",
            "Train precision_weighted: 0.26371524321200424\n",
            "\n",
            "Train recall_weighted: 0.3255281690140845\n",
            "\n",
            "Train f1_weighted: 0.28944503547251665\n",
            "\n"
          ]
        },
        {
          "output_type": "stream",
          "name": "stderr",
          "text": [
            "loop over test batches: 100%|██████████| 12/12 [00:01<00:00, 11.76it/s]\n"
          ]
        },
        {
          "output_type": "stream",
          "name": "stdout",
          "text": [
            "Test loss:  1.2043948620557785\n",
            "\n",
            "Test accuracy: 0.34151785714285715\n",
            "\n",
            "Test precision_tag_O: 0.6957282913165267\n",
            "\n",
            "Test recall_tag_O: 0.9356934731934733\n",
            "\n",
            "Test f1_tag_O: 0.7940811731903685\n",
            "\n",
            "Test precision_tag_requirements: 0.0\n",
            "\n",
            "Test recall_tag_requirements: 0.0\n",
            "\n",
            "Test f1_tag_requirements: 0.0\n",
            "\n",
            "Test precision_tag_terms: 0.0\n",
            "\n",
            "Test recall_tag_terms: 0.0\n",
            "\n",
            "Test f1_tag_terms: 0.0\n",
            "\n",
            "Test precision_tag_notes: 0.0\n",
            "\n",
            "Test recall_tag_notes: 0.0\n",
            "\n",
            "Test f1_tag_notes: 0.0\n",
            "\n",
            "Test precision_macro: 0.17393207282913167\n",
            "\n",
            "Test recall_macro: 0.23392336829836832\n",
            "\n",
            "Test f1_macro: 0.19852029329759213\n",
            "\n",
            "Test precision_weighted: 0.2557763991013072\n",
            "\n",
            "Test recall_weighted: 0.34151785714285715\n",
            "\n",
            "Test f1_weighted: 0.29102425365715595\n",
            "\n",
            "Epoch [53 / 100]\n",
            "\n"
          ]
        },
        {
          "output_type": "stream",
          "name": "stderr",
          "text": [
            "loop over train batches:  73%|███████▎  | 52/71 [00:18<00:07,  2.70it/s]"
          ]
        },
        {
          "output_type": "stream",
          "name": "stdout",
          "text": [
            "Catched\n"
          ]
        },
        {
          "output_type": "stream",
          "name": "stderr",
          "text": [
            "loop over train batches: 100%|██████████| 71/71 [00:23<00:00,  2.96it/s]\n"
          ]
        },
        {
          "output_type": "stream",
          "name": "stdout",
          "text": [
            "Train loss: 0.5836320888828224\n",
            "\n",
            "Train accuracy: 0.32517605633802815\n",
            "\n",
            "Train precision_tag_O: 0.7374077335475757\n",
            "\n",
            "Train recall_tag_O: 0.9255049918782312\n",
            "\n",
            "Train f1_tag_O: 0.8152291950500709\n",
            "\n",
            "Train precision_tag_requirements: 0.0\n",
            "\n",
            "Train recall_tag_requirements: 0.0\n",
            "\n",
            "Train f1_tag_requirements: 0.0\n",
            "\n",
            "Train precision_tag_terms: 0.0\n",
            "\n",
            "Train recall_tag_terms: 0.0\n",
            "\n",
            "Train f1_tag_terms: 0.0\n",
            "\n",
            "Train precision_tag_notes: 0.0\n",
            "\n",
            "Train recall_tag_notes: 0.0\n",
            "\n",
            "Train f1_tag_notes: 0.0\n",
            "\n",
            "Train precision_macro: 0.18435193338689393\n",
            "\n",
            "Train recall_macro: 0.2313762479695578\n",
            "\n",
            "Train f1_macro: 0.2038072987625177\n",
            "\n",
            "Train precision_weighted: 0.2634231598127172\n",
            "\n",
            "Train recall_weighted: 0.32517605633802815\n",
            "\n",
            "Train f1_weighted: 0.28910763603623557\n",
            "\n"
          ]
        },
        {
          "output_type": "stream",
          "name": "stderr",
          "text": [
            "loop over test batches: 100%|██████████| 12/12 [00:01<00:00, 11.54it/s]\n"
          ]
        },
        {
          "output_type": "stream",
          "name": "stdout",
          "text": [
            "Test loss:  1.1966040879487991\n",
            "\n",
            "Test accuracy: 0.34151785714285715\n",
            "\n",
            "Test precision_tag_O: 0.7029645191409898\n",
            "\n",
            "Test recall_tag_O: 0.9356934731934733\n",
            "\n",
            "Test f1_tag_O: 0.7994330097250008\n",
            "\n",
            "Test precision_tag_requirements: 0.0\n",
            "\n",
            "Test recall_tag_requirements: 0.0\n",
            "\n",
            "Test f1_tag_requirements: 0.0\n",
            "\n",
            "Test precision_tag_terms: 0.0\n",
            "\n",
            "Test recall_tag_terms: 0.0\n",
            "\n",
            "Test f1_tag_terms: 0.0\n",
            "\n",
            "Test precision_tag_notes: 0.0\n",
            "\n",
            "Test recall_tag_notes: 0.0\n",
            "\n",
            "Test f1_tag_notes: 0.0\n",
            "\n",
            "Test precision_macro: 0.17574112978524745\n",
            "\n",
            "Test recall_macro: 0.23392336829836832\n",
            "\n",
            "Test f1_macro: 0.1998582524312502\n",
            "\n",
            "Test precision_weighted: 0.2578234418767507\n",
            "\n",
            "Test recall_weighted: 0.34151785714285715\n",
            "\n",
            "Test f1_weighted: 0.29257757157819725\n",
            "\n",
            "Epoch [54 / 100]\n",
            "\n"
          ]
        },
        {
          "output_type": "stream",
          "name": "stderr",
          "text": [
            "loop over train batches:   4%|▍         | 3/71 [00:01<00:24,  2.80it/s]"
          ]
        },
        {
          "output_type": "stream",
          "name": "stdout",
          "text": [
            "Catched\n"
          ]
        },
        {
          "output_type": "stream",
          "name": "stderr",
          "text": [
            "loop over train batches: 100%|██████████| 71/71 [00:24<00:00,  2.90it/s]\n"
          ]
        },
        {
          "output_type": "stream",
          "name": "stdout",
          "text": [
            "Train loss: 0.5752441446546098\n",
            "\n",
            "Train accuracy: 0.3277288732394366\n",
            "\n",
            "Train precision_tag_O: 0.7420353300749454\n",
            "\n",
            "Train recall_tag_O: 0.9385833721916005\n",
            "\n",
            "Train f1_tag_O: 0.8234597535733498\n",
            "\n",
            "Train precision_tag_requirements: 0.0\n",
            "\n",
            "Train recall_tag_requirements: 0.0\n",
            "\n",
            "Train f1_tag_requirements: 0.0\n",
            "\n",
            "Train precision_tag_terms: 0.0\n",
            "\n",
            "Train recall_tag_terms: 0.0\n",
            "\n",
            "Train f1_tag_terms: 0.0\n",
            "\n",
            "Train precision_tag_notes: 0.0\n",
            "\n",
            "Train recall_tag_notes: 0.0\n",
            "\n",
            "Train f1_tag_notes: 0.0\n",
            "\n",
            "Train precision_macro: 0.18550883251873634\n",
            "\n",
            "Train recall_macro: 0.23464584304790012\n",
            "\n",
            "Train f1_macro: 0.20586493839333744\n",
            "\n",
            "Train precision_weighted: 0.2646894239001036\n",
            "\n",
            "Train recall_weighted: 0.3277288732394366\n",
            "\n",
            "Train f1_weighted: 0.2911011179139655\n",
            "\n"
          ]
        },
        {
          "output_type": "stream",
          "name": "stderr",
          "text": [
            "loop over test batches: 100%|██████████| 12/12 [00:00<00:00, 14.75it/s]\n"
          ]
        },
        {
          "output_type": "stream",
          "name": "stdout",
          "text": [
            "Test loss:  1.2112150490283966\n",
            "\n",
            "Test accuracy: 0.34151785714285715\n",
            "\n",
            "Test precision_tag_O: 0.6889880952380952\n",
            "\n",
            "Test recall_tag_O: 0.9356934731934733\n",
            "\n",
            "Test f1_tag_O: 0.789577737077737\n",
            "\n",
            "Test precision_tag_requirements: 0.0\n",
            "\n",
            "Test recall_tag_requirements: 0.0\n",
            "\n",
            "Test f1_tag_requirements: 0.0\n",
            "\n",
            "Test precision_tag_terms: 0.0\n",
            "\n",
            "Test recall_tag_terms: 0.0\n",
            "\n",
            "Test f1_tag_terms: 0.0\n",
            "\n",
            "Test precision_tag_notes: 0.0\n",
            "\n",
            "Test recall_tag_notes: 0.0\n",
            "\n",
            "Test f1_tag_notes: 0.0\n",
            "\n",
            "Test precision_macro: 0.1722470238095238\n",
            "\n",
            "Test recall_macro: 0.23392336829836832\n",
            "\n",
            "Test f1_macro: 0.19739443426943426\n",
            "\n",
            "Test precision_weighted: 0.25322967728758167\n",
            "\n",
            "Test recall_weighted: 0.34151785714285715\n",
            "\n",
            "Test f1_weighted: 0.28933251933251936\n",
            "\n",
            "Epoch [55 / 100]\n",
            "\n"
          ]
        },
        {
          "output_type": "stream",
          "name": "stderr",
          "text": [
            "loop over train batches:  96%|█████████▌| 68/71 [00:24<00:01,  2.81it/s]"
          ]
        },
        {
          "output_type": "stream",
          "name": "stdout",
          "text": [
            "Catched\n"
          ]
        },
        {
          "output_type": "stream",
          "name": "stderr",
          "text": [
            "loop over train batches: 100%|██████████| 71/71 [00:24<00:00,  2.87it/s]\n"
          ]
        },
        {
          "output_type": "stream",
          "name": "stdout",
          "text": [
            "Train loss: 0.5584179175571656\n",
            "\n",
            "Train accuracy: 0.3258802816901408\n",
            "\n",
            "Train precision_tag_O: 0.7451862339833016\n",
            "\n",
            "Train recall_tag_O: 0.9309610071416202\n",
            "\n",
            "Train f1_tag_O: 0.8224840320436213\n",
            "\n",
            "Train precision_tag_requirements: 0.0\n",
            "\n",
            "Train recall_tag_requirements: 0.0\n",
            "\n",
            "Train f1_tag_requirements: 0.0\n",
            "\n",
            "Train precision_tag_terms: 0.0\n",
            "\n",
            "Train recall_tag_terms: 0.0\n",
            "\n",
            "Train f1_tag_terms: 0.0\n",
            "\n",
            "Train precision_tag_notes: 0.0\n",
            "\n",
            "Train recall_tag_notes: 0.0\n",
            "\n",
            "Train f1_tag_notes: 0.0\n",
            "\n",
            "Train precision_macro: 0.1862965584958254\n",
            "\n",
            "Train recall_macro: 0.23274025178540506\n",
            "\n",
            "Train f1_macro: 0.20562100801090533\n",
            "\n",
            "Train precision_weighted: 0.26554339211899225\n",
            "\n",
            "Train recall_weighted: 0.3258802816901408\n",
            "\n",
            "Train f1_weighted: 0.2910812839754254\n",
            "\n"
          ]
        },
        {
          "output_type": "stream",
          "name": "stderr",
          "text": [
            "loop over test batches: 100%|██████████| 12/12 [00:01<00:00, 10.88it/s]\n"
          ]
        },
        {
          "output_type": "stream",
          "name": "stdout",
          "text": [
            "Test loss:  1.228168452779452\n",
            "\n",
            "Test accuracy: 0.34672619047619047\n",
            "\n",
            "Test precision_tag_O: 0.6807064638720984\n",
            "\n",
            "Test recall_tag_O: 0.9485139860139861\n",
            "\n",
            "Test f1_tag_O: 0.7882910113084844\n",
            "\n",
            "Test precision_tag_requirements: 0.0\n",
            "\n",
            "Test recall_tag_requirements: 0.0\n",
            "\n",
            "Test f1_tag_requirements: 0.0\n",
            "\n",
            "Test precision_tag_terms: 0.0\n",
            "\n",
            "Test recall_tag_terms: 0.0\n",
            "\n",
            "Test f1_tag_terms: 0.0\n",
            "\n",
            "Test precision_tag_notes: 0.0\n",
            "\n",
            "Test recall_tag_notes: 0.0\n",
            "\n",
            "Test f1_tag_notes: 0.0\n",
            "\n",
            "Test precision_macro: 0.1701766159680246\n",
            "\n",
            "Test recall_macro: 0.23712849650349652\n",
            "\n",
            "Test f1_macro: 0.1970727528271211\n",
            "\n",
            "Test precision_weighted: 0.2505593442603649\n",
            "\n",
            "Test recall_weighted: 0.34672619047619047\n",
            "\n",
            "Test f1_weighted: 0.2893112454068856\n",
            "\n",
            "Epoch [56 / 100]\n",
            "\n"
          ]
        },
        {
          "output_type": "stream",
          "name": "stderr",
          "text": [
            "loop over train batches:  66%|██████▌   | 47/71 [00:16<00:07,  3.13it/s]"
          ]
        },
        {
          "output_type": "stream",
          "name": "stdout",
          "text": [
            "Catched\n"
          ]
        },
        {
          "output_type": "stream",
          "name": "stderr",
          "text": [
            "loop over train batches: 100%|██████████| 71/71 [00:24<00:00,  2.90it/s]\n"
          ]
        },
        {
          "output_type": "stream",
          "name": "stdout",
          "text": [
            "Train loss: 0.5535886753612841\n",
            "\n",
            "Train accuracy: 0.3261443661971831\n",
            "\n",
            "Train precision_tag_O: 0.7488058614181449\n",
            "\n",
            "Train recall_tag_O: 0.9260947799783755\n",
            "\n",
            "Train f1_tag_O: 0.8219936427359591\n",
            "\n",
            "Train precision_tag_requirements: 0.0\n",
            "\n",
            "Train recall_tag_requirements: 0.0\n",
            "\n",
            "Train f1_tag_requirements: 0.0\n",
            "\n",
            "Train precision_tag_terms: 0.0\n",
            "\n",
            "Train recall_tag_terms: 0.0\n",
            "\n",
            "Train f1_tag_terms: 0.0\n",
            "\n",
            "Train precision_tag_notes: 0.0\n",
            "\n",
            "Train recall_tag_notes: 0.0\n",
            "\n",
            "Train f1_tag_notes: 0.0\n",
            "\n",
            "Train precision_macro: 0.18720146535453622\n",
            "\n",
            "Train recall_macro: 0.23152369499459388\n",
            "\n",
            "Train f1_macro: 0.20549841068398977\n",
            "\n",
            "Train precision_weighted: 0.26842602186898273\n",
            "\n",
            "Train recall_weighted: 0.3261443661971831\n",
            "\n",
            "Train f1_weighted: 0.2924916679329226\n",
            "\n"
          ]
        },
        {
          "output_type": "stream",
          "name": "stderr",
          "text": [
            "loop over test batches: 100%|██████████| 12/12 [00:01<00:00, 10.75it/s]\n"
          ]
        },
        {
          "output_type": "stream",
          "name": "stdout",
          "text": [
            "Test loss:  1.230521818002065\n",
            "\n",
            "Test accuracy: 0.3441220238095238\n",
            "\n",
            "Test precision_tag_O: 0.6838504632622281\n",
            "\n",
            "Test recall_tag_O: 0.9426379176379176\n",
            "\n",
            "Test f1_tag_O: 0.7888601800429758\n",
            "\n",
            "Test precision_tag_requirements: 0.0\n",
            "\n",
            "Test recall_tag_requirements: 0.0\n",
            "\n",
            "Test f1_tag_requirements: 0.0\n",
            "\n",
            "Test precision_tag_terms: 0.0\n",
            "\n",
            "Test recall_tag_terms: 0.0\n",
            "\n",
            "Test f1_tag_terms: 0.0\n",
            "\n",
            "Test precision_tag_notes: 0.0\n",
            "\n",
            "Test recall_tag_notes: 0.0\n",
            "\n",
            "Test f1_tag_notes: 0.0\n",
            "\n",
            "Test precision_macro: 0.17096261581555702\n",
            "\n",
            "Test recall_macro: 0.2356594794094794\n",
            "\n",
            "Test f1_macro: 0.19721504501074394\n",
            "\n",
            "Test precision_weighted: 0.25151369642408244\n",
            "\n",
            "Test recall_weighted: 0.3441220238095238\n",
            "\n",
            "Test f1_weighted: 0.28923597982065724\n",
            "\n",
            "Epoch [57 / 100]\n",
            "\n"
          ]
        },
        {
          "output_type": "stream",
          "name": "stderr",
          "text": [
            "loop over train batches:  11%|█▏        | 8/71 [00:02<00:18,  3.36it/s]"
          ]
        },
        {
          "output_type": "stream",
          "name": "stdout",
          "text": [
            "Catched\n"
          ]
        },
        {
          "output_type": "stream",
          "name": "stderr",
          "text": [
            "loop over train batches: 100%|██████████| 71/71 [00:25<00:00,  2.75it/s]\n"
          ]
        },
        {
          "output_type": "stream",
          "name": "stdout",
          "text": [
            "Train loss: 0.5567152273487037\n",
            "\n",
            "Train accuracy: 0.3259683098591549\n",
            "\n",
            "Train precision_tag_O: 0.7456748006665156\n",
            "\n",
            "Train recall_tag_O: 0.935084399168906\n",
            "\n",
            "Train f1_tag_O: 0.8231405158053384\n",
            "\n",
            "Train precision_tag_requirements: 0.0\n",
            "\n",
            "Train recall_tag_requirements: 0.0\n",
            "\n",
            "Train f1_tag_requirements: 0.0\n",
            "\n",
            "Train precision_tag_terms: 0.0\n",
            "\n",
            "Train recall_tag_terms: 0.0\n",
            "\n",
            "Train f1_tag_terms: 0.0\n",
            "\n",
            "Train precision_tag_notes: 0.0\n",
            "\n",
            "Train recall_tag_notes: 0.0\n",
            "\n",
            "Train f1_tag_notes: 0.0\n",
            "\n",
            "Train precision_macro: 0.1864187001666289\n",
            "\n",
            "Train recall_macro: 0.2337710997922265\n",
            "\n",
            "Train f1_macro: 0.2057851289513346\n",
            "\n",
            "Train precision_weighted: 0.2658850755390472\n",
            "\n",
            "Train recall_weighted: 0.3259683098591549\n",
            "\n",
            "Train f1_weighted: 0.29069577487966936\n",
            "\n"
          ]
        },
        {
          "output_type": "stream",
          "name": "stderr",
          "text": [
            "loop over test batches: 100%|██████████| 12/12 [00:01<00:00, 11.40it/s]\n"
          ]
        },
        {
          "output_type": "stream",
          "name": "stdout",
          "text": [
            "Test loss:  1.2484212468067806\n",
            "\n",
            "Test accuracy: 0.34151785714285715\n",
            "\n",
            "Test precision_tag_O: 0.690966386554622\n",
            "\n",
            "Test recall_tag_O: 0.9356934731934733\n",
            "\n",
            "Test f1_tag_O: 0.791924553940683\n",
            "\n",
            "Test precision_tag_requirements: 0.0\n",
            "\n",
            "Test recall_tag_requirements: 0.0\n",
            "\n",
            "Test f1_tag_requirements: 0.0\n",
            "\n",
            "Test precision_tag_terms: 0.0\n",
            "\n",
            "Test recall_tag_terms: 0.0\n",
            "\n",
            "Test f1_tag_terms: 0.0\n",
            "\n",
            "Test precision_tag_notes: 0.0\n",
            "\n",
            "Test recall_tag_notes: 0.0\n",
            "\n",
            "Test f1_tag_notes: 0.0\n",
            "\n",
            "Test precision_macro: 0.1727415966386555\n",
            "\n",
            "Test recall_macro: 0.23392336829836832\n",
            "\n",
            "Test f1_macro: 0.19798113848517074\n",
            "\n",
            "Test precision_weighted: 0.2532993405695611\n",
            "\n",
            "Test recall_weighted: 0.34151785714285715\n",
            "\n",
            "Test f1_weighted: 0.28975935690653426\n",
            "\n",
            "Epoch [58 / 100]\n",
            "\n"
          ]
        },
        {
          "output_type": "stream",
          "name": "stderr",
          "text": [
            "loop over train batches:  48%|████▊     | 34/71 [00:12<00:16,  2.29it/s]"
          ]
        },
        {
          "output_type": "stream",
          "name": "stdout",
          "text": [
            "Catched\n"
          ]
        },
        {
          "output_type": "stream",
          "name": "stderr",
          "text": [
            "loop over train batches: 100%|██████████| 71/71 [00:24<00:00,  2.85it/s]\n"
          ]
        },
        {
          "output_type": "stream",
          "name": "stdout",
          "text": [
            "Train loss: 0.5496353221611238\n",
            "\n",
            "Train accuracy: 0.32359154929577466\n",
            "\n",
            "Train precision_tag_O: 0.7444619633359657\n",
            "\n",
            "Train recall_tag_O: 0.9266954485264343\n",
            "\n",
            "Train f1_tag_O: 0.8176852927005724\n",
            "\n",
            "Train precision_tag_requirements: 0.0\n",
            "\n",
            "Train recall_tag_requirements: 0.0\n",
            "\n",
            "Train f1_tag_requirements: 0.0\n",
            "\n",
            "Train precision_tag_terms: 0.0\n",
            "\n",
            "Train recall_tag_terms: 0.0\n",
            "\n",
            "Train f1_tag_terms: 0.0\n",
            "\n",
            "Train precision_tag_notes: 0.0\n",
            "\n",
            "Train recall_tag_notes: 0.0\n",
            "\n",
            "Train f1_tag_notes: 0.0\n",
            "\n",
            "Train precision_macro: 0.18611549083399143\n",
            "\n",
            "Train recall_macro: 0.23167386213160857\n",
            "\n",
            "Train f1_macro: 0.2044213231751431\n",
            "\n",
            "Train precision_weighted: 0.26595053305765276\n",
            "\n",
            "Train recall_weighted: 0.32359154929577466\n",
            "\n",
            "Train f1_weighted: 0.289897245790742\n",
            "\n"
          ]
        },
        {
          "output_type": "stream",
          "name": "stderr",
          "text": [
            "loop over test batches: 100%|██████████| 12/12 [00:01<00:00, 10.52it/s]\n"
          ]
        },
        {
          "output_type": "stream",
          "name": "stdout",
          "text": [
            "Test loss:  1.253264273206393\n",
            "\n",
            "Test accuracy: 0.3441220238095238\n",
            "\n",
            "Test precision_tag_O: 0.6711867574290175\n",
            "\n",
            "Test recall_tag_O: 0.9426379176379176\n",
            "\n",
            "Test f1_tag_O: 0.7812891503983458\n",
            "\n",
            "Test precision_tag_requirements: 0.0\n",
            "\n",
            "Test recall_tag_requirements: 0.0\n",
            "\n",
            "Test f1_tag_requirements: 0.0\n",
            "\n",
            "Test precision_tag_terms: 0.0\n",
            "\n",
            "Test recall_tag_terms: 0.0\n",
            "\n",
            "Test f1_tag_terms: 0.0\n",
            "\n",
            "Test precision_tag_notes: 0.0\n",
            "\n",
            "Test recall_tag_notes: 0.0\n",
            "\n",
            "Test f1_tag_notes: 0.0\n",
            "\n",
            "Test precision_macro: 0.16779668935725436\n",
            "\n",
            "Test recall_macro: 0.2356594794094794\n",
            "\n",
            "Test f1_macro: 0.19532228759958645\n",
            "\n",
            "Test precision_weighted: 0.24646954883083463\n",
            "\n",
            "Test recall_weighted: 0.3441220238095238\n",
            "\n",
            "Test f1_weighted: 0.2861909231745798\n",
            "\n",
            "Epoch [59 / 100]\n",
            "\n"
          ]
        },
        {
          "output_type": "stream",
          "name": "stderr",
          "text": [
            "loop over train batches:  63%|██████▎   | 45/71 [00:15<00:08,  3.05it/s]"
          ]
        },
        {
          "output_type": "stream",
          "name": "stdout",
          "text": [
            "Catched\n"
          ]
        },
        {
          "output_type": "stream",
          "name": "stderr",
          "text": [
            "loop over train batches: 100%|██████████| 71/71 [00:25<00:00,  2.84it/s]\n"
          ]
        },
        {
          "output_type": "stream",
          "name": "stdout",
          "text": [
            "Train loss: 0.529465913352832\n",
            "\n",
            "Train accuracy: 0.3232394366197183\n",
            "\n",
            "Train precision_tag_O: 0.7450478041389611\n",
            "\n",
            "Train recall_tag_O: 0.9261382477413962\n",
            "\n",
            "Train f1_tag_O: 0.8211979861992045\n",
            "\n",
            "Train precision_tag_requirements: 0.0\n",
            "\n",
            "Train recall_tag_requirements: 0.0\n",
            "\n",
            "Train f1_tag_requirements: 0.0\n",
            "\n",
            "Train precision_tag_terms: 0.0\n",
            "\n",
            "Train recall_tag_terms: 0.0\n",
            "\n",
            "Train f1_tag_terms: 0.0\n",
            "\n",
            "Train precision_tag_notes: 0.0\n",
            "\n",
            "Train recall_tag_notes: 0.0\n",
            "\n",
            "Train f1_tag_notes: 0.0\n",
            "\n",
            "Train precision_macro: 0.18626195103474028\n",
            "\n",
            "Train recall_macro: 0.23153456193534905\n",
            "\n",
            "Train f1_macro: 0.20529949654980112\n",
            "\n",
            "Train precision_weighted: 0.26618797275685346\n",
            "\n",
            "Train recall_weighted: 0.3232394366197183\n",
            "\n",
            "Train f1_weighted: 0.2904083812534515\n",
            "\n"
          ]
        },
        {
          "output_type": "stream",
          "name": "stderr",
          "text": [
            "loop over test batches: 100%|██████████| 12/12 [00:00<00:00, 14.65it/s]\n"
          ]
        },
        {
          "output_type": "stream",
          "name": "stdout",
          "text": [
            "Test loss:  1.2657242963711421\n",
            "\n",
            "Test accuracy: 0.34672619047619047\n",
            "\n",
            "Test precision_tag_O: 0.6688372357490006\n",
            "\n",
            "Test recall_tag_O: 0.949048174048174\n",
            "\n",
            "Test f1_tag_O: 0.7802136135469468\n",
            "\n",
            "Test precision_tag_requirements: 0.0\n",
            "\n",
            "Test recall_tag_requirements: 0.0\n",
            "\n",
            "Test f1_tag_requirements: 0.0\n",
            "\n",
            "Test precision_tag_terms: 0.0\n",
            "\n",
            "Test recall_tag_terms: 0.0\n",
            "\n",
            "Test f1_tag_terms: 0.0\n",
            "\n",
            "Test precision_tag_notes: 0.0\n",
            "\n",
            "Test recall_tag_notes: 0.0\n",
            "\n",
            "Test f1_tag_notes: 0.0\n",
            "\n",
            "Test precision_macro: 0.16720930893725014\n",
            "\n",
            "Test recall_macro: 0.2372620435120435\n",
            "\n",
            "Test f1_macro: 0.1950534033867367\n",
            "\n",
            "Test precision_weighted: 0.24622992492937346\n",
            "\n",
            "Test recall_weighted: 0.34672619047619047\n",
            "\n",
            "Test f1_weighted: 0.2863292764334431\n",
            "\n",
            "Epoch [60 / 100]\n",
            "\n"
          ]
        },
        {
          "output_type": "stream",
          "name": "stderr",
          "text": [
            "loop over train batches:   8%|▊         | 6/71 [00:01<00:21,  3.08it/s]"
          ]
        },
        {
          "output_type": "stream",
          "name": "stdout",
          "text": [
            "Catched\n"
          ]
        },
        {
          "output_type": "stream",
          "name": "stderr",
          "text": [
            "loop over train batches: 100%|██████████| 71/71 [00:25<00:00,  2.84it/s]\n"
          ]
        },
        {
          "output_type": "stream",
          "name": "stdout",
          "text": [
            "Train loss: 0.5147952542338573\n",
            "\n",
            "Train accuracy: 0.3264964788732394\n",
            "\n",
            "Train precision_tag_O: 0.753548967662908\n",
            "\n",
            "Train recall_tag_O: 0.9268577999833176\n",
            "\n",
            "Train f1_tag_O: 0.8259046534467881\n",
            "\n",
            "Train precision_tag_requirements: 0.0\n",
            "\n",
            "Train recall_tag_requirements: 0.0\n",
            "\n",
            "Train f1_tag_requirements: 0.0\n",
            "\n",
            "Train precision_tag_terms: 0.0\n",
            "\n",
            "Train recall_tag_terms: 0.0\n",
            "\n",
            "Train f1_tag_terms: 0.0\n",
            "\n",
            "Train precision_tag_notes: 0.0\n",
            "\n",
            "Train recall_tag_notes: 0.0\n",
            "\n",
            "Train f1_tag_notes: 0.0\n",
            "\n",
            "Train precision_macro: 0.188387241915727\n",
            "\n",
            "Train recall_macro: 0.2317144499958294\n",
            "\n",
            "Train f1_macro: 0.20647616336169702\n",
            "\n",
            "Train precision_weighted: 0.2705000849847625\n",
            "\n",
            "Train recall_weighted: 0.3264964788732394\n",
            "\n",
            "Train f1_weighted: 0.29410790747744137\n",
            "\n"
          ]
        },
        {
          "output_type": "stream",
          "name": "stderr",
          "text": [
            "loop over test batches: 100%|██████████| 12/12 [00:00<00:00, 14.78it/s]\n"
          ]
        },
        {
          "output_type": "stream",
          "name": "stdout",
          "text": [
            "Test loss:  1.2347734818855922\n",
            "\n",
            "Test accuracy: 0.34151785714285715\n",
            "\n",
            "Test precision_tag_O: 0.7021767040149394\n",
            "\n",
            "Test recall_tag_O: 0.9356934731934733\n",
            "\n",
            "Test f1_tag_O: 0.7988435608596899\n",
            "\n",
            "Test precision_tag_requirements: 0.0\n",
            "\n",
            "Test recall_tag_requirements: 0.0\n",
            "\n",
            "Test f1_tag_requirements: 0.0\n",
            "\n",
            "Test precision_tag_terms: 0.0\n",
            "\n",
            "Test recall_tag_terms: 0.0\n",
            "\n",
            "Test f1_tag_terms: 0.0\n",
            "\n",
            "Test precision_tag_notes: 0.0\n",
            "\n",
            "Test recall_tag_notes: 0.0\n",
            "\n",
            "Test f1_tag_notes: 0.0\n",
            "\n",
            "Test precision_macro: 0.17554417600373484\n",
            "\n",
            "Test recall_macro: 0.23392336829836832\n",
            "\n",
            "Test f1_macro: 0.19971089021492247\n",
            "\n",
            "Test precision_weighted: 0.2576387325763639\n",
            "\n",
            "Test recall_weighted: 0.34151785714285715\n",
            "\n",
            "Test f1_weighted: 0.2924404720876495\n",
            "\n",
            "Epoch [61 / 100]\n",
            "\n"
          ]
        },
        {
          "output_type": "stream",
          "name": "stderr",
          "text": [
            "loop over train batches:  17%|█▋        | 12/71 [00:04<00:21,  2.70it/s]"
          ]
        },
        {
          "output_type": "stream",
          "name": "stdout",
          "text": [
            "Catched\n"
          ]
        },
        {
          "output_type": "stream",
          "name": "stderr",
          "text": [
            "loop over train batches: 100%|██████████| 71/71 [00:25<00:00,  2.81it/s]\n"
          ]
        },
        {
          "output_type": "stream",
          "name": "stdout",
          "text": [
            "Train loss: 0.5131401415442077\n",
            "\n",
            "Train accuracy: 0.33089788732394365\n",
            "\n",
            "Train precision_tag_O: 0.7594037457307634\n",
            "\n",
            "Train recall_tag_O: 0.9441550452217397\n",
            "\n",
            "Train f1_tag_O: 0.8336663771669305\n",
            "\n",
            "Train precision_tag_requirements: 0.0\n",
            "\n",
            "Train recall_tag_requirements: 0.0\n",
            "\n",
            "Train f1_tag_requirements: 0.0\n",
            "\n",
            "Train precision_tag_terms: 0.0\n",
            "\n",
            "Train recall_tag_terms: 0.0\n",
            "\n",
            "Train f1_tag_terms: 0.0\n",
            "\n",
            "Train precision_tag_notes: 0.0\n",
            "\n",
            "Train recall_tag_notes: 0.0\n",
            "\n",
            "Train f1_tag_notes: 0.0\n",
            "\n",
            "Train precision_macro: 0.18985093643269085\n",
            "\n",
            "Train recall_macro: 0.2360387613054349\n",
            "\n",
            "Train f1_macro: 0.20841659429173262\n",
            "\n",
            "Train precision_weighted: 0.2720136689029428\n",
            "\n",
            "Train recall_weighted: 0.33089788732394365\n",
            "\n",
            "Train f1_weighted: 0.29623093775980003\n",
            "\n"
          ]
        },
        {
          "output_type": "stream",
          "name": "stderr",
          "text": [
            "loop over test batches: 100%|██████████| 12/12 [00:00<00:00, 14.87it/s]\n"
          ]
        },
        {
          "output_type": "stream",
          "name": "stdout",
          "text": [
            "Test loss:  1.2636840095122654\n",
            "\n",
            "Test accuracy: 0.34151785714285715\n",
            "\n",
            "Test precision_tag_O: 0.7014764239028946\n",
            "\n",
            "Test recall_tag_O: 0.9356934731934733\n",
            "\n",
            "Test f1_tag_O: 0.798429995929996\n",
            "\n",
            "Test precision_tag_requirements: 0.0\n",
            "\n",
            "Test recall_tag_requirements: 0.0\n",
            "\n",
            "Test f1_tag_requirements: 0.0\n",
            "\n",
            "Test precision_tag_terms: 0.0\n",
            "\n",
            "Test recall_tag_terms: 0.0\n",
            "\n",
            "Test f1_tag_terms: 0.0\n",
            "\n",
            "Test precision_tag_notes: 0.0\n",
            "\n",
            "Test recall_tag_notes: 0.0\n",
            "\n",
            "Test f1_tag_notes: 0.0\n",
            "\n",
            "Test precision_macro: 0.17536910597572364\n",
            "\n",
            "Test recall_macro: 0.23392336829836832\n",
            "\n",
            "Test f1_macro: 0.199607498982499\n",
            "\n",
            "Test precision_weighted: 0.25760225965386147\n",
            "\n",
            "Test recall_weighted: 0.34151785714285715\n",
            "\n",
            "Test f1_weighted: 0.29243271774521773\n",
            "\n",
            "Epoch [62 / 100]\n",
            "\n"
          ]
        },
        {
          "output_type": "stream",
          "name": "stderr",
          "text": [
            "loop over train batches:  65%|██████▍   | 46/71 [00:16<00:09,  2.69it/s]"
          ]
        },
        {
          "output_type": "stream",
          "name": "stdout",
          "text": [
            "Catched\n"
          ]
        },
        {
          "output_type": "stream",
          "name": "stderr",
          "text": [
            "loop over train batches: 100%|██████████| 71/71 [00:25<00:00,  2.83it/s]\n"
          ]
        },
        {
          "output_type": "stream",
          "name": "stdout",
          "text": [
            "Train loss: 0.49405515068013905\n",
            "\n",
            "Train accuracy: 0.3259683098591549\n",
            "\n",
            "Train precision_tag_O: 0.7597886335818573\n",
            "\n",
            "Train recall_tag_O: 0.9270001125634928\n",
            "\n",
            "Train f1_tag_O: 0.8288412863851742\n",
            "\n",
            "Train precision_tag_requirements: 0.0\n",
            "\n",
            "Train recall_tag_requirements: 0.0\n",
            "\n",
            "Train f1_tag_requirements: 0.0\n",
            "\n",
            "Train precision_tag_terms: 0.0\n",
            "\n",
            "Train recall_tag_terms: 0.0\n",
            "\n",
            "Train f1_tag_terms: 0.0\n",
            "\n",
            "Train precision_tag_notes: 0.0\n",
            "\n",
            "Train recall_tag_notes: 0.0\n",
            "\n",
            "Train f1_tag_notes: 0.0\n",
            "\n",
            "Train precision_macro: 0.18994715839546433\n",
            "\n",
            "Train recall_macro: 0.2317500281408732\n",
            "\n",
            "Train f1_macro: 0.20721032159629355\n",
            "\n",
            "Train precision_weighted: 0.2718443763278853\n",
            "\n",
            "Train recall_weighted: 0.3259683098591549\n",
            "\n",
            "Train f1_weighted: 0.29451977543240837\n",
            "\n"
          ]
        },
        {
          "output_type": "stream",
          "name": "stderr",
          "text": [
            "loop over test batches: 100%|██████████| 12/12 [00:00<00:00, 15.32it/s]\n"
          ]
        },
        {
          "output_type": "stream",
          "name": "stdout",
          "text": [
            "Test loss:  1.2604348013798397\n",
            "\n",
            "Test accuracy: 0.33891369047619047\n",
            "\n",
            "Test precision_tag_O: 0.727180295195001\n",
            "\n",
            "Test recall_tag_O: 0.9287490287490288\n",
            "\n",
            "Test f1_tag_O: 0.8125304548580411\n",
            "\n",
            "Test precision_tag_requirements: 0.0\n",
            "\n",
            "Test recall_tag_requirements: 0.0\n",
            "\n",
            "Test f1_tag_requirements: 0.0\n",
            "\n",
            "Test precision_tag_terms: 0.0\n",
            "\n",
            "Test recall_tag_terms: 0.0\n",
            "\n",
            "Test f1_tag_terms: 0.0\n",
            "\n",
            "Test precision_tag_notes: 0.0\n",
            "\n",
            "Test recall_tag_notes: 0.0\n",
            "\n",
            "Test f1_tag_notes: 0.0\n",
            "\n",
            "Test precision_macro: 0.18179507379875026\n",
            "\n",
            "Test recall_macro: 0.2321872571872572\n",
            "\n",
            "Test f1_macro: 0.20313261371451027\n",
            "\n",
            "Test precision_weighted: 0.266840991204174\n",
            "\n",
            "Test recall_weighted: 0.33891369047619047\n",
            "\n",
            "Test f1_weighted: 0.29745168405189965\n",
            "\n",
            "Epoch [63 / 100]\n",
            "\n"
          ]
        },
        {
          "output_type": "stream",
          "name": "stderr",
          "text": [
            "loop over train batches:  35%|███▌      | 25/71 [00:08<00:16,  2.80it/s]"
          ]
        },
        {
          "output_type": "stream",
          "name": "stdout",
          "text": [
            "Catched\n"
          ]
        },
        {
          "output_type": "stream",
          "name": "stderr",
          "text": [
            "loop over train batches: 100%|██████████| 71/71 [00:24<00:00,  2.85it/s]\n"
          ]
        },
        {
          "output_type": "stream",
          "name": "stdout",
          "text": [
            "Train loss: 0.501686691818103\n",
            "\n",
            "Train accuracy: 0.3315140845070423\n",
            "\n",
            "Train precision_tag_O: 0.7576691754492305\n",
            "\n",
            "Train recall_tag_O: 0.9418071437252312\n",
            "\n",
            "Train f1_tag_O: 0.8329588289428435\n",
            "\n",
            "Train precision_tag_requirements: 0.0\n",
            "\n",
            "Train recall_tag_requirements: 0.0\n",
            "\n",
            "Train f1_tag_requirements: 0.0\n",
            "\n",
            "Train precision_tag_terms: 0.0\n",
            "\n",
            "Train recall_tag_terms: 0.0\n",
            "\n",
            "Train f1_tag_terms: 0.0\n",
            "\n",
            "Train precision_tag_notes: 0.0\n",
            "\n",
            "Train recall_tag_notes: 0.0\n",
            "\n",
            "Train f1_tag_notes: 0.0\n",
            "\n",
            "Train precision_macro: 0.18941729386230763\n",
            "\n",
            "Train recall_macro: 0.2354517859313078\n",
            "\n",
            "Train f1_macro: 0.20823970723571086\n",
            "\n",
            "Train precision_weighted: 0.27341006799362744\n",
            "\n",
            "Train recall_weighted: 0.3315140845070423\n",
            "\n",
            "Train f1_weighted: 0.2973922040593459\n",
            "\n"
          ]
        },
        {
          "output_type": "stream",
          "name": "stderr",
          "text": [
            "loop over test batches: 100%|██████████| 12/12 [00:01<00:00, 10.36it/s]\n"
          ]
        },
        {
          "output_type": "stream",
          "name": "stdout",
          "text": [
            "Test loss:  1.2615390121936798\n",
            "\n",
            "Test accuracy: 0.33891369047619047\n",
            "\n",
            "Test precision_tag_O: 0.7262874380521439\n",
            "\n",
            "Test recall_tag_O: 0.9287490287490288\n",
            "\n",
            "Test f1_tag_O: 0.8124829714772245\n",
            "\n",
            "Test precision_tag_requirements: 0.0\n",
            "\n",
            "Test recall_tag_requirements: 0.0\n",
            "\n",
            "Test f1_tag_requirements: 0.0\n",
            "\n",
            "Test precision_tag_terms: 0.0\n",
            "\n",
            "Test recall_tag_terms: 0.0\n",
            "\n",
            "Test f1_tag_terms: 0.0\n",
            "\n",
            "Test precision_tag_notes: 0.0\n",
            "\n",
            "Test recall_tag_notes: 0.0\n",
            "\n",
            "Test f1_tag_notes: 0.0\n",
            "\n",
            "Test precision_macro: 0.18157185951303598\n",
            "\n",
            "Test recall_macro: 0.2321872571872572\n",
            "\n",
            "Test f1_macro: 0.20312074286930612\n",
            "\n",
            "Test precision_weighted: 0.2662891558867136\n",
            "\n",
            "Test recall_weighted: 0.33891369047619047\n",
            "\n",
            "Test f1_weighted: 0.29727362137383695\n",
            "\n",
            "Epoch [64 / 100]\n",
            "\n"
          ]
        },
        {
          "output_type": "stream",
          "name": "stderr",
          "text": [
            "loop over train batches:  66%|██████▌   | 47/71 [00:17<00:08,  2.82it/s]"
          ]
        },
        {
          "output_type": "stream",
          "name": "stdout",
          "text": [
            "Catched\n"
          ]
        },
        {
          "output_type": "stream",
          "name": "stderr",
          "text": [
            "loop over train batches: 100%|██████████| 71/71 [00:25<00:00,  2.78it/s]\n"
          ]
        },
        {
          "output_type": "stream",
          "name": "stdout",
          "text": [
            "Train loss: 0.49282212513433377\n",
            "\n",
            "Train accuracy: 0.33019366197183103\n",
            "\n",
            "Train precision_tag_O: 0.7566167923415122\n",
            "\n",
            "Train recall_tag_O: 0.9323417078180954\n",
            "\n",
            "Train f1_tag_O: 0.8309240940729755\n",
            "\n",
            "Train precision_tag_requirements: 0.0\n",
            "\n",
            "Train recall_tag_requirements: 0.0\n",
            "\n",
            "Train f1_tag_requirements: 0.0\n",
            "\n",
            "Train precision_tag_terms: 0.0\n",
            "\n",
            "Train recall_tag_terms: 0.0\n",
            "\n",
            "Train f1_tag_terms: 0.0\n",
            "\n",
            "Train precision_tag_notes: 0.0\n",
            "\n",
            "Train recall_tag_notes: 0.0\n",
            "\n",
            "Train f1_tag_notes: 0.0\n",
            "\n",
            "Train precision_macro: 0.18915419808537806\n",
            "\n",
            "Train recall_macro: 0.23308542695452386\n",
            "\n",
            "Train f1_macro: 0.20773102351824388\n",
            "\n",
            "Train precision_weighted: 0.2709277124234555\n",
            "\n",
            "Train recall_weighted: 0.33019366197183103\n",
            "\n",
            "Train f1_weighted: 0.2961715952279232\n",
            "\n"
          ]
        },
        {
          "output_type": "stream",
          "name": "stderr",
          "text": [
            "loop over test batches: 100%|██████████| 12/12 [00:01<00:00,  9.64it/s]\n"
          ]
        },
        {
          "output_type": "stream",
          "name": "stdout",
          "text": [
            "Test loss:  1.2839237997929256\n",
            "\n",
            "Test accuracy: 0.34151785714285715\n",
            "\n",
            "Test precision_tag_O: 0.7172596602743662\n",
            "\n",
            "Test recall_tag_O: 0.9356934731934733\n",
            "\n",
            "Test f1_tag_O: 0.8088485046243666\n",
            "\n",
            "Test precision_tag_requirements: 0.0\n",
            "\n",
            "Test recall_tag_requirements: 0.0\n",
            "\n",
            "Test f1_tag_requirements: 0.0\n",
            "\n",
            "Test precision_tag_terms: 0.0\n",
            "\n",
            "Test recall_tag_terms: 0.0\n",
            "\n",
            "Test f1_tag_terms: 0.0\n",
            "\n",
            "Test precision_tag_notes: 0.0\n",
            "\n",
            "Test recall_tag_notes: 0.0\n",
            "\n",
            "Test f1_tag_notes: 0.0\n",
            "\n",
            "Test precision_macro: 0.17931491506859154\n",
            "\n",
            "Test recall_macro: 0.23392336829836832\n",
            "\n",
            "Test f1_macro: 0.20221212615609166\n",
            "\n",
            "Test precision_weighted: 0.2630058634030535\n",
            "\n",
            "Test recall_weighted: 0.34151785714285715\n",
            "\n",
            "Test f1_weighted: 0.2959991136338119\n",
            "\n",
            "Epoch [65 / 100]\n",
            "\n"
          ]
        },
        {
          "output_type": "stream",
          "name": "stderr",
          "text": [
            "loop over train batches:  10%|▉         | 7/71 [00:02<00:23,  2.73it/s]"
          ]
        },
        {
          "output_type": "stream",
          "name": "stdout",
          "text": [
            "Catched\n"
          ]
        },
        {
          "output_type": "stream",
          "name": "stderr",
          "text": [
            "loop over train batches: 100%|██████████| 71/71 [00:25<00:00,  2.78it/s]\n"
          ]
        },
        {
          "output_type": "stream",
          "name": "stdout",
          "text": [
            "Train loss: 0.47038982157975856\n",
            "\n",
            "Train accuracy: 0.32693661971830984\n",
            "\n",
            "Train precision_tag_O: 0.7639408800475822\n",
            "\n",
            "Train recall_tag_O: 0.930517467665355\n",
            "\n",
            "Train f1_tag_O: 0.8325622580293258\n",
            "\n",
            "Train precision_tag_requirements: 0.0\n",
            "\n",
            "Train recall_tag_requirements: 0.0\n",
            "\n",
            "Train f1_tag_requirements: 0.0\n",
            "\n",
            "Train precision_tag_terms: 0.0028169014084507044\n",
            "\n",
            "Train recall_tag_terms: 0.0015649452269170577\n",
            "\n",
            "Train f1_tag_terms: 0.0020120724346076456\n",
            "\n",
            "Train precision_tag_notes: 0.0\n",
            "\n",
            "Train recall_tag_notes: 0.0\n",
            "\n",
            "Train f1_tag_notes: 0.0\n",
            "\n",
            "Train precision_macro: 0.19168944536400823\n",
            "\n",
            "Train recall_macro: 0.23302060322306803\n",
            "\n",
            "Train f1_macro: 0.20864358261598337\n",
            "\n",
            "Train precision_weighted: 0.2761925950731554\n",
            "\n",
            "Train recall_weighted: 0.32693661971830984\n",
            "\n",
            "Train f1_weighted: 0.2971077329348062\n",
            "\n"
          ]
        },
        {
          "output_type": "stream",
          "name": "stderr",
          "text": [
            "loop over test batches: 100%|██████████| 12/12 [00:00<00:00, 14.26it/s]\n"
          ]
        },
        {
          "output_type": "stream",
          "name": "stdout",
          "text": [
            "Test loss:  1.2961159249146779\n",
            "\n",
            "Test accuracy: 0.3441220238095238\n",
            "\n",
            "Test precision_tag_O: 0.6770532414495264\n",
            "\n",
            "Test recall_tag_O: 0.9426379176379176\n",
            "\n",
            "Test f1_tag_O: 0.7846174931853462\n",
            "\n",
            "Test precision_tag_requirements: 0.0\n",
            "\n",
            "Test recall_tag_requirements: 0.0\n",
            "\n",
            "Test f1_tag_requirements: 0.0\n",
            "\n",
            "Test precision_tag_terms: 0.0\n",
            "\n",
            "Test recall_tag_terms: 0.0\n",
            "\n",
            "Test f1_tag_terms: 0.0\n",
            "\n",
            "Test precision_tag_notes: 0.0\n",
            "\n",
            "Test recall_tag_notes: 0.0\n",
            "\n",
            "Test f1_tag_notes: 0.0\n",
            "\n",
            "Test precision_macro: 0.1692633103623816\n",
            "\n",
            "Test recall_macro: 0.2356594794094794\n",
            "\n",
            "Test f1_macro: 0.19615437329633656\n",
            "\n",
            "Test precision_weighted: 0.2485692405898481\n",
            "\n",
            "Test recall_weighted: 0.3441220238095238\n",
            "\n",
            "Test f1_weighted: 0.2874026336624536\n",
            "\n",
            "Epoch [66 / 100]\n",
            "\n"
          ]
        },
        {
          "output_type": "stream",
          "name": "stderr",
          "text": [
            "loop over train batches:  66%|██████▌   | 47/71 [00:17<00:09,  2.62it/s]"
          ]
        },
        {
          "output_type": "stream",
          "name": "stdout",
          "text": [
            "Catched\n"
          ]
        },
        {
          "output_type": "stream",
          "name": "stderr",
          "text": [
            "loop over train batches: 100%|██████████| 71/71 [00:25<00:00,  2.78it/s]\n"
          ]
        },
        {
          "output_type": "stream",
          "name": "stdout",
          "text": [
            "Train loss: 0.47198718744264523\n",
            "\n",
            "Train accuracy: 0.32640845070422536\n",
            "\n",
            "Train precision_tag_O: 0.7705495435295288\n",
            "\n",
            "Train recall_tag_O: 0.9301407650620575\n",
            "\n",
            "Train f1_tag_O: 0.8372312956691853\n",
            "\n",
            "Train precision_tag_requirements: 0.0\n",
            "\n",
            "Train recall_tag_requirements: 0.0\n",
            "\n",
            "Train f1_tag_requirements: 0.0\n",
            "\n",
            "Train precision_tag_terms: 0.0020120724346076456\n",
            "\n",
            "Train recall_tag_terms: 0.0014084507042253522\n",
            "\n",
            "Train f1_tag_terms: 0.0016570008285004142\n",
            "\n",
            "Train precision_tag_notes: 0.0\n",
            "\n",
            "Train recall_tag_notes: 0.0\n",
            "\n",
            "Train f1_tag_notes: 0.0\n",
            "\n",
            "Train precision_macro: 0.19314040399103413\n",
            "\n",
            "Train recall_macro: 0.23288730394157067\n",
            "\n",
            "Train f1_macro: 0.20972207412442143\n",
            "\n",
            "Train precision_weighted: 0.27528263142838405\n",
            "\n",
            "Train recall_weighted: 0.32640845070422536\n",
            "\n",
            "Train f1_weighted: 0.2969558113434213\n",
            "\n"
          ]
        },
        {
          "output_type": "stream",
          "name": "stderr",
          "text": [
            "loop over test batches: 100%|██████████| 12/12 [00:00<00:00, 14.10it/s]\n"
          ]
        },
        {
          "output_type": "stream",
          "name": "stdout",
          "text": [
            "Test loss:  1.2924958566824596\n",
            "\n",
            "Test accuracy: 0.3441220238095238\n",
            "\n",
            "Test precision_tag_O: 0.7115848397388645\n",
            "\n",
            "Test recall_tag_O: 0.9426379176379176\n",
            "\n",
            "Test f1_tag_O: 0.808666056166056\n",
            "\n",
            "Test precision_tag_requirements: 0.0\n",
            "\n",
            "Test recall_tag_requirements: 0.0\n",
            "\n",
            "Test f1_tag_requirements: 0.0\n",
            "\n",
            "Test precision_tag_terms: 0.0\n",
            "\n",
            "Test recall_tag_terms: 0.0\n",
            "\n",
            "Test f1_tag_terms: 0.0\n",
            "\n",
            "Test precision_tag_notes: 0.0\n",
            "\n",
            "Test recall_tag_notes: 0.0\n",
            "\n",
            "Test f1_tag_notes: 0.0\n",
            "\n",
            "Test precision_macro: 0.17789620993471614\n",
            "\n",
            "Test recall_macro: 0.2356594794094794\n",
            "\n",
            "Test f1_macro: 0.202166514041514\n",
            "\n",
            "Test precision_weighted: 0.2605354977264185\n",
            "\n",
            "Test recall_weighted: 0.3441220238095238\n",
            "\n",
            "Test f1_weighted: 0.2957178151709402\n",
            "\n",
            "Epoch [67 / 100]\n",
            "\n"
          ]
        },
        {
          "output_type": "stream",
          "name": "stderr",
          "text": [
            "loop over train batches:  96%|█████████▌| 68/71 [00:24<00:01,  2.49it/s]"
          ]
        },
        {
          "output_type": "stream",
          "name": "stdout",
          "text": [
            "Catched\n"
          ]
        },
        {
          "output_type": "stream",
          "name": "stderr",
          "text": [
            "loop over train batches: 100%|██████████| 71/71 [00:25<00:00,  2.80it/s]\n"
          ]
        },
        {
          "output_type": "stream",
          "name": "stdout",
          "text": [
            "Train loss: 0.4679993896836966\n",
            "\n",
            "Train accuracy: 0.3294014084507042\n",
            "\n",
            "Train precision_tag_O: 0.7671097140769666\n",
            "\n",
            "Train recall_tag_O: 0.9435155611211947\n",
            "\n",
            "Train f1_tag_O: 0.8406095888006744\n",
            "\n",
            "Train precision_tag_requirements: 0.0\n",
            "\n",
            "Train recall_tag_requirements: 0.0\n",
            "\n",
            "Train f1_tag_requirements: 0.0\n",
            "\n",
            "Train precision_tag_terms: 0.0014084507042253522\n",
            "\n",
            "Train recall_tag_terms: 0.0012804097311139564\n",
            "\n",
            "Train f1_tag_terms: 0.001341381623071764\n",
            "\n",
            "Train precision_tag_notes: 0.0\n",
            "\n",
            "Train recall_tag_notes: 0.0\n",
            "\n",
            "Train f1_tag_notes: 0.0\n",
            "\n",
            "Train precision_macro: 0.19212954119529796\n",
            "\n",
            "Train recall_macro: 0.23619899271307718\n",
            "\n",
            "Train f1_macro: 0.21048774260593653\n",
            "\n",
            "Train precision_weighted: 0.2729461818819949\n",
            "\n",
            "Train recall_weighted: 0.3294014084507042\n",
            "\n",
            "Train f1_weighted: 0.2967321088601777\n",
            "\n"
          ]
        },
        {
          "output_type": "stream",
          "name": "stderr",
          "text": [
            "loop over test batches: 100%|██████████| 12/12 [00:01<00:00,  9.77it/s]\n"
          ]
        },
        {
          "output_type": "stream",
          "name": "stdout",
          "text": [
            "Test loss:  1.2946039885282516\n",
            "\n",
            "Test accuracy: 0.34151785714285715\n",
            "\n",
            "Test precision_tag_O: 0.7206830944253545\n",
            "\n",
            "Test recall_tag_O: 0.9356934731934733\n",
            "\n",
            "Test f1_tag_O: 0.8107567171847531\n",
            "\n",
            "Test precision_tag_requirements: 0.0\n",
            "\n",
            "Test recall_tag_requirements: 0.0\n",
            "\n",
            "Test f1_tag_requirements: 0.0\n",
            "\n",
            "Test precision_tag_terms: 0.0\n",
            "\n",
            "Test recall_tag_terms: 0.0\n",
            "\n",
            "Test f1_tag_terms: 0.0\n",
            "\n",
            "Test precision_tag_notes: 0.0\n",
            "\n",
            "Test recall_tag_notes: 0.0\n",
            "\n",
            "Test f1_tag_notes: 0.0\n",
            "\n",
            "Test precision_macro: 0.18017077360633862\n",
            "\n",
            "Test recall_macro: 0.23392336829836832\n",
            "\n",
            "Test f1_macro: 0.20268917929618827\n",
            "\n",
            "Test precision_weighted: 0.2636525859078449\n",
            "\n",
            "Test recall_weighted: 0.34151785714285715\n",
            "\n",
            "Test f1_weighted: 0.2963002911700438\n",
            "\n",
            "Epoch [68 / 100]\n",
            "\n"
          ]
        },
        {
          "output_type": "stream",
          "name": "stderr",
          "text": [
            "loop over train batches:  90%|█████████ | 64/71 [00:22<00:02,  2.99it/s]"
          ]
        },
        {
          "output_type": "stream",
          "name": "stdout",
          "text": [
            "Catched\n"
          ]
        },
        {
          "output_type": "stream",
          "name": "stderr",
          "text": [
            "loop over train batches: 100%|██████████| 71/71 [00:25<00:00,  2.75it/s]\n"
          ]
        },
        {
          "output_type": "stream",
          "name": "stdout",
          "text": [
            "Train loss: 0.4626500650610722\n",
            "\n",
            "Train accuracy: 0.3240316901408451\n",
            "\n",
            "Train precision_tag_O: 0.7630144665530355\n",
            "\n",
            "Train recall_tag_O: 0.9283664496692666\n",
            "\n",
            "Train f1_tag_O: 0.8313190440793244\n",
            "\n",
            "Train precision_tag_requirements: 0.0\n",
            "\n",
            "Train recall_tag_requirements: 0.0\n",
            "\n",
            "Train f1_tag_requirements: 0.0\n",
            "\n",
            "Train precision_tag_terms: 0.0015649452269170577\n",
            "\n",
            "Train recall_tag_terms: 0.0010834236186348864\n",
            "\n",
            "Train f1_tag_terms: 0.0012804097311139566\n",
            "\n",
            "Train precision_tag_notes: 0.0\n",
            "\n",
            "Train recall_tag_notes: 0.0\n",
            "\n",
            "Train f1_tag_notes: 0.0\n",
            "\n",
            "Train precision_macro: 0.19114485294498815\n",
            "\n",
            "Train recall_macro: 0.23236246832197538\n",
            "\n",
            "Train f1_macro: 0.2081498634526096\n",
            "\n",
            "Train precision_weighted: 0.27442793909922686\n",
            "\n",
            "Train recall_weighted: 0.3240316901408451\n",
            "\n",
            "Train f1_weighted: 0.2953796911623077\n",
            "\n"
          ]
        },
        {
          "output_type": "stream",
          "name": "stderr",
          "text": [
            "loop over test batches: 100%|██████████| 12/12 [00:01<00:00, 10.56it/s]\n"
          ]
        },
        {
          "output_type": "stream",
          "name": "stdout",
          "text": [
            "Test loss:  1.3098551829655964\n",
            "\n",
            "Test accuracy: 0.33891369047619047\n",
            "\n",
            "Test precision_tag_O: 0.7046192971115572\n",
            "\n",
            "Test recall_tag_O: 0.9292832167832169\n",
            "\n",
            "Test f1_tag_O: 0.7982953232378519\n",
            "\n",
            "Test precision_tag_requirements: 0.0\n",
            "\n",
            "Test recall_tag_requirements: 0.0\n",
            "\n",
            "Test f1_tag_requirements: 0.0\n",
            "\n",
            "Test precision_tag_terms: 0.0\n",
            "\n",
            "Test recall_tag_terms: 0.0\n",
            "\n",
            "Test f1_tag_terms: 0.0\n",
            "\n",
            "Test precision_tag_notes: 0.0\n",
            "\n",
            "Test recall_tag_notes: 0.0\n",
            "\n",
            "Test f1_tag_notes: 0.0\n",
            "\n",
            "Test precision_macro: 0.1761548242778893\n",
            "\n",
            "Test recall_macro: 0.23232080419580423\n",
            "\n",
            "Test f1_macro: 0.19957383080946298\n",
            "\n",
            "Test precision_weighted: 0.2579172188443528\n",
            "\n",
            "Test recall_weighted: 0.33891369047619047\n",
            "\n",
            "Test f1_weighted: 0.2917319157468224\n",
            "\n",
            "Epoch [69 / 100]\n",
            "\n"
          ]
        },
        {
          "output_type": "stream",
          "name": "stderr",
          "text": [
            "loop over train batches:  89%|████████▊ | 63/71 [00:22<00:02,  2.72it/s]"
          ]
        },
        {
          "output_type": "stream",
          "name": "stdout",
          "text": [
            "Catched\n"
          ]
        },
        {
          "output_type": "stream",
          "name": "stderr",
          "text": [
            "loop over train batches: 100%|██████████| 71/71 [00:25<00:00,  2.80it/s]\n"
          ]
        },
        {
          "output_type": "stream",
          "name": "stdout",
          "text": [
            "Train loss: 0.44302769802825553\n",
            "\n",
            "Train accuracy: 0.33283450704225354\n",
            "\n",
            "Train precision_tag_O: 0.7673522182575729\n",
            "\n",
            "Train recall_tag_O: 0.9354098170999579\n",
            "\n",
            "Train f1_tag_O: 0.8376575266794246\n",
            "\n",
            "Train precision_tag_requirements: 0.0\n",
            "\n",
            "Train recall_tag_requirements: 0.0\n",
            "\n",
            "Train f1_tag_requirements: 0.0\n",
            "\n",
            "Train precision_tag_terms: 0.0015649452269170577\n",
            "\n",
            "Train recall_tag_terms: 0.0011737089201877935\n",
            "\n",
            "Train f1_tag_terms: 0.001341381623071764\n",
            "\n",
            "Train precision_tag_notes: 0.0\n",
            "\n",
            "Train recall_tag_notes: 0.0\n",
            "\n",
            "Train f1_tag_notes: 0.0\n",
            "\n",
            "Train precision_macro: 0.1922292908711225\n",
            "\n",
            "Train recall_macro: 0.23414588150503646\n",
            "\n",
            "Train f1_macro: 0.20974972707562412\n",
            "\n",
            "Train precision_weighted: 0.279081431100952\n",
            "\n",
            "Train recall_weighted: 0.33283450704225354\n",
            "\n",
            "Train f1_weighted: 0.3020084495170735\n",
            "\n"
          ]
        },
        {
          "output_type": "stream",
          "name": "stderr",
          "text": [
            "loop over test batches: 100%|██████████| 12/12 [00:01<00:00,  9.99it/s]\n"
          ]
        },
        {
          "output_type": "stream",
          "name": "stdout",
          "text": [
            "Test loss:  1.3023893435796101\n",
            "\n",
            "Test accuracy: 0.34151785714285715\n",
            "\n",
            "Test precision_tag_O: 0.7254526304448906\n",
            "\n",
            "Test recall_tag_O: 0.9356934731934733\n",
            "\n",
            "Test f1_tag_O: 0.8146214194490056\n",
            "\n",
            "Test precision_tag_requirements: 0.0\n",
            "\n",
            "Test recall_tag_requirements: 0.0\n",
            "\n",
            "Test f1_tag_requirements: 0.0\n",
            "\n",
            "Test precision_tag_terms: 0.0\n",
            "\n",
            "Test recall_tag_terms: 0.0\n",
            "\n",
            "Test f1_tag_terms: 0.0\n",
            "\n",
            "Test precision_tag_notes: 0.0\n",
            "\n",
            "Test recall_tag_notes: 0.0\n",
            "\n",
            "Test f1_tag_notes: 0.0\n",
            "\n",
            "Test precision_macro: 0.18136315761122265\n",
            "\n",
            "Test recall_macro: 0.23392336829836832\n",
            "\n",
            "Test f1_macro: 0.2036553548622514\n",
            "\n",
            "Test precision_weighted: 0.26553458870896535\n",
            "\n",
            "Test recall_weighted: 0.34151785714285715\n",
            "\n",
            "Test f1_weighted: 0.2977717199188104\n",
            "\n",
            "Epoch [70 / 100]\n",
            "\n"
          ]
        },
        {
          "output_type": "stream",
          "name": "stderr",
          "text": [
            "loop over train batches:  93%|█████████▎| 66/71 [00:24<00:01,  2.66it/s]"
          ]
        },
        {
          "output_type": "stream",
          "name": "stdout",
          "text": [
            "Catched\n"
          ]
        },
        {
          "output_type": "stream",
          "name": "stderr",
          "text": [
            "loop over train batches: 100%|██████████| 71/71 [00:25<00:00,  2.78it/s]\n"
          ]
        },
        {
          "output_type": "stream",
          "name": "stdout",
          "text": [
            "Train loss: 0.44736983322761426\n",
            "\n",
            "Train accuracy: 0.3304577464788732\n",
            "\n",
            "Train precision_tag_O: 0.7737837268595346\n",
            "\n",
            "Train recall_tag_O: 0.9378066182643647\n",
            "\n",
            "Train f1_tag_O: 0.8428117418830305\n",
            "\n",
            "Train precision_tag_requirements: 0.0\n",
            "\n",
            "Train recall_tag_requirements: 0.0\n",
            "\n",
            "Train f1_tag_requirements: 0.0\n",
            "\n",
            "Train precision_tag_terms: 0.0020120724346076456\n",
            "\n",
            "Train recall_tag_terms: 0.0014084507042253522\n",
            "\n",
            "Train f1_tag_terms: 0.0016570008285004142\n",
            "\n",
            "Train precision_tag_notes: 0.0\n",
            "\n",
            "Train recall_tag_notes: 0.0\n",
            "\n",
            "Train f1_tag_notes: 0.0\n",
            "\n",
            "Train precision_macro: 0.19394894982353555\n",
            "\n",
            "Train recall_macro: 0.2348037672421475\n",
            "\n",
            "Train f1_macro: 0.21111718567788273\n",
            "\n",
            "Train precision_weighted: 0.2765582134886194\n",
            "\n",
            "Train recall_weighted: 0.3304577464788732\n",
            "\n",
            "Train f1_weighted: 0.29959340032316834\n",
            "\n"
          ]
        },
        {
          "output_type": "stream",
          "name": "stderr",
          "text": [
            "loop over test batches: 100%|██████████| 12/12 [00:00<00:00, 14.04it/s]\n"
          ]
        },
        {
          "output_type": "stream",
          "name": "stdout",
          "text": [
            "Test loss:  1.326455220580101\n",
            "\n",
            "Test accuracy: 0.33891369047619047\n",
            "\n",
            "Test precision_tag_O: 0.707496730136049\n",
            "\n",
            "Test recall_tag_O: 0.9292832167832169\n",
            "\n",
            "Test f1_tag_O: 0.7987464153556108\n",
            "\n",
            "Test precision_tag_requirements: 0.0\n",
            "\n",
            "Test recall_tag_requirements: 0.0\n",
            "\n",
            "Test f1_tag_requirements: 0.0\n",
            "\n",
            "Test precision_tag_terms: 0.0\n",
            "\n",
            "Test recall_tag_terms: 0.0\n",
            "\n",
            "Test f1_tag_terms: 0.0\n",
            "\n",
            "Test precision_tag_notes: 0.0\n",
            "\n",
            "Test recall_tag_notes: 0.0\n",
            "\n",
            "Test f1_tag_notes: 0.0\n",
            "\n",
            "Test precision_macro: 0.17687418253401224\n",
            "\n",
            "Test recall_macro: 0.23232080419580423\n",
            "\n",
            "Test f1_macro: 0.1996866038389027\n",
            "\n",
            "Test precision_weighted: 0.25942902148207464\n",
            "\n",
            "Test recall_weighted: 0.33891369047619047\n",
            "\n",
            "Test f1_weighted: 0.292189557296418\n",
            "\n",
            "Epoch [71 / 100]\n",
            "\n"
          ]
        },
        {
          "output_type": "stream",
          "name": "stderr",
          "text": [
            "loop over train batches:  93%|█████████▎| 66/71 [00:24<00:01,  2.84it/s]"
          ]
        },
        {
          "output_type": "stream",
          "name": "stdout",
          "text": [
            "Catched\n"
          ]
        },
        {
          "output_type": "stream",
          "name": "stderr",
          "text": [
            "loop over train batches: 100%|██████████| 71/71 [00:25<00:00,  2.74it/s]\n"
          ]
        },
        {
          "output_type": "stream",
          "name": "stdout",
          "text": [
            "Train loss: 0.44007800666379254\n",
            "\n",
            "Train accuracy: 0.3285211267605634\n",
            "\n",
            "Train precision_tag_O: 0.7748492929547525\n",
            "\n",
            "Train recall_tag_O: 0.9344079824713628\n",
            "\n",
            "Train f1_tag_O: 0.8411013293871237\n",
            "\n",
            "Train precision_tag_requirements: 0.0\n",
            "\n",
            "Train recall_tag_requirements: 0.0\n",
            "\n",
            "Train f1_tag_requirements: 0.0\n",
            "\n",
            "Train precision_tag_terms: 0.002347417840375587\n",
            "\n",
            "Train recall_tag_terms: 0.0014084507042253522\n",
            "\n",
            "Train f1_tag_terms: 0.0017605633802816902\n",
            "\n",
            "Train precision_tag_notes: 0.0\n",
            "\n",
            "Train recall_tag_notes: 0.0\n",
            "\n",
            "Train f1_tag_notes: 0.0\n",
            "\n",
            "Train precision_macro: 0.19429917769878202\n",
            "\n",
            "Train recall_macro: 0.23395410829389707\n",
            "\n",
            "Train f1_macro: 0.21071547319185135\n",
            "\n",
            "Train precision_weighted: 0.27842581113876846\n",
            "\n",
            "Train recall_weighted: 0.3285211267605634\n",
            "\n",
            "Train f1_weighted: 0.2994638199280534\n",
            "\n"
          ]
        },
        {
          "output_type": "stream",
          "name": "stderr",
          "text": [
            "loop over test batches: 100%|██████████| 12/12 [00:01<00:00,  9.93it/s]\n"
          ]
        },
        {
          "output_type": "stream",
          "name": "stdout",
          "text": [
            "Test loss:  1.3118613610665004\n",
            "\n",
            "Test accuracy: 0.34151785714285715\n",
            "\n",
            "Test precision_tag_O: 0.7258552915093163\n",
            "\n",
            "Test recall_tag_O: 0.9356934731934733\n",
            "\n",
            "Test f1_tag_O: 0.8143880959398201\n",
            "\n",
            "Test precision_tag_requirements: 0.0\n",
            "\n",
            "Test recall_tag_requirements: 0.0\n",
            "\n",
            "Test f1_tag_requirements: 0.0\n",
            "\n",
            "Test precision_tag_terms: 0.0\n",
            "\n",
            "Test recall_tag_terms: 0.0\n",
            "\n",
            "Test f1_tag_terms: 0.0\n",
            "\n",
            "Test precision_tag_notes: 0.0\n",
            "\n",
            "Test recall_tag_notes: 0.0\n",
            "\n",
            "Test f1_tag_notes: 0.0\n",
            "\n",
            "Test precision_macro: 0.18146382287732907\n",
            "\n",
            "Test recall_macro: 0.23392336829836832\n",
            "\n",
            "Test f1_macro: 0.20359702398495502\n",
            "\n",
            "Test precision_weighted: 0.26615061637002974\n",
            "\n",
            "Test recall_weighted: 0.34151785714285715\n",
            "\n",
            "Test f1_weighted: 0.2980180911242334\n",
            "\n",
            "Epoch [72 / 100]\n",
            "\n"
          ]
        },
        {
          "output_type": "stream",
          "name": "stderr",
          "text": [
            "loop over train batches:  69%|██████▉   | 49/71 [00:17<00:07,  3.06it/s]"
          ]
        },
        {
          "output_type": "stream",
          "name": "stdout",
          "text": [
            "Catched\n"
          ]
        },
        {
          "output_type": "stream",
          "name": "stderr",
          "text": [
            "loop over train batches: 100%|██████████| 71/71 [00:25<00:00,  2.75it/s]\n"
          ]
        },
        {
          "output_type": "stream",
          "name": "stdout",
          "text": [
            "Train loss: 0.43063998411239035\n",
            "\n",
            "Train accuracy: 0.32526408450704225\n",
            "\n",
            "Train precision_tag_O: 0.7747568844427083\n",
            "\n",
            "Train recall_tag_O: 0.919840116847159\n",
            "\n",
            "Train f1_tag_O: 0.83461761653934\n",
            "\n",
            "Train precision_tag_requirements: 0.0\n",
            "\n",
            "Train recall_tag_requirements: 0.0\n",
            "\n",
            "Train f1_tag_requirements: 0.0\n",
            "\n",
            "Train precision_tag_terms: 0.0011737089201877935\n",
            "\n",
            "Train recall_tag_terms: 0.0010060362173038228\n",
            "\n",
            "Train f1_tag_terms: 0.0010834236186348862\n",
            "\n",
            "Train precision_tag_notes: 0.0\n",
            "\n",
            "Train recall_tag_notes: 0.0\n",
            "\n",
            "Train f1_tag_notes: 0.0\n",
            "\n",
            "Train precision_macro: 0.19398264834072404\n",
            "\n",
            "Train recall_macro: 0.2302115382661157\n",
            "\n",
            "Train f1_macro: 0.20892526003949372\n",
            "\n",
            "Train precision_weighted: 0.2790929594727786\n",
            "\n",
            "Train recall_weighted: 0.32526408450704225\n",
            "\n",
            "Train f1_weighted: 0.29830564094617396\n",
            "\n"
          ]
        },
        {
          "output_type": "stream",
          "name": "stderr",
          "text": [
            "loop over test batches: 100%|██████████| 12/12 [00:00<00:00, 13.87it/s]\n"
          ]
        },
        {
          "output_type": "stream",
          "name": "stdout",
          "text": [
            "Test loss:  1.318703333536784\n",
            "\n",
            "Test accuracy: 0.34151785714285715\n",
            "\n",
            "Test precision_tag_O: 0.7287215020961151\n",
            "\n",
            "Test recall_tag_O: 0.9356934731934733\n",
            "\n",
            "Test f1_tag_O: 0.8154297012055634\n",
            "\n",
            "Test precision_tag_requirements: 0.0\n",
            "\n",
            "Test recall_tag_requirements: 0.0\n",
            "\n",
            "Test f1_tag_requirements: 0.0\n",
            "\n",
            "Test precision_tag_terms: 0.0\n",
            "\n",
            "Test recall_tag_terms: 0.0\n",
            "\n",
            "Test f1_tag_terms: 0.0\n",
            "\n",
            "Test precision_tag_notes: 0.0\n",
            "\n",
            "Test recall_tag_notes: 0.0\n",
            "\n",
            "Test f1_tag_notes: 0.0\n",
            "\n",
            "Test precision_macro: 0.18218037552402877\n",
            "\n",
            "Test recall_macro: 0.23392336829836832\n",
            "\n",
            "Test f1_macro: 0.20385742530139084\n",
            "\n",
            "Test precision_weighted: 0.26696700863206274\n",
            "\n",
            "Test recall_weighted: 0.34151785714285715\n",
            "\n",
            "Test f1_weighted: 0.2982197460106943\n",
            "\n",
            "Epoch [73 / 100]\n",
            "\n"
          ]
        },
        {
          "output_type": "stream",
          "name": "stderr",
          "text": [
            "loop over train batches:  24%|██▍       | 17/71 [00:05<00:21,  2.56it/s]"
          ]
        },
        {
          "output_type": "stream",
          "name": "stdout",
          "text": [
            "Catched\n"
          ]
        },
        {
          "output_type": "stream",
          "name": "stderr",
          "text": [
            "loop over train batches: 100%|██████████| 71/71 [00:25<00:00,  2.74it/s]\n"
          ]
        },
        {
          "output_type": "stream",
          "name": "stdout",
          "text": [
            "Train loss: 0.4094966725564339\n",
            "\n",
            "Train accuracy: 0.32816901408450705\n",
            "\n",
            "Train precision_tag_O: 0.7704936289116292\n",
            "\n",
            "Train recall_tag_O: 0.9366554300895642\n",
            "\n",
            "Train f1_tag_O: 0.8394323486619611\n",
            "\n",
            "Train precision_tag_requirements: 0.0\n",
            "\n",
            "Train recall_tag_requirements: 0.0\n",
            "\n",
            "Train f1_tag_requirements: 0.0\n",
            "\n",
            "Train precision_tag_terms: 0.0014084507042253522\n",
            "\n",
            "Train recall_tag_terms: 0.0014084507042253522\n",
            "\n",
            "Train f1_tag_terms: 0.0014084507042253524\n",
            "\n",
            "Train precision_tag_notes: 0.0\n",
            "\n",
            "Train recall_tag_notes: 0.0\n",
            "\n",
            "Train f1_tag_notes: 0.0\n",
            "\n",
            "Train precision_macro: 0.1929755199039636\n",
            "\n",
            "Train recall_macro: 0.2345159701984474\n",
            "\n",
            "Train f1_macro: 0.21021019984154662\n",
            "\n",
            "Train precision_weighted: 0.2758381229807266\n",
            "\n",
            "Train recall_weighted: 0.32816901408450705\n",
            "\n",
            "Train f1_weighted: 0.2977262269637683\n",
            "\n"
          ]
        },
        {
          "output_type": "stream",
          "name": "stderr",
          "text": [
            "loop over test batches: 100%|██████████| 12/12 [00:00<00:00, 13.83it/s]\n"
          ]
        },
        {
          "output_type": "stream",
          "name": "stdout",
          "text": [
            "Test loss:  1.326331506172816\n",
            "\n",
            "Test accuracy: 0.33891369047619047\n",
            "\n",
            "Test precision_tag_O: 0.7035015423173318\n",
            "\n",
            "Test recall_tag_O: 0.9292832167832169\n",
            "\n",
            "Test f1_tag_O: 0.796292834453754\n",
            "\n",
            "Test precision_tag_requirements: 0.0\n",
            "\n",
            "Test recall_tag_requirements: 0.0\n",
            "\n",
            "Test f1_tag_requirements: 0.0\n",
            "\n",
            "Test precision_tag_terms: 0.0\n",
            "\n",
            "Test recall_tag_terms: 0.0\n",
            "\n",
            "Test f1_tag_terms: 0.0\n",
            "\n",
            "Test precision_tag_notes: 0.0\n",
            "\n",
            "Test recall_tag_notes: 0.0\n",
            "\n",
            "Test f1_tag_notes: 0.0\n",
            "\n",
            "Test precision_macro: 0.17587538557933294\n",
            "\n",
            "Test recall_macro: 0.23232080419580423\n",
            "\n",
            "Test f1_macro: 0.1990732086134385\n",
            "\n",
            "Test precision_weighted: 0.2581802046476485\n",
            "\n",
            "Test recall_weighted: 0.33891369047619047\n",
            "\n",
            "Test f1_weighted: 0.2914325825900898\n",
            "\n",
            "Epoch [74 / 100]\n",
            "\n"
          ]
        },
        {
          "output_type": "stream",
          "name": "stderr",
          "text": [
            "loop over train batches:  27%|██▋       | 19/71 [00:06<00:18,  2.80it/s]"
          ]
        },
        {
          "output_type": "stream",
          "name": "stdout",
          "text": [
            "Catched\n"
          ]
        },
        {
          "output_type": "stream",
          "name": "stderr",
          "text": [
            "loop over train batches: 100%|██████████| 71/71 [00:25<00:00,  2.77it/s]\n"
          ]
        },
        {
          "output_type": "stream",
          "name": "stdout",
          "text": [
            "Train loss: 0.42162562717854135\n",
            "\n",
            "Train accuracy: 0.33098591549295775\n",
            "\n",
            "Train precision_tag_O: 0.7623537333464077\n",
            "\n",
            "Train recall_tag_O: 0.9413696632006491\n",
            "\n",
            "Train f1_tag_O: 0.8352354195301395\n",
            "\n",
            "Train precision_tag_requirements: 0.0\n",
            "\n",
            "Train recall_tag_requirements: 0.0\n",
            "\n",
            "Train f1_tag_requirements: 0.0\n",
            "\n",
            "Train precision_tag_terms: 0.002347417840375587\n",
            "\n",
            "Train recall_tag_terms: 0.002347417840375587\n",
            "\n",
            "Train f1_tag_terms: 0.002347417840375587\n",
            "\n",
            "Train precision_tag_notes: 0.0\n",
            "\n",
            "Train recall_tag_notes: 0.0\n",
            "\n",
            "Train f1_tag_notes: 0.0\n",
            "\n",
            "Train precision_macro: 0.1911752877966958\n",
            "\n",
            "Train recall_macro: 0.2359292702602562\n",
            "\n",
            "Train f1_macro: 0.20939570934262877\n",
            "\n",
            "Train precision_weighted: 0.27738947978301814\n",
            "\n",
            "Train recall_weighted: 0.33098591549295775\n",
            "\n",
            "Train f1_weighted: 0.2997224814890887\n",
            "\n"
          ]
        },
        {
          "output_type": "stream",
          "name": "stderr",
          "text": [
            "loop over test batches: 100%|██████████| 12/12 [00:01<00:00, 11.92it/s]\n"
          ]
        },
        {
          "output_type": "stream",
          "name": "stdout",
          "text": [
            "Test loss:  1.3486657291650772\n",
            "\n",
            "Test accuracy: 0.34672619047619047\n",
            "\n",
            "Test precision_tag_O: 0.6801020194402548\n",
            "\n",
            "Test recall_tag_O: 0.949048174048174\n",
            "\n",
            "Test f1_tag_O: 0.7888697870881778\n",
            "\n",
            "Test precision_tag_requirements: 0.0\n",
            "\n",
            "Test recall_tag_requirements: 0.0\n",
            "\n",
            "Test f1_tag_requirements: 0.0\n",
            "\n",
            "Test precision_tag_terms: 0.0\n",
            "\n",
            "Test recall_tag_terms: 0.0\n",
            "\n",
            "Test f1_tag_terms: 0.0\n",
            "\n",
            "Test precision_tag_notes: 0.0\n",
            "\n",
            "Test recall_tag_notes: 0.0\n",
            "\n",
            "Test f1_tag_notes: 0.0\n",
            "\n",
            "Test precision_macro: 0.1700255048600637\n",
            "\n",
            "Test recall_macro: 0.2372620435120435\n",
            "\n",
            "Test f1_macro: 0.19721744677204445\n",
            "\n",
            "Test precision_weighted: 0.24953345988502237\n",
            "\n",
            "Test recall_weighted: 0.34672619047619047\n",
            "\n",
            "Test f1_weighted: 0.28892409240777467\n",
            "\n",
            "Epoch [75 / 100]\n",
            "\n"
          ]
        },
        {
          "output_type": "stream",
          "name": "stderr",
          "text": [
            "loop over train batches:  56%|█████▋    | 40/71 [00:14<00:14,  2.18it/s]"
          ]
        },
        {
          "output_type": "stream",
          "name": "stdout",
          "text": [
            "Catched\n"
          ]
        },
        {
          "output_type": "stream",
          "name": "stderr",
          "text": [
            "loop over train batches: 100%|██████████| 71/71 [00:25<00:00,  2.83it/s]\n"
          ]
        },
        {
          "output_type": "stream",
          "name": "stdout",
          "text": [
            "Train loss: 0.42185490966682704\n",
            "\n",
            "Train accuracy: 0.3247359154929577\n",
            "\n",
            "Train precision_tag_O: 0.7787060518419259\n",
            "\n",
            "Train recall_tag_O: 0.9255670776797537\n",
            "\n",
            "Train f1_tag_O: 0.8399838656613533\n",
            "\n",
            "Train precision_tag_requirements: 0.0\n",
            "\n",
            "Train recall_tag_requirements: 0.0\n",
            "\n",
            "Train f1_tag_requirements: 0.0\n",
            "\n",
            "Train precision_tag_terms: 0.0017605633802816902\n",
            "\n",
            "Train recall_tag_terms: 0.0014084507042253522\n",
            "\n",
            "Train f1_tag_terms: 0.001564945226917058\n",
            "\n",
            "Train precision_tag_notes: 0.0\n",
            "\n",
            "Train recall_tag_notes: 0.0\n",
            "\n",
            "Train f1_tag_notes: 0.0\n",
            "\n",
            "Train precision_macro: 0.19511665380555188\n",
            "\n",
            "Train recall_macro: 0.23174388209599478\n",
            "\n",
            "Train f1_macro: 0.2103872027220676\n",
            "\n",
            "Train precision_weighted: 0.2777720434138723\n",
            "\n",
            "Train recall_weighted: 0.3247359154929577\n",
            "\n",
            "Train f1_weighted: 0.29767461638670983\n",
            "\n"
          ]
        },
        {
          "output_type": "stream",
          "name": "stderr",
          "text": [
            "loop over test batches: 100%|██████████| 12/12 [00:01<00:00,  7.64it/s]\n"
          ]
        },
        {
          "output_type": "stream",
          "name": "stdout",
          "text": [
            "Test loss:  1.343913048505783\n",
            "\n",
            "Test accuracy: 0.34151785714285715\n",
            "\n",
            "Test precision_tag_O: 0.7101634175937582\n",
            "\n",
            "Test recall_tag_O: 0.9356934731934733\n",
            "\n",
            "Test f1_tag_O: 0.8040300671550672\n",
            "\n",
            "Test precision_tag_requirements: 0.0\n",
            "\n",
            "Test recall_tag_requirements: 0.0\n",
            "\n",
            "Test f1_tag_requirements: 0.0\n",
            "\n",
            "Test precision_tag_terms: 0.0\n",
            "\n",
            "Test recall_tag_terms: 0.0\n",
            "\n",
            "Test f1_tag_terms: 0.0\n",
            "\n",
            "Test precision_tag_notes: 0.0\n",
            "\n",
            "Test recall_tag_notes: 0.0\n",
            "\n",
            "Test f1_tag_notes: 0.0\n",
            "\n",
            "Test precision_macro: 0.17754085439843956\n",
            "\n",
            "Test recall_macro: 0.23392336829836832\n",
            "\n",
            "Test f1_macro: 0.2010075167887668\n",
            "\n",
            "Test precision_weighted: 0.2600617823883939\n",
            "\n",
            "Test recall_weighted: 0.34151785714285715\n",
            "\n",
            "Test f1_weighted: 0.293946528731685\n",
            "\n",
            "Epoch [76 / 100]\n",
            "\n"
          ]
        },
        {
          "output_type": "stream",
          "name": "stderr",
          "text": [
            "loop over train batches:  46%|████▋     | 33/71 [00:11<00:13,  2.81it/s]"
          ]
        },
        {
          "output_type": "stream",
          "name": "stdout",
          "text": [
            "Catched\n"
          ]
        },
        {
          "output_type": "stream",
          "name": "stderr",
          "text": [
            "loop over train batches: 100%|██████████| 71/71 [00:25<00:00,  2.83it/s]\n"
          ]
        },
        {
          "output_type": "stream",
          "name": "stdout",
          "text": [
            "Train loss: 0.4106379527021462\n",
            "\n",
            "Train accuracy: 0.3236795774647887\n",
            "\n",
            "Train precision_tag_O: 0.7751240344441188\n",
            "\n",
            "Train recall_tag_O: 0.9256910538600678\n",
            "\n",
            "Train f1_tag_O: 0.8372408089601281\n",
            "\n",
            "Train precision_tag_requirements: 0.0\n",
            "\n",
            "Train recall_tag_requirements: 0.0\n",
            "\n",
            "Train f1_tag_requirements: 0.0\n",
            "\n",
            "Train precision_tag_terms: 0.0015649452269170577\n",
            "\n",
            "Train recall_tag_terms: 0.0011737089201877935\n",
            "\n",
            "Train f1_tag_terms: 0.001341381623071764\n",
            "\n",
            "Train precision_tag_notes: 0.0\n",
            "\n",
            "Train recall_tag_notes: 0.0\n",
            "\n",
            "Train f1_tag_notes: 0.0\n",
            "\n",
            "Train precision_macro: 0.19417224491775897\n",
            "\n",
            "Train recall_macro: 0.2317161906950639\n",
            "\n",
            "Train f1_macro: 0.20964554764579993\n",
            "\n",
            "Train precision_weighted: 0.27512132310120596\n",
            "\n",
            "Train recall_weighted: 0.3236795774647887\n",
            "\n",
            "Train f1_weighted: 0.2954704262909969\n",
            "\n"
          ]
        },
        {
          "output_type": "stream",
          "name": "stderr",
          "text": [
            "loop over test batches: 100%|██████████| 12/12 [00:00<00:00, 14.22it/s]\n"
          ]
        },
        {
          "output_type": "stream",
          "name": "stdout",
          "text": [
            "Test loss:  1.3394167770942051\n",
            "\n",
            "Test accuracy: 0.33891369047619047\n",
            "\n",
            "Test precision_tag_O: 0.7256187225227473\n",
            "\n",
            "Test recall_tag_O: 0.9292832167832169\n",
            "\n",
            "Test f1_tag_O: 0.8121606628790535\n",
            "\n",
            "Test precision_tag_requirements: 0.0\n",
            "\n",
            "Test recall_tag_requirements: 0.0\n",
            "\n",
            "Test f1_tag_requirements: 0.0\n",
            "\n",
            "Test precision_tag_terms: 0.0\n",
            "\n",
            "Test recall_tag_terms: 0.0\n",
            "\n",
            "Test f1_tag_terms: 0.0\n",
            "\n",
            "Test precision_tag_notes: 0.0\n",
            "\n",
            "Test recall_tag_notes: 0.0\n",
            "\n",
            "Test f1_tag_notes: 0.0\n",
            "\n",
            "Test precision_macro: 0.18140468063068682\n",
            "\n",
            "Test recall_macro: 0.23232080419580423\n",
            "\n",
            "Test f1_macro: 0.20304016571976338\n",
            "\n",
            "Test precision_weighted: 0.2651485368523252\n",
            "\n",
            "Test recall_weighted: 0.33891369047619047\n",
            "\n",
            "Test f1_weighted: 0.29650652302412356\n",
            "\n",
            "Epoch [77 / 100]\n",
            "\n"
          ]
        },
        {
          "output_type": "stream",
          "name": "stderr",
          "text": [
            "loop over train batches:   8%|▊         | 6/71 [00:01<00:21,  2.97it/s]"
          ]
        },
        {
          "output_type": "stream",
          "name": "stdout",
          "text": [
            "Catched\n"
          ]
        },
        {
          "output_type": "stream",
          "name": "stderr",
          "text": [
            "loop over train batches: 100%|██████████| 71/71 [00:25<00:00,  2.80it/s]\n"
          ]
        },
        {
          "output_type": "stream",
          "name": "stdout",
          "text": [
            "Train loss: 0.40972790331907677\n",
            "\n",
            "Train accuracy: 0.32702464788732394\n",
            "\n",
            "Train precision_tag_O: 0.7711539199062636\n",
            "\n",
            "Train recall_tag_O: 0.9275878907136266\n",
            "\n",
            "Train f1_tag_O: 0.8354189388759884\n",
            "\n",
            "Train precision_tag_requirements: 0.0\n",
            "\n",
            "Train recall_tag_requirements: 0.0\n",
            "\n",
            "Train f1_tag_requirements: 0.0\n",
            "\n",
            "Train precision_tag_terms: 0.002347417840375587\n",
            "\n",
            "Train recall_tag_terms: 0.002347417840375587\n",
            "\n",
            "Train f1_tag_terms: 0.002347417840375587\n",
            "\n",
            "Train precision_tag_notes: 0.0\n",
            "\n",
            "Train recall_tag_notes: 0.0\n",
            "\n",
            "Train f1_tag_notes: 0.0\n",
            "\n",
            "Train precision_macro: 0.19337533443665977\n",
            "\n",
            "Train recall_macro: 0.23248382713850055\n",
            "\n",
            "Train f1_macro: 0.20944158917909095\n",
            "\n",
            "Train precision_weighted: 0.2794352041668784\n",
            "\n",
            "Train recall_weighted: 0.32702464788732394\n",
            "\n",
            "Train f1_weighted: 0.29912731023292494\n",
            "\n"
          ]
        },
        {
          "output_type": "stream",
          "name": "stderr",
          "text": [
            "loop over test batches: 100%|██████████| 12/12 [00:00<00:00, 13.99it/s]\n"
          ]
        },
        {
          "output_type": "stream",
          "name": "stdout",
          "text": [
            "Test loss:  1.344210758805275\n",
            "\n",
            "Test accuracy: 0.3441220238095238\n",
            "\n",
            "Test precision_tag_O: 0.7049522373051786\n",
            "\n",
            "Test recall_tag_O: 0.9421037296037297\n",
            "\n",
            "Test f1_tag_O: 0.8037745167542768\n",
            "\n",
            "Test precision_tag_requirements: 0.0\n",
            "\n",
            "Test recall_tag_requirements: 0.0\n",
            "\n",
            "Test f1_tag_requirements: 0.0\n",
            "\n",
            "Test precision_tag_terms: 0.0\n",
            "\n",
            "Test recall_tag_terms: 0.0\n",
            "\n",
            "Test f1_tag_terms: 0.0\n",
            "\n",
            "Test precision_tag_notes: 0.0\n",
            "\n",
            "Test recall_tag_notes: 0.0\n",
            "\n",
            "Test f1_tag_notes: 0.0\n",
            "\n",
            "Test precision_macro: 0.17623805932629466\n",
            "\n",
            "Test recall_macro: 0.23552593240093242\n",
            "\n",
            "Test f1_macro: 0.2009436291885692\n",
            "\n",
            "Test precision_weighted: 0.2577184279160382\n",
            "\n",
            "Test recall_weighted: 0.3441220238095238\n",
            "\n",
            "Test f1_weighted: 0.2937028016544509\n",
            "\n",
            "Epoch [78 / 100]\n",
            "\n"
          ]
        },
        {
          "output_type": "stream",
          "name": "stderr",
          "text": [
            "loop over train batches:  25%|██▌       | 18/71 [00:06<00:20,  2.64it/s]"
          ]
        },
        {
          "output_type": "stream",
          "name": "stdout",
          "text": [
            "Catched\n"
          ]
        },
        {
          "output_type": "stream",
          "name": "stderr",
          "text": [
            "loop over train batches: 100%|██████████| 71/71 [00:25<00:00,  2.77it/s]\n"
          ]
        },
        {
          "output_type": "stream",
          "name": "stdout",
          "text": [
            "Train loss: 0.40214130618202854\n",
            "\n",
            "Train accuracy: 0.3273767605633803\n",
            "\n",
            "Train precision_tag_O: 0.769528349768615\n",
            "\n",
            "Train recall_tag_O: 0.9298478930624747\n",
            "\n",
            "Train f1_tag_O: 0.8371274031258474\n",
            "\n",
            "Train precision_tag_requirements: 0.0\n",
            "\n",
            "Train recall_tag_requirements: 0.0\n",
            "\n",
            "Train f1_tag_requirements: 0.0\n",
            "\n",
            "Train precision_tag_terms: 0.0014084507042253522\n",
            "\n",
            "Train recall_tag_terms: 0.0012804097311139564\n",
            "\n",
            "Train f1_tag_terms: 0.001341381623071764\n",
            "\n",
            "Train precision_tag_notes: 0.0\n",
            "\n",
            "Train recall_tag_notes: 0.0\n",
            "\n",
            "Train f1_tag_notes: 0.0\n",
            "\n",
            "Train precision_macro: 0.19273420011821005\n",
            "\n",
            "Train recall_macro: 0.23278207569839718\n",
            "\n",
            "Train f1_macro: 0.20961719618722982\n",
            "\n",
            "Train precision_weighted: 0.277135858638163\n",
            "\n",
            "Train recall_weighted: 0.3273767605633803\n",
            "\n",
            "Train f1_weighted: 0.2987328314854119\n",
            "\n"
          ]
        },
        {
          "output_type": "stream",
          "name": "stderr",
          "text": [
            "loop over test batches: 100%|██████████| 12/12 [00:00<00:00, 13.86it/s]\n"
          ]
        },
        {
          "output_type": "stream",
          "name": "stdout",
          "text": [
            "Test loss:  1.3631989260514576\n",
            "\n",
            "Test accuracy: 0.3441220238095238\n",
            "\n",
            "Test precision_tag_O: 0.7210182791065144\n",
            "\n",
            "Test recall_tag_O: 0.9421037296037297\n",
            "\n",
            "Test f1_tag_O: 0.8140550312589291\n",
            "\n",
            "Test precision_tag_requirements: 0.0\n",
            "\n",
            "Test recall_tag_requirements: 0.0\n",
            "\n",
            "Test f1_tag_requirements: 0.0\n",
            "\n",
            "Test precision_tag_terms: 0.0\n",
            "\n",
            "Test recall_tag_terms: 0.0\n",
            "\n",
            "Test f1_tag_terms: 0.0\n",
            "\n",
            "Test precision_tag_notes: 0.0\n",
            "\n",
            "Test recall_tag_notes: 0.0\n",
            "\n",
            "Test f1_tag_notes: 0.0\n",
            "\n",
            "Test precision_macro: 0.1802545697766286\n",
            "\n",
            "Test recall_macro: 0.23552593240093242\n",
            "\n",
            "Test f1_macro: 0.20351375781473227\n",
            "\n",
            "Test precision_weighted: 0.2637006886087768\n",
            "\n",
            "Test recall_weighted: 0.3441220238095238\n",
            "\n",
            "Test f1_weighted: 0.29753434756304414\n",
            "\n",
            "Epoch [79 / 100]\n",
            "\n"
          ]
        },
        {
          "output_type": "stream",
          "name": "stderr",
          "text": [
            "loop over train batches:  34%|███▍      | 24/71 [00:09<00:18,  2.53it/s]"
          ]
        },
        {
          "output_type": "stream",
          "name": "stdout",
          "text": [
            "Catched\n"
          ]
        },
        {
          "output_type": "stream",
          "name": "stderr",
          "text": [
            "loop over train batches: 100%|██████████| 71/71 [00:25<00:00,  2.74it/s]\n"
          ]
        },
        {
          "output_type": "stream",
          "name": "stdout",
          "text": [
            "Train loss: 0.3937213097659635\n",
            "\n",
            "Train accuracy: 0.3259683098591549\n",
            "\n",
            "Train precision_tag_O: 0.7869919282474332\n",
            "\n",
            "Train recall_tag_O: 0.9279900091623374\n",
            "\n",
            "Train f1_tag_O: 0.8461248873112692\n",
            "\n",
            "Train precision_tag_requirements: 0.0\n",
            "\n",
            "Train recall_tag_requirements: 0.0\n",
            "\n",
            "Train f1_tag_requirements: 0.0\n",
            "\n",
            "Train precision_tag_terms: 0.0017605633802816902\n",
            "\n",
            "Train recall_tag_terms: 0.0014084507042253522\n",
            "\n",
            "Train f1_tag_terms: 0.001564945226917058\n",
            "\n",
            "Train precision_tag_notes: 0.0\n",
            "\n",
            "Train recall_tag_notes: 0.0\n",
            "\n",
            "Train f1_tag_notes: 0.0\n",
            "\n",
            "Train precision_macro: 0.19718812290692875\n",
            "\n",
            "Train recall_macro: 0.23234961496664067\n",
            "\n",
            "Train f1_macro: 0.21192245813454655\n",
            "\n",
            "Train precision_weighted: 0.27988280858908743\n",
            "\n",
            "Train recall_weighted: 0.3259683098591549\n",
            "\n",
            "Train f1_weighted: 0.2993813701942425\n",
            "\n"
          ]
        },
        {
          "output_type": "stream",
          "name": "stderr",
          "text": [
            "loop over test batches: 100%|██████████| 12/12 [00:01<00:00, 10.04it/s]\n"
          ]
        },
        {
          "output_type": "stream",
          "name": "stdout",
          "text": [
            "Test loss:  1.3620827694733937\n",
            "\n",
            "Test accuracy: 0.3441220238095238\n",
            "\n",
            "Test precision_tag_O: 0.6858134920634922\n",
            "\n",
            "Test recall_tag_O: 0.9421037296037297\n",
            "\n",
            "Test f1_tag_O: 0.7903407777833064\n",
            "\n",
            "Test precision_tag_requirements: 0.0\n",
            "\n",
            "Test recall_tag_requirements: 0.0\n",
            "\n",
            "Test f1_tag_requirements: 0.0\n",
            "\n",
            "Test precision_tag_terms: 0.0\n",
            "\n",
            "Test recall_tag_terms: 0.0\n",
            "\n",
            "Test f1_tag_terms: 0.0\n",
            "\n",
            "Test precision_tag_notes: 0.0\n",
            "\n",
            "Test recall_tag_notes: 0.0\n",
            "\n",
            "Test f1_tag_notes: 0.0\n",
            "\n",
            "Test precision_macro: 0.17145337301587305\n",
            "\n",
            "Test recall_macro: 0.23552593240093242\n",
            "\n",
            "Test f1_macro: 0.1975851944458266\n",
            "\n",
            "Test precision_weighted: 0.2514862976440576\n",
            "\n",
            "Test recall_weighted: 0.3441220238095238\n",
            "\n",
            "Test f1_weighted: 0.28933399056243886\n",
            "\n",
            "Epoch [80 / 100]\n",
            "\n"
          ]
        },
        {
          "output_type": "stream",
          "name": "stderr",
          "text": [
            "loop over train batches:  77%|███████▋  | 55/71 [00:19<00:05,  2.92it/s]"
          ]
        },
        {
          "output_type": "stream",
          "name": "stdout",
          "text": [
            "Catched\n"
          ]
        },
        {
          "output_type": "stream",
          "name": "stderr",
          "text": [
            "loop over train batches: 100%|██████████| 71/71 [00:25<00:00,  2.83it/s]\n"
          ]
        },
        {
          "output_type": "stream",
          "name": "stdout",
          "text": [
            "Train loss: 0.4010888319200193\n",
            "\n",
            "Train accuracy: 0.3267605633802817\n",
            "\n",
            "Train precision_tag_O: 0.781430297646558\n",
            "\n",
            "Train recall_tag_O: 0.9347391481297859\n",
            "\n",
            "Train f1_tag_O: 0.8466652803245729\n",
            "\n",
            "Train precision_tag_requirements: 0.0\n",
            "\n",
            "Train recall_tag_requirements: 0.0\n",
            "\n",
            "Train f1_tag_requirements: 0.0\n",
            "\n",
            "Train precision_tag_terms: 0.0035211267605633804\n",
            "\n",
            "Train recall_tag_terms: 0.0035211267605633804\n",
            "\n",
            "Train f1_tag_terms: 0.0035211267605633804\n",
            "\n",
            "Train precision_tag_notes: 0.0\n",
            "\n",
            "Train recall_tag_notes: 0.0\n",
            "\n",
            "Train f1_tag_notes: 0.0\n",
            "\n",
            "Train precision_macro: 0.19623785610178035\n",
            "\n",
            "Train recall_macro: 0.2345650687225873\n",
            "\n",
            "Train f1_macro: 0.21254660177128407\n",
            "\n",
            "Train precision_weighted: 0.27802457695900695\n",
            "\n",
            "Train recall_weighted: 0.3267605633802817\n",
            "\n",
            "Train f1_weighted: 0.29897166749941967\n",
            "\n"
          ]
        },
        {
          "output_type": "stream",
          "name": "stderr",
          "text": [
            "loop over test batches: 100%|██████████| 12/12 [00:01<00:00, 10.10it/s]\n"
          ]
        },
        {
          "output_type": "stream",
          "name": "stdout",
          "text": [
            "Test loss:  1.3776976466178894\n",
            "\n",
            "Test accuracy: 0.3441220238095238\n",
            "\n",
            "Test precision_tag_O: 0.6863970588235295\n",
            "\n",
            "Test recall_tag_O: 0.9421037296037297\n",
            "\n",
            "Test f1_tag_O: 0.7910055451147405\n",
            "\n",
            "Test precision_tag_requirements: 0.0\n",
            "\n",
            "Test recall_tag_requirements: 0.0\n",
            "\n",
            "Test f1_tag_requirements: 0.0\n",
            "\n",
            "Test precision_tag_terms: 0.0\n",
            "\n",
            "Test recall_tag_terms: 0.0\n",
            "\n",
            "Test f1_tag_terms: 0.0\n",
            "\n",
            "Test precision_tag_notes: 0.0\n",
            "\n",
            "Test recall_tag_notes: 0.0\n",
            "\n",
            "Test f1_tag_notes: 0.0\n",
            "\n",
            "Test precision_macro: 0.17159926470588238\n",
            "\n",
            "Test recall_macro: 0.23552593240093242\n",
            "\n",
            "Test f1_macro: 0.19775138627868513\n",
            "\n",
            "Test precision_weighted: 0.25140293096405225\n",
            "\n",
            "Test recall_weighted: 0.3441220238095238\n",
            "\n",
            "Test f1_weighted: 0.28935094891273055\n",
            "\n",
            "Epoch [81 / 100]\n",
            "\n"
          ]
        },
        {
          "output_type": "stream",
          "name": "stderr",
          "text": [
            "loop over train batches:   4%|▍         | 3/71 [00:01<00:23,  2.93it/s]"
          ]
        },
        {
          "output_type": "stream",
          "name": "stdout",
          "text": [
            "Catched\n"
          ]
        },
        {
          "output_type": "stream",
          "name": "stderr",
          "text": [
            "loop over train batches: 100%|██████████| 71/71 [00:24<00:00,  2.89it/s]\n"
          ]
        },
        {
          "output_type": "stream",
          "name": "stdout",
          "text": [
            "Train loss: 0.3901911421980656\n",
            "\n",
            "Train accuracy: 0.32728873239436623\n",
            "\n",
            "Train precision_tag_O: 0.7768971860733733\n",
            "\n",
            "Train recall_tag_O: 0.9307735047793044\n",
            "\n",
            "Train f1_tag_O: 0.8408795600625182\n",
            "\n",
            "Train precision_tag_requirements: 0.0\n",
            "\n",
            "Train recall_tag_requirements: 0.0\n",
            "\n",
            "Train f1_tag_requirements: 0.0\n",
            "\n",
            "Train precision_tag_terms: 0.002347417840375587\n",
            "\n",
            "Train recall_tag_terms: 0.0012804097311139564\n",
            "\n",
            "Train f1_tag_terms: 0.0016570008285004144\n",
            "\n",
            "Train precision_tag_notes: 0.0\n",
            "\n",
            "Train recall_tag_notes: 0.0\n",
            "\n",
            "Train f1_tag_notes: 0.0\n",
            "\n",
            "Train precision_macro: 0.19481115097843718\n",
            "\n",
            "Train recall_macro: 0.23301347862760455\n",
            "\n",
            "Train f1_macro: 0.21063414022275465\n",
            "\n",
            "Train precision_weighted: 0.2789858384265973\n",
            "\n",
            "Train recall_weighted: 0.32728873239436623\n",
            "\n",
            "Train f1_weighted: 0.2992149764892747\n",
            "\n"
          ]
        },
        {
          "output_type": "stream",
          "name": "stderr",
          "text": [
            "loop over test batches: 100%|██████████| 12/12 [00:00<00:00, 13.57it/s]\n"
          ]
        },
        {
          "output_type": "stream",
          "name": "stdout",
          "text": [
            "Test loss:  1.3454077194134395\n",
            "\n",
            "Test accuracy: 0.3441220238095238\n",
            "\n",
            "Test precision_tag_O: 0.6984568321255629\n",
            "\n",
            "Test recall_tag_O: 0.9426379176379176\n",
            "\n",
            "Test f1_tag_O: 0.8004832428108289\n",
            "\n",
            "Test precision_tag_requirements: 0.0\n",
            "\n",
            "Test recall_tag_requirements: 0.0\n",
            "\n",
            "Test f1_tag_requirements: 0.0\n",
            "\n",
            "Test precision_tag_terms: 0.0\n",
            "\n",
            "Test recall_tag_terms: 0.0\n",
            "\n",
            "Test f1_tag_terms: 0.0\n",
            "\n",
            "Test precision_tag_notes: 0.0\n",
            "\n",
            "Test recall_tag_notes: 0.0\n",
            "\n",
            "Test f1_tag_notes: 0.0\n",
            "\n",
            "Test precision_macro: 0.17461420803139072\n",
            "\n",
            "Test recall_macro: 0.2356594794094794\n",
            "\n",
            "Test f1_macro: 0.20012081070270724\n",
            "\n",
            "Test precision_weighted: 0.25591059087265133\n",
            "\n",
            "Test recall_weighted: 0.3441220238095238\n",
            "\n",
            "Test f1_weighted: 0.29282954862426847\n",
            "\n",
            "Epoch [82 / 100]\n",
            "\n"
          ]
        },
        {
          "output_type": "stream",
          "name": "stderr",
          "text": [
            "loop over train batches:   4%|▍         | 3/71 [00:01<00:28,  2.36it/s]"
          ]
        },
        {
          "output_type": "stream",
          "name": "stdout",
          "text": [
            "Catched\n"
          ]
        },
        {
          "output_type": "stream",
          "name": "stderr",
          "text": [
            "loop over train batches: 100%|██████████| 71/71 [00:25<00:00,  2.82it/s]\n"
          ]
        },
        {
          "output_type": "stream",
          "name": "stdout",
          "text": [
            "Train loss: 0.3756462828793996\n",
            "\n",
            "Train accuracy: 0.32640845070422536\n",
            "\n",
            "Train precision_tag_O: 0.7754522787444776\n",
            "\n",
            "Train recall_tag_O: 0.926504207842236\n",
            "\n",
            "Train f1_tag_O: 0.8388524111274952\n",
            "\n",
            "Train precision_tag_requirements: 0.0\n",
            "\n",
            "Train recall_tag_requirements: 0.0\n",
            "\n",
            "Train f1_tag_requirements: 0.0\n",
            "\n",
            "Train precision_tag_terms: 0.0028169014084507044\n",
            "\n",
            "Train recall_tag_terms: 0.0017605633802816902\n",
            "\n",
            "Train f1_tag_terms: 0.002166847237269773\n",
            "\n",
            "Train precision_tag_notes: 0.0\n",
            "\n",
            "Train recall_tag_notes: 0.0\n",
            "\n",
            "Train f1_tag_notes: 0.0\n",
            "\n",
            "Train precision_macro: 0.19456729503823209\n",
            "\n",
            "Train recall_macro: 0.2320661928056294\n",
            "\n",
            "Train f1_macro: 0.21025481459119127\n",
            "\n",
            "Train precision_weighted: 0.27877699978824044\n",
            "\n",
            "Train recall_weighted: 0.32640845070422536\n",
            "\n",
            "Train f1_weighted: 0.2989371928347968\n",
            "\n"
          ]
        },
        {
          "output_type": "stream",
          "name": "stderr",
          "text": [
            "loop over test batches: 100%|██████████| 12/12 [00:00<00:00, 14.48it/s]\n"
          ]
        },
        {
          "output_type": "stream",
          "name": "stdout",
          "text": [
            "Test loss:  1.3811955899000168\n",
            "\n",
            "Test accuracy: 0.33891369047619047\n",
            "\n",
            "Test precision_tag_O: 0.6996320458007764\n",
            "\n",
            "Test recall_tag_O: 0.9292832167832169\n",
            "\n",
            "Test f1_tag_O: 0.7955670170612699\n",
            "\n",
            "Test precision_tag_requirements: 0.0\n",
            "\n",
            "Test recall_tag_requirements: 0.0\n",
            "\n",
            "Test f1_tag_requirements: 0.0\n",
            "\n",
            "Test precision_tag_terms: 0.0\n",
            "\n",
            "Test recall_tag_terms: 0.0\n",
            "\n",
            "Test f1_tag_terms: 0.0\n",
            "\n",
            "Test precision_tag_notes: 0.0\n",
            "\n",
            "Test recall_tag_notes: 0.0\n",
            "\n",
            "Test f1_tag_notes: 0.0\n",
            "\n",
            "Test precision_macro: 0.1749080114501941\n",
            "\n",
            "Test recall_macro: 0.23232080419580423\n",
            "\n",
            "Test f1_macro: 0.19889175426531747\n",
            "\n",
            "Test precision_weighted: 0.25606607774688817\n",
            "\n",
            "Test recall_weighted: 0.33891369047619047\n",
            "\n",
            "Test f1_weighted: 0.2907021235801768\n",
            "\n",
            "Epoch [83 / 100]\n",
            "\n"
          ]
        },
        {
          "output_type": "stream",
          "name": "stderr",
          "text": [
            "loop over train batches:  76%|███████▌  | 54/71 [00:19<00:06,  2.66it/s]"
          ]
        },
        {
          "output_type": "stream",
          "name": "stdout",
          "text": [
            "Catched\n"
          ]
        },
        {
          "output_type": "stream",
          "name": "stderr",
          "text": [
            "loop over train batches: 100%|██████████| 71/71 [00:25<00:00,  2.77it/s]\n"
          ]
        },
        {
          "output_type": "stream",
          "name": "stdout",
          "text": [
            "Train loss: 0.38081314928934606\n",
            "\n",
            "Train accuracy: 0.32640845070422536\n",
            "\n",
            "Train precision_tag_O: 0.7798194464101672\n",
            "\n",
            "Train recall_tag_O: 0.9276121179290193\n",
            "\n",
            "Train f1_tag_O: 0.842349717785832\n",
            "\n",
            "Train precision_tag_requirements: 0.0\n",
            "\n",
            "Train recall_tag_requirements: 0.0\n",
            "\n",
            "Train f1_tag_requirements: 0.0\n",
            "\n",
            "Train precision_tag_terms: 0.0011737089201877935\n",
            "\n",
            "Train recall_tag_terms: 0.0010060362173038228\n",
            "\n",
            "Train f1_tag_terms: 0.0010834236186348862\n",
            "\n",
            "Train precision_tag_notes: 0.0\n",
            "\n",
            "Train recall_tag_notes: 0.0\n",
            "\n",
            "Train f1_tag_notes: 0.0\n",
            "\n",
            "Train precision_macro: 0.19524828883258877\n",
            "\n",
            "Train recall_macro: 0.23215453853658075\n",
            "\n",
            "Train f1_macro: 0.21085828535111673\n",
            "\n",
            "Train precision_weighted: 0.28036484150687757\n",
            "\n",
            "Train recall_weighted: 0.32640845070422536\n",
            "\n",
            "Train f1_weighted: 0.3000640823365734\n",
            "\n"
          ]
        },
        {
          "output_type": "stream",
          "name": "stderr",
          "text": [
            "loop over test batches: 100%|██████████| 12/12 [00:00<00:00, 13.82it/s]\n"
          ]
        },
        {
          "output_type": "stream",
          "name": "stdout",
          "text": [
            "Test loss:  1.3853746155897777\n",
            "\n",
            "Test accuracy: 0.3441220238095238\n",
            "\n",
            "Test precision_tag_O: 0.7041232653655255\n",
            "\n",
            "Test recall_tag_O: 0.9426379176379176\n",
            "\n",
            "Test f1_tag_O: 0.8033424206700069\n",
            "\n",
            "Test precision_tag_requirements: 0.0\n",
            "\n",
            "Test recall_tag_requirements: 0.0\n",
            "\n",
            "Test f1_tag_requirements: 0.0\n",
            "\n",
            "Test precision_tag_terms: 0.0\n",
            "\n",
            "Test recall_tag_terms: 0.0\n",
            "\n",
            "Test f1_tag_terms: 0.0\n",
            "\n",
            "Test precision_tag_notes: 0.0\n",
            "\n",
            "Test recall_tag_notes: 0.0\n",
            "\n",
            "Test f1_tag_notes: 0.0\n",
            "\n",
            "Test precision_macro: 0.17603081634138137\n",
            "\n",
            "Test recall_macro: 0.2356594794094794\n",
            "\n",
            "Test f1_macro: 0.20083560516750174\n",
            "\n",
            "Test precision_weighted: 0.2582682005832022\n",
            "\n",
            "Test recall_weighted: 0.3441220238095238\n",
            "\n",
            "Test f1_weighted: 0.2940428966587372\n",
            "\n",
            "Epoch [84 / 100]\n",
            "\n"
          ]
        },
        {
          "output_type": "stream",
          "name": "stderr",
          "text": [
            "loop over train batches:  37%|███▋      | 26/71 [00:09<00:17,  2.60it/s]"
          ]
        },
        {
          "output_type": "stream",
          "name": "stdout",
          "text": [
            "Catched\n"
          ]
        },
        {
          "output_type": "stream",
          "name": "stderr",
          "text": [
            "loop over train batches: 100%|██████████| 71/71 [00:25<00:00,  2.81it/s]\n"
          ]
        },
        {
          "output_type": "stream",
          "name": "stdout",
          "text": [
            "Train loss: 0.36746082150600323\n",
            "\n",
            "Train accuracy: 0.321919014084507\n",
            "\n",
            "Train precision_tag_O: 0.7764195897998714\n",
            "\n",
            "Train recall_tag_O: 0.918769501464199\n",
            "\n",
            "Train f1_tag_O: 0.8360535371185769\n",
            "\n",
            "Train precision_tag_requirements: 0.0\n",
            "\n",
            "Train recall_tag_requirements: 0.0\n",
            "\n",
            "Train f1_tag_requirements: 0.0\n",
            "\n",
            "Train precision_tag_terms: 0.0020120724346076456\n",
            "\n",
            "Train recall_tag_terms: 0.0017605633802816902\n",
            "\n",
            "Train f1_tag_terms: 0.0018779342723004694\n",
            "\n",
            "Train precision_tag_notes: 0.0\n",
            "\n",
            "Train recall_tag_notes: 0.0\n",
            "\n",
            "Train f1_tag_notes: 0.0\n",
            "\n",
            "Train precision_macro: 0.19460791555861975\n",
            "\n",
            "Train recall_macro: 0.23013251621112019\n",
            "\n",
            "Train f1_macro: 0.20948286784771933\n",
            "\n",
            "Train precision_weighted: 0.2782270376797096\n",
            "\n",
            "Train recall_weighted: 0.321919014084507\n",
            "\n",
            "Train f1_weighted: 0.2969185371831893\n",
            "\n"
          ]
        },
        {
          "output_type": "stream",
          "name": "stderr",
          "text": [
            "loop over test batches: 100%|██████████| 12/12 [00:00<00:00, 14.22it/s]\n"
          ]
        },
        {
          "output_type": "stream",
          "name": "stdout",
          "text": [
            "Test loss:  1.4195726464192073\n",
            "\n",
            "Test accuracy: 0.3441220238095238\n",
            "\n",
            "Test precision_tag_O: 0.6696480785296576\n",
            "\n",
            "Test recall_tag_O: 0.9421037296037297\n",
            "\n",
            "Test f1_tag_O: 0.7789456854204722\n",
            "\n",
            "Test precision_tag_requirements: 0.0\n",
            "\n",
            "Test recall_tag_requirements: 0.0\n",
            "\n",
            "Test f1_tag_requirements: 0.0\n",
            "\n",
            "Test precision_tag_terms: 0.0\n",
            "\n",
            "Test recall_tag_terms: 0.0\n",
            "\n",
            "Test f1_tag_terms: 0.0\n",
            "\n",
            "Test precision_tag_notes: 0.0\n",
            "\n",
            "Test recall_tag_notes: 0.0\n",
            "\n",
            "Test f1_tag_notes: 0.0\n",
            "\n",
            "Test precision_macro: 0.1674120196324144\n",
            "\n",
            "Test recall_macro: 0.23552593240093242\n",
            "\n",
            "Test f1_macro: 0.19473642135511804\n",
            "\n",
            "Test precision_weighted: 0.24566696881603514\n",
            "\n",
            "Test recall_weighted: 0.3441220238095238\n",
            "\n",
            "Test f1_weighted: 0.28522528452832957\n",
            "\n",
            "Epoch [85 / 100]\n",
            "\n"
          ]
        },
        {
          "output_type": "stream",
          "name": "stderr",
          "text": [
            "loop over train batches:  41%|████      | 29/71 [00:10<00:15,  2.68it/s]"
          ]
        },
        {
          "output_type": "stream",
          "name": "stdout",
          "text": [
            "Catched\n"
          ]
        },
        {
          "output_type": "stream",
          "name": "stderr",
          "text": [
            "loop over train batches: 100%|██████████| 71/71 [00:25<00:00,  2.79it/s]\n"
          ]
        },
        {
          "output_type": "stream",
          "name": "stdout",
          "text": [
            "Train loss: 0.3639764035461654\n",
            "\n",
            "Train accuracy: 0.3283450704225352\n",
            "\n",
            "Train precision_tag_O: 0.7822616033174103\n",
            "\n",
            "Train recall_tag_O: 0.9301938085388789\n",
            "\n",
            "Train f1_tag_O: 0.8441871650606667\n",
            "\n",
            "Train precision_tag_requirements: 0.0\n",
            "\n",
            "Train recall_tag_requirements: 0.0\n",
            "\n",
            "Train f1_tag_requirements: 0.0\n",
            "\n",
            "Train precision_tag_terms: 0.0028169014084507044\n",
            "\n",
            "Train recall_tag_terms: 0.0014084507042253522\n",
            "\n",
            "Train f1_tag_terms: 0.0018779342723004694\n",
            "\n",
            "Train precision_tag_notes: 0.0\n",
            "\n",
            "Train recall_tag_notes: 0.0\n",
            "\n",
            "Train f1_tag_notes: 0.0\n",
            "\n",
            "Train precision_macro: 0.1962696261814653\n",
            "\n",
            "Train recall_macro: 0.2329005648107761\n",
            "\n",
            "Train f1_macro: 0.21151627483324184\n",
            "\n",
            "Train precision_weighted: 0.28252756123281003\n",
            "\n",
            "Train recall_weighted: 0.3283450704225352\n",
            "\n",
            "Train f1_weighted: 0.30191115445842437\n",
            "\n"
          ]
        },
        {
          "output_type": "stream",
          "name": "stderr",
          "text": [
            "loop over test batches: 100%|██████████| 12/12 [00:01<00:00,  7.42it/s]\n"
          ]
        },
        {
          "output_type": "stream",
          "name": "stdout",
          "text": [
            "Test loss:  1.4108383158842723\n",
            "\n",
            "Test accuracy: 0.34151785714285715\n",
            "\n",
            "Test precision_tag_O: 0.6932194031458737\n",
            "\n",
            "Test recall_tag_O: 0.9356934731934733\n",
            "\n",
            "Test f1_tag_O: 0.7917197840473702\n",
            "\n",
            "Test precision_tag_requirements: 0.0\n",
            "\n",
            "Test recall_tag_requirements: 0.0\n",
            "\n",
            "Test f1_tag_requirements: 0.0\n",
            "\n",
            "Test precision_tag_terms: 0.0\n",
            "\n",
            "Test recall_tag_terms: 0.0\n",
            "\n",
            "Test f1_tag_terms: 0.0\n",
            "\n",
            "Test precision_tag_notes: 0.0\n",
            "\n",
            "Test recall_tag_notes: 0.0\n",
            "\n",
            "Test f1_tag_notes: 0.0\n",
            "\n",
            "Test precision_macro: 0.17330485078646843\n",
            "\n",
            "Test recall_macro: 0.23392336829836832\n",
            "\n",
            "Test f1_macro: 0.19792994601184255\n",
            "\n",
            "Test precision_weighted: 0.2545529149159664\n",
            "\n",
            "Test recall_weighted: 0.34151785714285715\n",
            "\n",
            "Test f1_weighted: 0.2899216851156507\n",
            "\n",
            "Epoch [86 / 100]\n",
            "\n"
          ]
        },
        {
          "output_type": "stream",
          "name": "stderr",
          "text": [
            "loop over train batches:  69%|██████▉   | 49/71 [00:17<00:07,  3.07it/s]"
          ]
        },
        {
          "output_type": "stream",
          "name": "stdout",
          "text": [
            "Catched\n"
          ]
        },
        {
          "output_type": "stream",
          "name": "stderr",
          "text": [
            "loop over train batches: 100%|██████████| 71/71 [00:24<00:00,  2.85it/s]\n"
          ]
        },
        {
          "output_type": "stream",
          "name": "stdout",
          "text": [
            "Train loss: 0.36851410945536384\n",
            "\n",
            "Train accuracy: 0.3274647887323944\n",
            "\n",
            "Train precision_tag_O: 0.7779771093260387\n",
            "\n",
            "Train recall_tag_O: 0.9310662112443389\n",
            "\n",
            "Train f1_tag_O: 0.8414885417205239\n",
            "\n",
            "Train precision_tag_requirements: 0.0\n",
            "\n",
            "Train recall_tag_requirements: 0.0\n",
            "\n",
            "Train f1_tag_requirements: 0.0\n",
            "\n",
            "Train precision_tag_terms: 0.0014084507042253522\n",
            "\n",
            "Train recall_tag_terms: 0.0012804097311139564\n",
            "\n",
            "Train f1_tag_terms: 0.001341381623071764\n",
            "\n",
            "Train precision_tag_notes: 0.0\n",
            "\n",
            "Train recall_tag_notes: 0.0\n",
            "\n",
            "Train f1_tag_notes: 0.0\n",
            "\n",
            "Train precision_macro: 0.194846390007566\n",
            "\n",
            "Train recall_macro: 0.2330866552438632\n",
            "\n",
            "Train f1_macro: 0.21070748083589888\n",
            "\n",
            "Train precision_weighted: 0.2812279931959747\n",
            "\n",
            "Train recall_weighted: 0.3274647887323944\n",
            "\n",
            "Train f1_weighted: 0.3009272532400238\n",
            "\n"
          ]
        },
        {
          "output_type": "stream",
          "name": "stderr",
          "text": [
            "loop over test batches: 100%|██████████| 12/12 [00:01<00:00, 11.83it/s]\n"
          ]
        },
        {
          "output_type": "stream",
          "name": "stdout",
          "text": [
            "Test loss:  1.4098935921986897\n",
            "\n",
            "Test accuracy: 0.33891369047619047\n",
            "\n",
            "Test precision_tag_O: 0.7033085163890118\n",
            "\n",
            "Test recall_tag_O: 0.9292832167832169\n",
            "\n",
            "Test f1_tag_O: 0.7980300712484619\n",
            "\n",
            "Test precision_tag_requirements: 0.0\n",
            "\n",
            "Test recall_tag_requirements: 0.0\n",
            "\n",
            "Test f1_tag_requirements: 0.0\n",
            "\n",
            "Test precision_tag_terms: 0.0\n",
            "\n",
            "Test recall_tag_terms: 0.0\n",
            "\n",
            "Test f1_tag_terms: 0.0\n",
            "\n",
            "Test precision_tag_notes: 0.0\n",
            "\n",
            "Test recall_tag_notes: 0.0\n",
            "\n",
            "Test f1_tag_notes: 0.0\n",
            "\n",
            "Test precision_macro: 0.17582712909725295\n",
            "\n",
            "Test recall_macro: 0.23232080419580423\n",
            "\n",
            "Test f1_macro: 0.19950751781211548\n",
            "\n",
            "Test precision_weighted: 0.2574447542174764\n",
            "\n",
            "Test recall_weighted: 0.33891369047619047\n",
            "\n",
            "Test f1_weighted: 0.2916257689003738\n",
            "\n",
            "Epoch [87 / 100]\n",
            "\n"
          ]
        },
        {
          "output_type": "stream",
          "name": "stderr",
          "text": [
            "loop over train batches:  44%|████▎     | 31/71 [00:11<00:16,  2.40it/s]"
          ]
        },
        {
          "output_type": "stream",
          "name": "stdout",
          "text": [
            "Catched\n"
          ]
        },
        {
          "output_type": "stream",
          "name": "stderr",
          "text": [
            "loop over train batches: 100%|██████████| 71/71 [00:25<00:00,  2.82it/s]\n"
          ]
        },
        {
          "output_type": "stream",
          "name": "stdout",
          "text": [
            "Train loss: 0.3603263585500314\n",
            "\n",
            "Train accuracy: 0.3268485915492958\n",
            "\n",
            "Train precision_tag_O: 0.7761165688263103\n",
            "\n",
            "Train recall_tag_O: 0.9335067123799519\n",
            "\n",
            "Train f1_tag_O: 0.8409064312010595\n",
            "\n",
            "Train precision_tag_requirements: 0.0\n",
            "\n",
            "Train recall_tag_requirements: 0.0\n",
            "\n",
            "Train f1_tag_requirements: 0.0\n",
            "\n",
            "Train precision_tag_terms: 0.0020120724346076456\n",
            "\n",
            "Train recall_tag_terms: 0.0017605633802816902\n",
            "\n",
            "Train f1_tag_terms: 0.0018779342723004694\n",
            "\n",
            "Train precision_tag_notes: 0.0\n",
            "\n",
            "Train recall_tag_notes: 0.0\n",
            "\n",
            "Train f1_tag_notes: 0.0\n",
            "\n",
            "Train precision_macro: 0.1945321603152295\n",
            "\n",
            "Train recall_macro: 0.2338168189400584\n",
            "\n",
            "Train f1_macro: 0.21069609136834\n",
            "\n",
            "Train precision_weighted: 0.278171868133659\n",
            "\n",
            "Train recall_weighted: 0.3268485915492958\n",
            "\n",
            "Train f1_weighted: 0.29877629477742534\n",
            "\n"
          ]
        },
        {
          "output_type": "stream",
          "name": "stderr",
          "text": [
            "loop over test batches: 100%|██████████| 12/12 [00:00<00:00, 13.92it/s]\n"
          ]
        },
        {
          "output_type": "stream",
          "name": "stdout",
          "text": [
            "Test loss:  1.404586096604665\n",
            "\n",
            "Test accuracy: 0.34151785714285715\n",
            "\n",
            "Test precision_tag_O: 0.7044114575654824\n",
            "\n",
            "Test recall_tag_O: 0.9356934731934733\n",
            "\n",
            "Test f1_tag_O: 0.8009774325291565\n",
            "\n",
            "Test precision_tag_requirements: 0.0\n",
            "\n",
            "Test recall_tag_requirements: 0.0\n",
            "\n",
            "Test f1_tag_requirements: 0.0\n",
            "\n",
            "Test precision_tag_terms: 0.0\n",
            "\n",
            "Test recall_tag_terms: 0.0\n",
            "\n",
            "Test f1_tag_terms: 0.0\n",
            "\n",
            "Test precision_tag_notes: 0.0\n",
            "\n",
            "Test recall_tag_notes: 0.0\n",
            "\n",
            "Test f1_tag_notes: 0.0\n",
            "\n",
            "Test precision_macro: 0.1761028643913706\n",
            "\n",
            "Test recall_macro: 0.23392336829836832\n",
            "\n",
            "Test f1_macro: 0.20024435813228914\n",
            "\n",
            "Test precision_weighted: 0.2584754790073924\n",
            "\n",
            "Test recall_weighted: 0.34151785714285715\n",
            "\n",
            "Test f1_weighted: 0.29324696525935745\n",
            "\n",
            "Epoch [88 / 100]\n",
            "\n"
          ]
        },
        {
          "output_type": "stream",
          "name": "stderr",
          "text": [
            "loop over train batches:  76%|███████▌  | 54/71 [00:19<00:06,  2.63it/s]"
          ]
        },
        {
          "output_type": "stream",
          "name": "stdout",
          "text": [
            "Catched\n"
          ]
        },
        {
          "output_type": "stream",
          "name": "stderr",
          "text": [
            "loop over train batches: 100%|██████████| 71/71 [00:25<00:00,  2.75it/s]\n"
          ]
        },
        {
          "output_type": "stream",
          "name": "stdout",
          "text": [
            "Train loss: 0.3542602129385505\n",
            "\n",
            "Train accuracy: 0.3313380281690141\n",
            "\n",
            "Train precision_tag_O: 0.786655550791839\n",
            "\n",
            "Train recall_tag_O: 0.9416952512644311\n",
            "\n",
            "Train f1_tag_O: 0.8515095910612145\n",
            "\n",
            "Train precision_tag_requirements: 0.0\n",
            "\n",
            "Train recall_tag_requirements: 0.0\n",
            "\n",
            "Train f1_tag_requirements: 0.0\n",
            "\n",
            "Train precision_tag_terms: 0.0020120724346076456\n",
            "\n",
            "Train recall_tag_terms: 0.0020120724346076456\n",
            "\n",
            "Train f1_tag_terms: 0.0020120724346076456\n",
            "\n",
            "Train precision_tag_notes: 0.0\n",
            "\n",
            "Train recall_tag_notes: 0.0\n",
            "\n",
            "Train f1_tag_notes: 0.0\n",
            "\n",
            "Train precision_macro: 0.19716690580661167\n",
            "\n",
            "Train recall_macro: 0.2359268309247597\n",
            "\n",
            "Train f1_macro: 0.21338041587395556\n",
            "\n",
            "Train precision_weighted: 0.2813222643082316\n",
            "\n",
            "Train recall_weighted: 0.3313380281690141\n",
            "\n",
            "Train f1_weighted: 0.30245481521218204\n",
            "\n"
          ]
        },
        {
          "output_type": "stream",
          "name": "stderr",
          "text": [
            "loop over test batches: 100%|██████████| 12/12 [00:00<00:00, 13.94it/s]\n"
          ]
        },
        {
          "output_type": "stream",
          "name": "stdout",
          "text": [
            "Test loss:  1.4202275276184082\n",
            "\n",
            "Test accuracy: 0.34151785714285715\n",
            "\n",
            "Test precision_tag_O: 0.7081754631677234\n",
            "\n",
            "Test recall_tag_O: 0.9356934731934733\n",
            "\n",
            "Test f1_tag_O: 0.8040204622963243\n",
            "\n",
            "Test precision_tag_requirements: 0.0\n",
            "\n",
            "Test recall_tag_requirements: 0.0\n",
            "\n",
            "Test f1_tag_requirements: 0.0\n",
            "\n",
            "Test precision_tag_terms: 0.0\n",
            "\n",
            "Test recall_tag_terms: 0.0\n",
            "\n",
            "Test f1_tag_terms: 0.0\n",
            "\n",
            "Test precision_tag_notes: 0.0\n",
            "\n",
            "Test recall_tag_notes: 0.0\n",
            "\n",
            "Test f1_tag_notes: 0.0\n",
            "\n",
            "Test precision_macro: 0.17704386579193085\n",
            "\n",
            "Test recall_macro: 0.23392336829836832\n",
            "\n",
            "Test f1_macro: 0.20100511557408107\n",
            "\n",
            "Test precision_weighted: 0.2593070616404456\n",
            "\n",
            "Test recall_weighted: 0.34151785714285715\n",
            "\n",
            "Test f1_weighted: 0.29398239482021804\n",
            "\n",
            "Epoch [89 / 100]\n",
            "\n"
          ]
        },
        {
          "output_type": "stream",
          "name": "stderr",
          "text": [
            "loop over train batches:   7%|▋         | 5/71 [00:01<00:25,  2.58it/s]"
          ]
        },
        {
          "output_type": "stream",
          "name": "stdout",
          "text": [
            "Catched\n"
          ]
        },
        {
          "output_type": "stream",
          "name": "stderr",
          "text": [
            "loop over train batches: 100%|██████████| 71/71 [00:25<00:00,  2.78it/s]\n"
          ]
        },
        {
          "output_type": "stream",
          "name": "stdout",
          "text": [
            "Train loss: 0.3635952428612911\n",
            "\n",
            "Train accuracy: 0.3236795774647887\n",
            "\n",
            "Train precision_tag_O: 0.7861203098950014\n",
            "\n",
            "Train recall_tag_O: 0.9279907713109868\n",
            "\n",
            "Train f1_tag_O: 0.8452325709638971\n",
            "\n",
            "Train precision_tag_requirements: 0.0\n",
            "\n",
            "Train recall_tag_requirements: 0.0\n",
            "\n",
            "Train f1_tag_requirements: 0.0\n",
            "\n",
            "Train precision_tag_terms: 0.0017605633802816902\n",
            "\n",
            "Train recall_tag_terms: 0.0010834236186348864\n",
            "\n",
            "Train f1_tag_terms: 0.001341381623071764\n",
            "\n",
            "Train precision_tag_notes: 0.0\n",
            "\n",
            "Train recall_tag_notes: 0.0\n",
            "\n",
            "Train f1_tag_notes: 0.0\n",
            "\n",
            "Train precision_macro: 0.19697021831882075\n",
            "\n",
            "Train recall_macro: 0.2322685487324054\n",
            "\n",
            "Train f1_macro: 0.21164348814674225\n",
            "\n",
            "Train precision_weighted: 0.2803995673963012\n",
            "\n",
            "Train recall_weighted: 0.3236795774647887\n",
            "\n",
            "Train f1_weighted: 0.2986645661937126\n",
            "\n"
          ]
        },
        {
          "output_type": "stream",
          "name": "stderr",
          "text": [
            "loop over test batches: 100%|██████████| 12/12 [00:00<00:00, 13.87it/s]\n"
          ]
        },
        {
          "output_type": "stream",
          "name": "stdout",
          "text": [
            "Test loss:  1.4330410410960515\n",
            "\n",
            "Test accuracy: 0.34151785714285715\n",
            "\n",
            "Test precision_tag_O: 0.6854916167996664\n",
            "\n",
            "Test recall_tag_O: 0.9362276612276612\n",
            "\n",
            "Test f1_tag_O: 0.787662511172893\n",
            "\n",
            "Test precision_tag_requirements: 0.0\n",
            "\n",
            "Test recall_tag_requirements: 0.0\n",
            "\n",
            "Test f1_tag_requirements: 0.0\n",
            "\n",
            "Test precision_tag_terms: 0.0\n",
            "\n",
            "Test recall_tag_terms: 0.0\n",
            "\n",
            "Test f1_tag_terms: 0.0\n",
            "\n",
            "Test precision_tag_notes: 0.0\n",
            "\n",
            "Test recall_tag_notes: 0.0\n",
            "\n",
            "Test f1_tag_notes: 0.0\n",
            "\n",
            "Test precision_macro: 0.1713729041999166\n",
            "\n",
            "Test recall_macro: 0.2340569153069153\n",
            "\n",
            "Test f1_macro: 0.19691562779322325\n",
            "\n",
            "Test precision_weighted: 0.25170502615407386\n",
            "\n",
            "Test recall_weighted: 0.34151785714285715\n",
            "\n",
            "Test f1_weighted: 0.28842981263503487\n",
            "\n",
            "Epoch [90 / 100]\n",
            "\n"
          ]
        },
        {
          "output_type": "stream",
          "name": "stderr",
          "text": [
            "loop over train batches:  80%|████████  | 57/71 [00:19<00:03,  3.56it/s]"
          ]
        },
        {
          "output_type": "stream",
          "name": "stdout",
          "text": [
            "Catched\n"
          ]
        },
        {
          "output_type": "stream",
          "name": "stderr",
          "text": [
            "loop over train batches: 100%|██████████| 71/71 [00:25<00:00,  2.84it/s]\n"
          ]
        },
        {
          "output_type": "stream",
          "name": "stdout",
          "text": [
            "Train loss: 0.36355349064712794\n",
            "\n",
            "Train accuracy: 0.3231514084507042\n",
            "\n",
            "Train precision_tag_O: 0.7730655391280908\n",
            "\n",
            "Train recall_tag_O: 0.9201336808731173\n",
            "\n",
            "Train f1_tag_O: 0.8349742528326123\n",
            "\n",
            "Train precision_tag_requirements: 0.0\n",
            "\n",
            "Train recall_tag_requirements: 0.0\n",
            "\n",
            "Train f1_tag_requirements: 0.0\n",
            "\n",
            "Train precision_tag_terms: 0.0014084507042253522\n",
            "\n",
            "Train recall_tag_terms: 0.0012804097311139564\n",
            "\n",
            "Train f1_tag_terms: 0.001341381623071764\n",
            "\n",
            "Train precision_tag_notes: 0.0\n",
            "\n",
            "Train recall_tag_notes: 0.0\n",
            "\n",
            "Train f1_tag_notes: 0.0\n",
            "\n",
            "Train precision_macro: 0.19361849745807905\n",
            "\n",
            "Train recall_macro: 0.23035352265105782\n",
            "\n",
            "Train f1_macro: 0.20907890861392098\n",
            "\n",
            "Train precision_weighted: 0.2779565904025438\n",
            "\n",
            "Train recall_weighted: 0.3231514084507042\n",
            "\n",
            "Train f1_weighted: 0.2971552526132946\n",
            "\n"
          ]
        },
        {
          "output_type": "stream",
          "name": "stderr",
          "text": [
            "loop over test batches: 100%|██████████| 12/12 [00:01<00:00,  9.78it/s]\n"
          ]
        },
        {
          "output_type": "stream",
          "name": "stdout",
          "text": [
            "Test loss:  1.4555723071098328\n",
            "\n",
            "Test accuracy: 0.3441220238095238\n",
            "\n",
            "Test precision_tag_O: 0.6771413828689371\n",
            "\n",
            "Test recall_tag_O: 0.9421037296037297\n",
            "\n",
            "Test f1_tag_O: 0.783838167209942\n",
            "\n",
            "Test precision_tag_requirements: 0.0\n",
            "\n",
            "Test recall_tag_requirements: 0.0\n",
            "\n",
            "Test f1_tag_requirements: 0.0\n",
            "\n",
            "Test precision_tag_terms: 0.0\n",
            "\n",
            "Test recall_tag_terms: 0.0\n",
            "\n",
            "Test f1_tag_terms: 0.0\n",
            "\n",
            "Test precision_tag_notes: 0.0\n",
            "\n",
            "Test recall_tag_notes: 0.0\n",
            "\n",
            "Test f1_tag_notes: 0.0\n",
            "\n",
            "Test precision_macro: 0.16928534571723428\n",
            "\n",
            "Test recall_macro: 0.23552593240093242\n",
            "\n",
            "Test f1_macro: 0.1959595418024855\n",
            "\n",
            "Test precision_weighted: 0.24840273554597272\n",
            "\n",
            "Test recall_weighted: 0.3441220238095238\n",
            "\n",
            "Test f1_weighted: 0.28699726538917414\n",
            "\n",
            "Epoch [91 / 100]\n",
            "\n"
          ]
        },
        {
          "output_type": "stream",
          "name": "stderr",
          "text": [
            "loop over train batches:  41%|████      | 29/71 [00:10<00:14,  2.97it/s]"
          ]
        },
        {
          "output_type": "stream",
          "name": "stdout",
          "text": [
            "Catched\n"
          ]
        },
        {
          "output_type": "stream",
          "name": "stderr",
          "text": [
            "loop over train batches: 100%|██████████| 71/71 [00:25<00:00,  2.79it/s]\n"
          ]
        },
        {
          "output_type": "stream",
          "name": "stdout",
          "text": [
            "Train loss: 0.3411175157402603\n",
            "\n",
            "Train accuracy: 0.3268485915492958\n",
            "\n",
            "Train precision_tag_O: 0.784557338800678\n",
            "\n",
            "Train recall_tag_O: 0.9319963682639739\n",
            "\n",
            "Train f1_tag_O: 0.847126772700081\n",
            "\n",
            "Train precision_tag_requirements: 0.0\n",
            "\n",
            "Train recall_tag_requirements: 0.0\n",
            "\n",
            "Train f1_tag_requirements: 0.0\n",
            "\n",
            "Train precision_tag_terms: 0.0014084507042253522\n",
            "\n",
            "Train recall_tag_terms: 0.0010834236186348864\n",
            "\n",
            "Train f1_tag_terms: 0.001224739742804654\n",
            "\n",
            "Train precision_tag_notes: 0.0\n",
            "\n",
            "Train recall_tag_notes: 0.0\n",
            "\n",
            "Train f1_tag_notes: 0.0\n",
            "\n",
            "Train precision_macro: 0.19649144737622584\n",
            "\n",
            "Train recall_macro: 0.2332699479706522\n",
            "\n",
            "Train f1_macro: 0.21208787811072138\n",
            "\n",
            "Train precision_weighted: 0.2788620098728791\n",
            "\n",
            "Train recall_weighted: 0.3268485915492958\n",
            "\n",
            "Train f1_weighted: 0.29942049226073425\n",
            "\n"
          ]
        },
        {
          "output_type": "stream",
          "name": "stderr",
          "text": [
            "loop over test batches: 100%|██████████| 12/12 [00:01<00:00, 10.32it/s]\n"
          ]
        },
        {
          "output_type": "stream",
          "name": "stdout",
          "text": [
            "Test loss:  1.4386261155207951\n",
            "\n",
            "Test accuracy: 0.33891369047619047\n",
            "\n",
            "Test precision_tag_O: 0.7015850570997629\n",
            "\n",
            "Test recall_tag_O: 0.9292832167832169\n",
            "\n",
            "Test f1_tag_O: 0.7960696907161174\n",
            "\n",
            "Test precision_tag_requirements: 0.0\n",
            "\n",
            "Test recall_tag_requirements: 0.0\n",
            "\n",
            "Test f1_tag_requirements: 0.0\n",
            "\n",
            "Test precision_tag_terms: 0.0\n",
            "\n",
            "Test recall_tag_terms: 0.0\n",
            "\n",
            "Test f1_tag_terms: 0.0\n",
            "\n",
            "Test precision_tag_notes: 0.0\n",
            "\n",
            "Test recall_tag_notes: 0.0\n",
            "\n",
            "Test f1_tag_notes: 0.0\n",
            "\n",
            "Test precision_macro: 0.17539626427494073\n",
            "\n",
            "Test recall_macro: 0.23232080419580423\n",
            "\n",
            "Test f1_macro: 0.19901742267902936\n",
            "\n",
            "Test precision_weighted: 0.25702856863899404\n",
            "\n",
            "Test recall_weighted: 0.33891369047619047\n",
            "\n",
            "Test f1_weighted: 0.2910399398249223\n",
            "\n",
            "Epoch [92 / 100]\n",
            "\n"
          ]
        },
        {
          "output_type": "stream",
          "name": "stderr",
          "text": [
            "loop over train batches:  75%|███████▍  | 53/71 [00:19<00:07,  2.45it/s]"
          ]
        },
        {
          "output_type": "stream",
          "name": "stdout",
          "text": [
            "Catched\n"
          ]
        },
        {
          "output_type": "stream",
          "name": "stderr",
          "text": [
            "loop over train batches: 100%|██████████| 71/71 [00:25<00:00,  2.83it/s]\n"
          ]
        },
        {
          "output_type": "stream",
          "name": "stdout",
          "text": [
            "Train loss: 0.3382062332730898\n",
            "\n",
            "Train accuracy: 0.3284330985915493\n",
            "\n",
            "Train precision_tag_O: 0.7783279549609727\n",
            "\n",
            "Train recall_tag_O: 0.9309969787186025\n",
            "\n",
            "Train f1_tag_O: 0.8390453675733888\n",
            "\n",
            "Train precision_tag_requirements: 0.0\n",
            "\n",
            "Train recall_tag_requirements: 0.0\n",
            "\n",
            "Train f1_tag_requirements: 0.0\n",
            "\n",
            "Train precision_tag_terms: 0.002347417840375587\n",
            "\n",
            "Train recall_tag_terms: 0.0020120724346076456\n",
            "\n",
            "Train f1_tag_terms: 0.0021668472372697724\n",
            "\n",
            "Train precision_tag_notes: 0.0\n",
            "\n",
            "Train recall_tag_notes: 0.0\n",
            "\n",
            "Train f1_tag_notes: 0.0\n",
            "\n",
            "Train precision_macro: 0.1951688432003371\n",
            "\n",
            "Train recall_macro: 0.23325226278830252\n",
            "\n",
            "Train f1_macro: 0.21030305370266464\n",
            "\n",
            "Train precision_weighted: 0.284422045409453\n",
            "\n",
            "Train recall_weighted: 0.3284330985915493\n",
            "\n",
            "Train f1_weighted: 0.3029040123278801\n",
            "\n"
          ]
        },
        {
          "output_type": "stream",
          "name": "stderr",
          "text": [
            "loop over test batches: 100%|██████████| 12/12 [00:00<00:00, 13.72it/s]\n"
          ]
        },
        {
          "output_type": "stream",
          "name": "stdout",
          "text": [
            "Test loss:  1.464986617366473\n",
            "\n",
            "Test accuracy: 0.34151785714285715\n",
            "\n",
            "Test precision_tag_O: 0.6978098290598291\n",
            "\n",
            "Test recall_tag_O: 0.9356934731934733\n",
            "\n",
            "Test f1_tag_O: 0.794709939356366\n",
            "\n",
            "Test precision_tag_requirements: 0.0\n",
            "\n",
            "Test recall_tag_requirements: 0.0\n",
            "\n",
            "Test f1_tag_requirements: 0.0\n",
            "\n",
            "Test precision_tag_terms: 0.0\n",
            "\n",
            "Test recall_tag_terms: 0.0\n",
            "\n",
            "Test f1_tag_terms: 0.0\n",
            "\n",
            "Test precision_tag_notes: 0.0\n",
            "\n",
            "Test recall_tag_notes: 0.0\n",
            "\n",
            "Test f1_tag_notes: 0.0\n",
            "\n",
            "Test precision_macro: 0.17445245726495728\n",
            "\n",
            "Test recall_macro: 0.23392336829836832\n",
            "\n",
            "Test f1_macro: 0.1986774848390915\n",
            "\n",
            "Test precision_weighted: 0.256176535117252\n",
            "\n",
            "Test recall_weighted: 0.34151785714285715\n",
            "\n",
            "Test f1_weighted: 0.2909913938891638\n",
            "\n",
            "Epoch [93 / 100]\n",
            "\n"
          ]
        },
        {
          "output_type": "stream",
          "name": "stderr",
          "text": [
            "loop over train batches:  34%|███▍      | 24/71 [00:08<00:15,  3.12it/s]"
          ]
        },
        {
          "output_type": "stream",
          "name": "stdout",
          "text": [
            "Catched\n"
          ]
        },
        {
          "output_type": "stream",
          "name": "stderr",
          "text": [
            "loop over train batches: 100%|██████████| 71/71 [00:25<00:00,  2.77it/s]\n"
          ]
        },
        {
          "output_type": "stream",
          "name": "stdout",
          "text": [
            "Train loss: 0.34299740384162314\n",
            "\n",
            "Train accuracy: 0.3268485915492958\n",
            "\n",
            "Train precision_tag_O: 0.7867089023468476\n",
            "\n",
            "Train recall_tag_O: 0.9302780409389878\n",
            "\n",
            "Train f1_tag_O: 0.8472629713395301\n",
            "\n",
            "Train precision_tag_requirements: 0.0\n",
            "\n",
            "Train recall_tag_requirements: 0.0\n",
            "\n",
            "Train f1_tag_requirements: 0.0\n",
            "\n",
            "Train precision_tag_terms: 0.0014084507042253522\n",
            "\n",
            "Train recall_tag_terms: 0.0012804097311139564\n",
            "\n",
            "Train f1_tag_terms: 0.001341381623071764\n",
            "\n",
            "Train precision_tag_notes: 0.0\n",
            "\n",
            "Train recall_tag_notes: 0.0\n",
            "\n",
            "Train f1_tag_notes: 0.0\n",
            "\n",
            "Train precision_macro: 0.19702933826276825\n",
            "\n",
            "Train recall_macro: 0.23288961266752545\n",
            "\n",
            "Train f1_macro: 0.2121510882406505\n",
            "\n",
            "Train precision_weighted: 0.2818097920042307\n",
            "\n",
            "Train recall_weighted: 0.3268485915492958\n",
            "\n",
            "Train f1_weighted: 0.3009739647353601\n",
            "\n"
          ]
        },
        {
          "output_type": "stream",
          "name": "stderr",
          "text": [
            "loop over test batches: 100%|██████████| 12/12 [00:00<00:00, 13.98it/s]\n"
          ]
        },
        {
          "output_type": "stream",
          "name": "stdout",
          "text": [
            "Test loss:  1.4470021923383076\n",
            "\n",
            "Test accuracy: 0.33891369047619047\n",
            "\n",
            "Test precision_tag_O: 0.6816620879120879\n",
            "\n",
            "Test recall_tag_O: 0.9292832167832169\n",
            "\n",
            "Test f1_tag_O: 0.7824501472115165\n",
            "\n",
            "Test precision_tag_requirements: 0.0\n",
            "\n",
            "Test recall_tag_requirements: 0.0\n",
            "\n",
            "Test f1_tag_requirements: 0.0\n",
            "\n",
            "Test precision_tag_terms: 0.0\n",
            "\n",
            "Test recall_tag_terms: 0.0\n",
            "\n",
            "Test f1_tag_terms: 0.0\n",
            "\n",
            "Test precision_tag_notes: 0.0\n",
            "\n",
            "Test recall_tag_notes: 0.0\n",
            "\n",
            "Test f1_tag_notes: 0.0\n",
            "\n",
            "Test precision_macro: 0.17041552197802198\n",
            "\n",
            "Test recall_macro: 0.23232080419580423\n",
            "\n",
            "Test f1_macro: 0.19561253680287913\n",
            "\n",
            "Test precision_weighted: 0.24971863945898867\n",
            "\n",
            "Test recall_weighted: 0.33891369047619047\n",
            "\n",
            "Test f1_weighted: 0.2860826924107784\n",
            "\n",
            "Epoch [94 / 100]\n",
            "\n"
          ]
        },
        {
          "output_type": "stream",
          "name": "stderr",
          "text": [
            "loop over train batches:  85%|████████▍ | 60/71 [00:21<00:03,  3.18it/s]"
          ]
        },
        {
          "output_type": "stream",
          "name": "stdout",
          "text": [
            "Catched\n"
          ]
        },
        {
          "output_type": "stream",
          "name": "stderr",
          "text": [
            "loop over train batches: 100%|██████████| 71/71 [00:25<00:00,  2.77it/s]\n"
          ]
        },
        {
          "output_type": "stream",
          "name": "stdout",
          "text": [
            "Train loss: 0.3351403982706473\n",
            "\n",
            "Train accuracy: 0.3275528169014085\n",
            "\n",
            "Train precision_tag_O: 0.7902366539984821\n",
            "\n",
            "Train recall_tag_O: 0.92706675401373\n",
            "\n",
            "Train f1_tag_O: 0.8472836744817602\n",
            "\n",
            "Train precision_tag_requirements: 0.0\n",
            "\n",
            "Train recall_tag_requirements: 0.0\n",
            "\n",
            "Train f1_tag_requirements: 0.0\n",
            "\n",
            "Train precision_tag_terms: 0.002347417840375587\n",
            "\n",
            "Train recall_tag_terms: 0.0017605633802816902\n",
            "\n",
            "Train f1_tag_terms: 0.002012072434607646\n",
            "\n",
            "Train precision_tag_notes: 0.0\n",
            "\n",
            "Train recall_tag_notes: 0.0\n",
            "\n",
            "Train f1_tag_notes: 0.0\n",
            "\n",
            "Train precision_macro: 0.1981460179597144\n",
            "\n",
            "Train recall_macro: 0.2322068293485029\n",
            "\n",
            "Train f1_macro: 0.21232393672909197\n",
            "\n",
            "Train precision_weighted: 0.28509471033278494\n",
            "\n",
            "Train recall_weighted: 0.3275528169014085\n",
            "\n",
            "Train f1_weighted: 0.3029379724791225\n",
            "\n"
          ]
        },
        {
          "output_type": "stream",
          "name": "stderr",
          "text": [
            "loop over test batches: 100%|██████████| 12/12 [00:00<00:00, 14.32it/s]\n"
          ]
        },
        {
          "output_type": "stream",
          "name": "stdout",
          "text": [
            "Test loss:  1.4565244168043137\n",
            "\n",
            "Test accuracy: 0.34151785714285715\n",
            "\n",
            "Test precision_tag_O: 0.7023164528969482\n",
            "\n",
            "Test recall_tag_O: 0.9356934731934733\n",
            "\n",
            "Test f1_tag_O: 0.7996729962247203\n",
            "\n",
            "Test precision_tag_requirements: 0.0\n",
            "\n",
            "Test recall_tag_requirements: 0.0\n",
            "\n",
            "Test f1_tag_requirements: 0.0\n",
            "\n",
            "Test precision_tag_terms: 0.0\n",
            "\n",
            "Test recall_tag_terms: 0.0\n",
            "\n",
            "Test f1_tag_terms: 0.0\n",
            "\n",
            "Test precision_tag_notes: 0.0\n",
            "\n",
            "Test recall_tag_notes: 0.0\n",
            "\n",
            "Test f1_tag_notes: 0.0\n",
            "\n",
            "Test precision_macro: 0.17557911322423705\n",
            "\n",
            "Test recall_macro: 0.23392336829836832\n",
            "\n",
            "Test f1_macro: 0.19991824905618008\n",
            "\n",
            "Test precision_weighted: 0.2572286260995626\n",
            "\n",
            "Test recall_weighted: 0.34151785714285715\n",
            "\n",
            "Test f1_weighted: 0.29243642044019197\n",
            "\n",
            "Epoch [95 / 100]\n",
            "\n"
          ]
        },
        {
          "output_type": "stream",
          "name": "stderr",
          "text": [
            "loop over train batches:  58%|█████▊    | 41/71 [00:14<00:13,  2.20it/s]"
          ]
        },
        {
          "output_type": "stream",
          "name": "stdout",
          "text": [
            "Catched\n"
          ]
        },
        {
          "output_type": "stream",
          "name": "stderr",
          "text": [
            "loop over train batches: 100%|██████████| 71/71 [00:25<00:00,  2.75it/s]\n"
          ]
        },
        {
          "output_type": "stream",
          "name": "stdout",
          "text": [
            "Train loss: 0.3467366027999932\n",
            "\n",
            "Train accuracy: 0.3314260563380282\n",
            "\n",
            "Train precision_tag_O: 0.7842666375664675\n",
            "\n",
            "Train recall_tag_O: 0.9341133735085683\n",
            "\n",
            "Train f1_tag_O: 0.8476733391554201\n",
            "\n",
            "Train precision_tag_requirements: 0.0\n",
            "\n",
            "Train recall_tag_requirements: 0.0\n",
            "\n",
            "Train f1_tag_requirements: 0.0\n",
            "\n",
            "Train precision_tag_terms: 0.0017605633802816902\n",
            "\n",
            "Train recall_tag_terms: 0.0017605633802816902\n",
            "\n",
            "Train f1_tag_terms: 0.0017605633802816902\n",
            "\n",
            "Train precision_tag_notes: 0.0\n",
            "\n",
            "Train recall_tag_notes: 0.0\n",
            "\n",
            "Train f1_tag_notes: 0.0\n",
            "\n",
            "Train precision_macro: 0.19650680023668732\n",
            "\n",
            "Train recall_macro: 0.2339684842222125\n",
            "\n",
            "Train f1_macro: 0.21235847563392546\n",
            "\n",
            "Train precision_weighted: 0.2836823474965358\n",
            "\n",
            "Train recall_weighted: 0.3314260563380282\n",
            "\n",
            "Train f1_weighted: 0.304237996868428\n",
            "\n"
          ]
        },
        {
          "output_type": "stream",
          "name": "stderr",
          "text": [
            "loop over test batches: 100%|██████████| 12/12 [00:01<00:00,  8.45it/s]\n"
          ]
        },
        {
          "output_type": "stream",
          "name": "stdout",
          "text": [
            "Test loss:  1.4390676965316136\n",
            "\n",
            "Test accuracy: 0.3441220238095238\n",
            "\n",
            "Test precision_tag_O: 0.6798763736263735\n",
            "\n",
            "Test recall_tag_O: 0.9426379176379176\n",
            "\n",
            "Test f1_tag_O: 0.7871248270673558\n",
            "\n",
            "Test precision_tag_requirements: 0.0\n",
            "\n",
            "Test recall_tag_requirements: 0.0\n",
            "\n",
            "Test f1_tag_requirements: 0.0\n",
            "\n",
            "Test precision_tag_terms: 0.0\n",
            "\n",
            "Test recall_tag_terms: 0.0\n",
            "\n",
            "Test f1_tag_terms: 0.0\n",
            "\n",
            "Test precision_tag_notes: 0.0\n",
            "\n",
            "Test recall_tag_notes: 0.0\n",
            "\n",
            "Test f1_tag_notes: 0.0\n",
            "\n",
            "Test precision_macro: 0.16996909340659339\n",
            "\n",
            "Test recall_macro: 0.2356594794094794\n",
            "\n",
            "Test f1_macro: 0.19678120676683894\n",
            "\n",
            "Test precision_weighted: 0.24937237114397037\n",
            "\n",
            "Test recall_weighted: 0.3441220238095238\n",
            "\n",
            "Test f1_weighted: 0.2881346343630827\n",
            "\n",
            "Epoch [96 / 100]\n",
            "\n"
          ]
        },
        {
          "output_type": "stream",
          "name": "stderr",
          "text": [
            "loop over train batches:  45%|████▌     | 32/71 [00:11<00:18,  2.07it/s]"
          ]
        },
        {
          "output_type": "stream",
          "name": "stdout",
          "text": [
            "Catched\n"
          ]
        },
        {
          "output_type": "stream",
          "name": "stderr",
          "text": [
            "loop over train batches: 100%|██████████| 71/71 [00:25<00:00,  2.84it/s]\n"
          ]
        },
        {
          "output_type": "stream",
          "name": "stdout",
          "text": [
            "Train loss: 0.3188377648172244\n",
            "\n",
            "Train accuracy: 0.3286971830985915\n",
            "\n",
            "Train precision_tag_O: 0.7795145903990145\n",
            "\n",
            "Train recall_tag_O: 0.9370683445248484\n",
            "\n",
            "Train f1_tag_O: 0.8453116151749759\n",
            "\n",
            "Train precision_tag_requirements: 0.0\n",
            "\n",
            "Train recall_tag_requirements: 0.0\n",
            "\n",
            "Train f1_tag_requirements: 0.0\n",
            "\n",
            "Train precision_tag_terms: 0.0015649452269170577\n",
            "\n",
            "Train recall_tag_terms: 0.0017605633802816902\n",
            "\n",
            "Train f1_tag_terms: 0.0016570008285004142\n",
            "\n",
            "Train precision_tag_notes: 0.0\n",
            "\n",
            "Train recall_tag_notes: 0.0\n",
            "\n",
            "Train f1_tag_notes: 0.0\n",
            "\n",
            "Train precision_macro: 0.1952698839064829\n",
            "\n",
            "Train recall_macro: 0.23470722697628252\n",
            "\n",
            "Train f1_macro: 0.21174215400086907\n",
            "\n",
            "Train precision_weighted: 0.28088294267955877\n",
            "\n",
            "Train recall_weighted: 0.3286971830985915\n",
            "\n",
            "Train f1_weighted: 0.301233966943513\n",
            "\n"
          ]
        },
        {
          "output_type": "stream",
          "name": "stderr",
          "text": [
            "loop over test batches: 100%|██████████| 12/12 [00:01<00:00, 10.38it/s]\n"
          ]
        },
        {
          "output_type": "stream",
          "name": "stdout",
          "text": [
            "Test loss:  1.4692211349805195\n",
            "\n",
            "Test accuracy: 0.34672619047619047\n",
            "\n",
            "Test precision_tag_O: 0.6891489423029671\n",
            "\n",
            "Test recall_tag_O: 0.949048174048174\n",
            "\n",
            "Test f1_tag_O: 0.7951836427220841\n",
            "\n",
            "Test precision_tag_requirements: 0.0\n",
            "\n",
            "Test recall_tag_requirements: 0.0\n",
            "\n",
            "Test f1_tag_requirements: 0.0\n",
            "\n",
            "Test precision_tag_terms: 0.0\n",
            "\n",
            "Test recall_tag_terms: 0.0\n",
            "\n",
            "Test f1_tag_terms: 0.0\n",
            "\n",
            "Test precision_tag_notes: 0.0\n",
            "\n",
            "Test recall_tag_notes: 0.0\n",
            "\n",
            "Test f1_tag_notes: 0.0\n",
            "\n",
            "Test precision_macro: 0.17228723557574177\n",
            "\n",
            "Test recall_macro: 0.2372620435120435\n",
            "\n",
            "Test f1_macro: 0.19879591068052102\n",
            "\n",
            "Test precision_weighted: 0.2528256946334539\n",
            "\n",
            "Test recall_weighted: 0.34672619047619047\n",
            "\n",
            "Test f1_weighted: 0.2911889032266453\n",
            "\n",
            "Epoch [97 / 100]\n",
            "\n"
          ]
        },
        {
          "output_type": "stream",
          "name": "stderr",
          "text": [
            "loop over train batches:  76%|███████▌  | 54/71 [00:19<00:05,  3.37it/s]"
          ]
        },
        {
          "output_type": "stream",
          "name": "stdout",
          "text": [
            "Catched\n"
          ]
        },
        {
          "output_type": "stream",
          "name": "stderr",
          "text": [
            "loop over train batches: 100%|██████████| 71/71 [00:25<00:00,  2.82it/s]\n"
          ]
        },
        {
          "output_type": "stream",
          "name": "stdout",
          "text": [
            "Train loss: 0.31878872929324564\n",
            "\n",
            "Train accuracy: 0.3275528169014085\n",
            "\n",
            "Train precision_tag_O: 0.7841084089846788\n",
            "\n",
            "Train recall_tag_O: 0.9282223978267887\n",
            "\n",
            "Train f1_tag_O: 0.8432281450167132\n",
            "\n",
            "Train precision_tag_requirements: 0.0\n",
            "\n",
            "Train recall_tag_requirements: 0.0\n",
            "\n",
            "Train f1_tag_requirements: 0.0\n",
            "\n",
            "Train precision_tag_terms: 0.0012804097311139564\n",
            "\n",
            "Train recall_tag_terms: 0.0010060362173038228\n",
            "\n",
            "Train f1_tag_terms: 0.0011267605633802818\n",
            "\n",
            "Train precision_tag_notes: 0.0\n",
            "\n",
            "Train recall_tag_notes: 0.0\n",
            "\n",
            "Train f1_tag_notes: 0.0\n",
            "\n",
            "Train precision_macro: 0.19634720467894817\n",
            "\n",
            "Train recall_macro: 0.23230710851102312\n",
            "\n",
            "Train f1_macro: 0.21108872639502338\n",
            "\n",
            "Train precision_weighted: 0.2829817682266256\n",
            "\n",
            "Train recall_weighted: 0.3275528169014085\n",
            "\n",
            "Train f1_weighted: 0.30151944120866425\n",
            "\n"
          ]
        },
        {
          "output_type": "stream",
          "name": "stderr",
          "text": [
            "loop over test batches: 100%|██████████| 12/12 [00:00<00:00, 13.85it/s]\n"
          ]
        },
        {
          "output_type": "stream",
          "name": "stdout",
          "text": [
            "Test loss:  1.4691492368777592\n",
            "\n",
            "Test accuracy: 0.34151785714285715\n",
            "\n",
            "Test precision_tag_O: 0.6891748366013072\n",
            "\n",
            "Test recall_tag_O: 0.9356934731934733\n",
            "\n",
            "Test f1_tag_O: 0.7907169448261402\n",
            "\n",
            "Test precision_tag_requirements: 0.0\n",
            "\n",
            "Test recall_tag_requirements: 0.0\n",
            "\n",
            "Test f1_tag_requirements: 0.0\n",
            "\n",
            "Test precision_tag_terms: 0.0\n",
            "\n",
            "Test recall_tag_terms: 0.0\n",
            "\n",
            "Test f1_tag_terms: 0.0\n",
            "\n",
            "Test precision_tag_notes: 0.0\n",
            "\n",
            "Test recall_tag_notes: 0.0\n",
            "\n",
            "Test f1_tag_notes: 0.0\n",
            "\n",
            "Test precision_macro: 0.1722937091503268\n",
            "\n",
            "Test recall_macro: 0.23392336829836832\n",
            "\n",
            "Test f1_macro: 0.19767923620653505\n",
            "\n",
            "Test precision_weighted: 0.2523143892973856\n",
            "\n",
            "Test recall_weighted: 0.34151785714285715\n",
            "\n",
            "Test f1_weighted: 0.2890848955216771\n",
            "\n",
            "Epoch [98 / 100]\n",
            "\n"
          ]
        },
        {
          "output_type": "stream",
          "name": "stderr",
          "text": [
            "loop over train batches:  82%|████████▏ | 58/71 [00:21<00:04,  3.17it/s]"
          ]
        },
        {
          "output_type": "stream",
          "name": "stdout",
          "text": [
            "Catched\n"
          ]
        },
        {
          "output_type": "stream",
          "name": "stderr",
          "text": [
            "loop over train batches: 100%|██████████| 71/71 [00:25<00:00,  2.79it/s]\n"
          ]
        },
        {
          "output_type": "stream",
          "name": "stdout",
          "text": [
            "Train loss: 0.32127958641085824\n",
            "\n",
            "Train accuracy: 0.3259683098591549\n",
            "\n",
            "Train precision_tag_O: 0.7864184674441728\n",
            "\n",
            "Train recall_tag_O: 0.9294202828378471\n",
            "\n",
            "Train f1_tag_O: 0.8457322036268874\n",
            "\n",
            "Train precision_tag_requirements: 0.0\n",
            "\n",
            "Train recall_tag_requirements: 0.0\n",
            "\n",
            "Train f1_tag_requirements: 0.0\n",
            "\n",
            "Train precision_tag_terms: 0.0028169014084507044\n",
            "\n",
            "Train recall_tag_terms: 0.0017605633802816902\n",
            "\n",
            "Train f1_tag_terms: 0.002166847237269773\n",
            "\n",
            "Train precision_tag_notes: 0.0\n",
            "\n",
            "Train recall_tag_notes: 0.0\n",
            "\n",
            "Train f1_tag_notes: 0.0\n",
            "\n",
            "Train precision_macro: 0.19730884221315584\n",
            "\n",
            "Train recall_macro: 0.23279521155453217\n",
            "\n",
            "Train f1_macro: 0.21197476271603932\n",
            "\n",
            "Train precision_weighted: 0.2826817623293362\n",
            "\n",
            "Train recall_weighted: 0.3259683098591549\n",
            "\n",
            "Train f1_weighted: 0.3008517096920333\n",
            "\n"
          ]
        },
        {
          "output_type": "stream",
          "name": "stderr",
          "text": [
            "loop over test batches: 100%|██████████| 12/12 [00:00<00:00, 13.93it/s]\n"
          ]
        },
        {
          "output_type": "stream",
          "name": "stdout",
          "text": [
            "Test loss:  1.4681509931882222\n",
            "\n",
            "Test accuracy: 0.34151785714285715\n",
            "\n",
            "Test precision_tag_O: 0.7007038712921067\n",
            "\n",
            "Test recall_tag_O: 0.9362276612276612\n",
            "\n",
            "Test f1_tag_O: 0.7988070720254629\n",
            "\n",
            "Test precision_tag_requirements: 0.0\n",
            "\n",
            "Test recall_tag_requirements: 0.0\n",
            "\n",
            "Test f1_tag_requirements: 0.0\n",
            "\n",
            "Test precision_tag_terms: 0.0\n",
            "\n",
            "Test recall_tag_terms: 0.0\n",
            "\n",
            "Test f1_tag_terms: 0.0\n",
            "\n",
            "Test precision_tag_notes: 0.0\n",
            "\n",
            "Test recall_tag_notes: 0.0\n",
            "\n",
            "Test f1_tag_notes: 0.0\n",
            "\n",
            "Test precision_macro: 0.17517596782302666\n",
            "\n",
            "Test recall_macro: 0.2340569153069153\n",
            "\n",
            "Test f1_macro: 0.19970176800636572\n",
            "\n",
            "Test precision_weighted: 0.256358941813905\n",
            "\n",
            "Test recall_weighted: 0.34151785714285715\n",
            "\n",
            "Test f1_weighted: 0.29183249913134973\n",
            "\n",
            "Epoch [99 / 100]\n",
            "\n"
          ]
        },
        {
          "output_type": "stream",
          "name": "stderr",
          "text": [
            "loop over train batches:   4%|▍         | 3/71 [00:01<00:35,  1.91it/s]"
          ]
        },
        {
          "output_type": "stream",
          "name": "stdout",
          "text": [
            "Catched\n"
          ]
        },
        {
          "output_type": "stream",
          "name": "stderr",
          "text": [
            "loop over train batches: 100%|██████████| 71/71 [00:25<00:00,  2.83it/s]\n"
          ]
        },
        {
          "output_type": "stream",
          "name": "stdout",
          "text": [
            "Train loss: 0.3285661350253602\n",
            "\n",
            "Train accuracy: 0.3257042253521127\n",
            "\n",
            "Train precision_tag_O: 0.7813663702126833\n",
            "\n",
            "Train recall_tag_O: 0.9229307859589552\n",
            "\n",
            "Train f1_tag_O: 0.8411854697308271\n",
            "\n",
            "Train precision_tag_requirements: 0.0\n",
            "\n",
            "Train recall_tag_requirements: 0.0\n",
            "\n",
            "Train f1_tag_requirements: 0.0\n",
            "\n",
            "Train precision_tag_terms: 0.004694835680751174\n",
            "\n",
            "Train recall_tag_terms: 0.002347417840375587\n",
            "\n",
            "Train f1_tag_terms: 0.0031298904538341154\n",
            "\n",
            "Train precision_tag_notes: 0.0\n",
            "\n",
            "Train recall_tag_notes: 0.0\n",
            "\n",
            "Train f1_tag_notes: 0.0\n",
            "\n",
            "Train precision_macro: 0.19651530147335863\n",
            "\n",
            "Train recall_macro: 0.23131955094983264\n",
            "\n",
            "Train f1_macro: 0.21107884004616534\n",
            "\n",
            "Train precision_weighted: 0.279580099726576\n",
            "\n",
            "Train recall_weighted: 0.3257042253521127\n",
            "\n",
            "Train f1_weighted: 0.29915698109964983\n",
            "\n"
          ]
        },
        {
          "output_type": "stream",
          "name": "stderr",
          "text": [
            "loop over test batches: 100%|██████████| 12/12 [00:00<00:00, 13.62it/s]\n"
          ]
        },
        {
          "output_type": "stream",
          "name": "stdout",
          "text": [
            "Test loss:  1.4951360325018566\n",
            "\n",
            "Test accuracy: 0.33891369047619047\n",
            "\n",
            "Test precision_tag_O: 0.7069849869772472\n",
            "\n",
            "Test recall_tag_O: 0.9292832167832169\n",
            "\n",
            "Test f1_tag_O: 0.8003289218231746\n",
            "\n",
            "Test precision_tag_requirements: 0.0\n",
            "\n",
            "Test recall_tag_requirements: 0.0\n",
            "\n",
            "Test f1_tag_requirements: 0.0\n",
            "\n",
            "Test precision_tag_terms: 0.0\n",
            "\n",
            "Test recall_tag_terms: 0.0\n",
            "\n",
            "Test f1_tag_terms: 0.0\n",
            "\n",
            "Test precision_tag_notes: 0.0\n",
            "\n",
            "Test recall_tag_notes: 0.0\n",
            "\n",
            "Test f1_tag_notes: 0.0\n",
            "\n",
            "Test precision_macro: 0.1767462467443118\n",
            "\n",
            "Test recall_macro: 0.23232080419580423\n",
            "\n",
            "Test f1_macro: 0.20008223045579365\n",
            "\n",
            "Test precision_weighted: 0.25893832039394704\n",
            "\n",
            "Test recall_weighted: 0.33891369047619047\n",
            "\n",
            "Test f1_weighted: 0.29255967694635077\n",
            "\n",
            "Epoch [100 / 100]\n",
            "\n"
          ]
        },
        {
          "output_type": "stream",
          "name": "stderr",
          "text": [
            "loop over train batches:  62%|██████▏   | 44/71 [00:15<00:08,  3.25it/s]"
          ]
        },
        {
          "output_type": "stream",
          "name": "stdout",
          "text": [
            "Catched\n"
          ]
        },
        {
          "output_type": "stream",
          "name": "stderr",
          "text": [
            "loop over train batches: 100%|██████████| 71/71 [00:25<00:00,  2.81it/s]\n"
          ]
        },
        {
          "output_type": "stream",
          "name": "stdout",
          "text": [
            "Train loss: 0.31825710917022865\n",
            "\n",
            "Train accuracy: 0.32411971830985914\n",
            "\n",
            "Train precision_tag_O: 0.7857447004489475\n",
            "\n",
            "Train recall_tag_O: 0.9269046669523059\n",
            "\n",
            "Train f1_tag_O: 0.8445233519297861\n",
            "\n",
            "Train precision_tag_requirements: 0.0\n",
            "\n",
            "Train recall_tag_requirements: 0.0\n",
            "\n",
            "Train f1_tag_requirements: 0.0\n",
            "\n",
            "Train precision_tag_terms: 0.0010834236186348864\n",
            "\n",
            "Train recall_tag_terms: 0.0010060362173038228\n",
            "\n",
            "Train f1_tag_terms: 0.0010432968179447054\n",
            "\n",
            "Train precision_tag_notes: 0.0\n",
            "\n",
            "Train recall_tag_notes: 0.0\n",
            "\n",
            "Train f1_tag_notes: 0.0\n",
            "\n",
            "Train precision_macro: 0.1967070310168956\n",
            "\n",
            "Train recall_macro: 0.23197767579240242\n",
            "\n",
            "Train f1_macro: 0.21139166218693273\n",
            "\n",
            "Train precision_weighted: 0.28128186485413587\n",
            "\n",
            "Train recall_weighted: 0.32411971830985914\n",
            "\n",
            "Train f1_weighted: 0.299433467839833\n",
            "\n"
          ]
        },
        {
          "output_type": "stream",
          "name": "stderr",
          "text": [
            "loop over test batches: 100%|██████████| 12/12 [00:01<00:00, 10.99it/s]\n"
          ]
        },
        {
          "output_type": "stream",
          "name": "stdout",
          "text": [
            "Test loss:  1.4855514168739319\n",
            "\n",
            "Test accuracy: 0.3363095238095238\n",
            "\n",
            "Test precision_tag_O: 0.7101901151823754\n",
            "\n",
            "Test recall_tag_O: 0.9228729603729605\n",
            "\n",
            "Test f1_tag_O: 0.799549575029335\n",
            "\n",
            "Test precision_tag_requirements: 0.0\n",
            "\n",
            "Test recall_tag_requirements: 0.0\n",
            "\n",
            "Test f1_tag_requirements: 0.0\n",
            "\n",
            "Test precision_tag_terms: 0.0\n",
            "\n",
            "Test recall_tag_terms: 0.0\n",
            "\n",
            "Test f1_tag_terms: 0.0\n",
            "\n",
            "Test precision_tag_notes: 0.0\n",
            "\n",
            "Test recall_tag_notes: 0.0\n",
            "\n",
            "Test f1_tag_notes: 0.0\n",
            "\n",
            "Test precision_macro: 0.17754752879559385\n",
            "\n",
            "Test recall_macro: 0.23071824009324013\n",
            "\n",
            "Test f1_macro: 0.19988739375733375\n",
            "\n",
            "Test precision_weighted: 0.2598111454855221\n",
            "\n",
            "Test recall_weighted: 0.3363095238095238\n",
            "\n",
            "Test f1_weighted: 0.29196000571715053\n",
            "\n"
          ]
        },
        {
          "output_type": "execute_result",
          "data": {
            "text/plain": [
              "('/content/model/tokenizer_config.json',\n",
              " '/content/model/special_tokens_map.json',\n",
              " '/content/model/vocab.txt',\n",
              " '/content/model/added_tokens.json',\n",
              " '/content/model/tokenizer.json')"
            ]
          },
          "metadata": {},
          "execution_count": 185
        }
      ]
    },
    {
      "cell_type": "code",
      "source": [
        "sample = test_dataset[3]\n",
        "sample"
      ],
      "metadata": {
        "colab": {
          "base_uri": "https://localhost:8080/"
        },
        "id": "6herS8l_Qn-w",
        "outputId": "1b1cef64-c754-4847-deca-5280654937f9"
      },
      "execution_count": null,
      "outputs": [
        {
          "output_type": "execute_result",
          "data": {
            "text/plain": [
              "Instance(context='Описание работодателя: компания АО ;Ю-ПИ-СИ; занимается управлением бизнес-центром Требования: Среднее профессиональное образование, опыт работы не менее 2 лет. Обязанности: Обеспечивать исправное состояние, безаварийную и надежную работу обслуживаемых систем отопления, водоснабжения, канализации и водостоков, правильную их эксплуатацию, своевременный и качественный ремонт. Условия: Работа в стабильной организации. Испытательный срок - 3 месяца. Оформление по ТК РФ. 40-часовая рабочая неделя, 8-часовой рабочий день. Начало работы: 8:30. Окончание: 17:00.', question='Какие требования к соискателю?', answer=Span(token='Среднее профессиональное образование, опыт работы не менее 2 лет.', label='requirements', start_context_char_pos=95, end_context_char_pos=160))"
            ]
          },
          "metadata": {},
          "execution_count": 186
        }
      ]
    },
    {
      "cell_type": "code",
      "source": [
        "predict(sample.context, sample.question, prompt_mapper, model, tokenizer, tokenizer_kwargs, n_best_size=2)"
      ],
      "metadata": {
        "colab": {
          "base_uri": "https://localhost:8080/"
        },
        "id": "-276mnbAQfNo",
        "outputId": "16517d6b-89f4-41c6-d569-839dda56762b"
      },
      "execution_count": null,
      "outputs": [
        {
          "output_type": "execute_result",
          "data": {
            "text/plain": [
              "Instance(context='Описание работодателя: компания АО ;Ю-ПИ-СИ; занимается управлением бизнес-центром Требования: Среднее профессиональное образование, опыт работы не менее 2 лет. Обязанности: Обеспечивать исправное состояние, безаварийную и надежную работу обслуживаемых систем отопления, водоснабжения, канализации и водостоков, правильную их эксплуатацию, своевременный и качественный ремонт. Условия: Работа в стабильной организации. Испытательный срок - 3 месяца. Оформление по ТК РФ. 40-часовая рабочая неделя, 8-часовой рабочий день. Начало работы: 8:30. Окончание: 17:00.', question='Какие требования к соискателю?', answer=[Span(token='Среднее', label='requirements', start_context_char_pos=95, end_context_char_pos=102), Span(token='опыт', label='requirements', start_context_char_pos=133, end_context_char_pos=137)])"
            ]
          },
          "metadata": {},
          "execution_count": 187
        }
      ]
    }
  ]
}