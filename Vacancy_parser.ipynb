{
  "nbformat": 4,
  "nbformat_minor": 0,
  "metadata": {
    "colab": {
      "provenance": [],
      "gpuType": "T4"
    },
    "kernelspec": {
      "name": "python3",
      "display_name": "Python 3"
    },
    "language_info": {
      "name": "python"
    },
    "accelerator": "GPU",
    "widgets": {
      "application/vnd.jupyter.widget-state+json": {
        "36693edce0f34101bc57650a3df50d8c": {
          "model_module": "@jupyter-widgets/controls",
          "model_name": "HBoxModel",
          "model_module_version": "1.5.0",
          "state": {
            "_dom_classes": [],
            "_model_module": "@jupyter-widgets/controls",
            "_model_module_version": "1.5.0",
            "_model_name": "HBoxModel",
            "_view_count": null,
            "_view_module": "@jupyter-widgets/controls",
            "_view_module_version": "1.5.0",
            "_view_name": "HBoxView",
            "box_style": "",
            "children": [
              "IPY_MODEL_96db093013cd454b811454aa027c3ffc",
              "IPY_MODEL_cc37904d110a47dbb60ef876cf5de4ed",
              "IPY_MODEL_1f1f6c2171464730907d6c1a690f3321"
            ],
            "layout": "IPY_MODEL_aacffc52000b4820903da1c40b7320b4"
          }
        },
        "96db093013cd454b811454aa027c3ffc": {
          "model_module": "@jupyter-widgets/controls",
          "model_name": "HTMLModel",
          "model_module_version": "1.5.0",
          "state": {
            "_dom_classes": [],
            "_model_module": "@jupyter-widgets/controls",
            "_model_module_version": "1.5.0",
            "_model_name": "HTMLModel",
            "_view_count": null,
            "_view_module": "@jupyter-widgets/controls",
            "_view_module_version": "1.5.0",
            "_view_name": "HTMLView",
            "description": "",
            "description_tooltip": null,
            "layout": "IPY_MODEL_fde44eb6225b45c3b86a8afdfacc5095",
            "placeholder": "​",
            "style": "IPY_MODEL_f236ebb78b3c424db34f74237a11bf6d",
            "value": "Map: 100%"
          }
        },
        "cc37904d110a47dbb60ef876cf5de4ed": {
          "model_module": "@jupyter-widgets/controls",
          "model_name": "FloatProgressModel",
          "model_module_version": "1.5.0",
          "state": {
            "_dom_classes": [],
            "_model_module": "@jupyter-widgets/controls",
            "_model_module_version": "1.5.0",
            "_model_name": "FloatProgressModel",
            "_view_count": null,
            "_view_module": "@jupyter-widgets/controls",
            "_view_module_version": "1.5.0",
            "_view_name": "ProgressView",
            "bar_style": "",
            "description": "",
            "description_tooltip": null,
            "layout": "IPY_MODEL_53ace7ce6edf4f5e94648c0019a70c27",
            "max": 959,
            "min": 0,
            "orientation": "horizontal",
            "style": "IPY_MODEL_48b9a3e9389445379ed3d226b5539c70",
            "value": 959
          }
        },
        "1f1f6c2171464730907d6c1a690f3321": {
          "model_module": "@jupyter-widgets/controls",
          "model_name": "HTMLModel",
          "model_module_version": "1.5.0",
          "state": {
            "_dom_classes": [],
            "_model_module": "@jupyter-widgets/controls",
            "_model_module_version": "1.5.0",
            "_model_name": "HTMLModel",
            "_view_count": null,
            "_view_module": "@jupyter-widgets/controls",
            "_view_module_version": "1.5.0",
            "_view_name": "HTMLView",
            "description": "",
            "description_tooltip": null,
            "layout": "IPY_MODEL_b267cc295c5d4a859255f2471033d9f5",
            "placeholder": "​",
            "style": "IPY_MODEL_d0bce79a52ee4c9ab944298b07d067ed",
            "value": " 959/959 [00:02&lt;00:00, 447.06 examples/s]"
          }
        },
        "aacffc52000b4820903da1c40b7320b4": {
          "model_module": "@jupyter-widgets/base",
          "model_name": "LayoutModel",
          "model_module_version": "1.2.0",
          "state": {
            "_model_module": "@jupyter-widgets/base",
            "_model_module_version": "1.2.0",
            "_model_name": "LayoutModel",
            "_view_count": null,
            "_view_module": "@jupyter-widgets/base",
            "_view_module_version": "1.2.0",
            "_view_name": "LayoutView",
            "align_content": null,
            "align_items": null,
            "align_self": null,
            "border": null,
            "bottom": null,
            "display": null,
            "flex": null,
            "flex_flow": null,
            "grid_area": null,
            "grid_auto_columns": null,
            "grid_auto_flow": null,
            "grid_auto_rows": null,
            "grid_column": null,
            "grid_gap": null,
            "grid_row": null,
            "grid_template_areas": null,
            "grid_template_columns": null,
            "grid_template_rows": null,
            "height": null,
            "justify_content": null,
            "justify_items": null,
            "left": null,
            "margin": null,
            "max_height": null,
            "max_width": null,
            "min_height": null,
            "min_width": null,
            "object_fit": null,
            "object_position": null,
            "order": null,
            "overflow": null,
            "overflow_x": null,
            "overflow_y": null,
            "padding": null,
            "right": null,
            "top": null,
            "visibility": "hidden",
            "width": null
          }
        },
        "fde44eb6225b45c3b86a8afdfacc5095": {
          "model_module": "@jupyter-widgets/base",
          "model_name": "LayoutModel",
          "model_module_version": "1.2.0",
          "state": {
            "_model_module": "@jupyter-widgets/base",
            "_model_module_version": "1.2.0",
            "_model_name": "LayoutModel",
            "_view_count": null,
            "_view_module": "@jupyter-widgets/base",
            "_view_module_version": "1.2.0",
            "_view_name": "LayoutView",
            "align_content": null,
            "align_items": null,
            "align_self": null,
            "border": null,
            "bottom": null,
            "display": null,
            "flex": null,
            "flex_flow": null,
            "grid_area": null,
            "grid_auto_columns": null,
            "grid_auto_flow": null,
            "grid_auto_rows": null,
            "grid_column": null,
            "grid_gap": null,
            "grid_row": null,
            "grid_template_areas": null,
            "grid_template_columns": null,
            "grid_template_rows": null,
            "height": null,
            "justify_content": null,
            "justify_items": null,
            "left": null,
            "margin": null,
            "max_height": null,
            "max_width": null,
            "min_height": null,
            "min_width": null,
            "object_fit": null,
            "object_position": null,
            "order": null,
            "overflow": null,
            "overflow_x": null,
            "overflow_y": null,
            "padding": null,
            "right": null,
            "top": null,
            "visibility": null,
            "width": null
          }
        },
        "f236ebb78b3c424db34f74237a11bf6d": {
          "model_module": "@jupyter-widgets/controls",
          "model_name": "DescriptionStyleModel",
          "model_module_version": "1.5.0",
          "state": {
            "_model_module": "@jupyter-widgets/controls",
            "_model_module_version": "1.5.0",
            "_model_name": "DescriptionStyleModel",
            "_view_count": null,
            "_view_module": "@jupyter-widgets/base",
            "_view_module_version": "1.2.0",
            "_view_name": "StyleView",
            "description_width": ""
          }
        },
        "53ace7ce6edf4f5e94648c0019a70c27": {
          "model_module": "@jupyter-widgets/base",
          "model_name": "LayoutModel",
          "model_module_version": "1.2.0",
          "state": {
            "_model_module": "@jupyter-widgets/base",
            "_model_module_version": "1.2.0",
            "_model_name": "LayoutModel",
            "_view_count": null,
            "_view_module": "@jupyter-widgets/base",
            "_view_module_version": "1.2.0",
            "_view_name": "LayoutView",
            "align_content": null,
            "align_items": null,
            "align_self": null,
            "border": null,
            "bottom": null,
            "display": null,
            "flex": null,
            "flex_flow": null,
            "grid_area": null,
            "grid_auto_columns": null,
            "grid_auto_flow": null,
            "grid_auto_rows": null,
            "grid_column": null,
            "grid_gap": null,
            "grid_row": null,
            "grid_template_areas": null,
            "grid_template_columns": null,
            "grid_template_rows": null,
            "height": null,
            "justify_content": null,
            "justify_items": null,
            "left": null,
            "margin": null,
            "max_height": null,
            "max_width": null,
            "min_height": null,
            "min_width": null,
            "object_fit": null,
            "object_position": null,
            "order": null,
            "overflow": null,
            "overflow_x": null,
            "overflow_y": null,
            "padding": null,
            "right": null,
            "top": null,
            "visibility": null,
            "width": null
          }
        },
        "48b9a3e9389445379ed3d226b5539c70": {
          "model_module": "@jupyter-widgets/controls",
          "model_name": "ProgressStyleModel",
          "model_module_version": "1.5.0",
          "state": {
            "_model_module": "@jupyter-widgets/controls",
            "_model_module_version": "1.5.0",
            "_model_name": "ProgressStyleModel",
            "_view_count": null,
            "_view_module": "@jupyter-widgets/base",
            "_view_module_version": "1.2.0",
            "_view_name": "StyleView",
            "bar_color": null,
            "description_width": ""
          }
        },
        "b267cc295c5d4a859255f2471033d9f5": {
          "model_module": "@jupyter-widgets/base",
          "model_name": "LayoutModel",
          "model_module_version": "1.2.0",
          "state": {
            "_model_module": "@jupyter-widgets/base",
            "_model_module_version": "1.2.0",
            "_model_name": "LayoutModel",
            "_view_count": null,
            "_view_module": "@jupyter-widgets/base",
            "_view_module_version": "1.2.0",
            "_view_name": "LayoutView",
            "align_content": null,
            "align_items": null,
            "align_self": null,
            "border": null,
            "bottom": null,
            "display": null,
            "flex": null,
            "flex_flow": null,
            "grid_area": null,
            "grid_auto_columns": null,
            "grid_auto_flow": null,
            "grid_auto_rows": null,
            "grid_column": null,
            "grid_gap": null,
            "grid_row": null,
            "grid_template_areas": null,
            "grid_template_columns": null,
            "grid_template_rows": null,
            "height": null,
            "justify_content": null,
            "justify_items": null,
            "left": null,
            "margin": null,
            "max_height": null,
            "max_width": null,
            "min_height": null,
            "min_width": null,
            "object_fit": null,
            "object_position": null,
            "order": null,
            "overflow": null,
            "overflow_x": null,
            "overflow_y": null,
            "padding": null,
            "right": null,
            "top": null,
            "visibility": null,
            "width": null
          }
        },
        "d0bce79a52ee4c9ab944298b07d067ed": {
          "model_module": "@jupyter-widgets/controls",
          "model_name": "DescriptionStyleModel",
          "model_module_version": "1.5.0",
          "state": {
            "_model_module": "@jupyter-widgets/controls",
            "_model_module_version": "1.5.0",
            "_model_name": "DescriptionStyleModel",
            "_view_count": null,
            "_view_module": "@jupyter-widgets/base",
            "_view_module_version": "1.2.0",
            "_view_name": "StyleView",
            "description_width": ""
          }
        }
      }
    }
  },
  "cells": [
    {
      "cell_type": "markdown",
      "source": [
        "#Очистка данных"
      ],
      "metadata": {
        "id": "NETeesTie2W4"
      }
    },
    {
      "cell_type": "code",
      "execution_count": null,
      "metadata": {
        "id": "K5nNQmDuFWeS"
      },
      "outputs": [],
      "source": [
        "import pandas as pd"
      ]
    },
    {
      "cell_type": "code",
      "source": [
        "!pip install accelerate>=0.20.1"
      ],
      "metadata": {
        "id": "8OgQiDivM0Id"
      },
      "execution_count": null,
      "outputs": []
    },
    {
      "cell_type": "code",
      "source": [
        "!pip install transformers[torch]"
      ],
      "metadata": {
        "colab": {
          "base_uri": "https://localhost:8080/"
        },
        "collapsed": true,
        "id": "WgK2aEotM3pR",
        "outputId": "b11b0804-112f-4827-e068-b38a0f7078dd"
      },
      "execution_count": null,
      "outputs": [
        {
          "output_type": "stream",
          "name": "stdout",
          "text": [
            "Looking in indexes: https://pypi.org/simple, https://us-python.pkg.dev/colab-wheels/public/simple/\n",
            "Collecting transformers[torch]\n",
            "  Downloading transformers-4.30.2-py3-none-any.whl (7.2 MB)\n",
            "\u001b[2K     \u001b[90m━━━━━━━━━━━━━━━━━━━━━━━━━━━━━━━━━━━━━━━━\u001b[0m \u001b[32m7.2/7.2 MB\u001b[0m \u001b[31m46.0 MB/s\u001b[0m eta \u001b[36m0:00:00\u001b[0m\n",
            "\u001b[?25hRequirement already satisfied: filelock in /usr/local/lib/python3.10/dist-packages (from transformers[torch]) (3.12.2)\n",
            "Collecting huggingface-hub<1.0,>=0.14.1 (from transformers[torch])\n",
            "  Downloading huggingface_hub-0.15.1-py3-none-any.whl (236 kB)\n",
            "\u001b[2K     \u001b[90m━━━━━━━━━━━━━━━━━━━━━━━━━━━━━━━━━━━━━━\u001b[0m \u001b[32m236.8/236.8 kB\u001b[0m \u001b[31m14.9 MB/s\u001b[0m eta \u001b[36m0:00:00\u001b[0m\n",
            "\u001b[?25hRequirement already satisfied: numpy>=1.17 in /usr/local/lib/python3.10/dist-packages (from transformers[torch]) (1.22.4)\n",
            "Requirement already satisfied: packaging>=20.0 in /usr/local/lib/python3.10/dist-packages (from transformers[torch]) (23.1)\n",
            "Requirement already satisfied: pyyaml>=5.1 in /usr/local/lib/python3.10/dist-packages (from transformers[torch]) (6.0)\n",
            "Requirement already satisfied: regex!=2019.12.17 in /usr/local/lib/python3.10/dist-packages (from transformers[torch]) (2022.10.31)\n",
            "Requirement already satisfied: requests in /usr/local/lib/python3.10/dist-packages (from transformers[torch]) (2.27.1)\n",
            "Collecting tokenizers!=0.11.3,<0.14,>=0.11.1 (from transformers[torch])\n",
            "  Downloading tokenizers-0.13.3-cp310-cp310-manylinux_2_17_x86_64.manylinux2014_x86_64.whl (7.8 MB)\n",
            "\u001b[2K     \u001b[90m━━━━━━━━━━━━━━━━━━━━━━━━━━━━━━━━━━━━━━━━\u001b[0m \u001b[32m7.8/7.8 MB\u001b[0m \u001b[31m76.4 MB/s\u001b[0m eta \u001b[36m0:00:00\u001b[0m\n",
            "\u001b[?25hCollecting safetensors>=0.3.1 (from transformers[torch])\n",
            "  Downloading safetensors-0.3.1-cp310-cp310-manylinux_2_17_x86_64.manylinux2014_x86_64.whl (1.3 MB)\n",
            "\u001b[2K     \u001b[90m━━━━━━━━━━━━━━━━━━━━━━━━━━━━━━━━━━━━━━━━\u001b[0m \u001b[32m1.3/1.3 MB\u001b[0m \u001b[31m77.1 MB/s\u001b[0m eta \u001b[36m0:00:00\u001b[0m\n",
            "\u001b[?25hRequirement already satisfied: tqdm>=4.27 in /usr/local/lib/python3.10/dist-packages (from transformers[torch]) (4.65.0)\n",
            "Requirement already satisfied: torch!=1.12.0,>=1.9 in /usr/local/lib/python3.10/dist-packages (from transformers[torch]) (2.0.1+cu118)\n",
            "Requirement already satisfied: accelerate>=0.20.2 in /usr/local/lib/python3.10/dist-packages (from transformers[torch]) (0.20.3)\n",
            "Requirement already satisfied: psutil in /usr/local/lib/python3.10/dist-packages (from accelerate>=0.20.2->transformers[torch]) (5.9.5)\n",
            "Requirement already satisfied: fsspec in /usr/local/lib/python3.10/dist-packages (from huggingface-hub<1.0,>=0.14.1->transformers[torch]) (2023.6.0)\n",
            "Requirement already satisfied: typing-extensions>=3.7.4.3 in /usr/local/lib/python3.10/dist-packages (from huggingface-hub<1.0,>=0.14.1->transformers[torch]) (4.6.3)\n",
            "Requirement already satisfied: sympy in /usr/local/lib/python3.10/dist-packages (from torch!=1.12.0,>=1.9->transformers[torch]) (1.11.1)\n",
            "Requirement already satisfied: networkx in /usr/local/lib/python3.10/dist-packages (from torch!=1.12.0,>=1.9->transformers[torch]) (3.1)\n",
            "Requirement already satisfied: jinja2 in /usr/local/lib/python3.10/dist-packages (from torch!=1.12.0,>=1.9->transformers[torch]) (3.1.2)\n",
            "Requirement already satisfied: triton==2.0.0 in /usr/local/lib/python3.10/dist-packages (from torch!=1.12.0,>=1.9->transformers[torch]) (2.0.0)\n",
            "Requirement already satisfied: cmake in /usr/local/lib/python3.10/dist-packages (from triton==2.0.0->torch!=1.12.0,>=1.9->transformers[torch]) (3.25.2)\n",
            "Requirement already satisfied: lit in /usr/local/lib/python3.10/dist-packages (from triton==2.0.0->torch!=1.12.0,>=1.9->transformers[torch]) (16.0.6)\n",
            "Requirement already satisfied: urllib3<1.27,>=1.21.1 in /usr/local/lib/python3.10/dist-packages (from requests->transformers[torch]) (1.26.16)\n",
            "Requirement already satisfied: certifi>=2017.4.17 in /usr/local/lib/python3.10/dist-packages (from requests->transformers[torch]) (2023.5.7)\n",
            "Requirement already satisfied: charset-normalizer~=2.0.0 in /usr/local/lib/python3.10/dist-packages (from requests->transformers[torch]) (2.0.12)\n",
            "Requirement already satisfied: idna<4,>=2.5 in /usr/local/lib/python3.10/dist-packages (from requests->transformers[torch]) (3.4)\n",
            "Requirement already satisfied: MarkupSafe>=2.0 in /usr/local/lib/python3.10/dist-packages (from jinja2->torch!=1.12.0,>=1.9->transformers[torch]) (2.1.3)\n",
            "Requirement already satisfied: mpmath>=0.19 in /usr/local/lib/python3.10/dist-packages (from sympy->torch!=1.12.0,>=1.9->transformers[torch]) (1.3.0)\n",
            "Installing collected packages: tokenizers, safetensors, huggingface-hub, transformers\n",
            "Successfully installed huggingface-hub-0.15.1 safetensors-0.3.1 tokenizers-0.13.3 transformers-4.30.2\n"
          ]
        }
      ]
    },
    {
      "cell_type": "code",
      "source": [
        "import accelerate\n",
        "import transformers\n",
        "from transformers import AutoTokenizer, AutoModelForTokenClassification, DataCollatorForTokenClassification, TrainingArguments, Trainer"
      ],
      "metadata": {
        "id": "MYrTyvnPMlk5"
      },
      "execution_count": null,
      "outputs": []
    },
    {
      "cell_type": "code",
      "source": [
        "data = pd.read_excel(\"/content/Датасет.xlsx\")"
      ],
      "metadata": {
        "id": "WM2VKXNWFcRz"
      },
      "execution_count": null,
      "outputs": []
    },
    {
      "cell_type": "code",
      "source": [
        "data.isna().sum()"
      ],
      "metadata": {
        "colab": {
          "base_uri": "https://localhost:8080/"
        },
        "collapsed": true,
        "id": "qHAKcNpkFnny",
        "outputId": "dd9d4a4d-b1da-459d-86c1-1027e3c63c89"
      },
      "execution_count": null,
      "outputs": [
        {
          "output_type": "execute_result",
          "data": {
            "text/plain": [
              "id                                             0\n",
              "name(название)                                 0\n",
              "specialization(специализация)                  0\n",
              "responsibilities(Должностные обязанности)      0\n",
              "requirements(Требования к соискателю)          0\n",
              "terms(Условия)                                 0\n",
              "skills(Ключевые навыки)                      996\n",
              "salary_from                                    0\n",
              "salary_to                                      0\n",
              "object                                       992\n",
              "city                                           0\n",
              "address                                        2\n",
              "type_of_employment_id(Тип занятости)           0\n",
              "expirience(опыт работы)                       11\n",
              "langs(знание языков)                           0\n",
              "rights_id                                      0\n",
              "notes(Примечания)                              0\n",
              "employer_id                                    0\n",
              "status_id                                      0\n",
              "status_date                                    0\n",
              "dadata_object                                  0\n",
              "type_job_id(Вид работы)                        0\n",
              "speciality_id                                  0\n",
              "work_experience_id                             0\n",
              "created_by                                     0\n",
              "updated_by                                     0\n",
              "position                                       3\n",
              "phone                                        989\n",
              "website                                        5\n",
              "email                                          0\n",
              "image                                          0\n",
              "unique_code                                    0\n",
              "city_code                                      0\n",
              "source_id                                      0\n",
              "link_resource                                  2\n",
              "dtype: int64"
            ]
          },
          "metadata": {},
          "execution_count": 59
        }
      ]
    },
    {
      "cell_type": "code",
      "source": [
        "def contains(str1, str2):\n",
        "  if str1.find(str2) != -1:\n",
        "    return True\n",
        "  else:\n",
        "    return False\n",
        "def clear_nan(string):\n",
        "  if str(string) == \"nan\":\n",
        "    return \"\"\n",
        "  else:\n",
        "    return str(string)"
      ],
      "metadata": {
        "id": "UYnoRmbmSljl"
      },
      "execution_count": null,
      "outputs": []
    },
    {
      "cell_type": "code",
      "source": [
        "data[\"requirements(Требования к соискателю)\"] = data.apply(lambda x: clear_nan(x[\"requirements(Требования к соискателю)\"]), axis=1)\n",
        "data[\"terms(Условия)\"] = data.apply(lambda x: clear_nan(x[\"terms(Условия)\"]), axis=1)\n",
        "data[\"notes(Примечания)\"] = data.apply(lambda x: clear_nan(x[\"notes(Примечания)\"]), axis=1)"
      ],
      "metadata": {
        "id": "1pXCjVB2Yi3j"
      },
      "execution_count": null,
      "outputs": []
    },
    {
      "cell_type": "code",
      "source": [
        "data[\"Содержит требования\"] = data.apply(lambda x: contains(x[\"responsibilities(Должностные обязанности)\"], x[\"requirements(Требования к соискателю)\"]), axis=1)\n",
        "data[\"Содержит условия\"] = data.apply(lambda x: contains(x[\"responsibilities(Должностные обязанности)\"], x[\"terms(Условия)\"]) , axis=1)\n",
        "data[\"Содержит примечания\"] = data.apply(lambda x: contains(x[\"responsibilities(Должностные обязанности)\"], x[\"notes(Примечания)\"]) , axis=1)"
      ],
      "metadata": {
        "id": "fJpCXp6FF4cg"
      },
      "execution_count": null,
      "outputs": []
    },
    {
      "cell_type": "code",
      "source": [
        "data_v1 = data[(data[\"Содержит примечания\"]) & (data[\"Содержит условия\"]) & (data[\"Содержит требования\"])]"
      ],
      "metadata": {
        "id": "wjy0aChRakF1"
      },
      "execution_count": null,
      "outputs": []
    },
    {
      "cell_type": "markdown",
      "source": [
        "#Маркирование текста"
      ],
      "metadata": {
        "id": "JhtzpFNQe6Hl"
      }
    },
    {
      "cell_type": "code",
      "source": [
        "import re\n",
        "regex = re.compile(r\"[^ 0123456789а-яА-Я]\")"
      ],
      "metadata": {
        "id": "hSvBElMChwNY"
      },
      "execution_count": null,
      "outputs": []
    },
    {
      "cell_type": "code",
      "source": [
        "string = \" .абв?10\"\n",
        "regex.sub(\"\", string)"
      ],
      "metadata": {
        "colab": {
          "base_uri": "https://localhost:8080/",
          "height": 35
        },
        "id": "Xv4Ew8D6h5Yt",
        "outputId": "370d437a-2a23-4a90-a7b9-171aef6f9507"
      },
      "execution_count": null,
      "outputs": [
        {
          "output_type": "execute_result",
          "data": {
            "text/plain": [
              "' абв10'"
            ],
            "application/vnd.google.colaboratory.intrinsic+json": {
              "type": "string"
            }
          },
          "metadata": {},
          "execution_count": 11
        }
      ]
    },
    {
      "cell_type": "code",
      "source": [
        "data_v1[\"Clear responsibilities\"] = data_v1.apply(lambda x: regex.sub(\"\", x[\"responsibilities(Должностные обязанности)\"]), axis=1)\n",
        "data_v1[\"Clear requirements\"] = data_v1.apply(lambda x: regex.sub(\"\", x[\"requirements(Требования к соискателю)\"]), axis=1)\n",
        "data_v1[\"Clear terms\"] = data_v1.apply(lambda x: regex.sub(\"\", x[\"terms(Условия)\"]), axis=1)\n",
        "data_v1[\"Clear notes\"] = data_v1.apply(lambda x: regex.sub(\"\", x[\"notes(Примечания)\"]), axis=1)"
      ],
      "metadata": {
        "colab": {
          "base_uri": "https://localhost:8080/"
        },
        "collapsed": true,
        "id": "A_7nOAFLimjl",
        "outputId": "088496cf-4aa9-4020-b524-cfc4e416c846"
      },
      "execution_count": null,
      "outputs": [
        {
          "output_type": "stream",
          "name": "stderr",
          "text": [
            "<ipython-input-12-607c396c4acb>:1: SettingWithCopyWarning: \n",
            "A value is trying to be set on a copy of a slice from a DataFrame.\n",
            "Try using .loc[row_indexer,col_indexer] = value instead\n",
            "\n",
            "See the caveats in the documentation: https://pandas.pydata.org/pandas-docs/stable/user_guide/indexing.html#returning-a-view-versus-a-copy\n",
            "  data_v1[\"Clear responsibilities\"] = data_v1.apply(lambda x: regex.sub(\"\", x[\"responsibilities(Должностные обязанности)\"]), axis=1)\n",
            "<ipython-input-12-607c396c4acb>:2: SettingWithCopyWarning: \n",
            "A value is trying to be set on a copy of a slice from a DataFrame.\n",
            "Try using .loc[row_indexer,col_indexer] = value instead\n",
            "\n",
            "See the caveats in the documentation: https://pandas.pydata.org/pandas-docs/stable/user_guide/indexing.html#returning-a-view-versus-a-copy\n",
            "  data_v1[\"Clear requirements\"] = data_v1.apply(lambda x: regex.sub(\"\", x[\"requirements(Требования к соискателю)\"]), axis=1)\n",
            "<ipython-input-12-607c396c4acb>:3: SettingWithCopyWarning: \n",
            "A value is trying to be set on a copy of a slice from a DataFrame.\n",
            "Try using .loc[row_indexer,col_indexer] = value instead\n",
            "\n",
            "See the caveats in the documentation: https://pandas.pydata.org/pandas-docs/stable/user_guide/indexing.html#returning-a-view-versus-a-copy\n",
            "  data_v1[\"Clear terms\"] = data_v1.apply(lambda x: regex.sub(\"\", x[\"terms(Условия)\"]), axis=1)\n",
            "<ipython-input-12-607c396c4acb>:4: SettingWithCopyWarning: \n",
            "A value is trying to be set on a copy of a slice from a DataFrame.\n",
            "Try using .loc[row_indexer,col_indexer] = value instead\n",
            "\n",
            "See the caveats in the documentation: https://pandas.pydata.org/pandas-docs/stable/user_guide/indexing.html#returning-a-view-versus-a-copy\n",
            "  data_v1[\"Clear notes\"] = data_v1.apply(lambda x: regex.sub(\"\", x[\"notes(Примечания)\"]), axis=1)\n"
          ]
        }
      ]
    },
    {
      "cell_type": "code",
      "source": [
        "data_v1[\"Содержит требования\"] = data_v1.apply(lambda x: contains(x[\"Clear responsibilities\"], x[\"Clear requirements\"]), axis=1)\n",
        "data_v1[\"Содержит условия\"] = data_v1.apply(lambda x: contains(x[\"Clear responsibilities\"], x[\"Clear terms\"]) , axis=1)\n",
        "data_v1[\"Содержит примечания\"] = data_v1.apply(lambda x: contains(x[\"Clear responsibilities\"], x[\"Clear notes\"]) , axis=1)"
      ],
      "metadata": {
        "colab": {
          "base_uri": "https://localhost:8080/"
        },
        "collapsed": true,
        "id": "tHOt0xqC1qNl",
        "outputId": "88fa25a4-fb54-4a35-9f41-199d81fa165b"
      },
      "execution_count": null,
      "outputs": [
        {
          "output_type": "stream",
          "name": "stderr",
          "text": [
            "<ipython-input-13-53a5841fb500>:1: SettingWithCopyWarning: \n",
            "A value is trying to be set on a copy of a slice from a DataFrame.\n",
            "Try using .loc[row_indexer,col_indexer] = value instead\n",
            "\n",
            "See the caveats in the documentation: https://pandas.pydata.org/pandas-docs/stable/user_guide/indexing.html#returning-a-view-versus-a-copy\n",
            "  data_v1[\"Содержит требования\"] = data_v1.apply(lambda x: contains(x[\"Clear responsibilities\"], x[\"Clear requirements\"]), axis=1)\n",
            "<ipython-input-13-53a5841fb500>:2: SettingWithCopyWarning: \n",
            "A value is trying to be set on a copy of a slice from a DataFrame.\n",
            "Try using .loc[row_indexer,col_indexer] = value instead\n",
            "\n",
            "See the caveats in the documentation: https://pandas.pydata.org/pandas-docs/stable/user_guide/indexing.html#returning-a-view-versus-a-copy\n",
            "  data_v1[\"Содержит условия\"] = data_v1.apply(lambda x: contains(x[\"Clear responsibilities\"], x[\"Clear terms\"]) , axis=1)\n",
            "<ipython-input-13-53a5841fb500>:3: SettingWithCopyWarning: \n",
            "A value is trying to be set on a copy of a slice from a DataFrame.\n",
            "Try using .loc[row_indexer,col_indexer] = value instead\n",
            "\n",
            "See the caveats in the documentation: https://pandas.pydata.org/pandas-docs/stable/user_guide/indexing.html#returning-a-view-versus-a-copy\n",
            "  data_v1[\"Содержит примечания\"] = data_v1.apply(lambda x: contains(x[\"Clear responsibilities\"], x[\"Clear notes\"]) , axis=1)\n"
          ]
        }
      ]
    },
    {
      "cell_type": "code",
      "source": [
        "labels = [\"requirements\", \"terms\", \"notes\"]"
      ],
      "metadata": {
        "id": "LBoLEcPbv1KP"
      },
      "execution_count": null,
      "outputs": []
    },
    {
      "cell_type": "code",
      "source": [
        "def get_tokens_with_entities(text, subtexts):\n",
        "  spaces = [m.start() for m in re.finditer(' ', text)]\n",
        "  starts = []\n",
        "  strings = []\n",
        "  for label in labels:\n",
        "    string = subtexts[label]\n",
        "    strings.append(string)\n",
        "    starts.append(text.find(string))\n",
        "  tags = \"0\"*len(text)\n",
        "  for ind, i in enumerate(starts):\n",
        "    tags = tags[:i] + str(ind+1)*len(strings[ind]) + tags[i + len(strings[ind]):]\n",
        "  t_list = list(tags)\n",
        "  for i in spaces:\n",
        "    t_list[i] = \" \"\n",
        "  tags = \"\".join(t_list)\n",
        "  tokens_list = text.split(\" \")\n",
        "  tags_list = tags.split(\" \")\n",
        "  tokens = []\n",
        "  tags = []\n",
        "  for ind, i in enumerate(tokens_list):\n",
        "    if i != \"\":\n",
        "      tokens.append(i)\n",
        "      tags.append(tags_list[ind])\n",
        "  good_tags = []\n",
        "  for tag in tags:\n",
        "    good_tags.append(int(tag[0]))\n",
        "  output = []\n",
        "  for ind, i in enumerate(tokens):\n",
        "    label_ind = good_tags[ind] - 1\n",
        "    label = \"O\"\n",
        "    if label_ind != -1:\n",
        "      label = labels[label_ind]\n",
        "    cort = ()\n",
        "    if label == \"O\":\n",
        "      cort = (i, label)\n",
        "    else:\n",
        "      if ind == 0:\n",
        "        cort = (i, \"B-\" + label)\n",
        "      else:\n",
        "        if output[ind-1][1] != \"O\":\n",
        "          if output[ind-1][1][2:] == label:\n",
        "            cort = (i, \"I-\" + label)\n",
        "          else:\n",
        "            cort = (i, \"B-\" + label)\n",
        "        else:\n",
        "          cort = (i, \"B-\" + label)\n",
        "    output.append(cort)\n",
        "  return output"
      ],
      "metadata": {
        "id": "n5XcyKIQb_JL"
      },
      "execution_count": null,
      "outputs": []
    },
    {
      "cell_type": "code",
      "source": [
        "subtexts = []\n",
        "for ind in range(len(data_v1)):\n",
        "  subtext = {}\n",
        "  subtext[\"requirements\"] = data_v1.iloc[ind][\"Clear requirements\"]\n",
        "  subtext[\"terms\"] = data_v1.iloc[ind][\"Clear terms\"]\n",
        "  subtext[\"notes\"] = data_v1.iloc[ind][\"Clear notes\"]\n",
        "  subtexts.append(subtext)"
      ],
      "metadata": {
        "id": "fwwGwaT6y0bB"
      },
      "execution_count": null,
      "outputs": []
    },
    {
      "cell_type": "code",
      "source": [
        "subtexts[0]"
      ],
      "metadata": {
        "colab": {
          "base_uri": "https://localhost:8080/"
        },
        "id": "LMQemFPpz5t-",
        "outputId": "2122681e-5d83-4516-e770-e2ae3ec2d9c7"
      },
      "execution_count": null,
      "outputs": [
        {
          "output_type": "execute_result",
          "data": {
            "text/plain": [
              "{'requirements': '',\n",
              " 'terms': '',\n",
              " 'notes': 'Работа на строительных площадках Очистных сооружениях'}"
            ]
          },
          "metadata": {},
          "execution_count": 17
        }
      ]
    },
    {
      "cell_type": "code",
      "source": [
        "marked = []\n",
        "for ind in range(len(data_v1)):\n",
        "  vacancy = data_v1.iloc[ind]\n",
        "  entities = get_tokens_with_entities(vacancy[\"Clear responsibilities\"], subtexts[ind])\n",
        "  marked.append(entities)"
      ],
      "metadata": {
        "collapsed": true,
        "id": "y6wPx17n0O2b"
      },
      "execution_count": null,
      "outputs": []
    },
    {
      "cell_type": "code",
      "source": [
        "len(subtexts)"
      ],
      "metadata": {
        "colab": {
          "base_uri": "https://localhost:8080/"
        },
        "id": "b6IMwMhE1OcM",
        "outputId": "e964ecb7-4471-4df1-e543-44dcd68426ff"
      },
      "execution_count": null,
      "outputs": [
        {
          "output_type": "execute_result",
          "data": {
            "text/plain": [
              "959"
            ]
          },
          "metadata": {},
          "execution_count": 19
        }
      ]
    },
    {
      "cell_type": "code",
      "source": [
        "marked[0]"
      ],
      "metadata": {
        "colab": {
          "base_uri": "https://localhost:8080/"
        },
        "id": "Er_bjVmjFB2I",
        "outputId": "aa0a3cdb-e3f7-4b12-a650-0723efbf34cc"
      },
      "execution_count": null,
      "outputs": [
        {
          "output_type": "execute_result",
          "data": {
            "text/plain": [
              "[('Работа', 'B-notes'),\n",
              " ('на', 'I-notes'),\n",
              " ('строительных', 'I-notes'),\n",
              " ('площадках', 'I-notes'),\n",
              " ('Очистных', 'I-notes'),\n",
              " ('сооружениях', 'I-notes')]"
            ]
          },
          "metadata": {},
          "execution_count": 20
        }
      ]
    },
    {
      "cell_type": "markdown",
      "source": [
        "#Model"
      ],
      "metadata": {
        "id": "vAAh_KRUE5DC"
      }
    },
    {
      "cell_type": "code",
      "source": [
        "!pip install datasets"
      ],
      "metadata": {
        "collapsed": true,
        "colab": {
          "base_uri": "https://localhost:8080/"
        },
        "id": "6RlUInFNNzI_",
        "outputId": "1ea1c95f-1026-4cbf-a28e-cc9f8a70f77f"
      },
      "execution_count": null,
      "outputs": [
        {
          "output_type": "stream",
          "name": "stdout",
          "text": [
            "Looking in indexes: https://pypi.org/simple, https://us-python.pkg.dev/colab-wheels/public/simple/\n",
            "Collecting datasets\n",
            "  Downloading datasets-2.13.1-py3-none-any.whl (486 kB)\n",
            "\u001b[2K     \u001b[90m━━━━━━━━━━━━━━━━━━━━━━━━━━━━━━━━━━━━━━━\u001b[0m \u001b[32m486.2/486.2 kB\u001b[0m \u001b[31m9.2 MB/s\u001b[0m eta \u001b[36m0:00:00\u001b[0m\n",
            "\u001b[?25hRequirement already satisfied: numpy>=1.17 in /usr/local/lib/python3.10/dist-packages (from datasets) (1.22.4)\n",
            "Requirement already satisfied: pyarrow>=8.0.0 in /usr/local/lib/python3.10/dist-packages (from datasets) (9.0.0)\n",
            "Collecting dill<0.3.7,>=0.3.0 (from datasets)\n",
            "  Downloading dill-0.3.6-py3-none-any.whl (110 kB)\n",
            "\u001b[2K     \u001b[90m━━━━━━━━━━━━━━━━━━━━━━━━━━━━━━━━━━━━━━\u001b[0m \u001b[32m110.5/110.5 kB\u001b[0m \u001b[31m13.3 MB/s\u001b[0m eta \u001b[36m0:00:00\u001b[0m\n",
            "\u001b[?25hRequirement already satisfied: pandas in /usr/local/lib/python3.10/dist-packages (from datasets) (1.5.3)\n",
            "Requirement already satisfied: requests>=2.19.0 in /usr/local/lib/python3.10/dist-packages (from datasets) (2.27.1)\n",
            "Requirement already satisfied: tqdm>=4.62.1 in /usr/local/lib/python3.10/dist-packages (from datasets) (4.65.0)\n",
            "Collecting xxhash (from datasets)\n",
            "  Downloading xxhash-3.2.0-cp310-cp310-manylinux_2_17_x86_64.manylinux2014_x86_64.whl (212 kB)\n",
            "\u001b[2K     \u001b[90m━━━━━━━━━━━━━━━━━━━━━━━━━━━━━━━━━━━━━━\u001b[0m \u001b[32m212.5/212.5 kB\u001b[0m \u001b[31m22.4 MB/s\u001b[0m eta \u001b[36m0:00:00\u001b[0m\n",
            "\u001b[?25hCollecting multiprocess (from datasets)\n",
            "  Downloading multiprocess-0.70.14-py310-none-any.whl (134 kB)\n",
            "\u001b[2K     \u001b[90m━━━━━━━━━━━━━━━━━━━━━━━━━━━━━━━━━━━━━━\u001b[0m \u001b[32m134.3/134.3 kB\u001b[0m \u001b[31m12.3 MB/s\u001b[0m eta \u001b[36m0:00:00\u001b[0m\n",
            "\u001b[?25hRequirement already satisfied: fsspec[http]>=2021.11.1 in /usr/local/lib/python3.10/dist-packages (from datasets) (2023.6.0)\n",
            "Collecting aiohttp (from datasets)\n",
            "  Downloading aiohttp-3.8.4-cp310-cp310-manylinux_2_17_x86_64.manylinux2014_x86_64.whl (1.0 MB)\n",
            "\u001b[2K     \u001b[90m━━━━━━━━━━━━━━━━━━━━━━━━━━━━━━━━━━━━━━━━\u001b[0m \u001b[32m1.0/1.0 MB\u001b[0m \u001b[31m39.7 MB/s\u001b[0m eta \u001b[36m0:00:00\u001b[0m\n",
            "\u001b[?25hRequirement already satisfied: huggingface-hub<1.0.0,>=0.11.0 in /usr/local/lib/python3.10/dist-packages (from datasets) (0.15.1)\n",
            "Requirement already satisfied: packaging in /usr/local/lib/python3.10/dist-packages (from datasets) (23.1)\n",
            "Requirement already satisfied: pyyaml>=5.1 in /usr/local/lib/python3.10/dist-packages (from datasets) (6.0)\n",
            "Requirement already satisfied: attrs>=17.3.0 in /usr/local/lib/python3.10/dist-packages (from aiohttp->datasets) (23.1.0)\n",
            "Requirement already satisfied: charset-normalizer<4.0,>=2.0 in /usr/local/lib/python3.10/dist-packages (from aiohttp->datasets) (2.0.12)\n",
            "Collecting multidict<7.0,>=4.5 (from aiohttp->datasets)\n",
            "  Downloading multidict-6.0.4-cp310-cp310-manylinux_2_17_x86_64.manylinux2014_x86_64.whl (114 kB)\n",
            "\u001b[2K     \u001b[90m━━━━━━━━━━━━━━━━━━━━━━━━━━━━━━━━━━━━━━\u001b[0m \u001b[32m114.5/114.5 kB\u001b[0m \u001b[31m16.2 MB/s\u001b[0m eta \u001b[36m0:00:00\u001b[0m\n",
            "\u001b[?25hCollecting async-timeout<5.0,>=4.0.0a3 (from aiohttp->datasets)\n",
            "  Downloading async_timeout-4.0.2-py3-none-any.whl (5.8 kB)\n",
            "Collecting yarl<2.0,>=1.0 (from aiohttp->datasets)\n",
            "  Downloading yarl-1.9.2-cp310-cp310-manylinux_2_17_x86_64.manylinux2014_x86_64.whl (268 kB)\n",
            "\u001b[2K     \u001b[90m━━━━━━━━━━━━━━━━━━━━━━━━━━━━━━━━━━━━━━\u001b[0m \u001b[32m268.8/268.8 kB\u001b[0m \u001b[31m31.8 MB/s\u001b[0m eta \u001b[36m0:00:00\u001b[0m\n",
            "\u001b[?25hCollecting frozenlist>=1.1.1 (from aiohttp->datasets)\n",
            "  Downloading frozenlist-1.3.3-cp310-cp310-manylinux_2_5_x86_64.manylinux1_x86_64.manylinux_2_17_x86_64.manylinux2014_x86_64.whl (149 kB)\n",
            "\u001b[2K     \u001b[90m━━━━━━━━━━━━━━━━━━━━━━━━━━━━━━━━━━━━━━\u001b[0m \u001b[32m149.6/149.6 kB\u001b[0m \u001b[31m19.9 MB/s\u001b[0m eta \u001b[36m0:00:00\u001b[0m\n",
            "\u001b[?25hCollecting aiosignal>=1.1.2 (from aiohttp->datasets)\n",
            "  Downloading aiosignal-1.3.1-py3-none-any.whl (7.6 kB)\n",
            "Requirement already satisfied: filelock in /usr/local/lib/python3.10/dist-packages (from huggingface-hub<1.0.0,>=0.11.0->datasets) (3.12.2)\n",
            "Requirement already satisfied: typing-extensions>=3.7.4.3 in /usr/local/lib/python3.10/dist-packages (from huggingface-hub<1.0.0,>=0.11.0->datasets) (4.6.3)\n",
            "Requirement already satisfied: urllib3<1.27,>=1.21.1 in /usr/local/lib/python3.10/dist-packages (from requests>=2.19.0->datasets) (1.26.16)\n",
            "Requirement already satisfied: certifi>=2017.4.17 in /usr/local/lib/python3.10/dist-packages (from requests>=2.19.0->datasets) (2023.5.7)\n",
            "Requirement already satisfied: idna<4,>=2.5 in /usr/local/lib/python3.10/dist-packages (from requests>=2.19.0->datasets) (3.4)\n",
            "Requirement already satisfied: python-dateutil>=2.8.1 in /usr/local/lib/python3.10/dist-packages (from pandas->datasets) (2.8.2)\n",
            "Requirement already satisfied: pytz>=2020.1 in /usr/local/lib/python3.10/dist-packages (from pandas->datasets) (2022.7.1)\n",
            "Requirement already satisfied: six>=1.5 in /usr/local/lib/python3.10/dist-packages (from python-dateutil>=2.8.1->pandas->datasets) (1.16.0)\n",
            "Installing collected packages: xxhash, multidict, frozenlist, dill, async-timeout, yarl, multiprocess, aiosignal, aiohttp, datasets\n",
            "Successfully installed aiohttp-3.8.4 aiosignal-1.3.1 async-timeout-4.0.2 datasets-2.13.1 dill-0.3.6 frozenlist-1.3.3 multidict-6.0.4 multiprocess-0.70.14 xxhash-3.2.0 yarl-1.9.2\n"
          ]
        }
      ]
    },
    {
      "cell_type": "code",
      "source": [
        "class NERDataMaker:\n",
        "    def __init__(self, texts, entities):\n",
        "        self.unique_entities = []\n",
        "        self.processed_texts = []\n",
        "\n",
        "        temp_processed_texts = []\n",
        "        for ind, text in enumerate(texts):\n",
        "            tokens_with_entities = get_tokens_with_entities(text, entities[ind])\n",
        "            for _, ent in tokens_with_entities:\n",
        "                if ent not in self.unique_entities:\n",
        "                    self.unique_entities.append(ent)\n",
        "            temp_processed_texts.append(tokens_with_entities)\n",
        "\n",
        "        self.unique_entities.sort(key=lambda ent: ent if ent != \"O\" else \"\")\n",
        "\n",
        "        for tokens_with_entities in temp_processed_texts:\n",
        "            self.processed_texts.append([(t, self.unique_entities.index(ent)) for t, ent in tokens_with_entities])\n",
        "\n",
        "    @property\n",
        "    def id2label(self):\n",
        "        return dict(enumerate(self.unique_entities))\n",
        "\n",
        "    @property\n",
        "    def label2id(self):\n",
        "        return {v:k for k, v in self.id2label.items()}\n",
        "\n",
        "    def __len__(self):\n",
        "        return len(self.processed_texts)\n",
        "\n",
        "    def __getitem__(self, idx):\n",
        "        def _process_tokens_for_one_text(id, tokens_with_encoded_entities):\n",
        "            ner_tags = []\n",
        "            tokens = []\n",
        "            for t, ent in tokens_with_encoded_entities:\n",
        "                ner_tags.append(ent)\n",
        "                tokens.append(t)\n",
        "\n",
        "            return {\n",
        "                \"id\": id,\n",
        "                \"ner_tags\": ner_tags,\n",
        "                \"tokens\": tokens\n",
        "            }\n",
        "\n",
        "        tokens_with_encoded_entities = self.processed_texts[idx]\n",
        "        if isinstance(idx, int):\n",
        "            return _process_tokens_for_one_text(idx, tokens_with_encoded_entities)\n",
        "        else:\n",
        "            return [_process_tokens_for_one_text(i+idx.start, tee) for i, tee in enumerate(tokens_with_encoded_entities)]\n",
        "\n",
        "    def as_hf_dataset(self, tokenizer):\n",
        "        from datasets import Dataset, Features, Value, ClassLabel, Sequence\n",
        "        def tokenize_and_align_labels(examples):\n",
        "            tokenized_inputs = tokenizer(examples[\"tokens\"], truncation=True, is_split_into_words=True)\n",
        "\n",
        "            labels = []\n",
        "            for i, label in enumerate(examples[f\"ner_tags\"]):\n",
        "                word_ids = tokenized_inputs.word_ids(batch_index=i)  # Map tokens to their respective word.\n",
        "                previous_word_idx = None\n",
        "                label_ids = []\n",
        "                for word_idx in word_ids:  # Set the special tokens to -100.\n",
        "                    if word_idx is None:\n",
        "                        label_ids.append(-100)\n",
        "                    elif word_idx != previous_word_idx:  # Only label the first token of a given word.\n",
        "                        label_ids.append(label[word_idx])\n",
        "                    else:\n",
        "                        label_ids.append(-100)\n",
        "                    previous_word_idx = word_idx\n",
        "                labels.append(label_ids)\n",
        "\n",
        "            tokenized_inputs[\"labels\"] = labels\n",
        "            return tokenized_inputs\n",
        "\n",
        "        ids, ner_tags, tokens = [], [], []\n",
        "        for i, pt in enumerate(self.processed_texts):\n",
        "            ids.append(i)\n",
        "            pt_tokens,pt_tags = list(zip(*pt))\n",
        "            ner_tags.append(pt_tags)\n",
        "            tokens.append(pt_tokens)\n",
        "        data = {\n",
        "            \"id\": ids,\n",
        "            \"ner_tags\": ner_tags,\n",
        "            \"tokens\": tokens\n",
        "        }\n",
        "        features = Features({\n",
        "            \"tokens\": Sequence(Value(\"string\")),\n",
        "            \"ner_tags\": Sequence(ClassLabel(names=dm.unique_entities)),\n",
        "            \"id\": Value(\"int32\")\n",
        "        })\n",
        "        ds = Dataset.from_dict(data, features)\n",
        "        tokenized_ds = ds.map(tokenize_and_align_labels, batched=True)\n",
        "        return tokenized_ds"
      ],
      "metadata": {
        "id": "QUGLxC1nBXIA"
      },
      "execution_count": null,
      "outputs": []
    },
    {
      "cell_type": "code",
      "source": [
        "dm = NERDataMaker(list(data_v1[\"Clear responsibilities\"]), subtexts)"
      ],
      "metadata": {
        "id": "V4tnEIR1FWvO"
      },
      "execution_count": null,
      "outputs": []
    },
    {
      "cell_type": "code",
      "source": [
        "print(f\"total examples = {len(dm)}\")\n",
        "print(dm[0:3])"
      ],
      "metadata": {
        "colab": {
          "base_uri": "https://localhost:8080/"
        },
        "id": "dJlZU4djFxIH",
        "outputId": "3ace6ccc-7e32-4337-80a2-6a6d243fcb91"
      },
      "execution_count": null,
      "outputs": [
        {
          "output_type": "stream",
          "name": "stdout",
          "text": [
            "total examples = 959\n",
            "[{'id': 0, 'ner_tags': [1, 4, 4, 4, 4, 4], 'tokens': ['Работа', 'на', 'строительных', 'площадках', 'Очистных', 'сооружениях']}, {'id': 1, 'ner_tags': [0, 0, 0, 0, 0, 0, 0, 0, 0, 0, 0, 0, 0, 0, 0, 0, 0, 0, 0, 0], 'tokens': ['Гнутье', 'арматурной', 'стали', 'на', 'механических', 'станках', 'при', 'количестве', 'отгибов', 'на', 'одном', 'стержне', 'более', 'четырех', 'Сборка', 'и', 'установка', 'сеток', 'и', 'плоских']}, {'id': 2, 'ner_tags': [0, 0], 'tokens': ['Вязка', 'арматуры']}]\n"
          ]
        }
      ]
    },
    {
      "cell_type": "code",
      "source": [
        "\"\"\"tokenizer = AutoTokenizer.from_pretrained(\"yqelz/xml-roberta-large-ner-russian\")\n",
        "data_collator = DataCollatorForTokenClassification(tokenizer=tokenizer)\n",
        "model = AutoModelForTokenClassification.from_pretrained(\"yqelz/xml-roberta-large-ner-russian\", num_labels=len(dm.unique_entities), id2label=dm.id2label, label2id=dm.label2id)\"\"\"\n",
        "tokenizer = AutoTokenizer.from_pretrained(\"Evolett/rubert-tiny2-finetuned-ner\")\n",
        "data_collator = DataCollatorForTokenClassification(tokenizer=tokenizer)\n",
        "model = AutoModelForTokenClassification.from_pretrained(\"Evolett/rubert-tiny2-finetuned-ner\", num_labels=len(dm.unique_entities), id2label=dm.id2label, label2id=dm.label2id, ignore_mismatched_sizes=True)"
      ],
      "metadata": {
        "colab": {
          "base_uri": "https://localhost:8080/"
        },
        "id": "3MlraRi8GClu",
        "outputId": "09147725-5eab-4db9-e8f8-66ff9ee68ba0"
      },
      "execution_count": null,
      "outputs": [
        {
          "output_type": "stream",
          "name": "stderr",
          "text": [
            "Some weights of BertForTokenClassification were not initialized from the model checkpoint at Evolett/rubert-tiny2-finetuned-ner and are newly initialized because the shapes did not match:\n",
            "- classifier.weight: found shape torch.Size([9, 312]) in the checkpoint and torch.Size([7, 312]) in the model instantiated\n",
            "- classifier.bias: found shape torch.Size([9]) in the checkpoint and torch.Size([7]) in the model instantiated\n",
            "You should probably TRAIN this model on a down-stream task to be able to use it for predictions and inference.\n"
          ]
        }
      ]
    },
    {
      "cell_type": "code",
      "source": [
        "training_args = TrainingArguments(\n",
        "    output_dir=\"/content/results\",\n",
        "    evaluation_strategy=\"epoch\",\n",
        "    learning_rate=2e-5,\n",
        "    per_device_train_batch_size=16,\n",
        "    per_device_eval_batch_size=16,\n",
        "    num_train_epochs=20,\n",
        "    weight_decay=0.01,\n",
        ")\n",
        "\n",
        "train_ds = dm.as_hf_dataset(tokenizer=tokenizer)\n",
        "\n",
        "trainer = Trainer(\n",
        "    model=model,\n",
        "    args=training_args,\n",
        "    train_dataset=train_ds,\n",
        "    eval_dataset=train_ds, # eval on training set! ONLY for DEMO!!\n",
        "    tokenizer=tokenizer,\n",
        "    data_collator=data_collator,\n",
        ")"
      ],
      "metadata": {
        "colab": {
          "base_uri": "https://localhost:8080/",
          "height": 17,
          "referenced_widgets": [
            "36693edce0f34101bc57650a3df50d8c",
            "96db093013cd454b811454aa027c3ffc",
            "cc37904d110a47dbb60ef876cf5de4ed",
            "1f1f6c2171464730907d6c1a690f3321",
            "aacffc52000b4820903da1c40b7320b4",
            "fde44eb6225b45c3b86a8afdfacc5095",
            "f236ebb78b3c424db34f74237a11bf6d",
            "53ace7ce6edf4f5e94648c0019a70c27",
            "48b9a3e9389445379ed3d226b5539c70",
            "b267cc295c5d4a859255f2471033d9f5",
            "d0bce79a52ee4c9ab944298b07d067ed"
          ]
        },
        "id": "nMMvLs3lHStB",
        "outputId": "e6c0ebd6-0e25-4dad-c3a6-4b19c3e3fe69"
      },
      "execution_count": null,
      "outputs": [
        {
          "output_type": "display_data",
          "data": {
            "text/plain": [
              "Map:   0%|          | 0/959 [00:00<?, ? examples/s]"
            ],
            "application/vnd.jupyter.widget-view+json": {
              "version_major": 2,
              "version_minor": 0,
              "model_id": "36693edce0f34101bc57650a3df50d8c"
            }
          },
          "metadata": {}
        }
      ]
    },
    {
      "cell_type": "code",
      "source": [
        "trainer.train()"
      ],
      "metadata": {
        "colab": {
          "base_uri": "https://localhost:8080/",
          "height": 792
        },
        "id": "RB46eKraIKAw",
        "outputId": "aa55b872-65f6-4232-8f4d-387cff616b47"
      },
      "execution_count": null,
      "outputs": [
        {
          "output_type": "stream",
          "name": "stderr",
          "text": [
            "/usr/local/lib/python3.10/dist-packages/transformers/optimization.py:411: FutureWarning: This implementation of AdamW is deprecated and will be removed in a future version. Use the PyTorch implementation torch.optim.AdamW instead, or set `no_deprecation_warning=True` to disable this warning\n",
            "  warnings.warn(\n"
          ]
        },
        {
          "output_type": "display_data",
          "data": {
            "text/plain": [
              "<IPython.core.display.HTML object>"
            ],
            "text/html": [
              "\n",
              "    <div>\n",
              "      \n",
              "      <progress value='1200' max='1200' style='width:300px; height:20px; vertical-align: middle;'></progress>\n",
              "      [1200/1200 02:15, Epoch 20/20]\n",
              "    </div>\n",
              "    <table border=\"1\" class=\"dataframe\">\n",
              "  <thead>\n",
              " <tr style=\"text-align: left;\">\n",
              "      <th>Epoch</th>\n",
              "      <th>Training Loss</th>\n",
              "      <th>Validation Loss</th>\n",
              "    </tr>\n",
              "  </thead>\n",
              "  <tbody>\n",
              "    <tr>\n",
              "      <td>1</td>\n",
              "      <td>No log</td>\n",
              "      <td>0.629804</td>\n",
              "    </tr>\n",
              "    <tr>\n",
              "      <td>2</td>\n",
              "      <td>No log</td>\n",
              "      <td>0.591859</td>\n",
              "    </tr>\n",
              "    <tr>\n",
              "      <td>3</td>\n",
              "      <td>No log</td>\n",
              "      <td>0.558687</td>\n",
              "    </tr>\n",
              "    <tr>\n",
              "      <td>4</td>\n",
              "      <td>No log</td>\n",
              "      <td>0.537340</td>\n",
              "    </tr>\n",
              "    <tr>\n",
              "      <td>5</td>\n",
              "      <td>No log</td>\n",
              "      <td>0.526513</td>\n",
              "    </tr>\n",
              "    <tr>\n",
              "      <td>6</td>\n",
              "      <td>No log</td>\n",
              "      <td>0.500053</td>\n",
              "    </tr>\n",
              "    <tr>\n",
              "      <td>7</td>\n",
              "      <td>No log</td>\n",
              "      <td>0.484845</td>\n",
              "    </tr>\n",
              "    <tr>\n",
              "      <td>8</td>\n",
              "      <td>No log</td>\n",
              "      <td>0.467233</td>\n",
              "    </tr>\n",
              "    <tr>\n",
              "      <td>9</td>\n",
              "      <td>0.581300</td>\n",
              "      <td>0.452108</td>\n",
              "    </tr>\n",
              "    <tr>\n",
              "      <td>10</td>\n",
              "      <td>0.581300</td>\n",
              "      <td>0.438991</td>\n",
              "    </tr>\n",
              "    <tr>\n",
              "      <td>11</td>\n",
              "      <td>0.581300</td>\n",
              "      <td>0.427810</td>\n",
              "    </tr>\n",
              "    <tr>\n",
              "      <td>12</td>\n",
              "      <td>0.581300</td>\n",
              "      <td>0.419497</td>\n",
              "    </tr>\n",
              "    <tr>\n",
              "      <td>13</td>\n",
              "      <td>0.581300</td>\n",
              "      <td>0.419538</td>\n",
              "    </tr>\n",
              "    <tr>\n",
              "      <td>14</td>\n",
              "      <td>0.581300</td>\n",
              "      <td>0.405597</td>\n",
              "    </tr>\n",
              "    <tr>\n",
              "      <td>15</td>\n",
              "      <td>0.581300</td>\n",
              "      <td>0.403353</td>\n",
              "    </tr>\n",
              "    <tr>\n",
              "      <td>16</td>\n",
              "      <td>0.581300</td>\n",
              "      <td>0.393420</td>\n",
              "    </tr>\n",
              "    <tr>\n",
              "      <td>17</td>\n",
              "      <td>0.471800</td>\n",
              "      <td>0.391563</td>\n",
              "    </tr>\n",
              "    <tr>\n",
              "      <td>18</td>\n",
              "      <td>0.471800</td>\n",
              "      <td>0.388129</td>\n",
              "    </tr>\n",
              "    <tr>\n",
              "      <td>19</td>\n",
              "      <td>0.471800</td>\n",
              "      <td>0.385995</td>\n",
              "    </tr>\n",
              "    <tr>\n",
              "      <td>20</td>\n",
              "      <td>0.471800</td>\n",
              "      <td>0.386447</td>\n",
              "    </tr>\n",
              "  </tbody>\n",
              "</table><p>"
            ]
          },
          "metadata": {}
        },
        {
          "output_type": "execute_result",
          "data": {
            "text/plain": [
              "TrainOutput(global_step=1200, training_loss=0.5120942179361979, metrics={'train_runtime': 135.4423, 'train_samples_per_second': 141.61, 'train_steps_per_second': 8.86, 'total_flos': 88404320801940.0, 'train_loss': 0.5120942179361979, 'epoch': 20.0})"
            ]
          },
          "metadata": {},
          "execution_count": 51
        }
      ]
    },
    {
      "cell_type": "code",
      "source": [
        "from transformers import pipeline\n",
        "pipe = pipeline(\"ner\", model=model, tokenizer=tokenizer, aggregation_strategy=\"simple\", device=0)"
      ],
      "metadata": {
        "id": "BBXlmRNgOmrV"
      },
      "execution_count": null,
      "outputs": []
    },
    {
      "cell_type": "code",
      "source": [
        "def convert_result(result):\n",
        "  requirements = \"\"\n",
        "  terms = \"\"\n",
        "  notes = \"\"\n",
        "  for span in result:\n",
        "    label = span[\"entity_group\"]\n",
        "    word = span[\"word\"]\n",
        "    if label == \"requirements\":\n",
        "      requirements += word + \" \"\n",
        "    elif label == \"terms\":\n",
        "      terms += word + \" \"\n",
        "    elif label == \"notes\":\n",
        "      notes += word + \" \"\n",
        "  return requirements, terms, notes"
      ],
      "metadata": {
        "id": "ckTXTDZPS86r"
      },
      "execution_count": null,
      "outputs": []
    },
    {
      "cell_type": "code",
      "source": [
        "input_index = 67\n",
        "input = data_v1.iloc[input_index][\"Clear responsibilities\"]\n",
        "input"
      ],
      "metadata": {
        "colab": {
          "base_uri": "https://localhost:8080/",
          "height": 70
        },
        "id": "vT2jOeVCRyRo",
        "outputId": "563f352b-5e6c-4ed6-f99e-6f32bd13ef58"
      },
      "execution_count": null,
      "outputs": [
        {
          "output_type": "execute_result",
          "data": {
            "text/plain": [
              "'В строительную компанию требуется штукатурымаляры возможно готовые бригады  Требования   Опыт работы от 1 года   Дисциплина   Ответственность  Обязанности   Внутренние отделочные работы ТРЦ  Условия   Еженедельные выплаты   Без задержек ЗП   Адекватное руководство   Инструмент наш с вас только желание работать и зарабатывать  Если у вас есть опыт и вы ищете стабильность и постоянство  звоните или откликайтесь на вакансию'"
            ],
            "application/vnd.google.colaboratory.intrinsic+json": {
              "type": "string"
            }
          },
          "metadata": {},
          "execution_count": 69
        }
      ]
    },
    {
      "cell_type": "code",
      "source": [
        "result = pipe(input)\n",
        "convert_result(result)"
      ],
      "metadata": {
        "colab": {
          "base_uri": "https://localhost:8080/"
        },
        "id": "I7hct5J7Uy5N",
        "outputId": "78b0123b-6005-4e1f-bdfc-a106296dccaf"
      },
      "execution_count": null,
      "outputs": [
        {
          "output_type": "execute_result",
          "data": {
            "text/plain": [
              "('Опыт работы от 1 года Дисциплина Ответственность Внутрен опыт ',\n",
              " 'Еже ##недельные выплаты Без задержек ЗП Адекватное руководство Инструмент наш с вас только желание работать и зарабатывать Если у вас есть и вы ищете стабильность и постоянство звоните или откликайтесь на вакансию ',\n",
              " '')"
            ]
          },
          "metadata": {},
          "execution_count": 68
        }
      ]
    },
    {
      "cell_type": "code",
      "source": [
        "pd.DataFrame(data_v1.iloc[input_index][[\"Clear responsibilities\", \"Clear requirements\", \"Clear terms\", \"Clear notes\"]])"
      ],
      "metadata": {
        "colab": {
          "base_uri": "https://localhost:8080/",
          "height": 243
        },
        "collapsed": true,
        "id": "9OjTTv4zVFnf",
        "outputId": "df5b92d1-fee9-4a5d-8683-95fe0a12436b"
      },
      "execution_count": null,
      "outputs": [
        {
          "output_type": "execute_result",
          "data": {
            "text/plain": [
              "                                                                       94\n",
              "Clear responsibilities  В строительную компанию требуется штукатурымал...\n",
              "Clear requirements      Опыт работы от 1 года   Дисциплина   Ответстве...\n",
              "Clear terms             Еженедельные выплаты   Без задержек ЗП   Адекв...\n",
              "Clear notes                                                              "
            ],
            "text/html": [
              "\n",
              "  <div id=\"df-8de5ebe2-2f88-4fd6-9f26-49eb5e65b040\">\n",
              "    <div class=\"colab-df-container\">\n",
              "      <div>\n",
              "<style scoped>\n",
              "    .dataframe tbody tr th:only-of-type {\n",
              "        vertical-align: middle;\n",
              "    }\n",
              "\n",
              "    .dataframe tbody tr th {\n",
              "        vertical-align: top;\n",
              "    }\n",
              "\n",
              "    .dataframe thead th {\n",
              "        text-align: right;\n",
              "    }\n",
              "</style>\n",
              "<table border=\"1\" class=\"dataframe\">\n",
              "  <thead>\n",
              "    <tr style=\"text-align: right;\">\n",
              "      <th></th>\n",
              "      <th>94</th>\n",
              "    </tr>\n",
              "  </thead>\n",
              "  <tbody>\n",
              "    <tr>\n",
              "      <th>Clear responsibilities</th>\n",
              "      <td>В строительную компанию требуется штукатурымал...</td>\n",
              "    </tr>\n",
              "    <tr>\n",
              "      <th>Clear requirements</th>\n",
              "      <td>Опыт работы от 1 года   Дисциплина   Ответстве...</td>\n",
              "    </tr>\n",
              "    <tr>\n",
              "      <th>Clear terms</th>\n",
              "      <td>Еженедельные выплаты   Без задержек ЗП   Адекв...</td>\n",
              "    </tr>\n",
              "    <tr>\n",
              "      <th>Clear notes</th>\n",
              "      <td></td>\n",
              "    </tr>\n",
              "  </tbody>\n",
              "</table>\n",
              "</div>\n",
              "      <button class=\"colab-df-convert\" onclick=\"convertToInteractive('df-8de5ebe2-2f88-4fd6-9f26-49eb5e65b040')\"\n",
              "              title=\"Convert this dataframe to an interactive table.\"\n",
              "              style=\"display:none;\">\n",
              "        \n",
              "  <svg xmlns=\"http://www.w3.org/2000/svg\" height=\"24px\"viewBox=\"0 0 24 24\"\n",
              "       width=\"24px\">\n",
              "    <path d=\"M0 0h24v24H0V0z\" fill=\"none\"/>\n",
              "    <path d=\"M18.56 5.44l.94 2.06.94-2.06 2.06-.94-2.06-.94-.94-2.06-.94 2.06-2.06.94zm-11 1L8.5 8.5l.94-2.06 2.06-.94-2.06-.94L8.5 2.5l-.94 2.06-2.06.94zm10 10l.94 2.06.94-2.06 2.06-.94-2.06-.94-.94-2.06-.94 2.06-2.06.94z\"/><path d=\"M17.41 7.96l-1.37-1.37c-.4-.4-.92-.59-1.43-.59-.52 0-1.04.2-1.43.59L10.3 9.45l-7.72 7.72c-.78.78-.78 2.05 0 2.83L4 21.41c.39.39.9.59 1.41.59.51 0 1.02-.2 1.41-.59l7.78-7.78 2.81-2.81c.8-.78.8-2.07 0-2.86zM5.41 20L4 18.59l7.72-7.72 1.47 1.35L5.41 20z\"/>\n",
              "  </svg>\n",
              "      </button>\n",
              "      \n",
              "  <style>\n",
              "    .colab-df-container {\n",
              "      display:flex;\n",
              "      flex-wrap:wrap;\n",
              "      gap: 12px;\n",
              "    }\n",
              "\n",
              "    .colab-df-convert {\n",
              "      background-color: #E8F0FE;\n",
              "      border: none;\n",
              "      border-radius: 50%;\n",
              "      cursor: pointer;\n",
              "      display: none;\n",
              "      fill: #1967D2;\n",
              "      height: 32px;\n",
              "      padding: 0 0 0 0;\n",
              "      width: 32px;\n",
              "    }\n",
              "\n",
              "    .colab-df-convert:hover {\n",
              "      background-color: #E2EBFA;\n",
              "      box-shadow: 0px 1px 2px rgba(60, 64, 67, 0.3), 0px 1px 3px 1px rgba(60, 64, 67, 0.15);\n",
              "      fill: #174EA6;\n",
              "    }\n",
              "\n",
              "    [theme=dark] .colab-df-convert {\n",
              "      background-color: #3B4455;\n",
              "      fill: #D2E3FC;\n",
              "    }\n",
              "\n",
              "    [theme=dark] .colab-df-convert:hover {\n",
              "      background-color: #434B5C;\n",
              "      box-shadow: 0px 1px 3px 1px rgba(0, 0, 0, 0.15);\n",
              "      filter: drop-shadow(0px 1px 2px rgba(0, 0, 0, 0.3));\n",
              "      fill: #FFFFFF;\n",
              "    }\n",
              "  </style>\n",
              "\n",
              "      <script>\n",
              "        const buttonEl =\n",
              "          document.querySelector('#df-8de5ebe2-2f88-4fd6-9f26-49eb5e65b040 button.colab-df-convert');\n",
              "        buttonEl.style.display =\n",
              "          google.colab.kernel.accessAllowed ? 'block' : 'none';\n",
              "\n",
              "        async function convertToInteractive(key) {\n",
              "          const element = document.querySelector('#df-8de5ebe2-2f88-4fd6-9f26-49eb5e65b040');\n",
              "          const dataTable =\n",
              "            await google.colab.kernel.invokeFunction('convertToInteractive',\n",
              "                                                     [key], {});\n",
              "          if (!dataTable) return;\n",
              "\n",
              "          const docLinkHtml = 'Like what you see? Visit the ' +\n",
              "            '<a target=\"_blank\" href=https://colab.research.google.com/notebooks/data_table.ipynb>data table notebook</a>'\n",
              "            + ' to learn more about interactive tables.';\n",
              "          element.innerHTML = '';\n",
              "          dataTable['output_type'] = 'display_data';\n",
              "          await google.colab.output.renderOutput(dataTable, element);\n",
              "          const docLink = document.createElement('div');\n",
              "          docLink.innerHTML = docLinkHtml;\n",
              "          element.appendChild(docLink);\n",
              "        }\n",
              "      </script>\n",
              "    </div>\n",
              "  </div>\n",
              "  "
            ]
          },
          "metadata": {},
          "execution_count": 71
        }
      ]
    },
    {
      "cell_type": "code",
      "source": [
        "test = pipe(\"На стройку требуются МОНТАЖНИКИ, РАЗНОРАБОЧИЕ  Срочно набираем сотрудников в города на выбор: Керчь, Тольятти, Казань, Ростов-на-Дону, Нижнекамск, Сызрань, Москва, Курган!!!  Условия:  - БЕСПЛАТНЫЙ комплексный горячий обед.  - БЕСПЛАТНОЕ проживание в гостинице.  - БЕСПЛАТНЫЙ корпоративный транспорт.  - БЕСПЛАТНАЯ спецодежда.  - Есть дневные и ночные.  - 55 000 рублей в месяц (!!чистыми!!)  - Вахта ОТ 30 ДНЕЙ и выше.  - Официальное трудоустройство по ТК РФ (с занесением стажа в трудовую книжку).  - Компенсация проезда для иногородних.  Требования:  - Желателен опыт работы с болгаркой  Обязанности:  - Работа в паре со сварщиком, резка, вязка арматуры, зачистка сварочных швов болгаркой.  - Работы с бетоном и другие подсобные работы.  В нашей компании действует акция &quot;ПРИВЕДИ ДРУГА&quot;, премия 4000 рублей (если вы приезжаете с другом на работу и он отрабатывает не менее 10 смен). Можете сообщить знакомым и друзьям, о наборе специалистов в нашу компанию!  Ждем Вас!\")\n",
        "convert_result(test)"
      ],
      "metadata": {
        "colab": {
          "base_uri": "https://localhost:8080/"
        },
        "id": "sugX8BiEW9L1",
        "outputId": "3b900349-4a12-4126-9dd9-3c78cdee1b98"
      },
      "execution_count": null,
      "outputs": [
        {
          "output_type": "execute_result",
          "data": {
            "text/plain": [
              "(': - Желателен опыт работы с болгаркой Обязанности : - Работа в паре со сварщиком ##ка ##ка арматуры ##чных болгаркой бетоном не ',\n",
              " ': - БЕСПЛАТНЫЙ комплексный горячий обед. - БЕСПЛАТНОЕ проживание в гостинице. - БЕСПЛАТНЫЙ корпоративный транспорт. - БЕСПЛАТНАЯ спецодежда. - Есть дневные и ночные. - 55 000 рублей в месяц (!! чистыми!! ) Вахта 30 ДНЕЙ и выше. - Официальное трудоустройство по ТК РФ ( с занесением стажа в трудовую книжку ). - Компенсация проезда для иногородних. ',\n",
              " 'компании действует акция ПР ##ВЕДИ ##РУ ##t ;, премия 4000 рублей ( если вы приезжаете с другом на работу и отрабатывает менее 10 смен , о наборе специалистов компанию ')"
            ]
          },
          "metadata": {},
          "execution_count": 72
        }
      ]
    },
    {
      "cell_type": "code",
      "source": [],
      "metadata": {
        "id": "Js4XRNWeZia7"
      },
      "execution_count": null,
      "outputs": []
    }
  ]
}